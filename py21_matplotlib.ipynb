{
  "nbformat": 4,
  "nbformat_minor": 0,
  "metadata": {
    "colab": {
      "provenance": [],
      "toc_visible": true,
      "authorship_tag": "ABX9TyPQ82SCutSzLeSdGSeXWv4D",
      "include_colab_link": true
    },
    "kernelspec": {
      "name": "python3",
      "display_name": "Python 3"
    },
    "language_info": {
      "name": "python"
    }
  },
  "cells": [
    {
      "cell_type": "markdown",
      "metadata": {
        "id": "view-in-github",
        "colab_type": "text"
      },
      "source": [
        "<a href=\"https://colab.research.google.com/github/sjunkim95/lab-python/blob/main/py21_matplotlib.ipynb\" target=\"_parent\"><img src=\"https://colab.research.google.com/assets/colab-badge.svg\" alt=\"Open In Colab\"/></a>"
      ]
    },
    {
      "cell_type": "markdown",
      "source": [
        "# Imports"
      ],
      "metadata": {
        "id": "ZZveTTRGBwKb"
      }
    },
    {
      "cell_type": "code",
      "execution_count": 47,
      "metadata": {
        "id": "IQJJ4w7JBrpl"
      },
      "outputs": [],
      "source": [
        "import numpy as np\n",
        "import pandas as pd\n",
        "import matplotlib.pyplot as plt\n",
        "import seaborn as sns"
      ]
    },
    {
      "cell_type": "markdown",
      "source": [
        "# 데이터 셋"
      ],
      "metadata": {
        "id": "VgGGn47nz-Hf"
      }
    },
    {
      "cell_type": "code",
      "source": [
        "tips = sns.load_dataset('tips')"
      ],
      "metadata": {
        "id": "8QkZwsc2B5Nm"
      },
      "execution_count": 48,
      "outputs": []
    },
    {
      "cell_type": "code",
      "source": [
        "tips.head()"
      ],
      "metadata": {
        "colab": {
          "base_uri": "https://localhost:8080/",
          "height": 206
        },
        "id": "em5NOcv5Cq4t",
        "outputId": "088658b7-179e-4d68-b49b-fd2a9e08c439"
      },
      "execution_count": 49,
      "outputs": [
        {
          "output_type": "execute_result",
          "data": {
            "text/plain": [
              "   total_bill   tip     sex smoker  day    time  size\n",
              "0       16.99  1.01  Female     No  Sun  Dinner     2\n",
              "1       10.34  1.66    Male     No  Sun  Dinner     3\n",
              "2       21.01  3.50    Male     No  Sun  Dinner     3\n",
              "3       23.68  3.31    Male     No  Sun  Dinner     2\n",
              "4       24.59  3.61  Female     No  Sun  Dinner     4"
            ],
            "text/html": [
              "\n",
              "  <div id=\"df-a30a5de9-c049-42dd-a5ec-ab779ea0fe8f\">\n",
              "    <div class=\"colab-df-container\">\n",
              "      <div>\n",
              "<style scoped>\n",
              "    .dataframe tbody tr th:only-of-type {\n",
              "        vertical-align: middle;\n",
              "    }\n",
              "\n",
              "    .dataframe tbody tr th {\n",
              "        vertical-align: top;\n",
              "    }\n",
              "\n",
              "    .dataframe thead th {\n",
              "        text-align: right;\n",
              "    }\n",
              "</style>\n",
              "<table border=\"1\" class=\"dataframe\">\n",
              "  <thead>\n",
              "    <tr style=\"text-align: right;\">\n",
              "      <th></th>\n",
              "      <th>total_bill</th>\n",
              "      <th>tip</th>\n",
              "      <th>sex</th>\n",
              "      <th>smoker</th>\n",
              "      <th>day</th>\n",
              "      <th>time</th>\n",
              "      <th>size</th>\n",
              "    </tr>\n",
              "  </thead>\n",
              "  <tbody>\n",
              "    <tr>\n",
              "      <th>0</th>\n",
              "      <td>16.99</td>\n",
              "      <td>1.01</td>\n",
              "      <td>Female</td>\n",
              "      <td>No</td>\n",
              "      <td>Sun</td>\n",
              "      <td>Dinner</td>\n",
              "      <td>2</td>\n",
              "    </tr>\n",
              "    <tr>\n",
              "      <th>1</th>\n",
              "      <td>10.34</td>\n",
              "      <td>1.66</td>\n",
              "      <td>Male</td>\n",
              "      <td>No</td>\n",
              "      <td>Sun</td>\n",
              "      <td>Dinner</td>\n",
              "      <td>3</td>\n",
              "    </tr>\n",
              "    <tr>\n",
              "      <th>2</th>\n",
              "      <td>21.01</td>\n",
              "      <td>3.50</td>\n",
              "      <td>Male</td>\n",
              "      <td>No</td>\n",
              "      <td>Sun</td>\n",
              "      <td>Dinner</td>\n",
              "      <td>3</td>\n",
              "    </tr>\n",
              "    <tr>\n",
              "      <th>3</th>\n",
              "      <td>23.68</td>\n",
              "      <td>3.31</td>\n",
              "      <td>Male</td>\n",
              "      <td>No</td>\n",
              "      <td>Sun</td>\n",
              "      <td>Dinner</td>\n",
              "      <td>2</td>\n",
              "    </tr>\n",
              "    <tr>\n",
              "      <th>4</th>\n",
              "      <td>24.59</td>\n",
              "      <td>3.61</td>\n",
              "      <td>Female</td>\n",
              "      <td>No</td>\n",
              "      <td>Sun</td>\n",
              "      <td>Dinner</td>\n",
              "      <td>4</td>\n",
              "    </tr>\n",
              "  </tbody>\n",
              "</table>\n",
              "</div>\n",
              "      <button class=\"colab-df-convert\" onclick=\"convertToInteractive('df-a30a5de9-c049-42dd-a5ec-ab779ea0fe8f')\"\n",
              "              title=\"Convert this dataframe to an interactive table.\"\n",
              "              style=\"display:none;\">\n",
              "        \n",
              "  <svg xmlns=\"http://www.w3.org/2000/svg\" height=\"24px\"viewBox=\"0 0 24 24\"\n",
              "       width=\"24px\">\n",
              "    <path d=\"M0 0h24v24H0V0z\" fill=\"none\"/>\n",
              "    <path d=\"M18.56 5.44l.94 2.06.94-2.06 2.06-.94-2.06-.94-.94-2.06-.94 2.06-2.06.94zm-11 1L8.5 8.5l.94-2.06 2.06-.94-2.06-.94L8.5 2.5l-.94 2.06-2.06.94zm10 10l.94 2.06.94-2.06 2.06-.94-2.06-.94-.94-2.06-.94 2.06-2.06.94z\"/><path d=\"M17.41 7.96l-1.37-1.37c-.4-.4-.92-.59-1.43-.59-.52 0-1.04.2-1.43.59L10.3 9.45l-7.72 7.72c-.78.78-.78 2.05 0 2.83L4 21.41c.39.39.9.59 1.41.59.51 0 1.02-.2 1.41-.59l7.78-7.78 2.81-2.81c.8-.78.8-2.07 0-2.86zM5.41 20L4 18.59l7.72-7.72 1.47 1.35L5.41 20z\"/>\n",
              "  </svg>\n",
              "      </button>\n",
              "      \n",
              "  <style>\n",
              "    .colab-df-container {\n",
              "      display:flex;\n",
              "      flex-wrap:wrap;\n",
              "      gap: 12px;\n",
              "    }\n",
              "\n",
              "    .colab-df-convert {\n",
              "      background-color: #E8F0FE;\n",
              "      border: none;\n",
              "      border-radius: 50%;\n",
              "      cursor: pointer;\n",
              "      display: none;\n",
              "      fill: #1967D2;\n",
              "      height: 32px;\n",
              "      padding: 0 0 0 0;\n",
              "      width: 32px;\n",
              "    }\n",
              "\n",
              "    .colab-df-convert:hover {\n",
              "      background-color: #E2EBFA;\n",
              "      box-shadow: 0px 1px 2px rgba(60, 64, 67, 0.3), 0px 1px 3px 1px rgba(60, 64, 67, 0.15);\n",
              "      fill: #174EA6;\n",
              "    }\n",
              "\n",
              "    [theme=dark] .colab-df-convert {\n",
              "      background-color: #3B4455;\n",
              "      fill: #D2E3FC;\n",
              "    }\n",
              "\n",
              "    [theme=dark] .colab-df-convert:hover {\n",
              "      background-color: #434B5C;\n",
              "      box-shadow: 0px 1px 3px 1px rgba(0, 0, 0, 0.15);\n",
              "      filter: drop-shadow(0px 1px 2px rgba(0, 0, 0, 0.3));\n",
              "      fill: #FFFFFF;\n",
              "    }\n",
              "  </style>\n",
              "\n",
              "      <script>\n",
              "        const buttonEl =\n",
              "          document.querySelector('#df-a30a5de9-c049-42dd-a5ec-ab779ea0fe8f button.colab-df-convert');\n",
              "        buttonEl.style.display =\n",
              "          google.colab.kernel.accessAllowed ? 'block' : 'none';\n",
              "\n",
              "        async function convertToInteractive(key) {\n",
              "          const element = document.querySelector('#df-a30a5de9-c049-42dd-a5ec-ab779ea0fe8f');\n",
              "          const dataTable =\n",
              "            await google.colab.kernel.invokeFunction('convertToInteractive',\n",
              "                                                     [key], {});\n",
              "          if (!dataTable) return;\n",
              "\n",
              "          const docLinkHtml = 'Like what you see? Visit the ' +\n",
              "            '<a target=\"_blank\" href=https://colab.research.google.com/notebooks/data_table.ipynb>data table notebook</a>'\n",
              "            + ' to learn more about interactive tables.';\n",
              "          element.innerHTML = '';\n",
              "          dataTable['output_type'] = 'display_data';\n",
              "          await google.colab.output.renderOutput(dataTable, element);\n",
              "          const docLink = document.createElement('div');\n",
              "          docLink.innerHTML = docLinkHtml;\n",
              "          element.appendChild(docLink);\n",
              "        }\n",
              "      </script>\n",
              "    </div>\n",
              "  </div>\n",
              "  "
            ]
          },
          "metadata": {},
          "execution_count": 49
        }
      ]
    },
    {
      "cell_type": "code",
      "source": [
        "tips.info()"
      ],
      "metadata": {
        "colab": {
          "base_uri": "https://localhost:8080/"
        },
        "id": "TwFzUJyqCrDC",
        "outputId": "8a69b2d2-81aa-4b19-ac98-a9d30a990f32"
      },
      "execution_count": 50,
      "outputs": [
        {
          "output_type": "stream",
          "name": "stdout",
          "text": [
            "<class 'pandas.core.frame.DataFrame'>\n",
            "RangeIndex: 244 entries, 0 to 243\n",
            "Data columns (total 7 columns):\n",
            " #   Column      Non-Null Count  Dtype   \n",
            "---  ------      --------------  -----   \n",
            " 0   total_bill  244 non-null    float64 \n",
            " 1   tip         244 non-null    float64 \n",
            " 2   sex         244 non-null    category\n",
            " 3   smoker      244 non-null    category\n",
            " 4   day         244 non-null    category\n",
            " 5   time        244 non-null    category\n",
            " 6   size        244 non-null    int64   \n",
            "dtypes: category(4), float64(2), int64(1)\n",
            "memory usage: 7.4 KB\n"
          ]
        }
      ]
    },
    {
      "cell_type": "markdown",
      "source": [
        "# `matplotlib.pyplot` 모듈을 사용한 시각화\n",
        "\n",
        "1. `figure` 객체 생성.\n",
        "2. `figure` 객체에 subplot(axis)을 생성해서 추가.\n",
        "3. subplot에 그래프 그림\n",
        "4. 그래프의 여러가지 옵션들을 설정.\n",
        "5. 그래프 보여주기."
      ],
      "metadata": {
        "id": "n_uP9zF-DSdN"
      }
    },
    {
      "cell_type": "code",
      "source": [
        "# 1. figure 객체 생성\n",
        "fig = plt.figure()\n",
        "\n",
        "# 2. 생성된 figure 객체에 subplot을 추가\n",
        "axis = fig.add_subplot(1, 1, 1) # add_subplot에서 인덱스는 1부터 시작!\n",
        "\n",
        "# 3. subplot에 그래프 종류를 선택해서 그림.\n",
        "axis.hist(x=tips['total_bill'])\n",
        "\n",
        "# 4. 그래프의 옵션 설정\n",
        "axis.grid()\n",
        "axis.set_xlabel('Total Bill')\n",
        "axis.set_ylabel('Count')\n",
        "axis.set_title('Histogram')\n",
        "\n",
        "# 5. 그래프 보여주기\n",
        "plt.show()"
      ],
      "metadata": {
        "colab": {
          "base_uri": "https://localhost:8080/",
          "height": 295
        },
        "id": "4gfxwnRGDsmE",
        "outputId": "83d0a1e9-213c-4b3a-f964-b0125185b778"
      },
      "execution_count": 51,
      "outputs": [
        {
          "output_type": "display_data",
          "data": {
            "text/plain": [
              "<Figure size 432x288 with 1 Axes>"
            ],
            "image/png": "[encoded data removed]"
          },
          "metadata": {
            "needs_background": "light"
          }
        }
      ]
    },
    {
      "cell_type": "markdown",
      "source": [
        "2개의 subplot을 상하로 배치하고 그래프를 그리기."
      ],
      "metadata": {
        "id": "uWmjwhV3LSlN"
      }
    },
    {
      "cell_type": "code",
      "source": [
        "# 1. figure 생성\n",
        "fig = plt.figure(figsize=(6, 8))\n",
        "\n",
        "# 2. subplot 추가\n",
        "ax1 = fig.add_subplot(2, 1, 1) # row 갯수 2개, 컬럼 갯수 1개, 그 중에서 1번.\n",
        "ax2 = fig.add_subplot(212) # add_subplit(2, 1, 2)와 동일.\n",
        "\n",
        "# 3. 각 subplot에 그래프 그림.\n",
        "ax1.hist(x=tips.total_bill) # 히스토그램\n",
        "ax2.scatter(x=tips.total_bill, y=tips.tip) # 산점도\n",
        "\n",
        "# 4. 옵션 설정.\n",
        "ax1.set_title('Histogram')\n",
        "ax2.set_title('Scatter plot')\n",
        "ax2.set_xlabel('Total Bill')\n",
        "ax2.set_ylabel('Tip')\n",
        "\n",
        "# 5. 보여주기\n",
        "plt.show()"
      ],
      "metadata": {
        "colab": {
          "base_uri": "https://localhost:8080/",
          "height": 513
        },
        "id": "GCrjt5SYLtA3",
        "outputId": "a2ef4e90-87a6-4f36-c41b-424e89114db3"
      },
      "execution_count": 52,
      "outputs": [
        {
          "output_type": "display_data",
          "data": {
            "text/plain": [
              "<Figure size 432x576 with 2 Axes>"
            ],
            "image/png": "[encoded data removed]"
          },
          "metadata": {
            "needs_background": "light"
          }
        }
      ]
    },
    {
      "cell_type": "markdown",
      "source": [
        "2개의 subplot을 좌우로 배치해서 그래프 그리기."
      ],
      "metadata": {
        "id": "-5wbHtOCOz0u"
      }
    },
    {
      "cell_type": "code",
      "source": [
        "# 1. figure 생성\n",
        "fig = plt.figure(figsize=(12, 3)) # figsize=(width, height)\n",
        "\n",
        "# 2. subplot 추가\n",
        "ax1 = fig.add_subplot(1, 2, 1) # row 1개에 column이 2개, index는 1번.\n",
        "ax2 = fig.add_subplot(122) # add_subplit(2, 1, 2)와 동일.\n",
        "\n",
        "# 3. 각 subplot에 그래프 그림 / # 4. 옵션 설정.\n",
        "ax1.hist(tips.total_bill) # 히스토그램\n",
        "ax1.grid()\n",
        "ax1.set_xlabel('Total bill')\n",
        "ax1.set_title('Histogram')\n",
        "\n",
        "ax2.scatter(x=tips.total_bill, y=tips.tip) # 산점도\n",
        "ax2.grid()\n",
        "ax2.set_xlabel('Total bill')\n",
        "ax2.set_ylabel('Tip')\n",
        "ax2.set_title('Scatter plit')\n",
        "\n",
        "# 5. 보여주기\n",
        "plt.show()"
      ],
      "metadata": {
        "colab": {
          "base_uri": "https://localhost:8080/",
          "height": 241
        },
        "id": "iNc7m0exPHrD",
        "outputId": "436ad211-bc79-4b1a-94b9-7d9e7b62e771"
      },
      "execution_count": 53,
      "outputs": [
        {
          "output_type": "display_data",
          "data": {
            "text/plain": [
              "<Figure size 864x216 with 2 Axes>"
            ],
            "image/png": "[encoded data removed]"
          },
          "metadata": {
            "needs_background": "light"
          }
        }
      ]
    },
    {
      "cell_type": "markdown",
      "source": [
        "## `plt.subplots()` 함수\n",
        "\n",
        "figure 객체 생성(`plt.figure()`) + subplot 추가(`figure.add_subplot()`)"
      ],
      "metadata": {
        "id": "3Om-1BEaR0Zs"
      }
    },
    {
      "cell_type": "markdown",
      "source": [
        "1개의 figure에 1개의 subplot이 있는 경우"
      ],
      "metadata": {
        "id": "-m5CGg9CSUc8"
      }
    },
    {
      "cell_type": "code",
      "source": [
        "# 1. figure 생성. 2. subplot 생성.\n",
        "fig, ax = plt.subplots() # nrows=1, ncols=1\n",
        "\n",
        "# 3. 그래프 그리기.\n",
        "ax.hist(x=tips.total_bill)\n",
        "\n",
        "# 4. 옵션 설정.\n",
        "ax.grid()\n",
        "\n",
        "# 5. 그래프 보여주기.\n",
        "plt.show()"
      ],
      "metadata": {
        "colab": {
          "base_uri": "https://localhost:8080/",
          "height": 265
        },
        "id": "wjRQFoGdSZQr",
        "outputId": "077a9898-e3fc-4f40-8fbf-1fbb3018dce0"
      },
      "execution_count": 54,
      "outputs": [
        {
          "output_type": "display_data",
          "data": {
            "text/plain": [
              "<Figure size 432x288 with 1 Axes>"
            ],
            "image/png": "[encoded data removed]"
          },
          "metadata": {
            "needs_background": "light"
          }
        }
      ]
    },
    {
      "cell_type": "markdown",
      "source": [
        "`plt.subplots()` 함수를 사용해서 히스토그램과 산점도를 상/하로 배치."
      ],
      "metadata": {
        "id": "WVxQ-ERwTgVI"
      }
    },
    {
      "cell_type": "code",
      "source": [
        "fig, ax = plt.subplots(nrows=2)\n",
        "\n",
        "ax[0].hist(x=tips.total_bill)\n",
        "ax[1].scatter(x=tips.total_bill, y=tips.tip)\n",
        "\n",
        "plt.show()"
      ],
      "metadata": {
        "colab": {
          "base_uri": "https://localhost:8080/",
          "height": 265
        },
        "id": "3Wd5gcLDTnY7",
        "outputId": "143963a6-4cbb-4b70-b4c1-9f6474e7461a"
      },
      "execution_count": 55,
      "outputs": [
        {
          "output_type": "display_data",
          "data": {
            "text/plain": [
              "<Figure size 432x288 with 2 Axes>"
            ],
            "image/png": "[encoded data removed]"
          },
          "metadata": {
            "needs_background": "light"
          }
        }
      ]
    },
    {
      "cell_type": "markdown",
      "source": [
        "`plt.subplots()` 함수를 사용해서 히스토그램과 산점도를 좌/우로 배치."
      ],
      "metadata": {
        "id": "Q5qVTgLITnuh"
      }
    },
    {
      "cell_type": "code",
      "source": [
        "fig, ax = plt.subplots(ncols=2, figsize=(12, 3))\n",
        "# print(ax) # -> 1차원 nd array\n",
        "\n",
        "ax[0].hist(x=tips.total_bill)\n",
        "ax[1].scatter(x=tips.total_bill, y=tips.tip)\n",
        "\n",
        "plt.show()"
      ],
      "metadata": {
        "colab": {
          "base_uri": "https://localhost:8080/",
          "height": 212
        },
        "id": "091Kp-tgTsZF",
        "outputId": "fe1d9270-1ca5-453e-ec80-28525282f7f3"
      },
      "execution_count": 56,
      "outputs": [
        {
          "output_type": "display_data",
          "data": {
            "text/plain": [
              "<Figure size 864x216 with 2 Axes>"
            ],
            "image/png": "[encoded data removed]"
          },
          "metadata": {
            "needs_background": "light"
          }
        }
      ]
    },
    {
      "cell_type": "markdown",
      "source": [
        "## `pyplot` 모듈의 top-level 함수\n",
        "\n",
        "figure 1개 생성, subplot 1개 생성, 그래프를 그림."
      ],
      "metadata": {
        "id": "xdNQTQOqbAJF"
      }
    },
    {
      "cell_type": "code",
      "source": [
        "# 1. figure 생성. 2. subpot 1개 생성. 3. 그래프 그림.\n",
        "plt.hist(x=tips.total_bill)\n",
        "\n",
        "# 4. 옵션 설정.\n",
        "plt.title('Histogram')\n",
        "\n",
        "# 5. 그래프 그리기.\n",
        "plt.show()"
      ],
      "metadata": {
        "colab": {
          "base_uri": "https://localhost:8080/",
          "height": 281
        },
        "id": "nhre67NYbVis",
        "outputId": "46171453-d1e8-4dce-8c64-20c62c8b93e0"
      },
      "execution_count": 57,
      "outputs": [
        {
          "output_type": "display_data",
          "data": {
            "text/plain": [
              "<Figure size 432x288 with 1 Axes>"
            ],
            "image/png": "[encoded data removed]"
          },
          "metadata": {
            "needs_background": "light"
          }
        }
      ]
    },
    {
      "cell_type": "markdown",
      "source": [
        "# Box Plot(상자 그림)\n",
        "\n",
        "숫자 타입 변수(컬럼)의 기술 통계량(descriptive statistics)을 상자 모양으로 시각화.\n",
        "\n",
        "* 최솟값, 최댓값, 4분위값(25%, 중앙값, 75%)"
      ],
      "metadata": {
        "id": "o-u7gqY2cE80"
      }
    },
    {
      "cell_type": "code",
      "source": [
        "# tips 테이터프레임에서 total_bill 변수(컬럼)의 기술 통계량\n",
        "tips.total_bill.describe()"
      ],
      "metadata": {
        "colab": {
          "base_uri": "https://localhost:8080/"
        },
        "id": "kS4omx3rcsRt",
        "outputId": "d20020bc-7566-4d40-ca0b-949250cc10f2"
      },
      "execution_count": 58,
      "outputs": [
        {
          "output_type": "execute_result",
          "data": {
            "text/plain": [
              "count    244.000000\n",
              "mean      19.785943\n",
              "std        8.902412\n",
              "min        3.070000\n",
              "25%       13.347500\n",
              "50%       17.795000\n",
              "75%       24.127500\n",
              "max       50.810000\n",
              "Name: total_bill, dtype: float64"
            ]
          },
          "metadata": {},
          "execution_count": 58
        }
      ]
    },
    {
      "cell_type": "code",
      "source": [
        "plt.boxplot(x=tips.total_bill)\n",
        "plt.grid()\n",
        "plt.show()"
      ],
      "metadata": {
        "colab": {
          "base_uri": "https://localhost:8080/",
          "height": 265
        },
        "id": "RLoQvKa2dBJp",
        "outputId": "cf723187-63ca-48be-d383-3a9c7aa73947"
      },
      "execution_count": 59,
      "outputs": [
        {
          "output_type": "display_data",
          "data": {
            "text/plain": [
              "<Figure size 432x288 with 1 Axes>"
            ],
            "image/png": "[encoded data removed]"
          },
          "metadata": {
            "needs_background": "light"
          }
        }
      ]
    },
    {
      "cell_type": "code",
      "source": [
        "plt.boxplot(x=tips.tip)\n",
        "plt.grid()\n",
        "plt.show()"
      ],
      "metadata": {
        "colab": {
          "base_uri": "https://localhost:8080/",
          "height": 265
        },
        "id": "7ARWhLdYg5mg",
        "outputId": "da58058c-d84b-4e9b-b199-6f8659aebda9"
      },
      "execution_count": 60,
      "outputs": [
        {
          "output_type": "display_data",
          "data": {
            "text/plain": [
              "<Figure size 432x288 with 1 Axes>"
            ],
            "image/png": "[encoded data removed]"
          },
          "metadata": {
            "needs_background": "light"
          }
        }
      ]
    },
    {
      "cell_type": "code",
      "source": [
        "tips.tip.describe()"
      ],
      "metadata": {
        "colab": {
          "base_uri": "https://localhost:8080/"
        },
        "id": "bP6mmiqBgQA9",
        "outputId": "9bfb0497-e078-4829-d9ff-7ae4fbcd82bb"
      },
      "execution_count": 61,
      "outputs": [
        {
          "output_type": "execute_result",
          "data": {
            "text/plain": [
              "count    244.000000\n",
              "mean       2.998279\n",
              "std        1.383638\n",
              "min        1.000000\n",
              "25%        2.000000\n",
              "50%        2.900000\n",
              "75%        3.562500\n",
              "max       10.000000\n",
              "Name: tip, dtype: float64"
            ]
          },
          "metadata": {},
          "execution_count": 61
        }
      ]
    },
    {
      "cell_type": "markdown",
      "source": [
        "# Histogram(히스토그램)\n",
        "\n",
        "연속형 자료를 구간으로 나눠서 구간 안에 포함된 자료의 개수를 막대의 높이로 표현한 그래프."
      ],
      "metadata": {
        "id": "8Y5s2efuktOQ"
      }
    },
    {
      "cell_type": "code",
      "source": [
        "plt.hist(x=tips.total_bill, bins=15, edgecolor='black', color='gray') # bins 막대 갯수\n",
        "#> x: 히스토그램을 그리기 위한 자료(변수)\n",
        "#> bins: 막대 개수 또는 구간\n",
        "#> color: 막대 안쪽을 채우는 색깔\n",
        "#> edgecolor: 막대 테두리 선 색깔\n",
        "\n",
        "plt.title('Histogram')\n",
        "plt.xlabel('Total bill')\n",
        "plt.ylabel('Count')\n",
        "plt.grid()\n",
        "\n",
        "plt.show()"
      ],
      "metadata": {
        "colab": {
          "base_uri": "https://localhost:8080/",
          "height": 295
        },
        "id": "wBKoDZbMm5Y8",
        "outputId": "afa9c316-3d75-418d-884b-5875483f62be"
      },
      "execution_count": 62,
      "outputs": [
        {
          "output_type": "display_data",
          "data": {
            "text/plain": [
              "<Figure size 432x288 with 1 Axes>"
            ],
            "image/png": "[encoded data removed]"
          },
          "metadata": {
            "needs_background": "light"
          }
        }
      ]
    },
    {
      "cell_type": "code",
      "source": [
        "# tip의 히스토그램\n",
        "plt.hist(x=tips['tip'], edgecolor='black', color='dodgerblue') # bins 막대 갯수\n",
        "#> x: 히스토그램을 그리기 위한 자료(변수)\n",
        "#> bins: 막대 개수 또는 구간\n",
        "#> color: 막대 안쪽을 채우는 색깔\n",
        "#> edgecolor: 막대 테두리 선 색깔\n",
        "\n",
        "plt.title('Histogram')\n",
        "plt.xlabel('Tip')\n",
        "plt.ylabel('Count')\n",
        "plt.grid()\n",
        "\n",
        "plt.show()"
      ],
      "metadata": {
        "colab": {
          "base_uri": "https://localhost:8080/",
          "height": 295
        },
        "id": "ioJ0jQ17pO0e",
        "outputId": "55011657-3666-4fb5-a82b-616df900ffb2"
      },
      "execution_count": 63,
      "outputs": [
        {
          "output_type": "display_data",
          "data": {
            "text/plain": [
              "<Figure size 432x288 with 1 Axes>"
            ],
            "image/png": "[encoded data removed]"
          },
          "metadata": {
            "needs_background": "light"
          }
        }
      ]
    },
    {
      "cell_type": "markdown",
      "source": [
        "# Bar plot (막대 그래프)\n",
        "\n",
        "카테고리 타입 변수의 빈도수를 막대로 표현한 그래프.\n",
        "\n"
      ],
      "metadata": {
        "id": "o7BPHIOGqSjj"
      }
    },
    {
      "cell_type": "code",
      "source": [
        "# 성별 빈도수\n",
        "gender_counts = tips.sex.value_counts() # series임 157, 87은 -> values라 부른다.\n",
        "gender_counts # 값에 붙은 male, female은 index라 부른다."
      ],
      "metadata": {
        "colab": {
          "base_uri": "https://localhost:8080/"
        },
        "id": "SyopsyaNq-rx",
        "outputId": "5af87b7d-5b0a-4cdc-d241-cf39927484b4"
      },
      "execution_count": 64,
      "outputs": [
        {
          "output_type": "execute_result",
          "data": {
            "text/plain": [
              "Male      157\n",
              "Female     87\n",
              "Name: sex, dtype: int64"
            ]
          },
          "metadata": {},
          "execution_count": 64
        }
      ]
    },
    {
      "cell_type": "code",
      "source": [
        "# 모든 Series는 index와 values 속성을 가지고 있다.\n",
        "print(gender_counts.index)\n",
        "print(gender_counts.values)"
      ],
      "metadata": {
        "colab": {
          "base_uri": "https://localhost:8080/"
        },
        "id": "ULT2oJoVrsgu",
        "outputId": "fbecc732-1520-4d20-b620-f7bc37c91fc2"
      },
      "execution_count": 65,
      "outputs": [
        {
          "output_type": "stream",
          "name": "stdout",
          "text": [
            "CategoricalIndex(['Male', 'Female'], categories=['Male', 'Female'], ordered=False, dtype='category')\n",
            "[157  87]\n"
          ]
        }
      ]
    },
    {
      "cell_type": "code",
      "source": [
        "plt.bar(x=gender_counts.index, height=gender_counts.values, width=0.4)\n",
        "plt.show()"
      ],
      "metadata": {
        "colab": {
          "base_uri": "https://localhost:8080/",
          "height": 265
        },
        "id": "7sUxOIBDrPEm",
        "outputId": "e3159710-b9cc-4910-9fe3-a28d00dd5a7e"
      },
      "execution_count": 66,
      "outputs": [
        {
          "output_type": "display_data",
          "data": {
            "text/plain": [
              "<Figure size 432x288 with 1 Axes>"
            ],
            "image/png": "[encoded data removed]"
          },
          "metadata": {
            "needs_background": "light"
          }
        }
      ]
    },
    {
      "cell_type": "markdown",
      "source": [
        "가로 막대 그래프"
      ],
      "metadata": {
        "id": "8YrH_1b5so4D"
      }
    },
    {
      "cell_type": "code",
      "source": [
        "plt.barh(y=gender_counts.index, width=gender_counts.values, height=0.4)"
      ],
      "metadata": {
        "colab": {
          "base_uri": "https://localhost:8080/",
          "height": 283
        },
        "id": "kLTVnHQksqER",
        "outputId": "0083fd3f-476b-4c7a-a995-574055d5f87d"
      },
      "execution_count": 67,
      "outputs": [
        {
          "output_type": "execute_result",
          "data": {
            "text/plain": [
              "<BarContainer object of 2 artists>"
            ]
          },
          "metadata": {},
          "execution_count": 67
        },
        {
          "output_type": "display_data",
          "data": {
            "text/plain": [
              "<Figure size 432x288 with 1 Axes>"
            ],
            "image/png": "[encoded data removed]"
          },
          "metadata": {
            "needs_background": "light"
          }
        }
      ]
    },
    {
      "cell_type": "markdown",
      "source": [
        "# Exercises"
      ],
      "metadata": {
        "id": "nOKtcKmYzQxq"
      }
    },
    {
      "cell_type": "markdown",
      "source": [
        "## Ex 1. 요일 막대 그래프(요일 빈도수)\n",
        "\n",
        "* 세로 막대 그래프\n",
        "* 가로 막대 그래프\n"
      ],
      "metadata": {
        "id": "C7vZWPKLzSVM"
      }
    },
    {
      "cell_type": "code",
      "source": [
        "day_counts = tips.day.value_counts() \n",
        "day_counts"
      ],
      "metadata": {
        "colab": {
          "base_uri": "https://localhost:8080/"
        },
        "id": "ornEJj7zzfXF",
        "outputId": "563bf284-df3e-4358-9aa3-f25854f3c4da"
      },
      "execution_count": 68,
      "outputs": [
        {
          "output_type": "execute_result",
          "data": {
            "text/plain": [
              "Sat     87\n",
              "Sun     76\n",
              "Thur    62\n",
              "Fri     19\n",
              "Name: day, dtype: int64"
            ]
          },
          "metadata": {},
          "execution_count": 68
        }
      ]
    },
    {
      "cell_type": "code",
      "source": [
        "# 세로 막대 그래프\n",
        "plt.bar(x=day_counts.index, height=day_counts.values, width=0.4)\n",
        "plt.show()"
      ],
      "metadata": {
        "colab": {
          "base_uri": "https://localhost:8080/",
          "height": 265
        },
        "id": "b9JtFBypz1Td",
        "outputId": "e2c488bf-ff98-4dcf-ace4-46fb231b6f53"
      },
      "execution_count": 69,
      "outputs": [
        {
          "output_type": "display_data",
          "data": {
            "text/plain": [
              "<Figure size 432x288 with 1 Axes>"
            ],
            "image/png": "[encoded data removed]"
          },
          "metadata": {
            "needs_background": "light"
          }
        }
      ]
    },
    {
      "cell_type": "code",
      "source": [
        "# 가로 막대 그래프\n",
        "plt.barh(y=day_counts.index, width=day_counts.values, height=0.4)\n",
        "plt.show"
      ],
      "metadata": {
        "colab": {
          "base_uri": "https://localhost:8080/",
          "height": 283
        },
        "id": "FCd-2uDBz_M7",
        "outputId": "2954dd1f-1547-4d92-a5a1-10f61d1f029e"
      },
      "execution_count": 70,
      "outputs": [
        {
          "output_type": "execute_result",
          "data": {
            "text/plain": [
              "<function matplotlib.pyplot.show(*args, **kw)>"
            ]
          },
          "metadata": {},
          "execution_count": 70
        },
        {
          "output_type": "display_data",
          "data": {
            "text/plain": [
              "<Figure size 432x288 with 1 Axes>"
            ],
            "image/png": "[encoded data removed]"
          },
          "metadata": {
            "needs_background": "light"
          }
        }
      ]
    },
    {
      "cell_type": "markdown",
      "source": [
        "## Ex 2. 흡연여부 막대 그래프(흡연자/비흡연자 빈도수)\n",
        "\n",
        "* 세로 막대 그래프\n",
        "* 가로 막대 그래프\n"
      ],
      "metadata": {
        "id": "apdi4GnuzSX1"
      }
    },
    {
      "cell_type": "code",
      "source": [
        "smoker_counts = tips.smoker.value_counts()\n",
        "smoker_counts"
      ],
      "metadata": {
        "colab": {
          "base_uri": "https://localhost:8080/"
        },
        "id": "Okmgk7X41GcO",
        "outputId": "1f6f115e-fc5e-4c33-db3e-a49344984e27"
      },
      "execution_count": 71,
      "outputs": [
        {
          "output_type": "execute_result",
          "data": {
            "text/plain": [
              "No     151\n",
              "Yes     93\n",
              "Name: smoker, dtype: int64"
            ]
          },
          "metadata": {},
          "execution_count": 71
        }
      ]
    },
    {
      "cell_type": "code",
      "source": [
        "# 세로 막대 그래프\n",
        "plt.bar(x=smoker_counts.index, height=smoker_counts.values)\n",
        "plt.show()"
      ],
      "metadata": {
        "colab": {
          "base_uri": "https://localhost:8080/",
          "height": 265
        },
        "id": "ZsYyE_vGzftS",
        "outputId": "c3ad87b7-5953-4c6d-fc17-bacfe0284672"
      },
      "execution_count": 72,
      "outputs": [
        {
          "output_type": "display_data",
          "data": {
            "text/plain": [
              "<Figure size 432x288 with 1 Axes>"
            ],
            "image/png": "[encoded data removed]"
          },
          "metadata": {
            "needs_background": "light"
          }
        }
      ]
    },
    {
      "cell_type": "code",
      "source": [
        "# 가로 막대 그래프\n",
        "plt.barh(y=smoker_counts.index, width=smoker_counts.values)\n",
        "plt.show"
      ],
      "metadata": {
        "colab": {
          "base_uri": "https://localhost:8080/",
          "height": 283
        },
        "id": "upm9wVk21Wsq",
        "outputId": "16b88ba6-fb8e-4c5e-80e6-f82225d7bd37"
      },
      "execution_count": 73,
      "outputs": [
        {
          "output_type": "execute_result",
          "data": {
            "text/plain": [
              "<function matplotlib.pyplot.show(*args, **kw)>"
            ]
          },
          "metadata": {},
          "execution_count": 73
        },
        {
          "output_type": "display_data",
          "data": {
            "text/plain": [
              "<Figure size 432x288 with 1 Axes>"
            ],
            "image/png": "[encoded data removed]"
          },
          "metadata": {
            "needs_background": "light"
          }
        }
      ]
    },
    {
      "cell_type": "markdown",
      "source": [
        "## Ex 3. 식사 인원 막대 그래프\n",
        "\n",
        "* 세로 막대 그래프\n",
        "* 가로 막대 그래프\n"
      ],
      "metadata": {
        "id": "cf5LZESxzSaZ"
      }
    },
    {
      "cell_type": "code",
      "source": [
        "size_counts = tips['size'].value_counts() \n",
        "size_counts"
      ],
      "metadata": {
        "colab": {
          "base_uri": "https://localhost:8080/"
        },
        "id": "m1Wz3089zgHw",
        "outputId": "b4d386a6-e443-401a-e9d8-dee7016dbec8"
      },
      "execution_count": 74,
      "outputs": [
        {
          "output_type": "execute_result",
          "data": {
            "text/plain": [
              "2    156\n",
              "3     38\n",
              "4     37\n",
              "5      5\n",
              "1      4\n",
              "6      4\n",
              "Name: size, dtype: int64"
            ]
          },
          "metadata": {},
          "execution_count": 74
        }
      ]
    },
    {
      "cell_type": "code",
      "source": [
        "# 세로 막대 그래프\n",
        "plt.bar(x=size_counts.index, height=size_counts.values)\n",
        "plt.show()"
      ],
      "metadata": {
        "colab": {
          "base_uri": "https://localhost:8080/",
          "height": 265
        },
        "id": "5mRrLJtE1dHW",
        "outputId": "59c57589-de5d-4720-c381-b1648b644dcf"
      },
      "execution_count": 75,
      "outputs": [
        {
          "output_type": "display_data",
          "data": {
            "text/plain": [
              "<Figure size 432x288 with 1 Axes>"
            ],
            "image/png": "[encoded data removed]"
          },
          "metadata": {
            "needs_background": "light"
          }
        }
      ]
    },
    {
      "cell_type": "code",
      "source": [
        "# 가로 막대 그래프\n",
        "plt.barh(y=size_counts.index, width=size_counts.values)\n",
        "plt.show"
      ],
      "metadata": {
        "colab": {
          "base_uri": "https://localhost:8080/",
          "height": 283
        },
        "id": "Djtnrh851dJe",
        "outputId": "4205e72b-ef00-45d2-baee-19670c0dc004"
      },
      "execution_count": 76,
      "outputs": [
        {
          "output_type": "execute_result",
          "data": {
            "text/plain": [
              "<function matplotlib.pyplot.show(*args, **kw)>"
            ]
          },
          "metadata": {},
          "execution_count": 76
        },
        {
          "output_type": "display_data",
          "data": {
            "text/plain": [
              "<Figure size 432x288 with 1 Axes>"
            ],
            "image/png": "[encoded data removed]"
          },
          "metadata": {
            "needs_background": "light"
          }
        }
      ]
    },
    {
      "cell_type": "markdown",
      "source": [
        "## Ex 4. 성별 tip의 box plot을 하나의 subplot에 그리기."
      ],
      "metadata": {
        "id": "hpde83mazSdV"
      }
    },
    {
      "cell_type": "code",
      "source": [
        "tips.sex.unique()"
      ],
      "metadata": {
        "colab": {
          "base_uri": "https://localhost:8080/"
        },
        "id": "1SKrtZwG3_XL",
        "outputId": "93d82a87-7be5-4d5a-bf4e-d7895dc8e6b8"
      },
      "execution_count": 77,
      "outputs": [
        {
          "output_type": "execute_result",
          "data": {
            "text/plain": [
              "['Female', 'Male']\n",
              "Categories (2, object): ['Male', 'Female']"
            ]
          },
          "metadata": {},
          "execution_count": 77
        }
      ]
    },
    {
      "cell_type": "code",
      "source": [
        "tip_female = tips[tips.sex == 'Female']['tip']\n",
        "tip_female"
      ],
      "metadata": {
        "colab": {
          "base_uri": "https://localhost:8080/"
        },
        "id": "oK_9RafB5-Ku",
        "outputId": "2389a745-d492-4d29-f2ed-d3bd1d6e572d"
      },
      "execution_count": 78,
      "outputs": [
        {
          "output_type": "execute_result",
          "data": {
            "text/plain": [
              "0      1.01\n",
              "4      3.61\n",
              "11     5.00\n",
              "14     3.02\n",
              "16     1.67\n",
              "       ... \n",
              "226    2.00\n",
              "229    2.88\n",
              "238    4.67\n",
              "240    2.00\n",
              "243    3.00\n",
              "Name: tip, Length: 87, dtype: float64"
            ]
          },
          "metadata": {},
          "execution_count": 78
        }
      ]
    },
    {
      "cell_type": "code",
      "source": [
        "tip_female.describe()"
      ],
      "metadata": {
        "colab": {
          "base_uri": "https://localhost:8080/"
        },
        "id": "2ln4olFn6MSh",
        "outputId": "cb85bdec-c8c9-4d56-cdf7-4b421b39515b"
      },
      "execution_count": 79,
      "outputs": [
        {
          "output_type": "execute_result",
          "data": {
            "text/plain": [
              "count    87.000000\n",
              "mean      2.833448\n",
              "std       1.159495\n",
              "min       1.000000\n",
              "25%       2.000000\n",
              "50%       2.750000\n",
              "75%       3.500000\n",
              "max       6.500000\n",
              "Name: tip, dtype: float64"
            ]
          },
          "metadata": {},
          "execution_count": 79
        }
      ]
    },
    {
      "cell_type": "code",
      "source": [
        "plt.boxplot(x=tip_female, labels=['Female'])\n",
        "plt.show()"
      ],
      "metadata": {
        "colab": {
          "base_uri": "https://localhost:8080/",
          "height": 265
        },
        "id": "OEz6g7-cyMoy",
        "outputId": "914787c7-ba0e-45fe-83d0-ce760bed3f35"
      },
      "execution_count": 80,
      "outputs": [
        {
          "output_type": "display_data",
          "data": {
            "text/plain": [
              "<Figure size 432x288 with 1 Axes>"
            ],
            "image/png": "[encoded data removed]"
          },
          "metadata": {
            "needs_background": "light"
          }
        }
      ]
    },
    {
      "cell_type": "code",
      "source": [
        "tip_male = tips[tips.sex == 'Male']['tip']\n",
        "tip_male"
      ],
      "metadata": {
        "colab": {
          "base_uri": "https://localhost:8080/"
        },
        "id": "0Sg5sX5P6bQB",
        "outputId": "fd04e654-c847-48dd-bbaf-8db48002b06d"
      },
      "execution_count": 81,
      "outputs": [
        {
          "output_type": "execute_result",
          "data": {
            "text/plain": [
              "1      1.66\n",
              "2      3.50\n",
              "3      3.31\n",
              "5      4.71\n",
              "6      2.00\n",
              "       ... \n",
              "236    1.00\n",
              "237    1.17\n",
              "239    5.92\n",
              "241    2.00\n",
              "242    1.75\n",
              "Name: tip, Length: 157, dtype: float64"
            ]
          },
          "metadata": {},
          "execution_count": 81
        }
      ]
    },
    {
      "cell_type": "code",
      "source": [
        "tip_male.describe()"
      ],
      "metadata": {
        "colab": {
          "base_uri": "https://localhost:8080/"
        },
        "id": "mgC0pufefFS4",
        "outputId": "8b6a04ae-1a61-477a-caaf-6c84a3afe719"
      },
      "execution_count": 82,
      "outputs": [
        {
          "output_type": "execute_result",
          "data": {
            "text/plain": [
              "count    157.000000\n",
              "mean       3.089618\n",
              "std        1.489102\n",
              "min        1.000000\n",
              "25%        2.000000\n",
              "50%        3.000000\n",
              "75%        3.760000\n",
              "max       10.000000\n",
              "Name: tip, dtype: float64"
            ]
          },
          "metadata": {},
          "execution_count": 82
        }
      ]
    },
    {
      "cell_type": "code",
      "source": [
        "plt.boxplot(x=tip_male, labels=['Male'])\n",
        "plt.show()"
      ],
      "metadata": {
        "colab": {
          "base_uri": "https://localhost:8080/",
          "height": 265
        },
        "id": "5kQNZgGCfGwt",
        "outputId": "0bd28ad7-3e45-4d7d-c1d2-714ac5db0ce7"
      },
      "execution_count": 83,
      "outputs": [
        {
          "output_type": "display_data",
          "data": {
            "text/plain": [
              "<Figure size 432x288 with 1 Axes>"
            ],
            "image/png": "[encoded data removed]"
          },
          "metadata": {
            "needs_background": "light"
          }
        }
      ]
    },
    {
      "cell_type": "code",
      "source": [
        "plt.boxplot(x=np.array([tip_female, tip_male], dtype=object), \n",
        "            labels=['Female', 'Male'])\n",
        "plt.show()"
      ],
      "metadata": {
        "colab": {
          "base_uri": "https://localhost:8080/",
          "height": 265
        },
        "id": "AepmQ-9HfITJ",
        "outputId": "5bb2cbf9-42df-4588-b635-3760180b47aa"
      },
      "execution_count": 84,
      "outputs": [
        {
          "output_type": "display_data",
          "data": {
            "text/plain": [
              "<Figure size 432x288 with 1 Axes>"
            ],
            "image/png": "[encoded data removed]"
          },
          "metadata": {
            "needs_background": "light"
          }
        }
      ]
    },
    {
      "cell_type": "markdown",
      "source": [
        "## Ex 5. 시간별 tip의 box plot을 하나의 subplot에 그리기."
      ],
      "metadata": {
        "id": "BGCm_f_wzXDa"
      }
    },
    {
      "cell_type": "code",
      "source": [
        "times = tips.time.unique()\n",
        "data = []\n",
        "for t in times:\n",
        "    tip_by_time = tips[tips.time == t].tip\n",
        "    # print(tip_by_time)\n",
        "    data.append(tip_by_time)\n",
        "\n",
        "plt.boxplot(x=np.array(data, dtype=object), labels=times)\n",
        "plt.show()"
      ],
      "metadata": {
        "id": "l5k85Dp0zhCV",
        "colab": {
          "base_uri": "https://localhost:8080/",
          "height": 265
        },
        "outputId": "3726f2f4-912e-43a5-aaec-ddd3a086ea12"
      },
      "execution_count": 85,
      "outputs": [
        {
          "output_type": "display_data",
          "data": {
            "text/plain": [
              "<Figure size 432x288 with 1 Axes>"
            ],
            "image/png": "[encoded data removed]"
          },
          "metadata": {
            "needs_background": "light"
          }
        }
      ]
    },
    {
      "cell_type": "markdown",
      "source": [
        "## Ex 6. 요일별 tip의 box plot을 하나의 subplot에 그리기."
      ],
      "metadata": {
        "id": "dexleOpbzXFr"
      }
    },
    {
      "cell_type": "code",
      "source": [
        "days = tips.day.unique()\n",
        "data = [tips[tips.day == x].tip for x in days]\n",
        "plt.boxplot(x=np.array(data, dtype=object), labels=days)\n",
        "plt.show()"
      ],
      "metadata": {
        "id": "11a5EJxbziC4",
        "colab": {
          "base_uri": "https://localhost:8080/",
          "height": 265
        },
        "outputId": "86969b39-5a67-4d7d-bb12-55923428cfff"
      },
      "execution_count": 86,
      "outputs": [
        {
          "output_type": "display_data",
          "data": {
            "text/plain": [
              "<Figure size 432x288 with 1 Axes>"
            ],
            "image/png": "[encoded data removed]"
          },
          "metadata": {
            "needs_background": "light"
          }
        }
      ]
    },
    {
      "cell_type": "code",
      "source": [
        "# pd.DataFrame의 그래프 메서드\n",
        "tips.boxplot(column='tip', by='day')\n",
        "plt.show()"
      ],
      "metadata": {
        "colab": {
          "base_uri": "https://localhost:8080/",
          "height": 358
        },
        "id": "qGCHSGk_fk0H",
        "outputId": "ece6612a-c9ed-4ed9-ac2b-be5b1844fe88"
      },
      "execution_count": 87,
      "outputs": [
        {
          "output_type": "stream",
          "name": "stderr",
          "text": [
            "/usr/local/lib/python3.8/dist-packages/matplotlib/cbook/__init__.py:1376: VisibleDeprecationWarning: Creating an ndarray from ragged nested sequences (which is a list-or-tuple of lists-or-tuples-or ndarrays with different lengths or shapes) is deprecated. If you meant to do this, you must specify 'dtype=object' when creating the ndarray.\n",
            "  X = np.atleast_1d(X.T if isinstance(X, np.ndarray) else np.asarray(X))\n"
          ]
        },
        {
          "output_type": "display_data",
          "data": {
            "text/plain": [
              "<Figure size 432x288 with 1 Axes>"
            ],
            "image/png": "[encoded data removed]"
          },
          "metadata": {
            "needs_background": "light"
          }
        }
      ]
    },
    {
      "cell_type": "code",
      "source": [
        "# pd.DataFrameGroupBy의 메서드\n",
        "tips.groupby('day').boxplot(column='tip')\n",
        "plt.show()"
      ],
      "metadata": {
        "colab": {
          "base_uri": "https://localhost:8080/",
          "height": 280
        },
        "id": "yyL7CVVCflyk",
        "outputId": "f73db7ae-40ab-40f7-8e79-cfdc370abf69"
      },
      "execution_count": 88,
      "outputs": [
        {
          "output_type": "display_data",
          "data": {
            "text/plain": [
              "<Figure size 432x288 with 4 Axes>"
            ],
            "image/png": "[encoded data removed]"
          },
          "metadata": {
            "needs_background": "light"
          }
        }
      ]
    },
    {
      "cell_type": "markdown",
      "source": [
        "# Scatter plot(산점도)\n",
        "\n",
        "두 변수 사이의 상관 관계를 파악하기 위해서 사용.\n",
        "\n",
        "`y ~ x`. `y = ax + b`.\n"
      ],
      "metadata": {
        "id": "eSJyhwSRfmpC"
      }
    },
    {
      "cell_type": "code",
      "source": [
        "# tip ~ total_bill\n",
        "plt.scatter(x=tips.total_bill, y=tips.tip,\n",
        "            alpha=0.5, c='dodgerblue', s=30, marker='^')\n",
        "#> alpha: 불투명도(0: 투명 ~ 1: 불투명)\n",
        "#> c: 마커(점)의 색깔(color)\n",
        "#> s: 마커 크기(size)\n",
        "#> marker: 마커 모양. 'o', '^', 'v', '*', 's', ...\n",
        "\n",
        "plt.xlabel('Total bill')\n",
        "plt.ylabel('Tip')\n",
        "plt.grid()\n",
        "\n",
        "plt.show()"
      ],
      "metadata": {
        "colab": {
          "base_uri": "https://localhost:8080/",
          "height": 279
        },
        "id": "oXz-dGMOfnoa",
        "outputId": "66180e00-f782-4b8b-eb73-0f2e7bdf493a"
      },
      "execution_count": 89,
      "outputs": [
        {
          "output_type": "display_data",
          "data": {
            "text/plain": [
              "<Figure size 432x288 with 1 Axes>"
            ],
            "image/png": "[encoded data removed]"
          },
          "metadata": {
            "needs_background": "light"
          }
        }
      ]
    },
    {
      "cell_type": "code",
      "source": [
        "# tip ~ size: boxplot과 같이 데이터의 분산을 보여줌.\n",
        "plt.scatter(x=tips['size'], y=tips['tip'], alpha=0.4)\n",
        "\n",
        "plt.xlabel('Size')\n",
        "plt.ylabel('Tip')\n",
        "plt.grid()\n",
        "\n",
        "plt.show()"
      ],
      "metadata": {
        "colab": {
          "base_uri": "https://localhost:8080/",
          "height": 279
        },
        "id": "3-z_xqQafoUS",
        "outputId": "90d30c66-d135-4ac6-d57d-e56e9f30107f"
      },
      "execution_count": 90,
      "outputs": [
        {
          "output_type": "display_data",
          "data": {
            "text/plain": [
              "<Figure size 432x288 with 1 Axes>"
            ],
            "image/png": "[encoded data removed]"
          },
          "metadata": {
            "needs_background": "light"
          }
        }
      ]
    },
    {
      "cell_type": "markdown",
      "source": [
        "# Line plot(선 그래프)\n",
        "\n",
        "주로 시계열 데이터(시간에 따라서 변하는 데이터: 주가, 환율, 날씨, ...)를 시각화.\n"
      ],
      "metadata": {
        "id": "fz7sWpYzfpLS"
      }
    },
    {
      "cell_type": "code",
      "source": [
        "np.random.seed(1)\n",
        "df = pd.DataFrame(data={'x1': np.arange(11, 21),\n",
        "                        'x2': np.random.rand(10)})\n",
        "df"
      ],
      "metadata": {
        "colab": {
          "base_uri": "https://localhost:8080/",
          "height": 363
        },
        "id": "eHm2tbuKfp-r",
        "outputId": "6e623fd0-de22-4a51-dde4-08bebfa2056d"
      },
      "execution_count": 91,
      "outputs": [
        {
          "output_type": "execute_result",
          "data": {
            "text/plain": [
              "   x1        x2\n",
              "0  11  0.417022\n",
              "1  12  0.720324\n",
              "2  13  0.000114\n",
              "3  14  0.302333\n",
              "4  15  0.146756\n",
              "5  16  0.092339\n",
              "6  17  0.186260\n",
              "7  18  0.345561\n",
              "8  19  0.396767\n",
              "9  20  0.538817"
            ],
            "text/html": [
              "\n",
              "  <div id=\"df-ee0301c9-2c0e-4fc7-98e1-d159a0b85d29\">\n",
              "    <div class=\"colab-df-container\">\n",
              "      <div>\n",
              "<style scoped>\n",
              "    .dataframe tbody tr th:only-of-type {\n",
              "        vertical-align: middle;\n",
              "    }\n",
              "\n",
              "    .dataframe tbody tr th {\n",
              "        vertical-align: top;\n",
              "    }\n",
              "\n",
              "    .dataframe thead th {\n",
              "        text-align: right;\n",
              "    }\n",
              "</style>\n",
              "<table border=\"1\" class=\"dataframe\">\n",
              "  <thead>\n",
              "    <tr style=\"text-align: right;\">\n",
              "      <th></th>\n",
              "      <th>x1</th>\n",
              "      <th>x2</th>\n",
              "    </tr>\n",
              "  </thead>\n",
              "  <tbody>\n",
              "    <tr>\n",
              "      <th>0</th>\n",
              "      <td>11</td>\n",
              "      <td>0.417022</td>\n",
              "    </tr>\n",
              "    <tr>\n",
              "      <th>1</th>\n",
              "      <td>12</td>\n",
              "      <td>0.720324</td>\n",
              "    </tr>\n",
              "    <tr>\n",
              "      <th>2</th>\n",
              "      <td>13</td>\n",
              "      <td>0.000114</td>\n",
              "    </tr>\n",
              "    <tr>\n",
              "      <th>3</th>\n",
              "      <td>14</td>\n",
              "      <td>0.302333</td>\n",
              "    </tr>\n",
              "    <tr>\n",
              "      <th>4</th>\n",
              "      <td>15</td>\n",
              "      <td>0.146756</td>\n",
              "    </tr>\n",
              "    <tr>\n",
              "      <th>5</th>\n",
              "      <td>16</td>\n",
              "      <td>0.092339</td>\n",
              "    </tr>\n",
              "    <tr>\n",
              "      <th>6</th>\n",
              "      <td>17</td>\n",
              "      <td>0.186260</td>\n",
              "    </tr>\n",
              "    <tr>\n",
              "      <th>7</th>\n",
              "      <td>18</td>\n",
              "      <td>0.345561</td>\n",
              "    </tr>\n",
              "    <tr>\n",
              "      <th>8</th>\n",
              "      <td>19</td>\n",
              "      <td>0.396767</td>\n",
              "    </tr>\n",
              "    <tr>\n",
              "      <th>9</th>\n",
              "      <td>20</td>\n",
              "      <td>0.538817</td>\n",
              "    </tr>\n",
              "  </tbody>\n",
              "</table>\n",
              "</div>\n",
              "      <button class=\"colab-df-convert\" onclick=\"convertToInteractive('df-ee0301c9-2c0e-4fc7-98e1-d159a0b85d29')\"\n",
              "              title=\"Convert this dataframe to an interactive table.\"\n",
              "              style=\"display:none;\">\n",
              "        \n",
              "  <svg xmlns=\"http://www.w3.org/2000/svg\" height=\"24px\"viewBox=\"0 0 24 24\"\n",
              "       width=\"24px\">\n",
              "    <path d=\"M0 0h24v24H0V0z\" fill=\"none\"/>\n",
              "    <path d=\"M18.56 5.44l.94 2.06.94-2.06 2.06-.94-2.06-.94-.94-2.06-.94 2.06-2.06.94zm-11 1L8.5 8.5l.94-2.06 2.06-.94-2.06-.94L8.5 2.5l-.94 2.06-2.06.94zm10 10l.94 2.06.94-2.06 2.06-.94-2.06-.94-.94-2.06-.94 2.06-2.06.94z\"/><path d=\"M17.41 7.96l-1.37-1.37c-.4-.4-.92-.59-1.43-.59-.52 0-1.04.2-1.43.59L10.3 9.45l-7.72 7.72c-.78.78-.78 2.05 0 2.83L4 21.41c.39.39.9.59 1.41.59.51 0 1.02-.2 1.41-.59l7.78-7.78 2.81-2.81c.8-.78.8-2.07 0-2.86zM5.41 20L4 18.59l7.72-7.72 1.47 1.35L5.41 20z\"/>\n",
              "  </svg>\n",
              "      </button>\n",
              "      \n",
              "  <style>\n",
              "    .colab-df-container {\n",
              "      display:flex;\n",
              "      flex-wrap:wrap;\n",
              "      gap: 12px;\n",
              "    }\n",
              "\n",
              "    .colab-df-convert {\n",
              "      background-color: #E8F0FE;\n",
              "      border: none;\n",
              "      border-radius: 50%;\n",
              "      cursor: pointer;\n",
              "      display: none;\n",
              "      fill: #1967D2;\n",
              "      height: 32px;\n",
              "      padding: 0 0 0 0;\n",
              "      width: 32px;\n",
              "    }\n",
              "\n",
              "    .colab-df-convert:hover {\n",
              "      background-color: #E2EBFA;\n",
              "      box-shadow: 0px 1px 2px rgba(60, 64, 67, 0.3), 0px 1px 3px 1px rgba(60, 64, 67, 0.15);\n",
              "      fill: #174EA6;\n",
              "    }\n",
              "\n",
              "    [theme=dark] .colab-df-convert {\n",
              "      background-color: #3B4455;\n",
              "      fill: #D2E3FC;\n",
              "    }\n",
              "\n",
              "    [theme=dark] .colab-df-convert:hover {\n",
              "      background-color: #434B5C;\n",
              "      box-shadow: 0px 1px 3px 1px rgba(0, 0, 0, 0.15);\n",
              "      filter: drop-shadow(0px 1px 2px rgba(0, 0, 0, 0.3));\n",
              "      fill: #FFFFFF;\n",
              "    }\n",
              "  </style>\n",
              "\n",
              "      <script>\n",
              "        const buttonEl =\n",
              "          document.querySelector('#df-ee0301c9-2c0e-4fc7-98e1-d159a0b85d29 button.colab-df-convert');\n",
              "        buttonEl.style.display =\n",
              "          google.colab.kernel.accessAllowed ? 'block' : 'none';\n",
              "\n",
              "        async function convertToInteractive(key) {\n",
              "          const element = document.querySelector('#df-ee0301c9-2c0e-4fc7-98e1-d159a0b85d29');\n",
              "          const dataTable =\n",
              "            await google.colab.kernel.invokeFunction('convertToInteractive',\n",
              "                                                     [key], {});\n",
              "          if (!dataTable) return;\n",
              "\n",
              "          const docLinkHtml = 'Like what you see? Visit the ' +\n",
              "            '<a target=\"_blank\" href=https://colab.research.google.com/notebooks/data_table.ipynb>data table notebook</a>'\n",
              "            + ' to learn more about interactive tables.';\n",
              "          element.innerHTML = '';\n",
              "          dataTable['output_type'] = 'display_data';\n",
              "          await google.colab.output.renderOutput(dataTable, element);\n",
              "          const docLink = document.createElement('div');\n",
              "          docLink.innerHTML = docLinkHtml;\n",
              "          element.appendChild(docLink);\n",
              "        }\n",
              "      </script>\n",
              "    </div>\n",
              "  </div>\n",
              "  "
            ]
          },
          "metadata": {},
          "execution_count": 91
        }
      ]
    },
    {
      "cell_type": "code",
      "source": [
        "# x2 ~ x1\n",
        "plt.plot(df.x1, df.x2, 'ko--')\n",
        "# plt.plot([x], y, [fmt])\n",
        "# param fmt: 문자열. (1) 선과 마커의 색깔, (2) 마커의 모양, (3) 선의 스타일을 설정.\n",
        "#  (1) 색깔(color): b(lue), (blac)k, r(ed), g(reen), ...\n",
        "#  (2) 마커 모양(marker): o, s, ^, v, *, +, ...\n",
        "#  (3) 선 스타일(linestyle): -(solid line, 직선), :(dotted line, 점선), --(dashed line), ...\n",
        "\n",
        "plt.grid()\n",
        "plt.show()"
      ],
      "metadata": {
        "colab": {
          "base_uri": "https://localhost:8080/",
          "height": 265
        },
        "id": "eHuP3k8WfqsS",
        "outputId": "c77edc2f-5349-4765-ce56-b8b003e95253"
      },
      "execution_count": 92,
      "outputs": [
        {
          "output_type": "display_data",
          "data": {
            "text/plain": [
              "<Figure size 432x288 with 1 Axes>"
            ],
            "image/png": "[encoded data removed]"
          },
          "metadata": {
            "needs_background": "light"
          }
        }
      ]
    },
    {
      "cell_type": "code",
      "source": [
        "# x2 ~ index\n",
        "plt.plot(df.x2, c='red', marker='v', linestyle='dotted')\n",
        "\n",
        "plt.grid()\n",
        "plt.show()"
      ],
      "metadata": {
        "colab": {
          "base_uri": "https://localhost:8080/",
          "height": 265
        },
        "id": "NjMwuaJtfrQM",
        "outputId": "1eb09218-6fc0-46b5-a416-b13270870eea"
      },
      "execution_count": 93,
      "outputs": [
        {
          "output_type": "display_data",
          "data": {
            "text/plain": [
              "<Figure size 432x288 with 1 Axes>"
            ],
            "image/png": "[encoded data removed]"
          },
          "metadata": {
            "needs_background": "light"
          }
        }
      ]
    },
    {
      "cell_type": "markdown",
      "source": [
        "하나의 subplot에 여러개의 선 그래프 그리기"
      ],
      "metadata": {
        "id": "qvHymJg8fsW5"
      }
    },
    {
      "cell_type": "code",
      "source": [
        "np.random.seed(1)\n",
        "df = pd.DataFrame(data={'x': np.arange(1, 11),\n",
        "                        'y1': np.random.rand(10),\n",
        "                        'y2': np.random.rand(10),\n",
        "                        'y3': np.random.rand(10)})\n",
        "df"
      ],
      "metadata": {
        "colab": {
          "base_uri": "https://localhost:8080/",
          "height": 363
        },
        "id": "y33io2pGftRN",
        "outputId": "58ef989d-2081-4f2c-c961-34248b6a25c9"
      },
      "execution_count": 94,
      "outputs": [
        {
          "output_type": "execute_result",
          "data": {
            "text/plain": [
              "    x        y1        y2        y3\n",
              "0   1  0.417022  0.419195  0.800745\n",
              "1   2  0.720324  0.685220  0.968262\n",
              "2   3  0.000114  0.204452  0.313424\n",
              "3   4  0.302333  0.878117  0.692323\n",
              "4   5  0.146756  0.027388  0.876389\n",
              "5   6  0.092339  0.670468  0.894607\n",
              "6   7  0.186260  0.417305  0.085044\n",
              "7   8  0.345561  0.558690  0.039055\n",
              "8   9  0.396767  0.140387  0.169830\n",
              "9  10  0.538817  0.198101  0.878143"
            ],
            "text/html": [
              "\n",
              "  <div id=\"df-a4d0ec23-56f9-4333-9c75-c94a7a883599\">\n",
              "    <div class=\"colab-df-container\">\n",
              "      <div>\n",
              "<style scoped>\n",
              "    .dataframe tbody tr th:only-of-type {\n",
              "        vertical-align: middle;\n",
              "    }\n",
              "\n",
              "    .dataframe tbody tr th {\n",
              "        vertical-align: top;\n",
              "    }\n",
              "\n",
              "    .dataframe thead th {\n",
              "        text-align: right;\n",
              "    }\n",
              "</style>\n",
              "<table border=\"1\" class=\"dataframe\">\n",
              "  <thead>\n",
              "    <tr style=\"text-align: right;\">\n",
              "      <th></th>\n",
              "      <th>x</th>\n",
              "      <th>y1</th>\n",
              "      <th>y2</th>\n",
              "      <th>y3</th>\n",
              "    </tr>\n",
              "  </thead>\n",
              "  <tbody>\n",
              "    <tr>\n",
              "      <th>0</th>\n",
              "      <td>1</td>\n",
              "      <td>0.417022</td>\n",
              "      <td>0.419195</td>\n",
              "      <td>0.800745</td>\n",
              "    </tr>\n",
              "    <tr>\n",
              "      <th>1</th>\n",
              "      <td>2</td>\n",
              "      <td>0.720324</td>\n",
              "      <td>0.685220</td>\n",
              "      <td>0.968262</td>\n",
              "    </tr>\n",
              "    <tr>\n",
              "      <th>2</th>\n",
              "      <td>3</td>\n",
              "      <td>0.000114</td>\n",
              "      <td>0.204452</td>\n",
              "      <td>0.313424</td>\n",
              "    </tr>\n",
              "    <tr>\n",
              "      <th>3</th>\n",
              "      <td>4</td>\n",
              "      <td>0.302333</td>\n",
              "      <td>0.878117</td>\n",
              "      <td>0.692323</td>\n",
              "    </tr>\n",
              "    <tr>\n",
              "      <th>4</th>\n",
              "      <td>5</td>\n",
              "      <td>0.146756</td>\n",
              "      <td>0.027388</td>\n",
              "      <td>0.876389</td>\n",
              "    </tr>\n",
              "    <tr>\n",
              "      <th>5</th>\n",
              "      <td>6</td>\n",
              "      <td>0.092339</td>\n",
              "      <td>0.670468</td>\n",
              "      <td>0.894607</td>\n",
              "    </tr>\n",
              "    <tr>\n",
              "      <th>6</th>\n",
              "      <td>7</td>\n",
              "      <td>0.186260</td>\n",
              "      <td>0.417305</td>\n",
              "      <td>0.085044</td>\n",
              "    </tr>\n",
              "    <tr>\n",
              "      <th>7</th>\n",
              "      <td>8</td>\n",
              "      <td>0.345561</td>\n",
              "      <td>0.558690</td>\n",
              "      <td>0.039055</td>\n",
              "    </tr>\n",
              "    <tr>\n",
              "      <th>8</th>\n",
              "      <td>9</td>\n",
              "      <td>0.396767</td>\n",
              "      <td>0.140387</td>\n",
              "      <td>0.169830</td>\n",
              "    </tr>\n",
              "    <tr>\n",
              "      <th>9</th>\n",
              "      <td>10</td>\n",
              "      <td>0.538817</td>\n",
              "      <td>0.198101</td>\n",
              "      <td>0.878143</td>\n",
              "    </tr>\n",
              "  </tbody>\n",
              "</table>\n",
              "</div>\n",
              "      <button class=\"colab-df-convert\" onclick=\"convertToInteractive('df-a4d0ec23-56f9-4333-9c75-c94a7a883599')\"\n",
              "              title=\"Convert this dataframe to an interactive table.\"\n",
              "              style=\"display:none;\">\n",
              "        \n",
              "  <svg xmlns=\"http://www.w3.org/2000/svg\" height=\"24px\"viewBox=\"0 0 24 24\"\n",
              "       width=\"24px\">\n",
              "    <path d=\"M0 0h24v24H0V0z\" fill=\"none\"/>\n",
              "    <path d=\"M18.56 5.44l.94 2.06.94-2.06 2.06-.94-2.06-.94-.94-2.06-.94 2.06-2.06.94zm-11 1L8.5 8.5l.94-2.06 2.06-.94-2.06-.94L8.5 2.5l-.94 2.06-2.06.94zm10 10l.94 2.06.94-2.06 2.06-.94-2.06-.94-.94-2.06-.94 2.06-2.06.94z\"/><path d=\"M17.41 7.96l-1.37-1.37c-.4-.4-.92-.59-1.43-.59-.52 0-1.04.2-1.43.59L10.3 9.45l-7.72 7.72c-.78.78-.78 2.05 0 2.83L4 21.41c.39.39.9.59 1.41.59.51 0 1.02-.2 1.41-.59l7.78-7.78 2.81-2.81c.8-.78.8-2.07 0-2.86zM5.41 20L4 18.59l7.72-7.72 1.47 1.35L5.41 20z\"/>\n",
              "  </svg>\n",
              "      </button>\n",
              "      \n",
              "  <style>\n",
              "    .colab-df-container {\n",
              "      display:flex;\n",
              "      flex-wrap:wrap;\n",
              "      gap: 12px;\n",
              "    }\n",
              "\n",
              "    .colab-df-convert {\n",
              "      background-color: #E8F0FE;\n",
              "      border: none;\n",
              "      border-radius: 50%;\n",
              "      cursor: pointer;\n",
              "      display: none;\n",
              "      fill: #1967D2;\n",
              "      height: 32px;\n",
              "      padding: 0 0 0 0;\n",
              "      width: 32px;\n",
              "    }\n",
              "\n",
              "    .colab-df-convert:hover {\n",
              "      background-color: #E2EBFA;\n",
              "      box-shadow: 0px 1px 2px rgba(60, 64, 67, 0.3), 0px 1px 3px 1px rgba(60, 64, 67, 0.15);\n",
              "      fill: #174EA6;\n",
              "    }\n",
              "\n",
              "    [theme=dark] .colab-df-convert {\n",
              "      background-color: #3B4455;\n",
              "      fill: #D2E3FC;\n",
              "    }\n",
              "\n",
              "    [theme=dark] .colab-df-convert:hover {\n",
              "      background-color: #434B5C;\n",
              "      box-shadow: 0px 1px 3px 1px rgba(0, 0, 0, 0.15);\n",
              "      filter: drop-shadow(0px 1px 2px rgba(0, 0, 0, 0.3));\n",
              "      fill: #FFFFFF;\n",
              "    }\n",
              "  </style>\n",
              "\n",
              "      <script>\n",
              "        const buttonEl =\n",
              "          document.querySelector('#df-a4d0ec23-56f9-4333-9c75-c94a7a883599 button.colab-df-convert');\n",
              "        buttonEl.style.display =\n",
              "          google.colab.kernel.accessAllowed ? 'block' : 'none';\n",
              "\n",
              "        async function convertToInteractive(key) {\n",
              "          const element = document.querySelector('#df-a4d0ec23-56f9-4333-9c75-c94a7a883599');\n",
              "          const dataTable =\n",
              "            await google.colab.kernel.invokeFunction('convertToInteractive',\n",
              "                                                     [key], {});\n",
              "          if (!dataTable) return;\n",
              "\n",
              "          const docLinkHtml = 'Like what you see? Visit the ' +\n",
              "            '<a target=\"_blank\" href=https://colab.research.google.com/notebooks/data_table.ipynb>data table notebook</a>'\n",
              "            + ' to learn more about interactive tables.';\n",
              "          element.innerHTML = '';\n",
              "          dataTable['output_type'] = 'display_data';\n",
              "          await google.colab.output.renderOutput(dataTable, element);\n",
              "          const docLink = document.createElement('div');\n",
              "          docLink.innerHTML = docLinkHtml;\n",
              "          element.appendChild(docLink);\n",
              "        }\n",
              "      </script>\n",
              "    </div>\n",
              "  </div>\n",
              "  "
            ]
          },
          "metadata": {},
          "execution_count": 94
        }
      ]
    },
    {
      "cell_type": "code",
      "source": [
        "# y1 ~ x\n",
        "plt.plot(df.x, df.y1, 'bo-', label='y1')\n",
        "# y2 ~ x\n",
        "plt.plot(df.x, df.y2, 'rs--', label='y2')\n",
        "# y3 ~ x\n",
        "plt.plot(df.x, df.y3, 'g+:', label='y3')\n",
        "\n",
        "plt.legend()  # 범례: 각 plot 함수의 label을 그래프에 추가.\n",
        "plt.show()"
      ],
      "metadata": {
        "colab": {
          "base_uri": "https://localhost:8080/",
          "height": 266
        },
        "id": "WGelfHeXftTu",
        "outputId": "913c39be-8f84-439a-dc7f-6078b8f06633"
      },
      "execution_count": 95,
      "outputs": [
        {
          "output_type": "display_data",
          "data": {
            "text/plain": [
              "<Figure size 432x288 with 1 Axes>"
            ],
            "image/png": "[encoded data removed]"
          },
          "metadata": {
            "needs_background": "light"
          }
        }
      ]
    },
    {
      "cell_type": "markdown",
      "source": [
        "# Exercies"
      ],
      "metadata": {
        "id": "ucbz3oF3fvSI"
      }
    },
    {
      "cell_type": "markdown",
      "source": [
        "Ex 1.\n",
        "\n",
        "* 4개의 subplot을 2x2 모양으로 배치.\n",
        "* 4개의 subplot에 각각 성별 빈도수, 흡연여부 빈도수, 요일 빈도수, 시간 빈도수 그래프를 그리세요.\n"
      ],
      "metadata": {
        "id": "MalZA_VQfwGi"
      }
    },
    {
      "cell_type": "code",
      "source": [
        "gender_counts = tips.sex.value_counts()\n",
        "smoker_counts = tips.smoker.value_counts()\n",
        "day_counts = tips.day.value_counts()\n",
        "time_counts = tips.time.value_counts()"
      ],
      "metadata": {
        "id": "gxoZYu-GfxEv"
      },
      "execution_count": 96,
      "outputs": []
    },
    {
      "cell_type": "code",
      "source": [
        "fig, ax = plt.subplots(nrows=2, ncols=2, figsize=(8, 8))\n",
        "\n",
        "ax[0, 0].bar(x=gender_counts.index, height=gender_counts.values)\n",
        "ax[0, 1].bar(x=smoker_counts.index, height=smoker_counts.values)\n",
        "ax[1, 0].bar(x=day_counts.index, height=day_counts.values)\n",
        "ax[1, 1].bar(x=time_counts.index, height=time_counts.values)\n",
        "\n",
        "for i in range(2):  # nrows\n",
        "    for j in range(2):  # ncols\n",
        "        ax[i, j].grid()\n",
        "\n",
        "plt.show()"
      ],
      "metadata": {
        "colab": {
          "base_uri": "https://localhost:8080/",
          "height": 483
        },
        "id": "LEbBlwpVfx53",
        "outputId": "7852133a-42b8-44c1-ac89-2d7463aa1508"
      },
      "execution_count": 97,
      "outputs": [
        {
          "output_type": "display_data",
          "data": {
            "text/plain": [
              "<Figure size 576x576 with 4 Axes>"
            ],
            "image/png": "[encoded data removed]"
          },
          "metadata": {
            "needs_background": "light"
          }
        }
      ]
    },
    {
      "cell_type": "markdown",
      "source": [
        "Ex 2.\n",
        "\n",
        "* `tip ~ total_bill`의 상관관계를 scatter plot으로 그리세요.\n",
        "* 성별로 점의 색깔을 다르게 표현하세요.\n",
        "* 범례를 표시.\n"
      ],
      "metadata": {
        "id": "I6XFlJA2fzC6"
      }
    },
    {
      "cell_type": "code",
      "source": [
        "tips_male = tips[tips.sex == 'Male']  # 남성 부분집합\n",
        "tips_female = tips[tips.sex == 'Female']  # 여성 부분집합"
      ],
      "metadata": {
        "id": "W6WDR-nefzxf"
      },
      "execution_count": 98,
      "outputs": []
    },
    {
      "cell_type": "code",
      "source": [
        "# 남성 데이터 산점도\n",
        "plt.scatter(x=tips_male.total_bill, y=tips_male.tip, alpha=0.4, label='Male')\n",
        "# 여성 데이터 산점도\n",
        "plt.scatter(x=tips_female.total_bill, y=tips_female.tip, alpha=0.4, label='Female')\n",
        "\n",
        "plt.xlabel('Total bill')\n",
        "plt.ylabel('Tip')\n",
        "plt.legend()  # 범례\n",
        "plt.show()"
      ],
      "metadata": {
        "colab": {
          "base_uri": "https://localhost:8080/",
          "height": 279
        },
        "id": "MzDOo-tMfzzr",
        "outputId": "cf9a5e53-0d48-4961-bfcf-2b0e7303b7cb"
      },
      "execution_count": 99,
      "outputs": [
        {
          "output_type": "display_data",
          "data": {
            "text/plain": [
              "<Figure size 432x288 with 1 Axes>"
            ],
            "image/png": "[encoded data removed]"
          },
          "metadata": {
            "needs_background": "light"
          }
        }
      ]
    },
    {
      "cell_type": "markdown",
      "source": [
        "Ex 3.\n",
        "\n",
        "* `tip ~ total_bill`의 상관관계를 scatter plot으로 그리세요.\n",
        "* 요일별로 점의 색깔, 모양을 다르게 표현하세요.\n",
        "* 범례를 표시.\n"
      ],
      "metadata": {
        "id": "1WPzndK1f25c"
      }
    },
    {
      "cell_type": "code",
      "source": [
        "days = tips.day.unique()  # 요일들\n",
        "markers = ['o', 'v', 's', '+']  # 마커(점)의 모양\n",
        "\n",
        "for d, m in zip(days, markers):\n",
        "    subset = tips[tips.day == d]\n",
        "    plt.scatter(x=subset.total_bill, y=subset.tip, label=d, alpha=0.5, marker=m)\n",
        "\n",
        "plt.legend()\n",
        "plt.show()"
      ],
      "metadata": {
        "colab": {
          "base_uri": "https://localhost:8080/",
          "height": 265
        },
        "id": "2nad7UrSf3yG",
        "outputId": "233aedac-bff0-4548-9854-5b4d933b5f11"
      },
      "execution_count": 100,
      "outputs": [
        {
          "output_type": "display_data",
          "data": {
            "text/plain": [
              "<Figure size 432x288 with 1 Axes>"
            ],
            "image/png": "[encoded data removed]"
          },
          "metadata": {
            "needs_background": "light"
          }
        }
      ]
    }
  ]
}