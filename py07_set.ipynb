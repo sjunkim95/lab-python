{
  "nbformat": 4,
  "nbformat_minor": 0,
  "metadata": {
    "colab": {
      "provenance": [],
      "authorship_tag": "ABX9TyOezflimSzVUoD4p0x9bgNp",
      "include_colab_link": true
    },
    "kernelspec": {
      "name": "python3",
      "display_name": "Python 3"
    },
    "language_info": {
      "name": "python"
    }
  },
  "cells": [
    {
      "cell_type": "markdown",
      "metadata": {
        "id": "view-in-github",
        "colab_type": "text"
      },
      "source": [
        "<a href=\"https://colab.research.google.com/github/sjunkim95/lab-python/blob/main/py07_set.ipynb\" target=\"_parent\"><img src=\"https://colab.research.google.com/assets/colab-badge.svg\" alt=\"Open In Colab\"/></a>"
      ]
    },
    {
      "cell_type": "markdown",
      "source": [
        "# set(집합)\n",
        "\n",
        "* 중복된 데이터를 허용하지 않음: `{1, 2, 2, 3, 3, 3} = {1, 2, 3}`\n",
        "* 데이터 저장 순서가 없음: `{1, 2, 3} = {3, 1, 2}`\n",
        "    * 인덱스가 없음 -> indexing, slicing 기능을 제공하지 않음.\n"
      ],
      "metadata": {
        "id": "4rHrHHIYfCnj"
      }
    },
    {
      "cell_type": "code",
      "execution_count": null,
      "metadata": {
        "colab": {
          "base_uri": "https://localhost:8080/"
        },
        "id": "yuAmbiy-e1PZ",
        "outputId": "21eb6396-16da-46fc-bf3a-3459937edac2"
      },
      "outputs": [
        {
          "output_type": "execute_result",
          "data": {
            "text/plain": [
              "{1, 2, 3}"
            ]
          },
          "metadata": {},
          "execution_count": 1
        }
      ],
      "source": [
        "s = {1, 2, 2, 3, 3, 3}\n",
        "s"
      ]
    },
    {
      "cell_type": "markdown",
      "source": [
        "set 객체는 list, tuple 객체와 같은 방법으로 for 반복문을 사용할 수 있음."
      ],
      "metadata": {
        "id": "g2hBdLZngFAi"
      }
    },
    {
      "cell_type": "code",
      "source": [
        "for x in s:\n",
        "    print(x, end=', ')"
      ],
      "metadata": {
        "colab": {
          "base_uri": "https://localhost:8080/"
        },
        "id": "akP3ikwkgLy_",
        "outputId": "5506b88a-6d8e-44d0-d56d-61cdd8cec742"
      },
      "execution_count": null,
      "outputs": [
        {
          "output_type": "stream",
          "name": "stdout",
          "text": [
            "1, 2, 3, "
          ]
        }
      ]
    },
    {
      "cell_type": "markdown",
      "source": [
        "# set의 기능(메서드)"
      ],
      "metadata": {
        "id": "spzCO4BBgXKM"
      }
    },
    {
      "cell_type": "code",
      "source": [
        "s.add(10) # set에 원소 추가\n",
        "s"
      ],
      "metadata": {
        "colab": {
          "base_uri": "https://localhost:8080/"
        },
        "id": "eY1H9WWAgbA-",
        "outputId": "db802ee8-4e9c-4311-c802-f27c301d11bc"
      },
      "execution_count": null,
      "outputs": [
        {
          "output_type": "execute_result",
          "data": {
            "text/plain": [
              "{1, 2, 3, 10}"
            ]
          },
          "metadata": {},
          "execution_count": 7
        }
      ]
    },
    {
      "cell_type": "code",
      "source": [
        "s.remove(3)\n",
        "s"
      ],
      "metadata": {
        "colab": {
          "base_uri": "https://localhost:8080/"
        },
        "id": "Ni6IM-tLgyvc",
        "outputId": "cfbbf3a5-780d-4a77-e95b-840438718f17"
      },
      "execution_count": null,
      "outputs": [
        {
          "output_type": "execute_result",
          "data": {
            "text/plain": [
              "{1, 2, 10}"
            ]
          },
          "metadata": {},
          "execution_count": 8
        }
      ]
    },
    {
      "cell_type": "code",
      "source": [
        "s1 = {1, 2, 3, 4}\n",
        "s2 = {2, 3, 5, 6}\n",
        "\n",
        "print(s1.union(s2)) # 합집합\n",
        "print(s1.intersection(s2)) # 교집합\n",
        "print(s1.difference(s2)) # 차집합"
      ],
      "metadata": {
        "colab": {
          "base_uri": "https://localhost:8080/"
        },
        "id": "p0ChxRZEhhrz",
        "outputId": "61d8d800-213e-4360-eac4-e5ce9d962515"
      },
      "execution_count": null,
      "outputs": [
        {
          "output_type": "stream",
          "name": "stdout",
          "text": [
            "{1, 2, 3, 4, 5, 6}\n",
            "{2, 3}\n",
            "{1, 4}\n"
          ]
        }
      ]
    },
    {
      "cell_type": "code",
      "source": [
        "print(s1 | s2) # 합집합 연산자\n",
        "print(s1 & s2) # 교집합 연산자\n",
        "print(s1 - s2) # 차집합 연산자"
      ],
      "metadata": {
        "colab": {
          "base_uri": "https://localhost:8080/"
        },
        "id": "Fam7JbtviOv2",
        "outputId": "121b72c9-262b-4532-fd85-462e5ffa0d5b"
      },
      "execution_count": null,
      "outputs": [
        {
          "output_type": "stream",
          "name": "stdout",
          "text": [
            "{1, 2, 3, 4, 5, 6}\n",
            "{2, 3}\n",
            "{1, 4}\n"
          ]
        }
      ]
    }
  ]
}