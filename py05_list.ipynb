{
  "nbformat": 4,
  "nbformat_minor": 0,
  "metadata": {
    "colab": {
      "provenance": [],
      "toc_visible": true,
      "authorship_tag": "ABX9TyM08IcTp9L3T8LX0SqIZiSi",
      "include_colab_link": true
    },
    "kernelspec": {
      "name": "python3",
      "display_name": "Python 3"
    },
    "language_info": {
      "name": "python"
    }
  },
  "cells": [
    {
      "cell_type": "markdown",
      "metadata": {
        "id": "view-in-github",
        "colab_type": "text"
      },
      "source": [
        "<a href=\"https://colab.research.google.com/github/sjunkim95/lab-python/blob/main/py05_list.ipynb\" target=\"_parent\"><img src=\"https://colab.research.google.com/assets/colab-badge.svg\" alt=\"Open In Colab\"/></a>"
      ]
    },
    {
      "cell_type": "markdown",
      "source": [
        "# List(리스트)\n",
        "\n",
        "list: 여러개의 값들을 하나의 변수에 저장하기 위한 데이터 타입.\n",
        "\n",
        "* element(원소, 요소): 리스트에 저장되는 각각의 값.\n",
        "* index(인덱스): 리스트에 원소들이 저장된 위치.\n",
        "    * 리스트의 인덱스는 **0**부터 시작\n",
        "    * 리스트의 마지막 인덱스는 **(원소 개수 - 1)**\n",
        "* 리스트는 원소들을 추가/삭제/변경할 수 있음.\n",
        "    * `tuple`과 다른 점!"
      ],
      "metadata": {
        "id": "vtCklQuEmD1A"
      }
    },
    {
      "cell_type": "code",
      "execution_count": null,
      "metadata": {
        "colab": {
          "base_uri": "https://localhost:8080/"
        },
        "id": "AlkFJ1NVmB1a",
        "outputId": "0001f562-6075-42b0-c53e-719e21e06186"
      },
      "outputs": [
        {
          "output_type": "stream",
          "name": "stdout",
          "text": [
            "[1, 2, 3, 10, 20, 30]\n"
          ]
        }
      ],
      "source": [
        "# 숫자들을 저장하는 리스트\n",
        "numbers = [1, 2, 3, 10, 20, 30]\n",
        "print(numbers)"
      ]
    },
    {
      "cell_type": "code",
      "source": [
        "numbers"
      ],
      "metadata": {
        "colab": {
          "base_uri": "https://localhost:8080/"
        },
        "id": "DdAyBD6qmYKt",
        "outputId": "07d58533-bdd2-46bf-f876-23a49f0028f4"
      },
      "execution_count": null,
      "outputs": [
        {
          "output_type": "execute_result",
          "data": {
            "text/plain": [
              "[1, 2, 3, 10, 20, 30]"
            ]
          },
          "metadata": {},
          "execution_count": 2
        }
      ]
    },
    {
      "cell_type": "markdown",
      "source": [
        "## indexing\n",
        "\n",
        "인덱스를 사용해서 리스트에서 원소를 참조하는 방법."
      ],
      "metadata": {
        "id": "7NJ4VyvvmdN2"
      }
    },
    {
      "cell_type": "code",
      "source": [
        "numbers[0]  # 리스트의 첫번째 원소 값"
      ],
      "metadata": {
        "colab": {
          "base_uri": "https://localhost:8080/"
        },
        "id": "Y1P7GB2AmfJD",
        "outputId": "498dc8f9-4916-4ad4-e4be-cd86b12d12d4"
      },
      "execution_count": null,
      "outputs": [
        {
          "output_type": "execute_result",
          "data": {
            "text/plain": [
              "1"
            ]
          },
          "metadata": {},
          "execution_count": 3
        }
      ]
    },
    {
      "cell_type": "code",
      "source": [
        "numbers[5]  # 리스트의 마지막 원소 값"
      ],
      "metadata": {
        "colab": {
          "base_uri": "https://localhost:8080/"
        },
        "id": "biXwMy6tmlI1",
        "outputId": "782dd46a-7547-4e36-b1e0-f7791e6223b3"
      },
      "execution_count": null,
      "outputs": [
        {
          "output_type": "execute_result",
          "data": {
            "text/plain": [
              "30"
            ]
          },
          "metadata": {},
          "execution_count": 4
        }
      ]
    },
    {
      "cell_type": "code",
      "source": [
        "numbers[-1]"
      ],
      "metadata": {
        "colab": {
          "base_uri": "https://localhost:8080/"
        },
        "id": "XsK5ht_OmmLL",
        "outputId": "2b03d770-4e19-41b8-e16a-e11e1a5cf682"
      },
      "execution_count": null,
      "outputs": [
        {
          "output_type": "execute_result",
          "data": {
            "text/plain": [
              "30"
            ]
          },
          "metadata": {},
          "execution_count": 5
        }
      ]
    },
    {
      "cell_type": "markdown",
      "source": [
        "## slicing\n",
        "\n",
        "인덱스를 사용해서 리스트의 부분집합(리스트)를 잘라내는 방법.\n",
        "\n",
        "```\n",
        "list[start:end]\n",
        "```\n",
        "\n",
        "* start <= index < end 범위의 인덱스 위치의 원소들을 잘라냄.\n",
        "* start를 생략한 경우에는 첫번째 원소부터 잘라냄. `list[:10]`과 `list[0:10]`은 동일.\n",
        "* end를 생략한 경우에는 마지막 원소까지 잘라냄.\n",
        "* 리스트를 slicing한 결과는 또다른 새로운 리스트!\n"
      ],
      "metadata": {
        "id": "rlDccLxwmrwq"
      }
    },
    {
      "cell_type": "code",
      "source": [
        "# 리스트 numbers에서 첫번째 원소부터 순서대로 3개 잘라냄\n",
        "numbers[:3]"
      ],
      "metadata": {
        "colab": {
          "base_uri": "https://localhost:8080/"
        },
        "id": "rp3t1DYDmtLG",
        "outputId": "bafa5744-e548-49a8-87e3-a3541b36d114"
      },
      "execution_count": null,
      "outputs": [
        {
          "output_type": "execute_result",
          "data": {
            "text/plain": [
              "[1, 2, 3]"
            ]
          },
          "metadata": {},
          "execution_count": 9
        }
      ]
    },
    {
      "cell_type": "code",
      "source": [
        "# 리스트 numbers에서 끝에서 3개의 원소를 잘라냄\n",
        "numbers[3:6]"
      ],
      "metadata": {
        "colab": {
          "base_uri": "https://localhost:8080/"
        },
        "id": "wLAq33LdnAiw",
        "outputId": "5b14ad5c-1518-42e2-b3bc-4fada66e59ac"
      },
      "execution_count": null,
      "outputs": [
        {
          "output_type": "execute_result",
          "data": {
            "text/plain": [
              "[10, 20, 30]"
            ]
          },
          "metadata": {},
          "execution_count": 10
        }
      ]
    },
    {
      "cell_type": "code",
      "source": [
        "numbers[-3:]"
      ],
      "metadata": {
        "colab": {
          "base_uri": "https://localhost:8080/"
        },
        "id": "vQ8SMpPBnEAy",
        "outputId": "653a5bc8-d9f0-4e40-c138-38b2423df54c"
      },
      "execution_count": null,
      "outputs": [
        {
          "output_type": "execute_result",
          "data": {
            "text/plain": [
              "[10, 20, 30]"
            ]
          },
          "metadata": {},
          "execution_count": 11
        }
      ]
    },
    {
      "cell_type": "code",
      "source": [
        "print(numbers[0:1])  # slicing => list\n",
        "print(numbers[0])  # indexing => element"
      ],
      "metadata": {
        "colab": {
          "base_uri": "https://localhost:8080/"
        },
        "id": "KuYUMgZknEEz",
        "outputId": "3a563c34-76a0-463e-fd67-ee0a7708766d"
      },
      "execution_count": null,
      "outputs": [
        {
          "output_type": "stream",
          "name": "stdout",
          "text": [
            "[1]\n",
            "1\n"
          ]
        }
      ]
    },
    {
      "cell_type": "markdown",
      "source": [
        "# 문자열\n",
        "\n",
        "문자열: 문자들의 리스트. indexing, slicing을 사용할 수 있음."
      ],
      "metadata": {
        "id": "LgKMjsPhne0K"
      }
    },
    {
      "cell_type": "code",
      "source": [
        "message = '안녕하세요, 파이썬!'  # 11개의 문자들을 원소로 갖는 문자열"
      ],
      "metadata": {
        "id": "uB1ijjAcngpe"
      },
      "execution_count": null,
      "outputs": []
    },
    {
      "cell_type": "code",
      "source": [
        "message[0]  # 문자열의 첫번째 글자"
      ],
      "metadata": {
        "colab": {
          "base_uri": "https://localhost:8080/",
          "height": 35
        },
        "id": "HPa1EnRjnmQe",
        "outputId": "3ec88a60-3d02-42d6-ff9c-9acdebd01d99"
      },
      "execution_count": null,
      "outputs": [
        {
          "output_type": "execute_result",
          "data": {
            "text/plain": [
              "'안'"
            ],
            "application/vnd.google.colaboratory.intrinsic+json": {
              "type": "string"
            }
          },
          "metadata": {},
          "execution_count": 15
        }
      ]
    },
    {
      "cell_type": "code",
      "source": [
        "message[10]  # 문자열의 마지막 글자"
      ],
      "metadata": {
        "colab": {
          "base_uri": "https://localhost:8080/",
          "height": 35
        },
        "id": "wOfTxZ4LnnHS",
        "outputId": "4b2ec979-2731-4733-bf5b-e88c59e49eb7"
      },
      "execution_count": null,
      "outputs": [
        {
          "output_type": "execute_result",
          "data": {
            "text/plain": [
              "'!'"
            ],
            "application/vnd.google.colaboratory.intrinsic+json": {
              "type": "string"
            }
          },
          "metadata": {},
          "execution_count": 16
        }
      ]
    },
    {
      "cell_type": "code",
      "source": [
        "message[-1]"
      ],
      "metadata": {
        "colab": {
          "base_uri": "https://localhost:8080/",
          "height": 35
        },
        "id": "njwoHN5XnpC7",
        "outputId": "9275d3eb-0b07-420c-8dcd-9be0ba734820"
      },
      "execution_count": null,
      "outputs": [
        {
          "output_type": "execute_result",
          "data": {
            "text/plain": [
              "'!'"
            ],
            "application/vnd.google.colaboratory.intrinsic+json": {
              "type": "string"
            }
          },
          "metadata": {},
          "execution_count": 17
        }
      ]
    },
    {
      "cell_type": "code",
      "source": [
        "message[:3]  # 앞에서 3글자"
      ],
      "metadata": {
        "colab": {
          "base_uri": "https://localhost:8080/",
          "height": 35
        },
        "id": "f0E2FDMPnqsi",
        "outputId": "7a8a700e-2206-4e13-a25d-308974da68f2"
      },
      "execution_count": null,
      "outputs": [
        {
          "output_type": "execute_result",
          "data": {
            "text/plain": [
              "'안녕하'"
            ],
            "application/vnd.google.colaboratory.intrinsic+json": {
              "type": "string"
            }
          },
          "metadata": {},
          "execution_count": 18
        }
      ]
    },
    {
      "cell_type": "code",
      "source": [
        "message[-3:]  # 뒤에서 3글자"
      ],
      "metadata": {
        "colab": {
          "base_uri": "https://localhost:8080/",
          "height": 35
        },
        "id": "hlKxgHjJnrwf",
        "outputId": "faec1438-e18d-4411-8caa-8f679a173d64"
      },
      "execution_count": null,
      "outputs": [
        {
          "output_type": "execute_result",
          "data": {
            "text/plain": [
              "'이썬!'"
            ],
            "application/vnd.google.colaboratory.intrinsic+json": {
              "type": "string"
            }
          },
          "metadata": {},
          "execution_count": 19
        }
      ]
    },
    {
      "cell_type": "code",
      "source": [
        "# 문자열 + 문자열\n",
        "'Hello' + 'Python'"
      ],
      "metadata": {
        "colab": {
          "base_uri": "https://localhost:8080/",
          "height": 35
        },
        "id": "LqtzrORRnswO",
        "outputId": "e41acb6d-25d7-4839-e696-a082f8ce6b23"
      },
      "execution_count": null,
      "outputs": [
        {
          "output_type": "execute_result",
          "data": {
            "text/plain": [
              "'HelloPython'"
            ],
            "application/vnd.google.colaboratory.intrinsic+json": {
              "type": "string"
            }
          },
          "metadata": {},
          "execution_count": 20
        }
      ]
    },
    {
      "cell_type": "code",
      "source": [
        "# 문자열 * 정수 또는 정수 * 문자열\n",
        "'Hello' * 3"
      ],
      "metadata": {
        "colab": {
          "base_uri": "https://localhost:8080/",
          "height": 35
        },
        "id": "gikeewhRnukR",
        "outputId": "59351934-58b2-448a-e32c-eb88d303f3ac"
      },
      "execution_count": null,
      "outputs": [
        {
          "output_type": "execute_result",
          "data": {
            "text/plain": [
              "'HelloHelloHello'"
            ],
            "application/vnd.google.colaboratory.intrinsic+json": {
              "type": "string"
            }
          },
          "metadata": {},
          "execution_count": 21
        }
      ]
    },
    {
      "cell_type": "markdown",
      "source": [
        "# list의 산술 연산\n",
        "\n",
        "* `list + list`\n",
        "* `list * 정수` 또는 `정수 * list`\n"
      ],
      "metadata": {
        "id": "1ZRLWC3Vnv0t"
      }
    },
    {
      "cell_type": "code",
      "source": [
        "[1, 2, 3] + [4, 5, 6]"
      ],
      "metadata": {
        "colab": {
          "base_uri": "https://localhost:8080/"
        },
        "id": "-Y3PiAVBnxZc",
        "outputId": "aa0336f8-42d8-41af-e714-cd85794daad6"
      },
      "execution_count": null,
      "outputs": [
        {
          "output_type": "execute_result",
          "data": {
            "text/plain": [
              "[1, 2, 3, 4, 5, 6]"
            ]
          },
          "metadata": {},
          "execution_count": 22
        }
      ]
    },
    {
      "cell_type": "code",
      "source": [
        "3 * [1, 2, 3]"
      ],
      "metadata": {
        "colab": {
          "base_uri": "https://localhost:8080/"
        },
        "id": "VLmCHTlwnyPY",
        "outputId": "864853b1-eec9-48bc-ac09-3abf7f011101"
      },
      "execution_count": null,
      "outputs": [
        {
          "output_type": "execute_result",
          "data": {
            "text/plain": [
              "[1, 2, 3, 1, 2, 3, 1, 2, 3]"
            ]
          },
          "metadata": {},
          "execution_count": 23
        }
      ]
    },
    {
      "cell_type": "markdown",
      "source": [
        "# list 객체의 기능(메서드)\n",
        "\n",
        "* `list.append(value)`: 리스트의 가장 마지막에 새로운 원소(value)를 추가.\n",
        "* `list.insert(index, value)`: 리스트의 index 위치에 value를 추가.\n",
        "* `list.extend(iterable)`: list1 + list2.\n",
        "* `list.remove(value)`: 리스트에서 처음 등장하는 value를 삭제.\n",
        "* `list.pop(index)`: 리스트에서 index 위치에 있는 원소를 삭제.\n",
        "* `list.clear()`: 리스트의 모든 원소를 삭제.\n"
      ],
      "metadata": {
        "id": "YbT3s7Xxn-MR"
      }
    },
    {
      "cell_type": "code",
      "source": [
        "list1 = [1, 2, 3, 4, 5]"
      ],
      "metadata": {
        "id": "Rw73VN_HoBTh"
      },
      "execution_count": null,
      "outputs": []
    },
    {
      "cell_type": "code",
      "source": [
        "list1.append(10)"
      ],
      "metadata": {
        "id": "H9lwyZUToBV4"
      },
      "execution_count": null,
      "outputs": []
    },
    {
      "cell_type": "code",
      "source": [
        "list1"
      ],
      "metadata": {
        "colab": {
          "base_uri": "https://localhost:8080/"
        },
        "id": "I7BRXUKkoBY3",
        "outputId": "bcc79aed-dd6f-4105-bbad-918af1f52be8"
      },
      "execution_count": null,
      "outputs": [
        {
          "output_type": "execute_result",
          "data": {
            "text/plain": [
              "[1, 2, 3, 4, 5, 10]"
            ]
          },
          "metadata": {},
          "execution_count": 26
        }
      ]
    },
    {
      "cell_type": "code",
      "source": [
        "list1.extend([100])"
      ],
      "metadata": {
        "id": "79B9pQ0soBbr"
      },
      "execution_count": null,
      "outputs": []
    },
    {
      "cell_type": "code",
      "source": [
        "list1"
      ],
      "metadata": {
        "colab": {
          "base_uri": "https://localhost:8080/"
        },
        "id": "URxZ5lkLoBeV",
        "outputId": "6f1010d8-079e-4b98-c5d9-7392f8d74efc"
      },
      "execution_count": null,
      "outputs": [
        {
          "output_type": "execute_result",
          "data": {
            "text/plain": [
              "[1, 2, 3, 4, 5, 10, 100]"
            ]
          },
          "metadata": {},
          "execution_count": 28
        }
      ]
    },
    {
      "cell_type": "code",
      "source": [
        "list1.extend([100, 200, 300])"
      ],
      "metadata": {
        "id": "j-cVBugyoIPZ"
      },
      "execution_count": null,
      "outputs": []
    },
    {
      "cell_type": "code",
      "source": [
        "list1"
      ],
      "metadata": {
        "colab": {
          "base_uri": "https://localhost:8080/"
        },
        "id": "2AmS2K1KoJEe",
        "outputId": "09996eaf-cdbe-4b83-f95c-2a181194fc77"
      },
      "execution_count": null,
      "outputs": [
        {
          "output_type": "execute_result",
          "data": {
            "text/plain": [
              "[1, 2, 3, 4, 5, 10, 100, 100, 200, 300]"
            ]
          },
          "metadata": {},
          "execution_count": 30
        }
      ]
    },
    {
      "cell_type": "code",
      "source": [
        "list1.append([1, 2, 3, 4, 5])"
      ],
      "metadata": {
        "id": "FQFhOTQboKBw"
      },
      "execution_count": null,
      "outputs": []
    },
    {
      "cell_type": "code",
      "source": [
        "list1"
      ],
      "metadata": {
        "colab": {
          "base_uri": "https://localhost:8080/"
        },
        "id": "dZEgcVNjoLJh",
        "outputId": "9cd03f40-288e-4354-cc52-20731fe87006"
      },
      "execution_count": null,
      "outputs": [
        {
          "output_type": "execute_result",
          "data": {
            "text/plain": [
              "[1, 2, 3, 4, 5, 10, 100, 100, 200, 300, [1, 2, 3, 4, 5]]"
            ]
          },
          "metadata": {},
          "execution_count": 32
        }
      ]
    },
    {
      "cell_type": "code",
      "source": [
        "list1.clear()"
      ],
      "metadata": {
        "id": "x8GMdRshoMeV"
      },
      "execution_count": null,
      "outputs": []
    },
    {
      "cell_type": "code",
      "source": [
        "list1"
      ],
      "metadata": {
        "colab": {
          "base_uri": "https://localhost:8080/"
        },
        "id": "vUy6mbgzoNKh",
        "outputId": "ac869f61-14dd-41c5-93b2-0dfb59b2973a"
      },
      "execution_count": null,
      "outputs": [
        {
          "output_type": "execute_result",
          "data": {
            "text/plain": [
              "[]"
            ]
          },
          "metadata": {},
          "execution_count": 34
        }
      ]
    },
    {
      "cell_type": "markdown",
      "source": [
        "# list와 for 반복문"
      ],
      "metadata": {
        "id": "MQ-kaP_YodVs"
      }
    },
    {
      "cell_type": "code",
      "source": [
        "for x in '안녕하세요':\n",
        "    print(x)"
      ],
      "metadata": {
        "colab": {
          "base_uri": "https://localhost:8080/"
        },
        "id": "rsaQZcrNoe2A",
        "outputId": "deddea4f-616b-482a-ffa3-b15cc6b8fd49"
      },
      "execution_count": null,
      "outputs": [
        {
          "output_type": "stream",
          "name": "stdout",
          "text": [
            "안\n",
            "녕\n",
            "하\n",
            "세\n",
            "요\n"
          ]
        }
      ]
    },
    {
      "cell_type": "code",
      "source": [
        "numbers = [1, 3, 10, 20]\n",
        "for x in numbers:\n",
        "    print(x)"
      ],
      "metadata": {
        "colab": {
          "base_uri": "https://localhost:8080/"
        },
        "id": "N53eN0YfoiKv",
        "outputId": "a8a6679e-8e73-4365-842f-62f26b122810"
      },
      "execution_count": null,
      "outputs": [
        {
          "output_type": "stream",
          "name": "stdout",
          "text": [
            "1\n",
            "3\n",
            "10\n",
            "20\n"
          ]
        }
      ]
    },
    {
      "cell_type": "code",
      "source": [
        "for i, v in enumerate(numbers):\n",
        "    print(i, ':', v)"
      ],
      "metadata": {
        "colab": {
          "base_uri": "https://localhost:8080/"
        },
        "id": "Xp_oN5vNomhT",
        "outputId": "18fb3594-3d5b-4ac6-f960-209aaac6faab"
      },
      "execution_count": null,
      "outputs": [
        {
          "output_type": "stream",
          "name": "stdout",
          "text": [
            "0 : 1\n",
            "1 : 3\n",
            "2 : 10\n",
            "3 : 20\n"
          ]
        }
      ]
    },
    {
      "cell_type": "markdown",
      "source": [
        "파이썬에서 난수 생성: `random` 모듈을 import하고  `random` 모듈의 함수를 사용."
      ],
      "metadata": {
        "id": "va5kWEoWomEt"
      }
    },
    {
      "cell_type": "code",
      "source": [
        "import random"
      ],
      "metadata": {
        "id": "jAAQpoEQoqr7"
      },
      "execution_count": null,
      "outputs": []
    },
    {
      "cell_type": "code",
      "source": [
        "random.random()  # [0, 1) 범위(0 <= x < 1)의 실수 난수 1개를 리턴."
      ],
      "metadata": {
        "colab": {
          "base_uri": "https://localhost:8080/"
        },
        "id": "_xqXAja6ovTR",
        "outputId": "5b3fce26-8d85-4af6-c6e5-71657aaed187"
      },
      "execution_count": null,
      "outputs": [
        {
          "output_type": "execute_result",
          "data": {
            "text/plain": [
              "0.7937456018445468"
            ]
          },
          "metadata": {},
          "execution_count": 39
        }
      ]
    },
    {
      "cell_type": "code",
      "source": [
        "random.randrange(10)  # [0, 10) 범위(0 <= x < 10)의 정수 난수 1개를 리턴."
      ],
      "metadata": {
        "colab": {
          "base_uri": "https://localhost:8080/"
        },
        "id": "IJzJzCl_oxW3",
        "outputId": "53a09c2d-f92a-48d3-b8ca-279481b0b4cd"
      },
      "execution_count": null,
      "outputs": [
        {
          "output_type": "execute_result",
          "data": {
            "text/plain": [
              "3"
            ]
          },
          "metadata": {},
          "execution_count": 40
        }
      ]
    },
    {
      "cell_type": "code",
      "source": [
        "random.randint(0, 2)  #[0, 2] 범위(0 <= x <= 2)의 정수 난수 1개를 리턴."
      ],
      "metadata": {
        "colab": {
          "base_uri": "https://localhost:8080/"
        },
        "id": "S3XpQeP0oxZT",
        "outputId": "bf7a0c61-9efa-4820-d73f-c637d6d7f6ba"
      },
      "execution_count": null,
      "outputs": [
        {
          "output_type": "execute_result",
          "data": {
            "text/plain": [
              "0"
            ]
          },
          "metadata": {},
          "execution_count": 41
        }
      ]
    },
    {
      "cell_type": "markdown",
      "source": [
        "# Exercises"
      ],
      "metadata": {
        "id": "rhp9b62Xp06E"
      }
    },
    {
      "cell_type": "markdown",
      "source": [
        "## Ex 1.\n",
        "\n",
        "1. 빈 리스트를 생성.\n",
        "1. 1 이상 10 이하의 정수 난수 5개를 저장.\n",
        "1. 리스트의 모든 정수들의 합을 출력.\n",
        "1. 리스트의 모든 정수들의 평균을 출력.\n"
      ],
      "metadata": {
        "id": "4bKyRJ_ep-fG"
      }
    },
    {
      "cell_type": "code",
      "source": [
        "numbers = []\n",
        "numbers"
      ],
      "metadata": {
        "colab": {
          "base_uri": "https://localhost:8080/"
        },
        "id": "dT4CM2X2qFlE",
        "outputId": "84a909c1-7cea-4a10-dec1-ee7bef39942b"
      },
      "execution_count": null,
      "outputs": [
        {
          "output_type": "execute_result",
          "data": {
            "text/plain": [
              "[]"
            ]
          },
          "metadata": {},
          "execution_count": 42
        }
      ]
    },
    {
      "cell_type": "code",
      "source": [
        "for _ in range(5):\n",
        "    numbers.append(random.randrange(1, 11))\n",
        "print(numbers)"
      ],
      "metadata": {
        "colab": {
          "base_uri": "https://localhost:8080/"
        },
        "id": "za-vGKFsqFuU",
        "outputId": "2da525c1-6318-4dbd-d6ee-87e6acb8d2ca"
      },
      "execution_count": null,
      "outputs": [
        {
          "output_type": "stream",
          "name": "stdout",
          "text": [
            "[8, 8, 1, 7, 1]\n"
          ]
        }
      ]
    },
    {
      "cell_type": "code",
      "source": [
        "sum(numbers)"
      ],
      "metadata": {
        "colab": {
          "base_uri": "https://localhost:8080/"
        },
        "id": "nwl_M3_9qH-_",
        "outputId": "cf0682bb-f9fb-4347-bf51-1b40a671be74"
      },
      "execution_count": null,
      "outputs": [
        {
          "output_type": "execute_result",
          "data": {
            "text/plain": [
              "25"
            ]
          },
          "metadata": {},
          "execution_count": 44
        }
      ]
    },
    {
      "cell_type": "code",
      "source": [
        "total = 0\n",
        "for x in numbers:\n",
        "    total += x\n",
        "\n",
        "print(f'합계 = {total}')"
      ],
      "metadata": {
        "colab": {
          "base_uri": "https://localhost:8080/"
        },
        "id": "DdgOigqMqKBG",
        "outputId": "a99dcbf8-2eb5-4b80-c7c0-458740f19b57"
      },
      "execution_count": null,
      "outputs": [
        {
          "output_type": "stream",
          "name": "stdout",
          "text": [
            "합계 = 25\n"
          ]
        }
      ]
    },
    {
      "cell_type": "code",
      "source": [
        "total / len(numbers)"
      ],
      "metadata": {
        "colab": {
          "base_uri": "https://localhost:8080/"
        },
        "id": "VlkzFnUbqKiP",
        "outputId": "f281e6e0-84ec-4ac2-8f3c-ea8ec4153058"
      },
      "execution_count": null,
      "outputs": [
        {
          "output_type": "execute_result",
          "data": {
            "text/plain": [
              "5.0"
            ]
          },
          "metadata": {},
          "execution_count": 46
        }
      ]
    },
    {
      "cell_type": "markdown",
      "source": [
        "## Ex 2.\n",
        "\n",
        "1. 빈 리스트(numbers)를 생성.\n",
        "1. 10 이상, 100 미만의 정수 난수 10개를 numbers에 저장.\n",
        "1. numbers에서 짝수들만 선택해서 evens 리스트를 만듦.\n",
        "1. numbers에서 홀수들만 선택해서 odds 리스트를 만듦."
      ],
      "metadata": {
        "id": "qJyTVdx0qZyk"
      }
    },
    {
      "cell_type": "code",
      "source": [
        "numbers = []  # 난수 10개를 저장할 빈 리스트\n",
        "for _ in range(10):\n",
        "    numbers.append(random.randrange(10, 100))\n",
        "print(numbers)\n",
        "\n",
        "evens = []  # numbers에서 짝수들만 저장할 빈 리스트\n",
        "odds = []  # numbers에서 홀수들만 저장할 빈 리스트\n",
        "for x in numbers:  # numbers의 원소들을 첫번째 원소부터 마지막 원소까지 순서대로 반복하면서\n",
        "    if x % 2:  # 2로 나눈 나머지가 있다면(홀수이면)\n",
        "        odds.append(x)\n",
        "    else:  # 2로 나눈 나머지가 없다면(짝수이면)\n",
        "        evens.append(x)\n",
        "\n",
        "print(evens)\n",
        "print(odds)"
      ],
      "metadata": {
        "colab": {
          "base_uri": "https://localhost:8080/"
        },
        "id": "_SQJYkI3qbPc",
        "outputId": "e9d2ba66-eb24-4377-d569-59db03f16404"
      },
      "execution_count": null,
      "outputs": [
        {
          "output_type": "stream",
          "name": "stdout",
          "text": [
            "[30, 58, 20, 47, 15, 27, 95, 51, 67, 54]\n",
            "[30, 58, 20, 54]\n",
            "[47, 15, 27, 95, 51, 67]\n"
          ]
        }
      ]
    },
    {
      "cell_type": "markdown",
      "source": [
        "## Ex 3.\n",
        "\n",
        "1. 빈 리스트 numbers를 만듦.\n",
        "1. -10 이상 10 이하인 범위의 정수 난수 10개를 numbers에 저장.\n",
        "1. numbers의 원소가 양수이면 True, 그렇지 않으면 False를 저장하는 is_positive 리스트를 만듦.\n"
      ],
      "metadata": {
        "id": "eSVpPGOirmfz"
      }
    },
    {
      "cell_type": "code",
      "source": [
        "numbers = []\n",
        "for _ in range(10):\n",
        "    numbers.append(random.randrange(-10, 11))\n",
        "print(numbers)\n",
        "\n",
        "is_positive = []\n",
        "for x in numbers:\n",
        "    if x > 0:\n",
        "        is_positive.append(True)\n",
        "    else:\n",
        "        is_positive.append(False)\n",
        "\n",
        "print(is_positive)"
      ],
      "metadata": {
        "colab": {
          "base_uri": "https://localhost:8080/"
        },
        "id": "eEECo5-8rpAt",
        "outputId": "a5afee7b-f6f1-4ef7-c305-0716ffd3446c"
      },
      "execution_count": null,
      "outputs": [
        {
          "output_type": "stream",
          "name": "stdout",
          "text": [
            "[2, -1, 5, -10, 1, 8, 4, 6, -2, -3]\n",
            "[True, False, True, False, True, True, True, True, False, False]\n"
          ]
        }
      ]
    },
    {
      "cell_type": "markdown",
      "source": [
        "## Ex 4.\n",
        "\n",
        "1. gender_codes 리스트에 0 또는 1을 랜덤하게 10개를 저장.\n",
        "1. gender_codes의 값이 0이면 'Male', 그렇지 않으며 'Female'을 저장하는 genders 리스트를 만듦.\n"
      ],
      "metadata": {
        "id": "IcJYGiYqrrer"
      }
    },
    {
      "cell_type": "code",
      "source": [
        "gender_codes = []\n",
        "for _ in range(10):\n",
        "    gender_codes.append(random.randrange(0, 2))\n",
        "print(gender_codes)\n",
        "\n",
        "genders = []\n",
        "for code in gender_codes:\n",
        "    if code == 0:\n",
        "        genders.append('Male')\n",
        "    else:\n",
        "        genders.append('Female')\n",
        "print(genders)"
      ],
      "metadata": {
        "colab": {
          "base_uri": "https://localhost:8080/"
        },
        "id": "Z6H7huVNrsYT",
        "outputId": "339d9c91-5859-45e5-a1fb-3eeb197f2d46"
      },
      "execution_count": null,
      "outputs": [
        {
          "output_type": "stream",
          "name": "stdout",
          "text": [
            "[0, 0, 0, 1, 0, 1, 0, 0, 0, 0]\n",
            "['Male', 'Male', 'Male', 'Female', 'Male', 'Female', 'Male', 'Male', 'Male', 'Male']\n"
          ]
        }
      ]
    },
    {
      "cell_type": "markdown",
      "source": [
        "# list comprehension(리스트 내포)"
      ],
      "metadata": {
        "id": "t2HTtioKp2cZ"
      }
    },
    {
      "cell_type": "markdown",
      "source": [
        "1부터 10까지 정수들을 차례로 저장하고 있는 리스트"
      ],
      "metadata": {
        "id": "UbDCbG2Kp5RE"
      }
    },
    {
      "cell_type": "code",
      "source": [
        "numbers = []\n",
        "for x in range(1, 11):\n",
        "    numbers.append(x)\n",
        "\n",
        "print(numbers)"
      ],
      "metadata": {
        "colab": {
          "base_uri": "https://localhost:8080/"
        },
        "id": "ykzGNAm2p2OX",
        "outputId": "6e0f2e02-e9d5-4e29-832d-c4f466a512a6"
      },
      "execution_count": null,
      "outputs": [
        {
          "output_type": "stream",
          "name": "stdout",
          "text": [
            "[1, 2, 3, 4, 5, 6, 7, 8, 9, 10]\n"
          ]
        }
      ]
    },
    {
      "cell_type": "code",
      "source": [
        "numbers = [x for x in range(1, 11)]\n",
        "print(numbers)"
      ],
      "metadata": {
        "colab": {
          "base_uri": "https://localhost:8080/"
        },
        "id": "Pxyb7vuwss5l",
        "outputId": "32130810-40fb-4c45-9ebb-87c80a3a3864"
      },
      "execution_count": null,
      "outputs": [
        {
          "output_type": "stream",
          "name": "stdout",
          "text": [
            "[1, 2, 3, 4, 5, 6, 7, 8, 9, 10]\n"
          ]
        }
      ]
    },
    {
      "cell_type": "markdown",
      "source": [
        "## Ex.1 ~ Ex.4 문제를 list comprehension으로 작성.*이탤릭체 텍스트*"
      ],
      "metadata": {
        "id": "DjvcmrXLs7fZ"
      }
    },
    {
      "cell_type": "markdown",
      "source": [
        "### Ex 1."
      ],
      "metadata": {
        "id": "QqwcLvBAs-M9"
      }
    },
    {
      "cell_type": "code",
      "source": [
        "numbers = [random.randrange(1, 11) for _ in range(5)]\n",
        "print(numbers)\n",
        "\n",
        "total = sum(numbers)\n",
        "print(f'합계 = {total}')\n",
        "\n",
        "avg = total / len(numbers)\n",
        "print(f'평균 = {avg}')"
      ],
      "metadata": {
        "colab": {
          "base_uri": "https://localhost:8080/"
        },
        "id": "wgUCnXKUs-_r",
        "outputId": "3b5d56c0-f3b9-4266-fce4-af5ac9eb5882"
      },
      "execution_count": null,
      "outputs": [
        {
          "output_type": "stream",
          "name": "stdout",
          "text": [
            "[2, 5, 8, 2, 4]\n",
            "합계 = 21\n",
            "평균 = 4.2\n"
          ]
        }
      ]
    },
    {
      "cell_type": "markdown",
      "source": [
        "### Ex 2."
      ],
      "metadata": {
        "id": "LN2R2yrdtHso"
      }
    },
    {
      "cell_type": "code",
      "source": [
        "numbers = [random.randrange(10, 100) for _ in range(10)]\n",
        "print(numbers)\n",
        "\n",
        "evens = [x for x in numbers if x % 2 == 0]\n",
        "print(evens)\n",
        "\n",
        "odds = [x for x in numbers if x % 2]\n",
        "print(odds)"
      ],
      "metadata": {
        "colab": {
          "base_uri": "https://localhost:8080/"
        },
        "id": "xUqhHDlJtJWA",
        "outputId": "043abcb3-f133-4478-c6a3-4bdb92411900"
      },
      "execution_count": null,
      "outputs": [
        {
          "output_type": "stream",
          "name": "stdout",
          "text": [
            "[22, 57, 19, 76, 51, 63, 92, 82, 70, 33]\n",
            "[22, 76, 92, 82, 70]\n",
            "[57, 19, 51, 63, 33]\n"
          ]
        }
      ]
    },
    {
      "cell_type": "markdown",
      "source": [
        "### Ex 3."
      ],
      "metadata": {
        "id": "SpdVuVGctKQx"
      }
    },
    {
      "cell_type": "code",
      "source": [
        "# Java의 3항 연산자 - (조건식) ? 값1 : 값2\n",
        "# Python의 if-else 표현식(expression) - 값1 if 조건식 else 값2\n",
        "x = -3\n",
        "y = True if x > 0 else False\n",
        "print(y)"
      ],
      "metadata": {
        "colab": {
          "base_uri": "https://localhost:8080/"
        },
        "id": "dnaLDQ4TtLBW",
        "outputId": "d5803936-bad7-4f65-e9ea-07297bf265bf"
      },
      "execution_count": null,
      "outputs": [
        {
          "output_type": "stream",
          "name": "stdout",
          "text": [
            "False\n"
          ]
        }
      ]
    },
    {
      "cell_type": "code",
      "source": [
        "numbers = [random.randrange(-10, 11) for _ in range(10)]\n",
        "print(numbers)\n",
        "\n",
        "is_positive = [True if x > 0 else False for x in numbers]\n",
        "print(is_positive)"
      ],
      "metadata": {
        "colab": {
          "base_uri": "https://localhost:8080/"
        },
        "id": "_C6R0EQstL_I",
        "outputId": "9f01172e-2c8b-43ad-e567-72a9450461fc"
      },
      "execution_count": null,
      "outputs": [
        {
          "output_type": "stream",
          "name": "stdout",
          "text": [
            "[-2, 2, 0, 5, -8, 5, -6, -5, -3, 7]\n",
            "[False, True, False, True, False, True, False, False, False, True]\n"
          ]
        }
      ]
    },
    {
      "cell_type": "markdown",
      "source": [
        "### Ex 4."
      ],
      "metadata": {
        "id": "qZmLwvfhtNXL"
      }
    },
    {
      "cell_type": "code",
      "source": [
        "gender_codes = [random.randrange(0, 2) for _ in range(10)]\n",
        "print(gender_codes)\n",
        "\n",
        "genders = ['Male' if x == 0 else 'Female' for x in gender_codes]\n",
        "print(genders)"
      ],
      "metadata": {
        "colab": {
          "base_uri": "https://localhost:8080/"
        },
        "id": "XqyAP04BtRgH",
        "outputId": "a86d2aa4-72f8-44d5-860f-5843cd9ceeb0"
      },
      "execution_count": null,
      "outputs": [
        {
          "output_type": "stream",
          "name": "stdout",
          "text": [
            "[0, 1, 1, 1, 0, 1, 0, 1, 0, 0]\n",
            "['Male', 'Female', 'Female', 'Female', 'Male', 'Female', 'Male', 'Female', 'Male', 'Male']\n"
          ]
        }
      ]
    },
    {
      "cell_type": "markdown",
      "source": [
        "## Ex.\n",
        "\n",
        "1. 0 이상 10 미만의 정수 난수 10개를 저장하는 리스트 numbers1을 만들고 출력.\n",
        "1. 0 이상 10 미만의 정수 난수 10개를 저장하는 리스트 numbers2을 만들고 출력.\n",
        "1. numbers1과 numbers2에서 같은 인덱스의 원소들끼리의 합을 저장하는 리스트 adds를 만들고 출력.\n",
        "1. numbers1의 원소에서 numbers2의 원소를 뺀 값들을 저장하는 리스트 subtracts를 만들고 출력.\n",
        "1. numbers1과 numbers2에서 같은 인덱스의 원소들끼리의 곱을 저장하는 리스트 multiplications를 만들고 출력.\n"
      ],
      "metadata": {
        "id": "dJ31f0fftTrq"
      }
    },
    {
      "cell_type": "code",
      "source": [
        "numbers1 = [random.randrange(0, 10) for _ in range(10)]\n",
        "numbers2 = [random.randrange(0, 10) for _ in range(10)]\n",
        "\n",
        "print(numbers1)\n",
        "print(numbers2)\n",
        "\n",
        "# adds = []\n",
        "# for i in range(10): # i = 0, 1, 2, ..., 8, 9\n",
        "#     adds.append(numbers1[i] + numbers2[i])\n",
        "\n",
        "adds = [numbers1[i] + numbers2[i] for i in range(10)]\n",
        "\n",
        "print(adds)"
      ],
      "metadata": {
        "colab": {
          "base_uri": "https://localhost:8080/"
        },
        "id": "ENH9BWukDTuS",
        "outputId": "75ee1a80-90fc-410d-b5cd-53c2f2772dab"
      },
      "execution_count": null,
      "outputs": [
        {
          "output_type": "stream",
          "name": "stdout",
          "text": [
            "[6, 2, 4, 9, 6, 6, 2, 3, 4, 4]\n",
            "[2, 2, 8, 7, 3, 7, 4, 3, 3, 0]\n",
            "[8, 4, 12, 16, 9, 13, 6, 6, 7, 4]\n"
          ]
        }
      ]
    },
    {
      "cell_type": "code",
      "source": [
        "print(numbers1)\n",
        "print(numbers2)\n",
        "\n",
        "# for x, y in zip(numbers1, numbers2):\n",
        "#     # print(x, y)\n",
        "#     adds.append(x + y)\n",
        "\n",
        "adds = [x + y for x, y in zip(numbers1, numbers2)]\n",
        "\n",
        "print(adds)"
      ],
      "metadata": {
        "colab": {
          "base_uri": "https://localhost:8080/"
        },
        "id": "gEHJvq4iFWhP",
        "outputId": "636d1801-75a4-41a0-fcd8-ffd9a39c3ff8"
      },
      "execution_count": null,
      "outputs": [
        {
          "output_type": "stream",
          "name": "stdout",
          "text": [
            "[6, 2, 4, 9, 6, 6, 2, 3, 4, 4]\n",
            "[2, 2, 8, 7, 3, 7, 4, 3, 3, 0]\n",
            "[8, 4, 12, 16, 9, 13, 6, 6, 7, 4]\n"
          ]
        }
      ]
    },
    {
      "cell_type": "code",
      "source": [
        "subtracts = [ x - y for x, y in zip(numbers1, numbers2)]\n",
        "print(subtracts)"
      ],
      "metadata": {
        "colab": {
          "base_uri": "https://localhost:8080/"
        },
        "id": "elu0tLPtHU_L",
        "outputId": "0a00a05c-1abc-438a-a4ca-b731699d5dde"
      },
      "execution_count": null,
      "outputs": [
        {
          "output_type": "stream",
          "name": "stdout",
          "text": [
            "[4, 0, -4, 2, 3, -1, -2, 0, 1, 4]\n"
          ]
        }
      ]
    },
    {
      "cell_type": "code",
      "source": [
        "multiplications = [ x * y for x, y in zip(numbers1, numbers2)]\n",
        "print(multiplications)"
      ],
      "metadata": {
        "colab": {
          "base_uri": "https://localhost:8080/"
        },
        "id": "J9dHI_RxHqx-",
        "outputId": "7e1dbc69-3750-4e03-eb96-773813a75100"
      },
      "execution_count": null,
      "outputs": [
        {
          "output_type": "stream",
          "name": "stdout",
          "text": [
            "[12, 4, 32, 63, 18, 42, 8, 9, 12, 0]\n"
          ]
        }
      ]
    }
  ]
}