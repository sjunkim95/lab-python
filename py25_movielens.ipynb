{
  "nbformat": 4,
  "nbformat_minor": 0,
  "metadata": {
    "colab": {
      "provenance": [],
      "collapsed_sections": [
        "B1V-DfRql423"
      ],
      "toc_visible": true,
      "authorship_tag": "ABX9TyND/a0IkkIO3slWzojdhy3Y",
      "include_colab_link": true
    },
    "kernelspec": {
      "name": "python3",
      "display_name": "Python 3"
    },
    "language_info": {
      "name": "python"
    }
  },
  "cells": [
    {
      "cell_type": "markdown",
      "metadata": {
        "id": "view-in-github",
        "colab_type": "text"
      },
      "source": [
        "<a href=\"https://colab.research.google.com/github/sjunkim95/lab-python/blob/main/py25_movielens.ipynb\" target=\"_parent\"><img src=\"https://colab.research.google.com/assets/colab-badge.svg\" alt=\"Open In Colab\"/></a>"
      ]
    },
    {
      "cell_type": "markdown",
      "source": [
        "# Imports"
      ],
      "metadata": {
        "id": "CiaxyGdci25Q"
      }
    },
    {
      "cell_type": "code",
      "execution_count": null,
      "metadata": {
        "id": "APIU76g7isWS"
      },
      "outputs": [],
      "source": [
        "import numpy as np\n",
        "import pandas as pd\n",
        "import matplotlib.pyplot as plt\n",
        "import seaborn as sns"
      ]
    },
    {
      "cell_type": "markdown",
      "source": [
        "# Movielens 데이터 셋\n",
        "\n",
        "* https://github.com/wesm/pydata-book/tree/3rd-edition/datasets/movielens\n",
        "* movies.dat: \"MovieID::Title::Genres\"을 컬럼으로 하는 데이터 셋. 영화 정보.\n",
        "* ratings.dat: \"UserID::MovieID::Rating::Timestamp\"을 컬럼으로 하는 데이터 셋. 영화 별점.\n",
        "* users.dat: \"UserID::Gender::Age::Occupation::Zip-code\"을 컬럼으로 하는 데이터 셋. 사용자 정보.\n"
      ],
      "metadata": {
        "id": "XH9Q4N0PjpFB"
      }
    },
    {
      "cell_type": "markdown",
      "source": [
        "\n",
        "* movies.dat 파일을 읽고 DataFrame 생성 - `pd.read_csv()`\n",
        "* DataFrame 탐색 - `head, tail, info, ...`\n",
        "* 장르가 'Animation'인 영화는 몇 개? - genres(장르들) 컬럼의 문자열이 'Animation'을 포함.\n",
        "* 장르가 로맨틱 코미디인 영화는 몇 개? - genres 컬럼의 문자열이 'Comedy'와 'Romance'를 포함.\n",
        "* 어떤 장르의 영화가 가장 많은가? - genres의 문자열을 '|'를 구분자로 분리(split)\n",
        "* 연도별 영화 수 - title(제목) 컬럼에 영화 개봉 연도가 포함.\n"
      ],
      "metadata": {
        "id": "watIRoiIqUsK"
      }
    },
    {
      "cell_type": "code",
      "source": [
        "movies_file = 'https://github.com/wesm/pydata-book/raw/3rd-edition/datasets/movielens/movies.dat'"
      ],
      "metadata": {
        "id": "bOXV5n60i-gj"
      },
      "execution_count": null,
      "outputs": []
    },
    {
      "cell_type": "code",
      "source": [
        "# movies 데이터프레임의 컬럼 이름\n",
        "movies_colnames = ['movie_id', 'title', 'genres']"
      ],
      "metadata": {
        "id": "RC8W7ugB2Xcm"
      },
      "execution_count": null,
      "outputs": []
    },
    {
      "cell_type": "code",
      "source": [
        "# movies = pd.read_csv(movies_file, sep='::', names=movies_colnames) # 이대로만 뜨면, error를 보고 추가해.\n",
        "movies = pd.read_csv(movies_file, sep='::', names=movies_colnames, engine='python')"
      ],
      "metadata": {
        "id": "2Oljr4PztVzz"
      },
      "execution_count": null,
      "outputs": []
    },
    {
      "cell_type": "code",
      "source": [
        "movies.head()"
      ],
      "metadata": {
        "colab": {
          "base_uri": "https://localhost:8080/",
          "height": 206
        },
        "id": "wahQlF7qtYfz",
        "outputId": "d38f51b0-88cb-4962-d47d-2d2b81585a29"
      },
      "execution_count": null,
      "outputs": [
        {
          "output_type": "execute_result",
          "data": {
            "text/plain": [
              "   movie_id                               title                        genres\n",
              "0         1                    Toy Story (1995)   Animation|Children's|Comedy\n",
              "1         2                      Jumanji (1995)  Adventure|Children's|Fantasy\n",
              "2         3             Grumpier Old Men (1995)                Comedy|Romance\n",
              "3         4            Waiting to Exhale (1995)                  Comedy|Drama\n",
              "4         5  Father of the Bride Part II (1995)                        Comedy"
            ],
            "text/html": [
              "\n",
              "  <div id=\"df-112bd702-e327-4f98-8fc3-e47e72ac141e\">\n",
              "    <div class=\"colab-df-container\">\n",
              "      <div>\n",
              "<style scoped>\n",
              "    .dataframe tbody tr th:only-of-type {\n",
              "        vertical-align: middle;\n",
              "    }\n",
              "\n",
              "    .dataframe tbody tr th {\n",
              "        vertical-align: top;\n",
              "    }\n",
              "\n",
              "    .dataframe thead th {\n",
              "        text-align: right;\n",
              "    }\n",
              "</style>\n",
              "<table border=\"1\" class=\"dataframe\">\n",
              "  <thead>\n",
              "    <tr style=\"text-align: right;\">\n",
              "      <th></th>\n",
              "      <th>movie_id</th>\n",
              "      <th>title</th>\n",
              "      <th>genres</th>\n",
              "    </tr>\n",
              "  </thead>\n",
              "  <tbody>\n",
              "    <tr>\n",
              "      <th>0</th>\n",
              "      <td>1</td>\n",
              "      <td>Toy Story (1995)</td>\n",
              "      <td>Animation|Children's|Comedy</td>\n",
              "    </tr>\n",
              "    <tr>\n",
              "      <th>1</th>\n",
              "      <td>2</td>\n",
              "      <td>Jumanji (1995)</td>\n",
              "      <td>Adventure|Children's|Fantasy</td>\n",
              "    </tr>\n",
              "    <tr>\n",
              "      <th>2</th>\n",
              "      <td>3</td>\n",
              "      <td>Grumpier Old Men (1995)</td>\n",
              "      <td>Comedy|Romance</td>\n",
              "    </tr>\n",
              "    <tr>\n",
              "      <th>3</th>\n",
              "      <td>4</td>\n",
              "      <td>Waiting to Exhale (1995)</td>\n",
              "      <td>Comedy|Drama</td>\n",
              "    </tr>\n",
              "    <tr>\n",
              "      <th>4</th>\n",
              "      <td>5</td>\n",
              "      <td>Father of the Bride Part II (1995)</td>\n",
              "      <td>Comedy</td>\n",
              "    </tr>\n",
              "  </tbody>\n",
              "</table>\n",
              "</div>\n",
              "      <button class=\"colab-df-convert\" onclick=\"convertToInteractive('df-112bd702-e327-4f98-8fc3-e47e72ac141e')\"\n",
              "              title=\"Convert this dataframe to an interactive table.\"\n",
              "              style=\"display:none;\">\n",
              "        \n",
              "  <svg xmlns=\"http://www.w3.org/2000/svg\" height=\"24px\"viewBox=\"0 0 24 24\"\n",
              "       width=\"24px\">\n",
              "    <path d=\"M0 0h24v24H0V0z\" fill=\"none\"/>\n",
              "    <path d=\"M18.56 5.44l.94 2.06.94-2.06 2.06-.94-2.06-.94-.94-2.06-.94 2.06-2.06.94zm-11 1L8.5 8.5l.94-2.06 2.06-.94-2.06-.94L8.5 2.5l-.94 2.06-2.06.94zm10 10l.94 2.06.94-2.06 2.06-.94-2.06-.94-.94-2.06-.94 2.06-2.06.94z\"/><path d=\"M17.41 7.96l-1.37-1.37c-.4-.4-.92-.59-1.43-.59-.52 0-1.04.2-1.43.59L10.3 9.45l-7.72 7.72c-.78.78-.78 2.05 0 2.83L4 21.41c.39.39.9.59 1.41.59.51 0 1.02-.2 1.41-.59l7.78-7.78 2.81-2.81c.8-.78.8-2.07 0-2.86zM5.41 20L4 18.59l7.72-7.72 1.47 1.35L5.41 20z\"/>\n",
              "  </svg>\n",
              "      </button>\n",
              "      \n",
              "  <style>\n",
              "    .colab-df-container {\n",
              "      display:flex;\n",
              "      flex-wrap:wrap;\n",
              "      gap: 12px;\n",
              "    }\n",
              "\n",
              "    .colab-df-convert {\n",
              "      background-color: #E8F0FE;\n",
              "      border: none;\n",
              "      border-radius: 50%;\n",
              "      cursor: pointer;\n",
              "      display: none;\n",
              "      fill: #1967D2;\n",
              "      height: 32px;\n",
              "      padding: 0 0 0 0;\n",
              "      width: 32px;\n",
              "    }\n",
              "\n",
              "    .colab-df-convert:hover {\n",
              "      background-color: #E2EBFA;\n",
              "      box-shadow: 0px 1px 2px rgba(60, 64, 67, 0.3), 0px 1px 3px 1px rgba(60, 64, 67, 0.15);\n",
              "      fill: #174EA6;\n",
              "    }\n",
              "\n",
              "    [theme=dark] .colab-df-convert {\n",
              "      background-color: #3B4455;\n",
              "      fill: #D2E3FC;\n",
              "    }\n",
              "\n",
              "    [theme=dark] .colab-df-convert:hover {\n",
              "      background-color: #434B5C;\n",
              "      box-shadow: 0px 1px 3px 1px rgba(0, 0, 0, 0.15);\n",
              "      filter: drop-shadow(0px 1px 2px rgba(0, 0, 0, 0.3));\n",
              "      fill: #FFFFFF;\n",
              "    }\n",
              "  </style>\n",
              "\n",
              "      <script>\n",
              "        const buttonEl =\n",
              "          document.querySelector('#df-112bd702-e327-4f98-8fc3-e47e72ac141e button.colab-df-convert');\n",
              "        buttonEl.style.display =\n",
              "          google.colab.kernel.accessAllowed ? 'block' : 'none';\n",
              "\n",
              "        async function convertToInteractive(key) {\n",
              "          const element = document.querySelector('#df-112bd702-e327-4f98-8fc3-e47e72ac141e');\n",
              "          const dataTable =\n",
              "            await google.colab.kernel.invokeFunction('convertToInteractive',\n",
              "                                                     [key], {});\n",
              "          if (!dataTable) return;\n",
              "\n",
              "          const docLinkHtml = 'Like what you see? Visit the ' +\n",
              "            '<a target=\"_blank\" href=https://colab.research.google.com/notebooks/data_table.ipynb>data table notebook</a>'\n",
              "            + ' to learn more about interactive tables.';\n",
              "          element.innerHTML = '';\n",
              "          dataTable['output_type'] = 'display_data';\n",
              "          await google.colab.output.renderOutput(dataTable, element);\n",
              "          const docLink = document.createElement('div');\n",
              "          docLink.innerHTML = docLinkHtml;\n",
              "          element.appendChild(docLink);\n",
              "        }\n",
              "      </script>\n",
              "    </div>\n",
              "  </div>\n",
              "  "
            ]
          },
          "metadata": {},
          "execution_count": 124
        }
      ]
    },
    {
      "cell_type": "code",
      "source": [
        "movies.tail()"
      ],
      "metadata": {
        "colab": {
          "base_uri": "https://localhost:8080/",
          "height": 206
        },
        "id": "8BUle7lwte8P",
        "outputId": "39505c87-fb20-44b8-99ad-58fad3eb930b"
      },
      "execution_count": null,
      "outputs": [
        {
          "output_type": "execute_result",
          "data": {
            "text/plain": [
              "      movie_id                       title          genres\n",
              "3878      3948     Meet the Parents (2000)          Comedy\n",
              "3879      3949  Requiem for a Dream (2000)           Drama\n",
              "3880      3950            Tigerland (2000)           Drama\n",
              "3881      3951     Two Family House (2000)           Drama\n",
              "3882      3952       Contender, The (2000)  Drama|Thriller"
            ],
            "text/html": [
              "\n",
              "  <div id=\"df-347ed998-3ad4-46ee-afcf-f0748659c746\">\n",
              "    <div class=\"colab-df-container\">\n",
              "      <div>\n",
              "<style scoped>\n",
              "    .dataframe tbody tr th:only-of-type {\n",
              "        vertical-align: middle;\n",
              "    }\n",
              "\n",
              "    .dataframe tbody tr th {\n",
              "        vertical-align: top;\n",
              "    }\n",
              "\n",
              "    .dataframe thead th {\n",
              "        text-align: right;\n",
              "    }\n",
              "</style>\n",
              "<table border=\"1\" class=\"dataframe\">\n",
              "  <thead>\n",
              "    <tr style=\"text-align: right;\">\n",
              "      <th></th>\n",
              "      <th>movie_id</th>\n",
              "      <th>title</th>\n",
              "      <th>genres</th>\n",
              "    </tr>\n",
              "  </thead>\n",
              "  <tbody>\n",
              "    <tr>\n",
              "      <th>3878</th>\n",
              "      <td>3948</td>\n",
              "      <td>Meet the Parents (2000)</td>\n",
              "      <td>Comedy</td>\n",
              "    </tr>\n",
              "    <tr>\n",
              "      <th>3879</th>\n",
              "      <td>3949</td>\n",
              "      <td>Requiem for a Dream (2000)</td>\n",
              "      <td>Drama</td>\n",
              "    </tr>\n",
              "    <tr>\n",
              "      <th>3880</th>\n",
              "      <td>3950</td>\n",
              "      <td>Tigerland (2000)</td>\n",
              "      <td>Drama</td>\n",
              "    </tr>\n",
              "    <tr>\n",
              "      <th>3881</th>\n",
              "      <td>3951</td>\n",
              "      <td>Two Family House (2000)</td>\n",
              "      <td>Drama</td>\n",
              "    </tr>\n",
              "    <tr>\n",
              "      <th>3882</th>\n",
              "      <td>3952</td>\n",
              "      <td>Contender, The (2000)</td>\n",
              "      <td>Drama|Thriller</td>\n",
              "    </tr>\n",
              "  </tbody>\n",
              "</table>\n",
              "</div>\n",
              "      <button class=\"colab-df-convert\" onclick=\"convertToInteractive('df-347ed998-3ad4-46ee-afcf-f0748659c746')\"\n",
              "              title=\"Convert this dataframe to an interactive table.\"\n",
              "              style=\"display:none;\">\n",
              "        \n",
              "  <svg xmlns=\"http://www.w3.org/2000/svg\" height=\"24px\"viewBox=\"0 0 24 24\"\n",
              "       width=\"24px\">\n",
              "    <path d=\"M0 0h24v24H0V0z\" fill=\"none\"/>\n",
              "    <path d=\"M18.56 5.44l.94 2.06.94-2.06 2.06-.94-2.06-.94-.94-2.06-.94 2.06-2.06.94zm-11 1L8.5 8.5l.94-2.06 2.06-.94-2.06-.94L8.5 2.5l-.94 2.06-2.06.94zm10 10l.94 2.06.94-2.06 2.06-.94-2.06-.94-.94-2.06-.94 2.06-2.06.94z\"/><path d=\"M17.41 7.96l-1.37-1.37c-.4-.4-.92-.59-1.43-.59-.52 0-1.04.2-1.43.59L10.3 9.45l-7.72 7.72c-.78.78-.78 2.05 0 2.83L4 21.41c.39.39.9.59 1.41.59.51 0 1.02-.2 1.41-.59l7.78-7.78 2.81-2.81c.8-.78.8-2.07 0-2.86zM5.41 20L4 18.59l7.72-7.72 1.47 1.35L5.41 20z\"/>\n",
              "  </svg>\n",
              "      </button>\n",
              "      \n",
              "  <style>\n",
              "    .colab-df-container {\n",
              "      display:flex;\n",
              "      flex-wrap:wrap;\n",
              "      gap: 12px;\n",
              "    }\n",
              "\n",
              "    .colab-df-convert {\n",
              "      background-color: #E8F0FE;\n",
              "      border: none;\n",
              "      border-radius: 50%;\n",
              "      cursor: pointer;\n",
              "      display: none;\n",
              "      fill: #1967D2;\n",
              "      height: 32px;\n",
              "      padding: 0 0 0 0;\n",
              "      width: 32px;\n",
              "    }\n",
              "\n",
              "    .colab-df-convert:hover {\n",
              "      background-color: #E2EBFA;\n",
              "      box-shadow: 0px 1px 2px rgba(60, 64, 67, 0.3), 0px 1px 3px 1px rgba(60, 64, 67, 0.15);\n",
              "      fill: #174EA6;\n",
              "    }\n",
              "\n",
              "    [theme=dark] .colab-df-convert {\n",
              "      background-color: #3B4455;\n",
              "      fill: #D2E3FC;\n",
              "    }\n",
              "\n",
              "    [theme=dark] .colab-df-convert:hover {\n",
              "      background-color: #434B5C;\n",
              "      box-shadow: 0px 1px 3px 1px rgba(0, 0, 0, 0.15);\n",
              "      filter: drop-shadow(0px 1px 2px rgba(0, 0, 0, 0.3));\n",
              "      fill: #FFFFFF;\n",
              "    }\n",
              "  </style>\n",
              "\n",
              "      <script>\n",
              "        const buttonEl =\n",
              "          document.querySelector('#df-347ed998-3ad4-46ee-afcf-f0748659c746 button.colab-df-convert');\n",
              "        buttonEl.style.display =\n",
              "          google.colab.kernel.accessAllowed ? 'block' : 'none';\n",
              "\n",
              "        async function convertToInteractive(key) {\n",
              "          const element = document.querySelector('#df-347ed998-3ad4-46ee-afcf-f0748659c746');\n",
              "          const dataTable =\n",
              "            await google.colab.kernel.invokeFunction('convertToInteractive',\n",
              "                                                     [key], {});\n",
              "          if (!dataTable) return;\n",
              "\n",
              "          const docLinkHtml = 'Like what you see? Visit the ' +\n",
              "            '<a target=\"_blank\" href=https://colab.research.google.com/notebooks/data_table.ipynb>data table notebook</a>'\n",
              "            + ' to learn more about interactive tables.';\n",
              "          element.innerHTML = '';\n",
              "          dataTable['output_type'] = 'display_data';\n",
              "          await google.colab.output.renderOutput(dataTable, element);\n",
              "          const docLink = document.createElement('div');\n",
              "          docLink.innerHTML = docLinkHtml;\n",
              "          element.appendChild(docLink);\n",
              "        }\n",
              "      </script>\n",
              "    </div>\n",
              "  </div>\n",
              "  "
            ]
          },
          "metadata": {},
          "execution_count": 125
        }
      ]
    },
    {
      "cell_type": "code",
      "source": [
        "movies.info()"
      ],
      "metadata": {
        "colab": {
          "base_uri": "https://localhost:8080/"
        },
        "id": "VVuLlraS3L6r",
        "outputId": "b09adac0-e510-4faf-e545-e2195ef8ff1e"
      },
      "execution_count": null,
      "outputs": [
        {
          "output_type": "stream",
          "name": "stdout",
          "text": [
            "<class 'pandas.core.frame.DataFrame'>\n",
            "RangeIndex: 3883 entries, 0 to 3882\n",
            "Data columns (total 3 columns):\n",
            " #   Column    Non-Null Count  Dtype \n",
            "---  ------    --------------  ----- \n",
            " 0   movie_id  3883 non-null   int64 \n",
            " 1   title     3883 non-null   object\n",
            " 2   genres    3883 non-null   object\n",
            "dtypes: int64(1), object(2)\n",
            "memory usage: 91.1+ KB\n"
          ]
        }
      ]
    },
    {
      "cell_type": "markdown",
      "source": [
        "## 장르 분석 - 애니메이션 찾기"
      ],
      "metadata": {
        "id": "sH9nif-P5i2b"
      }
    },
    {
      "cell_type": "code",
      "source": [
        "movies.genres.str.contains('Animation') # str을 붙여줘야, series는 contains 메서드가 없다."
      ],
      "metadata": {
        "colab": {
          "base_uri": "https://localhost:8080/"
        },
        "id": "VDXGah1w3Yu0",
        "outputId": "a1b02020-72af-4f87-e54f-81233e69061a"
      },
      "execution_count": null,
      "outputs": [
        {
          "output_type": "execute_result",
          "data": {
            "text/plain": [
              "0        True\n",
              "1       False\n",
              "2       False\n",
              "3       False\n",
              "4       False\n",
              "        ...  \n",
              "3878    False\n",
              "3879    False\n",
              "3880    False\n",
              "3881    False\n",
              "3882    False\n",
              "Name: genres, Length: 3883, dtype: bool"
            ]
          },
          "metadata": {},
          "execution_count": 127
        }
      ]
    },
    {
      "cell_type": "code",
      "source": [
        "animations = movies[movies.genres.str.contains('Animation')] # boolean indexing\n",
        "# contains가 true/false return 해주고, movies[] 가 true를 return 해준다."
      ],
      "metadata": {
        "id": "70IBJcl141am"
      },
      "execution_count": null,
      "outputs": []
    },
    {
      "cell_type": "code",
      "source": [
        "animations.head()"
      ],
      "metadata": {
        "colab": {
          "base_uri": "https://localhost:8080/",
          "height": 206
        },
        "id": "G9HhCjxj468v",
        "outputId": "2436da67-d228-42d2-e10a-df0e34653df1"
      },
      "execution_count": null,
      "outputs": [
        {
          "output_type": "execute_result",
          "data": {
            "text/plain": [
              "     movie_id                    title                                genres\n",
              "0           1         Toy Story (1995)           Animation|Children's|Comedy\n",
              "12         13             Balto (1995)                  Animation|Children's\n",
              "47         48        Pocahontas (1995)  Animation|Children's|Musical|Romance\n",
              "236       239    Goofy Movie, A (1995)   Animation|Children's|Comedy|Romance\n",
              "241       244  Gumby: The Movie (1995)                  Animation|Children's"
            ],
            "text/html": [
              "\n",
              "  <div id=\"df-7521f8a7-27e4-4a78-b84d-1cb6d95849c8\">\n",
              "    <div class=\"colab-df-container\">\n",
              "      <div>\n",
              "<style scoped>\n",
              "    .dataframe tbody tr th:only-of-type {\n",
              "        vertical-align: middle;\n",
              "    }\n",
              "\n",
              "    .dataframe tbody tr th {\n",
              "        vertical-align: top;\n",
              "    }\n",
              "\n",
              "    .dataframe thead th {\n",
              "        text-align: right;\n",
              "    }\n",
              "</style>\n",
              "<table border=\"1\" class=\"dataframe\">\n",
              "  <thead>\n",
              "    <tr style=\"text-align: right;\">\n",
              "      <th></th>\n",
              "      <th>movie_id</th>\n",
              "      <th>title</th>\n",
              "      <th>genres</th>\n",
              "    </tr>\n",
              "  </thead>\n",
              "  <tbody>\n",
              "    <tr>\n",
              "      <th>0</th>\n",
              "      <td>1</td>\n",
              "      <td>Toy Story (1995)</td>\n",
              "      <td>Animation|Children's|Comedy</td>\n",
              "    </tr>\n",
              "    <tr>\n",
              "      <th>12</th>\n",
              "      <td>13</td>\n",
              "      <td>Balto (1995)</td>\n",
              "      <td>Animation|Children's</td>\n",
              "    </tr>\n",
              "    <tr>\n",
              "      <th>47</th>\n",
              "      <td>48</td>\n",
              "      <td>Pocahontas (1995)</td>\n",
              "      <td>Animation|Children's|Musical|Romance</td>\n",
              "    </tr>\n",
              "    <tr>\n",
              "      <th>236</th>\n",
              "      <td>239</td>\n",
              "      <td>Goofy Movie, A (1995)</td>\n",
              "      <td>Animation|Children's|Comedy|Romance</td>\n",
              "    </tr>\n",
              "    <tr>\n",
              "      <th>241</th>\n",
              "      <td>244</td>\n",
              "      <td>Gumby: The Movie (1995)</td>\n",
              "      <td>Animation|Children's</td>\n",
              "    </tr>\n",
              "  </tbody>\n",
              "</table>\n",
              "</div>\n",
              "      <button class=\"colab-df-convert\" onclick=\"convertToInteractive('df-7521f8a7-27e4-4a78-b84d-1cb6d95849c8')\"\n",
              "              title=\"Convert this dataframe to an interactive table.\"\n",
              "              style=\"display:none;\">\n",
              "        \n",
              "  <svg xmlns=\"http://www.w3.org/2000/svg\" height=\"24px\"viewBox=\"0 0 24 24\"\n",
              "       width=\"24px\">\n",
              "    <path d=\"M0 0h24v24H0V0z\" fill=\"none\"/>\n",
              "    <path d=\"M18.56 5.44l.94 2.06.94-2.06 2.06-.94-2.06-.94-.94-2.06-.94 2.06-2.06.94zm-11 1L8.5 8.5l.94-2.06 2.06-.94-2.06-.94L8.5 2.5l-.94 2.06-2.06.94zm10 10l.94 2.06.94-2.06 2.06-.94-2.06-.94-.94-2.06-.94 2.06-2.06.94z\"/><path d=\"M17.41 7.96l-1.37-1.37c-.4-.4-.92-.59-1.43-.59-.52 0-1.04.2-1.43.59L10.3 9.45l-7.72 7.72c-.78.78-.78 2.05 0 2.83L4 21.41c.39.39.9.59 1.41.59.51 0 1.02-.2 1.41-.59l7.78-7.78 2.81-2.81c.8-.78.8-2.07 0-2.86zM5.41 20L4 18.59l7.72-7.72 1.47 1.35L5.41 20z\"/>\n",
              "  </svg>\n",
              "      </button>\n",
              "      \n",
              "  <style>\n",
              "    .colab-df-container {\n",
              "      display:flex;\n",
              "      flex-wrap:wrap;\n",
              "      gap: 12px;\n",
              "    }\n",
              "\n",
              "    .colab-df-convert {\n",
              "      background-color: #E8F0FE;\n",
              "      border: none;\n",
              "      border-radius: 50%;\n",
              "      cursor: pointer;\n",
              "      display: none;\n",
              "      fill: #1967D2;\n",
              "      height: 32px;\n",
              "      padding: 0 0 0 0;\n",
              "      width: 32px;\n",
              "    }\n",
              "\n",
              "    .colab-df-convert:hover {\n",
              "      background-color: #E2EBFA;\n",
              "      box-shadow: 0px 1px 2px rgba(60, 64, 67, 0.3), 0px 1px 3px 1px rgba(60, 64, 67, 0.15);\n",
              "      fill: #174EA6;\n",
              "    }\n",
              "\n",
              "    [theme=dark] .colab-df-convert {\n",
              "      background-color: #3B4455;\n",
              "      fill: #D2E3FC;\n",
              "    }\n",
              "\n",
              "    [theme=dark] .colab-df-convert:hover {\n",
              "      background-color: #434B5C;\n",
              "      box-shadow: 0px 1px 3px 1px rgba(0, 0, 0, 0.15);\n",
              "      filter: drop-shadow(0px 1px 2px rgba(0, 0, 0, 0.3));\n",
              "      fill: #FFFFFF;\n",
              "    }\n",
              "  </style>\n",
              "\n",
              "      <script>\n",
              "        const buttonEl =\n",
              "          document.querySelector('#df-7521f8a7-27e4-4a78-b84d-1cb6d95849c8 button.colab-df-convert');\n",
              "        buttonEl.style.display =\n",
              "          google.colab.kernel.accessAllowed ? 'block' : 'none';\n",
              "\n",
              "        async function convertToInteractive(key) {\n",
              "          const element = document.querySelector('#df-7521f8a7-27e4-4a78-b84d-1cb6d95849c8');\n",
              "          const dataTable =\n",
              "            await google.colab.kernel.invokeFunction('convertToInteractive',\n",
              "                                                     [key], {});\n",
              "          if (!dataTable) return;\n",
              "\n",
              "          const docLinkHtml = 'Like what you see? Visit the ' +\n",
              "            '<a target=\"_blank\" href=https://colab.research.google.com/notebooks/data_table.ipynb>data table notebook</a>'\n",
              "            + ' to learn more about interactive tables.';\n",
              "          element.innerHTML = '';\n",
              "          dataTable['output_type'] = 'display_data';\n",
              "          await google.colab.output.renderOutput(dataTable, element);\n",
              "          const docLink = document.createElement('div');\n",
              "          docLink.innerHTML = docLinkHtml;\n",
              "          element.appendChild(docLink);\n",
              "        }\n",
              "      </script>\n",
              "    </div>\n",
              "  </div>\n",
              "  "
            ]
          },
          "metadata": {},
          "execution_count": 129
        }
      ]
    },
    {
      "cell_type": "code",
      "source": [
        "len(animations)"
      ],
      "metadata": {
        "colab": {
          "base_uri": "https://localhost:8080/"
        },
        "id": "OYKijHGb5ZAS",
        "outputId": "53de4b3b-f655-43d5-cb2d-258562687cef"
      },
      "execution_count": null,
      "outputs": [
        {
          "output_type": "execute_result",
          "data": {
            "text/plain": [
              "105"
            ]
          },
          "metadata": {},
          "execution_count": 130
        }
      ]
    },
    {
      "cell_type": "code",
      "source": [
        "animations.info() # 마찬가지로 105개의 entry가 있는것을 확인 할 수 있음."
      ],
      "metadata": {
        "colab": {
          "base_uri": "https://localhost:8080/"
        },
        "id": "BCS8aHtZ5cAn",
        "outputId": "0b6c0cf7-c11a-447d-f84f-1636934b8242"
      },
      "execution_count": null,
      "outputs": [
        {
          "output_type": "stream",
          "name": "stdout",
          "text": [
            "<class 'pandas.core.frame.DataFrame'>\n",
            "Int64Index: 105 entries, 0 to 3875\n",
            "Data columns (total 3 columns):\n",
            " #   Column    Non-Null Count  Dtype \n",
            "---  ------    --------------  ----- \n",
            " 0   movie_id  105 non-null    int64 \n",
            " 1   title     105 non-null    object\n",
            " 2   genres    105 non-null    object\n",
            "dtypes: int64(1), object(2)\n",
            "memory usage: 3.3+ KB\n"
          ]
        }
      ]
    },
    {
      "cell_type": "markdown",
      "source": [
        "## 장르 분석 - 로멘틱 코미디 찾기"
      ],
      "metadata": {
        "id": "qBK3sR6s5wzU"
      }
    },
    {
      "cell_type": "code",
      "source": [
        "romantic_comedies = movies[movies.genres.str.contains('Romance') & \n",
        "                           movies.genres.str.contains('Comedy')]\n",
        "\n",
        "romantic_comedies.head()"
      ],
      "metadata": {
        "colab": {
          "base_uri": "https://localhost:8080/",
          "height": 206
        },
        "id": "IH03AaJK5wjD",
        "outputId": "7ee40e43-a292-4612-c5c5-7f619b9ee78d"
      },
      "execution_count": null,
      "outputs": [
        {
          "output_type": "execute_result",
          "data": {
            "text/plain": [
              "    movie_id                           title                genres\n",
              "2          3         Grumpier Old Men (1995)        Comedy|Romance\n",
              "6          7                  Sabrina (1995)        Comedy|Romance\n",
              "10        11  American President, The (1995)  Comedy|Drama|Romance\n",
              "38        39                 Clueless (1995)        Comedy|Romance\n",
              "63        64            Two if by Sea (1996)        Comedy|Romance"
            ],
            "text/html": [
              "\n",
              "  <div id=\"df-61aa03fe-d5aa-4305-b4a5-b15390d59473\">\n",
              "    <div class=\"colab-df-container\">\n",
              "      <div>\n",
              "<style scoped>\n",
              "    .dataframe tbody tr th:only-of-type {\n",
              "        vertical-align: middle;\n",
              "    }\n",
              "\n",
              "    .dataframe tbody tr th {\n",
              "        vertical-align: top;\n",
              "    }\n",
              "\n",
              "    .dataframe thead th {\n",
              "        text-align: right;\n",
              "    }\n",
              "</style>\n",
              "<table border=\"1\" class=\"dataframe\">\n",
              "  <thead>\n",
              "    <tr style=\"text-align: right;\">\n",
              "      <th></th>\n",
              "      <th>movie_id</th>\n",
              "      <th>title</th>\n",
              "      <th>genres</th>\n",
              "    </tr>\n",
              "  </thead>\n",
              "  <tbody>\n",
              "    <tr>\n",
              "      <th>2</th>\n",
              "      <td>3</td>\n",
              "      <td>Grumpier Old Men (1995)</td>\n",
              "      <td>Comedy|Romance</td>\n",
              "    </tr>\n",
              "    <tr>\n",
              "      <th>6</th>\n",
              "      <td>7</td>\n",
              "      <td>Sabrina (1995)</td>\n",
              "      <td>Comedy|Romance</td>\n",
              "    </tr>\n",
              "    <tr>\n",
              "      <th>10</th>\n",
              "      <td>11</td>\n",
              "      <td>American President, The (1995)</td>\n",
              "      <td>Comedy|Drama|Romance</td>\n",
              "    </tr>\n",
              "    <tr>\n",
              "      <th>38</th>\n",
              "      <td>39</td>\n",
              "      <td>Clueless (1995)</td>\n",
              "      <td>Comedy|Romance</td>\n",
              "    </tr>\n",
              "    <tr>\n",
              "      <th>63</th>\n",
              "      <td>64</td>\n",
              "      <td>Two if by Sea (1996)</td>\n",
              "      <td>Comedy|Romance</td>\n",
              "    </tr>\n",
              "  </tbody>\n",
              "</table>\n",
              "</div>\n",
              "      <button class=\"colab-df-convert\" onclick=\"convertToInteractive('df-61aa03fe-d5aa-4305-b4a5-b15390d59473')\"\n",
              "              title=\"Convert this dataframe to an interactive table.\"\n",
              "              style=\"display:none;\">\n",
              "        \n",
              "  <svg xmlns=\"http://www.w3.org/2000/svg\" height=\"24px\"viewBox=\"0 0 24 24\"\n",
              "       width=\"24px\">\n",
              "    <path d=\"M0 0h24v24H0V0z\" fill=\"none\"/>\n",
              "    <path d=\"M18.56 5.44l.94 2.06.94-2.06 2.06-.94-2.06-.94-.94-2.06-.94 2.06-2.06.94zm-11 1L8.5 8.5l.94-2.06 2.06-.94-2.06-.94L8.5 2.5l-.94 2.06-2.06.94zm10 10l.94 2.06.94-2.06 2.06-.94-2.06-.94-.94-2.06-.94 2.06-2.06.94z\"/><path d=\"M17.41 7.96l-1.37-1.37c-.4-.4-.92-.59-1.43-.59-.52 0-1.04.2-1.43.59L10.3 9.45l-7.72 7.72c-.78.78-.78 2.05 0 2.83L4 21.41c.39.39.9.59 1.41.59.51 0 1.02-.2 1.41-.59l7.78-7.78 2.81-2.81c.8-.78.8-2.07 0-2.86zM5.41 20L4 18.59l7.72-7.72 1.47 1.35L5.41 20z\"/>\n",
              "  </svg>\n",
              "      </button>\n",
              "      \n",
              "  <style>\n",
              "    .colab-df-container {\n",
              "      display:flex;\n",
              "      flex-wrap:wrap;\n",
              "      gap: 12px;\n",
              "    }\n",
              "\n",
              "    .colab-df-convert {\n",
              "      background-color: #E8F0FE;\n",
              "      border: none;\n",
              "      border-radius: 50%;\n",
              "      cursor: pointer;\n",
              "      display: none;\n",
              "      fill: #1967D2;\n",
              "      height: 32px;\n",
              "      padding: 0 0 0 0;\n",
              "      width: 32px;\n",
              "    }\n",
              "\n",
              "    .colab-df-convert:hover {\n",
              "      background-color: #E2EBFA;\n",
              "      box-shadow: 0px 1px 2px rgba(60, 64, 67, 0.3), 0px 1px 3px 1px rgba(60, 64, 67, 0.15);\n",
              "      fill: #174EA6;\n",
              "    }\n",
              "\n",
              "    [theme=dark] .colab-df-convert {\n",
              "      background-color: #3B4455;\n",
              "      fill: #D2E3FC;\n",
              "    }\n",
              "\n",
              "    [theme=dark] .colab-df-convert:hover {\n",
              "      background-color: #434B5C;\n",
              "      box-shadow: 0px 1px 3px 1px rgba(0, 0, 0, 0.15);\n",
              "      filter: drop-shadow(0px 1px 2px rgba(0, 0, 0, 0.3));\n",
              "      fill: #FFFFFF;\n",
              "    }\n",
              "  </style>\n",
              "\n",
              "      <script>\n",
              "        const buttonEl =\n",
              "          document.querySelector('#df-61aa03fe-d5aa-4305-b4a5-b15390d59473 button.colab-df-convert');\n",
              "        buttonEl.style.display =\n",
              "          google.colab.kernel.accessAllowed ? 'block' : 'none';\n",
              "\n",
              "        async function convertToInteractive(key) {\n",
              "          const element = document.querySelector('#df-61aa03fe-d5aa-4305-b4a5-b15390d59473');\n",
              "          const dataTable =\n",
              "            await google.colab.kernel.invokeFunction('convertToInteractive',\n",
              "                                                     [key], {});\n",
              "          if (!dataTable) return;\n",
              "\n",
              "          const docLinkHtml = 'Like what you see? Visit the ' +\n",
              "            '<a target=\"_blank\" href=https://colab.research.google.com/notebooks/data_table.ipynb>data table notebook</a>'\n",
              "            + ' to learn more about interactive tables.';\n",
              "          element.innerHTML = '';\n",
              "          dataTable['output_type'] = 'display_data';\n",
              "          await google.colab.output.renderOutput(dataTable, element);\n",
              "          const docLink = document.createElement('div');\n",
              "          docLink.innerHTML = docLinkHtml;\n",
              "          element.appendChild(docLink);\n",
              "        }\n",
              "      </script>\n",
              "    </div>\n",
              "  </div>\n",
              "  "
            ]
          },
          "metadata": {},
          "execution_count": 132
        }
      ]
    },
    {
      "cell_type": "code",
      "source": [
        "len(romantic_comedies)"
      ],
      "metadata": {
        "colab": {
          "base_uri": "https://localhost:8080/"
        },
        "id": "wjgnoARQ6XcQ",
        "outputId": "da79573a-3134-431b-b699-315bfa0413d7"
      },
      "execution_count": null,
      "outputs": [
        {
          "output_type": "execute_result",
          "data": {
            "text/plain": [
              "204"
            ]
          },
          "metadata": {},
          "execution_count": 133
        }
      ]
    },
    {
      "cell_type": "markdown",
      "source": [
        "## 장르 분석 - 가장 빈번한 장르"
      ],
      "metadata": {
        "id": "tW3TSHa76qDZ"
      }
    },
    {
      "cell_type": "code",
      "source": [
        "genres = [] # 개별 영화의 장르를 저장할 리스트\n",
        "for s in movies.genres:\n",
        "    genres.extend(s.split(sep='|')) # 여기서 append를 한다면, 2차원 배열이 되면 갯수 세기가 애매해 진다. extend를 사용하자\n",
        "    # 1차원 리스트를 만들기 위해서 extend를 사용한다."
      ],
      "metadata": {
        "id": "xDVfcgqq6s7W"
      },
      "execution_count": null,
      "outputs": []
    },
    {
      "cell_type": "code",
      "source": [
        "print(genres)"
      ],
      "metadata": {
        "colab": {
          "base_uri": "https://localhost:8080/"
        },
        "id": "Vr0USIBl7ae-",
        "outputId": "a604c214-ad20-4600-9685-202182d7a2ac"
      },
      "execution_count": null,
      "outputs": [
        {
          "output_type": "stream",
          "name": "stdout",
          "text": [
            "['Animation', \"Children's\", 'Comedy', 'Adventure', \"Children's\", 'Fantasy', 'Comedy', 'Romance', 'Comedy', 'Drama', 'Comedy', 'Action', 'Crime', 'Thriller', 'Comedy', 'Romance', 'Adventure', \"Children's\", 'Action', 'Action', 'Adventure', 'Thriller', 'Comedy', 'Drama', 'Romance', 'Comedy', 'Horror', 'Animation', \"Children's\", 'Drama', 'Action', 'Adventure', 'Romance', 'Drama', 'Thriller', 'Drama', 'Romance', 'Thriller', 'Comedy', 'Action', 'Action', 'Comedy', 'Drama', 'Crime', 'Drama', 'Thriller', 'Thriller', 'Drama', 'Sci-Fi', 'Drama', 'Romance', 'Drama', 'Drama', 'Romance', 'Adventure', 'Sci-Fi', 'Drama', 'Drama', 'Drama', 'Sci-Fi', 'Adventure', 'Romance', \"Children's\", 'Comedy', 'Drama', 'Drama', 'Romance', 'Drama', 'Documentary', 'Comedy', 'Comedy', 'Romance', 'Drama', 'Drama', 'War', 'Action', 'Crime', 'Drama', 'Drama', 'Action', 'Adventure', 'Comedy', 'Drama', 'Drama', 'Romance', 'Crime', 'Thriller', 'Animation', \"Children's\", 'Musical', 'Romance', 'Drama', 'Romance', 'Crime', 'Thriller', 'Action', 'Drama', 'Thriller', 'Comedy', 'Drama', \"Children's\", 'Comedy', 'Drama', 'Adventure', \"Children's\", 'Fantasy', 'Drama', 'Drama', 'Romance', 'Drama', 'Mystery', 'Adventure', \"Children's\", 'Fantasy', 'Drama', 'Thriller', 'Drama', 'Comedy', 'Comedy', 'Romance', 'Comedy', 'Sci-Fi', 'Thriller', 'Drama', 'Comedy', 'Romance', 'Comedy', 'Action', 'Comedy', 'Crime', 'Horror', 'Thriller', 'Action', 'Comedy', 'Drama', 'Drama', 'Musical', 'Drama', 'Romance', 'Comedy', 'Drama', 'Sci-Fi', 'Thriller', 'Documentary', 'Drama', 'Drama', 'Thriller', 'Drama', 'Crime', 'Drama', 'Romance', 'Drama', 'Drama', 'Comedy', 'Drama', 'Drama', 'Romance', 'Adventure', 'Drama', \"Children's\", 'Comedy', 'Comedy', 'Action', 'Thriller', 'Drama', 'Drama', 'Thriller', 'Comedy', 'Romance', 'Drama', 'Action', 'Thriller', 'Comedy', 'Drama', 'Action', 'Thriller', 'Documentary', 'Drama', 'Thriller', 'Comedy', 'Comedy', 'Thriller', 'Comedy', 'Drama', 'Romance', 'Comedy', 'Drama', 'Adventure', \"Children's\", 'Comedy', 'Musical', 'Documentary', 'Comedy', 'Action', 'Drama', 'War', 'Drama', 'Thriller', 'Action', 'Adventure', 'Crime', 'Drama', 'Mystery', 'Drama', 'Comedy', 'Documentary', 'Crime', 'Comedy', 'Romance', 'Comedy', 'Drama', 'Drama', 'Comedy', 'Romance', 'Drama', 'Mystery', 'Romance', 'Drama', 'Comedy', 'Adventure', \"Children's\", 'Fantasy', 'Drama', 'Documentary', 'Comedy', 'Romance', 'Drama', 'Drama', 'Romance', 'Thriller', 'Comedy', 'Drama', 'Documentary', 'Comedy', 'Documentary', 'Documentary', 'Drama', 'Action', 'Drama', 'Drama', 'Romance', 'Comedy', 'Drama', 'Drama', 'Comedy', 'Action', 'Adventure', \"Children's\", 'Drama', 'Drama', 'Crime', 'Drama', 'Thriller', 'Drama', 'Drama', 'Romance', 'War', 'Horror', 'Action', 'Adventure', 'Comedy', 'Crime', 'Drama', 'Drama', 'War', 'Comedy', 'Comedy', 'War', 'Adventure', \"Children's\", 'Drama', 'Action', 'Adventure', 'Mystery', 'Sci-Fi', 'Drama', 'Thriller', 'War', 'Documentary', 'Action', 'Romance', 'Thriller', 'Crime', 'Film-Noir', 'Mystery', 'Thriller', 'Action', 'Thriller', 'Comedy', 'Drama', 'Drama', 'Action', 'Adventure', 'Drama', 'Romance', 'Adventure', \"Children's\", 'Drama', 'Action', 'Crime', 'Thriller', 'Comedy', 'Action', 'Sci-Fi', 'Thriller', 'Action', 'Adventure', 'Sci-Fi', 'Comedy', 'Drama', 'Comedy', 'Horror', 'Comedy', 'Drama', 'Romance', 'Comedy', 'Action', \"Children's\", 'Drama', 'Romance', 'Thriller', 'Drama', 'Sci-Fi', 'Thriller', 'Comedy', 'Comedy', 'Horror', 'Comedy', 'Thriller', 'Drama', 'Documentary', 'Drama', 'Drama', 'Comedy', 'Drama', 'Romance', 'Horror', 'Sci-Fi', 'Drama', 'Action', 'Crime', 'Sci-Fi', 'Drama', 'Musical', 'Thriller', 'Drama', 'Drama', 'Romance', 'Comedy', 'Action', 'Comedy', 'Drama', 'Documentary', 'Drama', 'Romance', 'Action', 'Adventure', 'Drama', 'Western', 'Drama', 'Comedy', 'Drama', 'Drama', 'Drama', 'Romance', 'Comedy', 'Drama', 'Thriller', 'Comedy', 'Drama', 'Drama', 'Horror', 'Drama', 'Romance', 'Comedy', 'Comedy', 'Drama', 'Romance', 'Drama', 'Thriller', 'Thriller', 'Action', 'Comedy', 'Drama', 'Thriller', 'Drama', 'Thriller', 'Comedy', 'Comedy', 'Drama', 'Drama', 'Comedy', 'Comedy', 'Drama', 'Comedy', 'Romance', 'Comedy', 'Romance', 'Adventure', \"Children's\", 'Animation', \"Children's\", 'Comedy', 'Romance', 'Thriller', \"Children's\", 'Drama', 'Drama', 'Musical', 'Comedy', 'Animation', \"Children's\", 'Crime', 'Drama', 'Documentary', 'Drama', 'Fantasy', 'Romance', 'Thriller', 'Comedy', 'Drama', 'Romance', \"Children's\", 'Comedy', 'Action', 'Comedy', 'Romance', 'Drama', 'Horror', 'Drama', 'Comedy', 'Comedy', 'Sci-Fi', 'Mystery', 'Thriller', 'Adventure', \"Children's\", 'Comedy', 'Fantasy', 'Romance', 'Crime', 'Drama', 'Thriller', 'Action', 'Adventure', 'Fantasy', 'Sci-Fi', 'Drama', \"Children's\", 'Drama', 'Drama', 'Drama', 'Drama', 'Romance', 'Drama', 'Romance', 'War', 'Western', 'Comedy', 'Drama', 'Drama', 'Drama', 'Romance', 'Drama', 'Drama', 'Drama', 'Horror', 'Comedy', 'Comedy', 'Comedy', 'Romance', 'Drama', 'Comedy', 'Drama', 'Drama', 'Thriller', 'Drama', 'Drama', 'Crime', 'Drama', 'Action', 'Crime', 'Drama', 'Horror', 'Action', 'Sci-Fi', 'Thriller', 'Comedy', 'Romance', 'Action', 'Thriller', 'Comedy', 'Romance', 'Crime', 'Drama', 'Thriller', 'Action', 'Drama', 'Thriller', 'Crime', 'Drama', 'Romance', 'Thriller', 'Comedy', 'Romance', 'Comedy', 'Romance', 'Crime', 'Drama', 'Drama', 'Comedy', 'Drama', 'Drama', 'Drama', 'Romance', 'Drama', 'Romance', 'Action', 'Adventure', 'Western', 'Comedy', 'Drama', 'Comedy', 'Drama', 'Drama', 'Drama', 'Drama', 'Comedy', 'Horror', 'Thriller', 'Comedy', 'Animation', \"Children's\", 'Drama', 'Action', 'Action', 'Adventure', 'Sci-Fi', \"Children's\", 'Comedy', 'Fantasy', 'Drama', 'Thriller', 'Film-Noir', 'Thriller', 'Drama', 'Comedy', 'Drama', 'Comedy', 'Comedy', 'Drama', 'Action', 'Comedy', 'Musical', 'Sci-Fi', 'Horror', 'Action', 'Adventure', 'Sci-Fi', 'Comedy', 'Horror', 'Drama', 'Horror', 'Sci-Fi', 'Comedy', 'Drama', 'Mystery', 'Thriller', 'Drama', 'War', 'Drama', 'Sci-Fi', 'Thriller', 'Comedy', 'Romance', 'Adventure', 'Drama', 'Drama', 'Comedy', 'Romance', \"Children's\", 'Comedy', 'Comedy', 'Drama', 'Drama', 'Musical', 'Drama', 'Comedy', 'Action', 'Adventure', 'Thriller', 'Drama', 'Mystery', 'Thriller', 'Comedy', 'Drama', 'Romance', 'Comedy', 'Action', 'Romance', 'Thriller', 'Drama', \"Children's\", 'Comedy', 'Comedy', 'Romance', 'War', 'Comedy', 'Romance', 'Drama', 'Comedy', 'Drama', 'Romance', 'Action', 'Comedy', 'Drama', 'Romance', 'Adventure', \"Children's\", 'Romance', 'Documentary', 'Animation', \"Children's\", 'Musical', 'Drama', 'Horror', 'Comedy', 'Crime', 'Fantasy', 'Action', 'Comedy', 'Western', 'Drama', 'Comedy', 'Comedy', 'Drama', 'Comedy', 'Drama', 'Thriller', \"Children's\", 'Comedy', 'Drama', 'Action', 'Thriller', 'Action', 'Romance', 'Thriller', 'Comedy', 'Romance', 'Action', 'Sci-Fi', 'Action', 'Adventure', 'Comedy', 'Romance', 'Drama', 'Drama', 'Horror', 'Western', 'Action', 'Drama', 'Drama', 'Action', 'Comedy', 'Drama', 'Drama', 'Romance', 'War', 'Action', 'Comedy', 'Drama', 'Crime', 'Drama', 'Adventure', \"Children's\", 'Action', 'Action', 'Drama', 'Drama', 'Horror', 'Documentary', 'Drama', 'Drama', 'Action', 'Thriller', 'Comedy', 'Comedy', 'Crime', 'Drama', 'Documentary', 'Action', 'Sci-Fi', 'Drama', 'Horror', 'Thriller', 'Drama', 'Drama', 'Comedy', 'Comedy', 'Drama', 'Comedy', 'Comedy', 'Comedy', 'Thriller', 'Western', 'Comedy', 'Romance', 'Drama', 'Comedy', 'Action', 'Comedy', 'Adventure', \"Children's\", 'Thriller', 'Action', 'Thriller', 'Drama', 'Drama', 'Romance', 'Horror', 'Sci-Fi', 'Thriller', 'Mystery', 'Romance', 'Thriller', 'Drama', 'Comedy', 'Drama', 'Crime', 'Drama', 'Comedy', 'Western', 'Comedy', 'Action', 'Adventure', 'Crime', 'Comedy', 'Sci-Fi', 'Drama', 'Thriller', 'Comedy', 'Action', 'Comedy', 'Drama', 'Comedy', 'Romance', 'Comedy', 'Action', 'Sci-Fi', 'Documentary', 'Comedy', 'Romance', 'Comedy', 'Drama', 'Romance', 'Comedy', 'Romance', 'Drama', 'Comedy', 'Comedy', 'Drama', 'Drama', 'Mystery', 'Romance', 'Drama', 'Comedy', 'Drama', 'Thriller', 'Adventure', \"Children's\", 'Drama', 'Drama', 'Action', 'Thriller', 'Drama', 'Western', 'Action', 'Comedy', 'Drama', 'Romance', 'Action', 'Adventure', 'Crime', 'Drama', 'Thriller', 'Action', 'Adventure', 'Crime', 'Thriller', 'Action', 'Drama', 'War', 'Action', 'Comedy', 'War', 'Comedy', 'Comedy', 'Romance', 'Drama', 'Romance', 'Comedy', 'Comedy', 'Romance', 'Comedy', 'Drama', 'Comedy', 'War', 'Action', 'Thriller', 'Drama', 'Comedy', 'Drama', 'Drama', 'Comedy', 'Action', 'Action', 'Adventure', 'Sci-Fi', 'Drama', 'Thriller', 'Thriller', 'Drama', 'Adventure', \"Children's\", 'Action', 'Comedy', 'Comedy', 'Comedy', 'Western', 'Drama', 'Comedy', 'Thriller', 'Drama', 'Comedy', 'Mystery', 'Action', 'Crime', 'Drama', 'Action', 'Thriller', 'Drama', 'Comedy', 'Drama', 'Romance', 'Comedy', 'Romance', 'Drama', 'Romance', 'Comedy', 'Romance', 'Comedy', 'Drama', 'Action', \"Children's\", 'Drama', 'Action', 'Sci-Fi', 'Comedy', 'Drama', 'Action', 'Drama', 'Drama', 'Drama', 'Romance', 'Drama', 'Action', 'Drama', 'Horror', 'Sci-Fi', 'Comedy', 'Mystery', 'Romance', 'Comedy', 'Drama', 'Comedy', 'Drama', 'War', 'Action', 'Drama', 'Mystery', 'Comedy', 'Sci-Fi', 'Thriller', 'Comedy', 'Crime', 'Thriller', 'Action', 'Drama', 'Drama', 'Drama', 'Drama', 'Drama', 'Drama', 'War', 'Drama', 'Drama', 'Drama', \"Children's\", 'Drama', 'Comedy', 'Crime', 'Horror', 'Action', 'Drama', 'Romance', 'Drama', 'Drama', 'Comedy', 'Drama', 'Drama', 'Comedy', 'Romance', 'Thriller', 'Film-Noir', 'Sci-Fi', 'Comedy', 'Comedy', 'Romance', 'Thriller', 'Action', 'Drama', 'Action', 'Adventure', \"Children's\", 'Sci-Fi', 'Action', 'Adventure', 'Thriller', 'Action', 'Documentary', 'Comedy', 'Romance', \"Children's\", 'Comedy', 'Musical', 'Action', 'Adventure', 'Comedy', 'Western', 'Thriller', 'Action', 'Crime', 'Romance', 'Documentary', 'Drama', 'Action', 'Adventure', 'Animation', \"Children's\", 'Fantasy', 'Comedy', 'Drama', 'Thriller', 'Comedy', 'Drama', 'Drama', 'Comedy', 'Horror', 'Comedy', 'Romance', 'Drama', 'Comedy', 'Drama', \"Children's\", 'Comedy', 'Comedy', 'Drama', 'Drama', 'Drama', 'Drama', 'Comedy', 'Drama', \"Children's\", 'Comedy', 'Comedy', 'Adventure', \"Children's\", 'Drama', 'Mystery', 'Thriller', 'Drama', 'Documentary', 'Comedy', 'Comedy', 'Drama', 'Drama', 'Comedy', \"Children's\", 'Comedy', 'Comedy', 'Romance', 'Thriller', 'Animation', \"Children's\", 'Comedy', 'Musical', 'Action', 'Sci-Fi', 'Thriller', 'Adventure', 'Drama', 'Western', 'Action', 'Drama', 'Thriller', 'Action', 'Adventure', 'Crime', 'Drama', 'Drama', 'Thriller', 'Animation', \"Children's\", 'Musical', 'Animation', \"Children's\", 'Musical', 'Animation', \"Children's\", 'Comedy', 'Romance', 'Comedy', 'Western', 'Thriller', 'Drama', 'Documentary', 'Comedy', 'Documentary', 'Drama', 'Romance', 'Horror', 'Drama', 'Crime', 'Drama', 'Thriller', 'Adventure', \"Children's\", 'Action', 'Adventure', 'Animation', 'Horror', 'Sci-Fi', 'Action', 'Horror', 'Sci-Fi', 'Comedy', 'Drama', 'Romance', 'Drama', 'Thriller', 'Drama', 'Animation', \"Children's\", 'Drama', 'Comedy', 'Romance', 'Comedy', 'Drama', 'Drama', 'Romance', 'Action', 'Drama', 'Thriller', 'Drama', 'Comedy', 'Drama', 'Thriller', 'Drama', 'Thriller', 'Drama', 'Drama', 'Romance', 'Animation', \"Children's\", 'Musical', 'War', 'Comedy', 'Comedy', 'Comedy', 'Drama', 'Drama', 'Comedy', 'Romance', 'Comedy', 'Drama', 'Thriller', 'Comedy', 'Drama', 'Comedy', 'Comedy', 'Drama', 'Drama', 'War', 'Action', 'Adventure', 'Mystery', 'Comedy', 'Drama', 'Drama', 'Comedy', 'Mystery', 'Action', 'Adventure', 'Fantasy', 'Drama', 'Romance', 'Comedy', 'Comedy', 'Comedy', 'Drama', 'Drama', 'Crime', 'Thriller', 'Drama', 'Animation', \"Children's\", 'Musical', 'Thriller', 'Comedy', 'Comedy', 'War', 'Drama', 'Action', 'Drama', 'Drama', 'Drama', 'Comedy', 'Sci-Fi', 'Drama', 'Adventure', 'Animation', \"Children's\", 'Comedy', 'Fantasy', 'Adventure', 'Sci-Fi', 'Action', 'Drama', 'Thriller', 'Drama', 'Drama', 'Thriller', 'Drama', 'Sci-Fi', 'Crime', 'Documentary', 'Drama', 'Documentary', 'Drama', 'Drama', 'Drama', 'Romance', 'Action', 'Adventure', 'Comedy', 'War', 'Romance', 'Comedy', 'Romance', 'Action', 'Sci-Fi', 'Thriller', 'Drama', 'Action', 'Mystery', 'Thriller', 'Thriller', 'Drama', 'Romance', 'Drama', 'Drama', 'Comedy', 'Drama', 'Drama', 'Drama', 'Action', 'Adventure', 'Comedy', 'Drama', 'Crime', 'Film-Noir', 'Thriller', 'Comedy', 'Romance', 'Animation', \"Children's\", 'Comedy', 'Adventure', \"Children's\", 'Drama', 'Drama', 'Western', 'Drama', 'Crime', 'Comedy', 'Comedy', 'Sci-Fi', 'Comedy', 'Animation', 'Drama', 'Documentary', 'Drama', 'Drama', 'Horror', 'Comedy', 'Drama', 'Documentary', 'Comedy', 'Drama', 'Drama', 'Mystery', 'Thriller', 'Crime', 'Action', 'Adventure', 'Thriller', 'Comedy', 'Comedy', 'Horror', 'Action', 'Adventure', 'Romance', 'Thriller', 'Action', 'Sci-Fi', 'Drama', 'Comedy', 'Animation', 'Sci-Fi', 'Horror', 'Thriller', 'Comedy', 'Drama', 'Animation', 'Comedy', 'Thriller', 'Film-Noir', 'Comedy', 'Action', 'Sci-Fi', 'Thriller', 'Drama', 'Sci-Fi', 'War', 'Comedy', 'Comedy', 'Romance', 'Comedy', 'Drama', 'Adventure', \"Children's\", \"Children's\", 'Drama', 'Documentary', 'Drama', 'Drama', 'Documentary', 'War', 'Adventure', 'Comedy', 'Crime', 'Drama', 'Drama', 'Romance', 'Comedy', 'Drama', 'Drama', 'Drama', 'Drama', 'Documentary', 'Drama', 'Comedy', 'Drama', 'Comedy', 'Drama', 'Drama', 'Horror', 'Comedy', 'Drama', 'War', 'Drama', 'Drama', 'Romance', 'Action', 'Sci-Fi', 'War', 'Drama', 'Thriller', 'Animation', \"Children's\", 'Musical', 'Comedy', 'Comedy', 'Action', 'Thriller', 'Documentary', 'Comedy', 'Fantasy', 'Romance', 'Sci-Fi', 'Drama', 'Drama', 'Documentary', 'Fantasy', 'Drama', 'Comedy', 'Drama', 'Drama', 'Drama', 'Comedy', 'Action', 'Adventure', 'Thriller', 'Comedy', 'Horror', 'Drama', 'Mystery', \"Children's\", 'Comedy', 'Drama', 'Romance', 'Romance', 'Comedy', 'Romance', 'Drama', 'Drama', 'Comedy', 'Romance', 'Adventure', \"Children's\", 'Action', 'Adventure', \"Children's\", 'Comedy', 'Fantasy', 'Comedy', 'Drama', 'Comedy', 'Drama', 'Action', 'Mystery', 'Thriller', 'Drama', 'Comedy', 'Comedy', 'Drama', 'Drama', 'Romance', 'Drama', 'Drama', 'Drama', 'Comedy', 'Romance', 'Drama', 'Drama', 'Adventure', \"Children's\", 'Comedy', 'Musical', 'Comedy', 'Drama', 'Drama', 'Thriller', 'Comedy', 'Comedy', 'Drama', 'Action', 'Adventure', 'Thriller', \"Children's\", 'Comedy', 'Comedy', 'Drama', 'Romance', 'Action', 'Thriller', 'Comedy', 'Horror', 'Horror', 'Drama', 'Drama', 'Drama', 'Drama', 'Comedy', 'Drama', 'Drama', 'Action', 'Adventure', 'Sci-Fi', 'Thriller', 'Crime', 'Drama', 'Drama', 'Comedy', 'Romance', 'Drama', 'Drama', 'Drama', 'Comedy', 'Drama', 'Action', 'Crime', 'Drama', 'Documentary', 'Comedy', 'Action', 'Thriller', 'Drama', 'Comedy', 'Comedy', 'Drama', 'Drama', 'Crime', 'Drama', 'Romance', 'Thriller', 'Comedy', 'Crime', 'Comedy', 'Crime', 'Comedy', 'Comedy', 'Drama', 'Drama', 'Crime', 'Drama', 'Drama', 'Action', 'Drama', 'Drama', 'Horror', 'Sci-Fi', 'Thriller', \"Children's\", 'Comedy', 'Drama', 'Thriller', 'Drama', \"Children's\", 'Drama', 'Fantasy', 'Action', 'Drama', 'Animation', \"Children's\", 'Romance', 'Thriller', 'Horror', 'Thriller', 'Comedy', 'Drama', 'Romance', 'Drama', 'Romance', 'Drama', 'Drama', 'Adventure', 'War', 'Comedy', 'Romance', 'Musical', 'Romance', 'Musical', 'Romance', 'Comedy', 'Musical', 'Drama', 'Romance', 'Mystery', 'Thriller', 'Mystery', 'Thriller', 'Comedy', 'Mystery', 'Thriller', 'Comedy', 'Musical', 'Romance', 'Drama', 'Thriller', 'Comedy', 'Drama', 'Comedy', 'Crime', 'Comedy', 'Mystery', 'Romance', 'Thriller', 'Drama', 'Romance', 'War', 'Film-Noir', 'Mystery', 'Musical', 'Romance', 'Comedy', 'Romance', 'Comedy', 'Romance', \"Children's\", 'Drama', 'Musical', 'Adventure', \"Children's\", 'Drama', 'Musical', 'Drama', 'Romance', 'War', 'Comedy', 'Film-Noir', 'Drama', 'Drama', 'Mystery', 'Sci-Fi', 'Thriller', 'Adventure', 'Romance', 'Drama', 'Comedy', 'Romance', 'Thriller', 'Thriller', 'Film-Noir', 'Romance', 'Thriller', 'Mystery', 'Romance', 'Thriller', 'Romance', 'Comedy', 'Romance', 'Thriller', 'Comedy', 'Comedy', 'Musical', 'Comedy', 'Romance', 'Comedy', 'Romance', 'Musical', 'Comedy', 'Drama', 'Action', 'Adventure', 'Adventure', 'Crime', 'Film-Noir', 'Mystery', 'Drama', 'Romance', 'Drama', 'Comedy', 'Musical', 'Romance', 'Comedy', 'Drama', 'War', 'Comedy', 'Drama', 'Drama', 'Mystery', 'Comedy', 'Adventure', 'Comedy', 'Drama', 'Drama', 'Comedy', 'Drama', 'Romance', 'Drama', 'Comedy', 'Mystery', 'Drama', 'Crime', 'Drama', 'Drama', 'Crime', 'Drama', 'Musical', 'Western', 'Thriller', 'Drama', 'Western', 'Horror', 'Sci-Fi', 'Action', 'Adventure', 'Romance', 'War', 'Comedy', 'Drama', 'Drama', 'Drama', 'Drama', 'Drama', 'Romance', 'Comedy', 'Musical', 'Romance', 'War', 'Mystery', 'Drama', 'Drama', 'War', 'Action', 'Drama', 'Drama', 'Romance', 'Comedy', 'Drama', 'Documentary', 'Adventure', \"Children's\", 'Drama', 'Romance', 'Comedy', 'Drama', 'Drama', 'Action', 'Adventure', 'Thriller', 'Drama', 'War', 'Thriller', 'Drama', 'Drama', 'Action', 'Drama', 'Western', 'Drama', 'Thriller', 'Action', 'Crime', 'Crime', 'Crime', 'Comedy', 'Comedy', 'Drama', 'Thriller', 'Action', 'Thriller', \"Children's\", 'Comedy', 'Drama', \"Children's\", 'Comedy', 'Western', 'Western', 'Adventure', \"Children's\", 'Fantasy', \"Children's\", 'Comedy', 'Adventure', \"Children's\", 'Comedy', \"Children's\", 'Drama', \"Children's\", 'Drama', \"Children's\", 'Comedy', 'Drama', 'Adventure', \"Children's\", \"Children's\", 'Comedy', 'Adventure', \"Children's\", \"Children's\", 'Comedy', 'Mystery', 'Adventure', \"Children's\", 'Fantasy', 'Sci-Fi', 'Comedy', \"Children's\", 'Comedy', 'Animation', \"Children's\", 'Musical', 'Animation', \"Children's\", 'Animation', \"Children's\", 'Musical', 'Animation', \"Children's\", \"Children's\", 'Drama', 'Drama', \"Children's\", 'Comedy', 'Musical', 'Animation', \"Children's\", 'Musical', 'Adventure', 'Animation', \"Children's\", 'Musical', 'Adventure', \"Children's\", 'Musical', 'Animation', \"Children's\", 'Musical', 'Animation', \"Children's\", 'Crime', 'Musical', 'Action', 'Thriller', 'Action', 'Sci-Fi', 'Thriller', 'Drama', 'Documentary', 'Drama', 'Drama', 'Comedy', 'Drama', 'Romance', 'Drama', 'Comedy', 'Drama', 'Drama', 'Romance', 'Action', 'Thriller', 'Action', 'Adventure', 'Documentary', 'Drama', 'Drama', 'Drama', 'Crime', 'Drama', 'Drama', 'Thriller', 'Drama', 'Comedy', 'Musical', 'Romance', 'Drama', 'Drama', 'Romance', 'Comedy', 'Drama', 'Crime', 'Drama', 'Drama', 'Drama', 'Animation', \"Children's\", 'Comedy', 'Mystery', 'Comedy', 'Musical', 'Romance', 'Comedy', 'Musical', 'Romance', 'Crime', 'Film-Noir', 'Film-Noir', 'Thriller', 'Adventure', 'Romance', 'War', 'Adventure', \"Children's\", 'Comedy', 'Fantasy', 'Comedy', 'Thriller', 'Comedy', 'Sci-Fi', 'Comedy', 'War', 'Comedy', 'Comedy', 'Comedy', 'Musical', 'Drama', 'Comedy', 'Musical', 'Crime', 'Drama', 'Adventure', 'Drama', 'Mystery', 'Thriller', 'Musical', 'Musical', 'Romance', 'Crime', 'Thriller', 'Drama', 'War', 'Comedy', 'Mystery', 'Thriller', 'Drama', 'Musical', 'Drama', 'Romance', 'War', 'Drama', 'Drama', \"Children's\", 'Drama', 'Fantasy', 'Sci-Fi', 'Comedy', 'Drama', 'Action', 'Romance', 'Action', 'Romance', 'Action', 'Drama', 'Drama', 'Horror', 'Documentary', 'Comedy', 'Documentary', 'Drama', 'Action', 'Documentary', 'Action', 'Drama', 'Comedy', 'Drama', 'Comedy', 'Drama', 'Drama', 'Drama', 'Adventure', 'Western', 'Drama', 'Drama', 'Drama', 'Documentary', 'Documentary', 'Drama', 'Comedy', 'Comedy', 'Fantasy', 'Action', 'Adventure', 'Sci-Fi', 'Thriller', 'Horror', 'Action', 'Adventure', 'Sci-Fi', 'Thriller', 'Horror', 'Drama', 'Drama', 'Comedy', 'Drama', 'Action', 'Drama', 'Comedy', 'Comedy', 'Romance', 'Documentary', 'Drama', 'Drama', 'Drama', 'Drama', 'Comedy', 'Documentary', 'Documentary', 'Comedy', 'Drama', 'Documentary', 'Animation', 'Comedy', 'Documentary', 'Drama', 'Drama', 'Animation', 'Comedy', 'Thriller', 'Crime', 'Film-Noir', 'Thriller', 'Film-Noir', 'Film-Noir', 'Drama', 'Drama', 'Drama', 'Comedy', 'Romance', 'Comedy', 'Drama', 'Comedy', 'Drama', 'Drama', 'Drama', 'Thriller', 'Comedy', 'Comedy', 'Horror', 'Documentary', 'Action', 'Comedy', 'Comedy', 'Drama', 'Romance', 'Drama', 'Comedy', 'Comedy', 'Sci-Fi', 'Drama', 'Drama', 'Drama', 'War', 'Crime', 'Drama', 'Film-Noir', 'Comedy', 'Action', 'Drama', 'Romance', 'War', 'Comedy', 'War', 'Drama', 'Drama', 'Drama', 'Comedy', 'Romance', 'Documentary', 'Drama', 'Documentary', 'Documentary', 'Drama', 'Comedy', 'Action', 'Adventure', 'Drama', 'Sci-Fi', 'War', 'Action', 'Adventure', 'Comedy', 'Romance', 'Action', 'Adventure', 'Sci-Fi', 'Action', 'Sci-Fi', 'Thriller', 'War', 'Action', 'Western', 'Comedy', 'Drama', 'Adventure', 'War', 'Action', 'Animation', \"Children's\", 'Sci-Fi', 'Thriller', 'War', 'Sci-Fi', 'Drama', 'Drama', 'War', 'Western', 'Action', 'Adventure', 'Romance', 'Sci-Fi', 'War', 'Comedy', 'Drama', 'Romance', 'Mystery', 'Thriller', 'Crime', 'Drama', 'Action', 'Horror', 'Sci-Fi', 'Thriller', 'Action', 'Adventure', 'Comedy', 'Horror', 'Sci-Fi', 'Adventure', 'Romance', 'Drama', 'War', 'Action', 'Thriller', 'Horror', 'Thriller', 'Action', 'Comedy', 'Musical', 'Action', 'Crime', 'Drama', 'Action', 'Drama', 'War', 'Animation', 'Comedy', 'Drama', 'War', 'Drama', 'Comedy', 'Romance', 'Crime', 'Drama', 'Thriller', 'Drama', 'Comedy', 'Romance', 'Drama', 'Mystery', 'Sci-Fi', 'Action', 'Drama', 'War', 'Comedy', 'Crime', 'Comedy', 'Comedy', 'Drama', 'Drama', 'Comedy', 'Action', 'Sci-Fi', 'Thriller', 'Comedy', 'Horror', 'Action', 'Drama', 'War', 'Comedy', 'Drama', 'Comedy', 'Drama', 'Romance', 'Drama', 'Drama', 'Drama', 'Romance', 'Crime', 'Film-Noir', 'Thriller', 'Thriller', 'Drama', 'War', 'Drama', 'Film-Noir', 'Mystery', 'Thriller', 'Drama', 'Sci-Fi', 'Adventure', 'Comedy', 'Horror', 'Comedy', 'War', 'Comedy', 'Horror', 'Adventure', 'Comedy', 'Drama', 'Crime', 'Film-Noir', 'Thriller', 'Action', 'Adventure', 'Comedy', 'Horror', 'Adventure', 'War', 'Drama', 'War', 'Action', 'Drama', 'Mystery', 'Romance', 'Thriller', 'Comedy', 'Romance', 'Western', 'Film-Noir', 'Thriller', 'Drama', 'Comedy', 'Mystery', 'Thriller', 'Comedy', 'Sci-Fi', 'Drama', 'Drama', 'War', 'Comedy', 'Drama', 'Adventure', 'Animation', 'Sci-Fi', 'Thriller', 'Action', 'Adventure', 'Comedy', 'Drama', 'Action', 'Drama', 'Romance', 'Comedy', 'Horror', 'Comedy', 'Drama', 'Drama', 'Comedy', 'Animation', \"Children's\", 'Musical', 'Western', 'Film-Noir', 'Mystery', 'Comedy', 'Drama', 'Romance', 'Action', 'Adventure', 'Drama', 'Comedy', 'Drama', 'Musical', 'Documentary', 'War', 'Drama', 'Romance', 'Action', 'Adventure', 'Comedy', 'Drama', 'Comedy', 'War', 'Drama', 'Drama', 'Romance', 'Comedy', 'Drama', 'Musical', 'War', 'Drama', 'War', 'Drama', 'Sci-Fi', 'Drama', 'Adventure', 'Action', 'Comedy', 'Western', 'Drama', 'Drama', 'Sci-Fi', 'Comedy', 'Romance', 'Comedy', 'Drama', 'Romance', 'Documentary', 'Comedy', 'Drama', 'Crime', 'Romance', 'Documentary', 'Drama', 'Comedy', 'Comedy', 'Drama', 'Documentary', 'Action', 'Horror', 'Sci-Fi', 'Thriller', 'Horror', 'Horror', 'Horror', 'Horror', 'Horror', 'Horror', 'Horror', 'Horror', 'Horror', 'Comedy', 'Horror', 'Horror', 'Horror', 'Thriller', 'Horror', 'Horror', 'Sci-Fi', 'Action', 'Horror', 'Horror', 'Horror', 'Horror', 'Romance', 'Horror', 'Horror', 'Horror', 'Thriller', 'Film-Noir', 'Thriller', 'Horror', 'Horror', 'Horror', 'Horror', 'Horror', 'Horror', 'Drama', 'Crime', 'Thriller', 'Comedy', 'Romance', 'Drama', 'Horror', 'Thriller', 'Action', 'Adventure', 'Sci-Fi', 'Drama', 'Romance', 'Drama', 'Thriller', 'Adventure', \"Children's\", 'Comedy', 'Drama', 'Documentary', 'Drama', 'Drama', 'Action', 'Drama', 'Drama', \"Children's\", 'Comedy', 'Drama', 'Drama', 'Thriller', 'Action', 'Thriller', 'Action', 'Adventure', 'Sci-Fi', 'Action', 'Adventure', 'Sci-Fi', 'Action', 'Adventure', 'Sci-Fi', 'Action', 'Adventure', 'Sci-Fi', 'Action', 'Adventure', 'Sci-Fi', 'Action', 'Adventure', 'Sci-Fi', 'Action', 'Adventure', 'Comedy', 'Crime', 'Action', 'Comedy', 'Western', 'Action', 'Comedy', 'Western', 'Comedy', 'Musical', 'Romance', 'Comedy', 'Musical', 'Romance', 'Action', 'Drama', 'Action', 'Sci-Fi', 'Drama', 'Action', 'Western', 'Action', 'Horror', 'Action', 'Horror', 'Action', 'Horror', 'Comedy', 'Action', 'Comedy', 'Sci-Fi', 'War', 'Comedy', 'Drama', 'Drama', 'Romance', 'Comedy', 'Comedy', 'Drama', 'Crime', 'Drama', 'Sci-Fi', 'Drama', 'Romance', 'War', 'Drama', 'Drama', 'Drama', 'Crime', 'Drama', 'Animation', 'Comedy', 'Drama', 'Horror', 'Thriller', 'Action', 'Romance', 'War', 'Comedy', 'Romance', 'Comedy', 'Drama', 'Drama', 'Drama', 'Drama', 'Comedy', 'Crime', 'Drama', 'Romance', 'Drama', 'Musical', 'Drama', 'Drama', 'Documentary', 'Documentary', 'Mystery', 'Thriller', 'Drama', 'Action', 'Comedy', \"Children's\", 'Thriller', 'Drama', 'Action', 'Thriller', 'Action', 'Comedy', 'Action', 'Comedy', 'Horror', 'Action', 'Comedy', 'Drama', 'Action', 'Thriller', 'Comedy', 'Comedy', 'Comedy', 'Romance', 'Drama', 'Documentary', 'Comedy', 'Comedy', 'War', 'Comedy', 'Crime', 'Documentary', 'Comedy', 'War', 'Comedy', 'Romance', 'Comedy', 'Comedy', 'Romance', 'Comedy', 'Comedy', 'Romance', 'Romance', 'Mystery', 'Thriller', \"Children's\", 'Comedy', 'Mystery', 'Comedy', 'Documentary', 'Comedy', 'Romance', 'Mystery', 'Drama', 'Crime', 'Drama', 'Comedy', 'Drama', 'Comedy', 'Romance', 'Documentary', 'Drama', 'Crime', 'Thriller', 'Action', 'Comedy', 'Crime', 'Drama', \"Children's\", 'Comedy', 'Romance', 'Comedy', 'Drama', 'Romance', 'Action', 'Romance', 'Thriller', 'Action', 'Drama', 'Thriller', 'Comedy', 'Drama', 'Drama', 'Thriller', 'Mystery', 'Comedy', 'Drama', 'Drama', 'Musical', 'Action', 'Drama', 'Thriller', 'War', 'Animation', \"Children's\", 'Musical', 'Comedy', 'Romance', 'Comedy', 'Action', 'Adventure', \"Children's\", 'Drama', 'Romance', 'Action', 'Drama', 'Romance', 'Action', 'Adventure', 'Thriller', 'Comedy', 'Crime', 'Crime', 'Romance', 'Comedy', 'Drama', 'Drama', 'War', 'Drama', 'Drama', 'Drama', 'Comedy', 'Comedy', 'Romance', 'Drama', 'Thriller', 'Comedy', 'Comedy', 'Action', 'Thriller', 'Drama', 'Romance', 'Drama', 'Action', 'Crime', 'Romance', 'Drama', 'Action', 'Adventure', \"Children's\", 'Fantasy', 'Comedy', 'Action', 'Sci-Fi', 'Comedy', 'Drama', 'Drama', 'Comedy', 'Drama', 'Drama', 'Drama', 'Romance', 'Comedy', 'Adventure', \"Children's\", 'Comedy', 'Crime', 'Comedy', 'Romance', 'Comedy', 'Drama', 'Romance', 'Drama', 'Action', 'Adventure', 'Sci-Fi', 'Thriller', 'Drama', 'Comedy', \"Children's\", 'Drama', 'Drama', 'Drama', 'Romance', 'Comedy', 'Romance', 'Adventure', \"Children's\", 'Drama', 'Action', 'Adventure', 'Thriller', 'Comedy', 'Drama', 'Romance', 'Drama', 'Action', 'Romance', 'Thriller', 'Drama', 'Comedy', 'Drama', 'Comedy', 'Action', 'Adventure', 'Crime', 'Drama', 'Comedy', 'Romance', 'Comedy', 'Thriller', 'Adventure', 'Animation', \"Children's\", 'Comedy', 'Musical', 'Drama', 'Crime', 'Drama', 'Mystery', 'Comedy', 'Romance', 'Sci-Fi', 'Comedy', 'Romance', 'Drama', 'Action', 'Sci-Fi', 'Thriller', 'Romance', 'Drama', 'Drama', 'Crime', 'Drama', 'Action', 'Adventure', 'Comedy', 'Sci-Fi', 'Comedy', 'Adventure', \"Children's\", \"Children's\", 'Fantasy', 'Drama', 'Sci-Fi', 'Comedy', 'Action', 'Drama', 'War', 'Action', 'Adventure', \"Children's\", 'Comedy', 'Crime', 'Drama', 'Mystery', 'Action', 'Mystery', 'Sci-Fi', 'Thriller', 'Action', 'Adventure', 'Sci-Fi', 'Thriller', \"Children's\", 'Comedy', 'Comedy', 'Romance', 'Drama', 'Adventure', \"Children's\", 'Drama', 'Drama', 'Action', 'Mystery', 'Romance', 'Thriller', 'Crime', 'Drama', 'Thriller', 'Action', 'Drama', 'Romance', 'Crime', 'Drama', 'Film-Noir', 'Comedy', 'Sci-Fi', 'Thriller', 'Action', 'Comedy', 'Adventure', 'Romance', 'Action', 'Adventure', 'Action', 'Thriller', 'Drama', 'Action', 'Thriller', 'Drama', 'Comedy', 'Drama', 'Comedy', 'Adventure', 'Thriller', 'Action', 'Thriller', 'War', 'Crime', 'Film-Noir', 'Mystery', 'Thriller', 'Drama', 'War', 'Crime', 'Drama', 'Thriller', 'Drama', 'Comedy', 'Drama', 'Horror', 'Drama', 'Mystery', 'Thriller', 'Action', 'Drama', 'Thriller', 'Action', 'Crime', 'Mystery', 'Drama', 'Comedy', 'Romance', 'Comedy', 'Drama', 'Thriller', 'Comedy', 'Romance', 'Drama', 'Drama', 'Action', 'Thriller', 'Drama', 'Romance', 'Comedy', 'Comedy', 'Comedy', 'Drama', 'Drama', 'Romance', 'Horror', 'Mystery', 'Thriller', 'Crime', 'Horror', 'Mystery', 'Thriller', 'Comedy', 'Crime', 'Thriller', 'Comedy', 'Drama', 'Thriller', 'Documentary', 'Drama', 'Drama', 'Documentary', 'Drama', 'Sci-Fi', 'Thriller', \"Children's\", 'Drama', 'Fantasy', 'Horror', 'Romance', 'Documentary', 'Romance', 'Thriller', 'Drama', 'Drama', 'Thriller', 'Crime', 'Comedy', 'Drama', 'Comedy', 'Romance', 'Action', 'Drama', 'Drama', 'Romance', 'Drama', 'War', 'Crime', 'Drama', 'Drama', 'Drama', 'Romance', 'Thriller', 'Crime', 'Thriller', 'Action', 'Adventure', 'Sci-Fi', 'War', 'Comedy', 'Drama', 'Comedy', 'Drama', 'Romance', 'Action', 'Adventure', 'Drama', 'Drama', 'Romance', 'Thriller', 'Romance', 'Romance', 'Crime', 'Thriller', 'Action', 'Thriller', 'Animation', \"Children's\", 'Musical', 'Comedy', 'Mystery', 'Action', 'Horror', 'Sci-Fi', 'Horror', 'Sci-Fi', 'Drama', 'Drama', 'Drama', 'Drama', 'War', 'Crime', 'Comedy', 'Drama', 'Comedy', 'Drama', \"Children's\", 'Comedy', 'Fantasy', 'Comedy', 'Drama', 'Drama', 'Drama', \"Children's\", 'Comedy', 'Drama', 'Thriller', 'Drama', 'Comedy', 'Crime', 'Drama', 'Mystery', \"Children's\", 'Comedy', 'Romance', 'Thriller', 'Drama', 'Horror', 'Thriller', 'Thriller', 'Drama', 'Action', 'Adventure', 'Sci-Fi', 'Drama', 'Romance', 'Action', 'Romance', 'Thriller', 'Comedy', 'Drama', 'Drama', 'Drama', 'Drama', 'Drama', 'Drama', 'Crime', 'Drama', 'Drama', 'Comedy', 'Comedy', 'Crime', 'Mystery', 'Thriller', 'Drama', 'Romance', 'Comedy', 'Drama', 'Drama', 'Romance', 'Comedy', 'Action', \"Children's\", 'Action', 'Drama', 'Drama', 'Crime', 'Documentary', 'Action', 'Adventure', 'Thriller', 'Comedy', 'Comedy', 'Drama', 'Film-Noir', 'Sci-Fi', 'Thriller', 'Romance', 'Adventure', \"Children's\", 'Fantasy', 'Sci-Fi', 'Action', 'Thriller', 'Comedy', 'Action', 'Mystery', 'Thriller', 'Romance', 'Horror', 'Drama', 'Drama', 'Drama', 'Comedy', 'Musical', 'Action', 'Horror', 'Sci-Fi', 'Comedy', 'Thriller', 'Crime', 'Drama', 'Drama', 'Romance', 'Drama', 'Action', 'Thriller', 'Romance', 'Thriller', 'Horror', 'Action', 'Comedy', 'Musical', 'Action', 'Drama', 'Comedy', 'Drama', 'Drama', 'Comedy', 'Romance', 'Adventure', 'Sci-Fi', 'Thriller', 'Documentary', 'Drama', 'Comedy', 'Romance', 'Film-Noir', 'Mystery', 'Thriller', 'Comedy', 'Drama', 'Action', 'Crime', 'Documentary', 'Action', 'Drama', 'Drama', 'Crime', 'Drama', 'Action', 'Thriller', 'Comedy', 'Comedy', 'Drama', 'Drama', 'Action', 'Drama', 'Documentary', 'Thriller', 'Crime', 'Drama', 'Action', 'Drama', 'Romance', 'Crime', 'Drama', 'Crime', 'Drama', 'Mystery', 'Thriller', 'Adventure', \"Children's\", 'Comedy', 'Drama', 'Comedy', 'Crime', 'Drama', 'Drama', 'Drama', \"Children's\", 'Comedy', 'Drama', 'Drama', 'Drama', 'Comedy', 'Drama', 'Comedy', 'Drama', 'Romance', 'Drama', 'Drama', 'Comedy', 'Romance', \"Children's\", 'Comedy', 'Comedy', 'Thriller', 'Action', 'Drama', 'Adventure', \"Children's\", 'Comedy', 'Documentary', 'Drama', 'Romance', 'Comedy', 'Action', 'Sci-Fi', 'Thriller', 'Action', 'Drama', 'Action', 'Drama', 'Thriller', 'Drama', 'Thriller', 'Romance', 'Drama', 'Comedy', 'Comedy', 'Drama', 'Drama', 'Thriller', 'Crime', 'Drama', \"Children's\", 'Comedy', 'Drama', 'Comedy', 'Thriller', 'Drama', 'Drama', 'Thriller', 'Adventure', \"Children's\", 'Comedy', 'Fantasy', 'Adventure', 'Drama', 'Romance', 'Drama', 'Romance', 'Drama', 'Thriller', 'Comedy', 'Comedy', 'Romance', 'Comedy', 'Documentary', 'Musical', 'Comedy', 'Action', 'Comedy', 'Drama', 'Drama', 'Comedy', 'Thriller', 'Horror', 'Sci-Fi', 'Comedy', 'Comedy', 'Documentary', 'Action', 'Comedy', 'Action', 'Adventure', 'Drama', 'War', 'Action', 'Thriller', 'Comedy', 'Drama', 'Comedy', 'Drama', 'Drama', 'Drama', 'Comedy', 'Romance', 'Comedy', 'Action', 'Drama', 'Sci-Fi', 'Thriller', 'Drama', 'Comedy', 'Romance', 'Drama', 'Drama', 'Adventure', 'Animation', \"Children's\", 'Fantasy', 'Action', 'Sci-Fi', 'Comedy', 'Comedy', 'Drama', 'Comedy', 'Drama', 'Comedy', 'Adventure', 'Comedy', 'Comedy', 'Drama', 'Romance', 'Thriller', 'Drama', 'Horror', 'Thriller', 'Mystery', 'Thriller', 'Drama', 'Adventure', 'Comedy', 'Romance', 'Comedy', 'Drama', 'Romance', 'Comedy', 'Drama', 'Romance', 'Drama', 'War', 'Adventure', 'Drama', 'Drama', 'Documentary', 'Drama', 'Romance', 'Comedy', 'Comedy', 'Drama', 'Drama', 'Comedy', 'Romance', 'Animation', \"Children's\", 'Drama', 'Thriller', 'Mystery', 'Sci-Fi', 'Thriller', 'Action', 'Comedy', 'Crime', 'Comedy', 'Action', 'Crime', 'Romance', 'Drama', 'Mystery', 'Comedy', 'Drama', 'Drama', 'Action', 'Comedy', 'Drama', 'Action', 'Adventure', 'Sci-Fi', 'Thriller', 'Action', 'Comedy', 'Crime', 'Drama', \"Children's\", 'Comedy', 'Animation', \"Children's\", 'Fantasy', 'War', 'Sci-Fi', 'Thriller', 'Drama', 'Comedy', 'Horror', 'Sci-Fi', 'Drama', 'Romance', 'War', 'Musical', 'War', 'Western', 'Drama', 'Drama', 'Adventure', 'Musical', 'Drama', 'Comedy', 'Drama', 'Drama', 'War', 'Comedy', 'Drama', 'Drama', 'War', 'Drama', 'Drama', 'Drama', 'Drama', 'Drama', 'Romance', 'War', 'Crime', 'Drama', 'Drama', 'Romance', 'Musical', 'Romance', 'Comedy', 'Drama', 'Drama', 'Mystery', 'Musical', 'Drama', 'Action', 'Crime', 'Drama', 'Thriller', 'Action', 'Drama', 'Drama', 'Drama', 'Drama', 'Comedy', 'Drama', 'Drama', 'Romance', 'Drama', 'War', 'Drama', 'Drama', 'Comedy', 'Drama', 'Mystery', 'Comedy', 'Sci-Fi', 'Comedy', 'Adventure', \"Children's\", 'Fantasy', 'Comedy', 'Drama', 'Horror', 'Horror', 'Horror', 'Horror', 'Horror', 'Horror', 'Horror', 'Horror', 'Horror', 'Horror', 'Horror', 'Horror', 'Horror', 'Horror', 'Horror', 'Horror', 'Horror', 'Horror', 'Horror', 'Horror', 'Horror', 'Horror', 'Horror', 'Horror', 'Horror', 'Horror', 'Thriller', 'Horror', 'Thriller', 'Horror', 'Thriller', 'Horror', 'Horror', 'Horror', 'Action', 'Comedy', 'Crime', 'Drama', 'Action', 'Comedy', 'Crime', 'Drama', 'Action', 'Comedy', 'Crime', 'Drama', 'Comedy', 'Horror', 'Comedy', 'Horror', 'Adventure', \"Children's\", 'Fantasy', 'Action', 'Adventure', 'Romance', 'Comedy', 'Crime', 'Drama', 'Film-Noir', 'Sci-Fi', 'Thriller', 'Sci-Fi', 'Comedy', 'Sci-Fi', 'Comedy', 'Sci-Fi', 'Western', 'Action', 'Adventure', \"Children's\", 'Comedy', \"Children's\", 'Comedy', 'Fantasy', \"Children's\", 'Comedy', 'Western', \"Children's\", 'Fantasy', 'Musical', 'Animation', \"Children's\", 'Action', 'Drama', 'Drama', 'Romance', 'Fantasy', 'Sci-Fi', 'Drama', 'Action', 'Crime', 'Drama', 'Drama', 'Mystery', 'Drama', 'Romance', 'Horror', 'Thriller', 'Comedy', 'Crime', 'Action', 'Drama', 'War', 'Comedy', 'Romance', 'Drama', \"Children's\", 'Comedy', \"Children's\", 'Comedy', 'Animation', \"Children's\", 'Sci-Fi', \"Children's\", 'Comedy', \"Children's\", 'Comedy', 'Adventure', \"Children's\", 'Comedy', \"Children's\", 'Comedy', 'Sci-Fi', 'Adventure', \"Children's\", \"Children's\", 'Comedy', 'Action', 'Adventure', \"Children's\", 'Comedy', \"Children's\", 'Comedy', 'Adventure', \"Children's\", 'Fantasy', 'Comedy', 'Adventure', \"Children's\", 'Drama', 'Romance', 'Adventure', \"Children's\", 'Sci-Fi', \"Children's\", 'Animation', \"Children's\", 'Comedy', 'Musical', 'Adventure', \"Children's\", 'Comedy', 'Adventure', \"Children's\", 'Comedy', \"Children's\", 'Comedy', \"Children's\", 'Comedy', 'Sci-Fi', 'Adventure', \"Children's\", 'Comedy', 'Fantasy', 'Sci-Fi', 'Comedy', 'Western', 'Adventure', \"Children's\", 'Adventure', \"Children's\", 'Action', 'Thriller', \"Children's\", 'Drama', 'Comedy', 'Documentary', 'Drama', 'Romance', 'Drama', 'Romance', 'Comedy', 'Documentary', 'Comedy', 'Drama', 'Romance', 'Film-Noir', 'Drama', 'Romance', 'War', 'Drama', 'Drama', 'Drama', 'Drama', 'Comedy', 'Comedy', 'Drama', 'Drama', 'War', 'Drama', 'Mystery', 'Adventure', \"Children's\", 'Animation', \"Children's\", 'Comedy', 'Musical', \"Children's\", 'Drama', 'Animation', \"Children's\", 'Comedy', 'Musical', 'Romance', 'Animation', \"Children's\", 'Comedy', 'Musical', 'Romance', \"Children's\", 'Comedy', \"Children's\", 'Musical', \"Children's\", 'Musical', 'Animation', \"Children's\", 'Drama', 'Fantasy', 'Animation', \"Children's\", 'Fantasy', 'Musical', 'Adventure', 'Comedy', 'Musical', 'Animation', \"Children's\", 'Animation', \"Children's\", \"Children's\", 'Sci-Fi', 'Animation', \"Children's\", 'Musical', 'Adventure', \"Children's\", 'Fantasy', 'Sci-Fi', 'Action', 'Adventure', 'Sci-Fi', \"Children's\", 'Comedy', 'Animation', \"Children's\", 'Musical', \"Children's\", 'Horror', \"Children's\", 'Comedy', 'Adventure', 'Animation', \"Children's\", 'Musical', 'Comedy', 'Fantasy', 'Romance', 'Adventure', 'Drama', 'Animation', \"Children's\", 'Comedy', 'Musical', 'Adventure', \"Children's\", 'Drama', 'Action', 'Adventure', 'Fantasy', 'Sci-Fi', 'Drama', 'War', 'Horror', 'Thriller', 'Comedy', 'Romance', 'Comedy', 'Comedy', 'Crime', 'Thriller', 'Comedy', 'Crime', 'Drama', 'Horror', 'Thriller', 'Drama', 'Action', 'Adventure', 'Adventure', 'Animation', \"Children's\", 'Sci-Fi', 'Drama', 'Sci-Fi', 'Horror', 'Thriller', 'Horror', 'Drama', 'Horror', 'Horror', 'Thriller', 'Horror', 'Thriller', 'Animation', \"Children's\", 'Comedy', 'Drama', 'Romance', 'Action', 'Crime', 'Mystery', 'Thriller', 'Drama', 'Romance', 'Comedy', 'Documentary', 'Crime', 'Drama', 'Romance', 'Drama', 'Drama', 'Adventure', 'Comedy', 'Comedy', 'Adventure', 'Musical', 'Comedy', 'Animation', \"Children's\", 'Animation', \"Children's\", 'Drama', 'Fantasy', 'Animation', \"Children's\", \"Children's\", 'Fantasy', 'Sci-Fi', 'Animation', \"Children's\", 'Comedy', 'Animation', \"Children's\", 'Comedy', 'Adventure', 'Fantasy', 'Romance', 'Comedy', 'Comedy', 'Drama', 'Romance', 'Drama', 'Romance', 'Drama', 'Comedy', 'Horror', 'Comedy', 'Horror', 'Comedy', 'Comedy', \"Children's\", 'Comedy', 'Action', 'Adventure', 'Drama', 'Romance', 'Comedy', 'Comedy', 'Drama', 'Romance', 'Crime', 'Horror', 'Crime', 'Horror', 'Horror', 'Thriller', 'Adventure', \"Children's\", 'Fantasy', 'Adventure', \"Children's\", 'Fantasy', 'Comedy', 'Horror', 'Drama', 'Drama', 'Drama', 'Romance', 'Action', 'Adventure', 'Horror', 'Drama', 'Romance', 'Comedy', 'Action', 'Comedy', 'Comedy', 'Drama', 'Romance', 'Comedy', 'Adventure', 'Fantasy', 'Sci-Fi', 'Comedy', 'Fantasy', 'Drama', 'Romance', 'Thriller', 'Comedy', 'Thriller', 'Thriller', 'Thriller', 'Thriller', 'Thriller', 'Drama', 'Film-Noir', 'Thriller', 'Thriller', 'Mystery', 'Thriller', 'Thriller', 'Film-Noir', 'Thriller', 'Mystery', 'Thriller', 'Drama', 'Animation', 'Drama', 'Comedy', 'Drama', 'Action', 'Adventure', 'Fantasy', 'Action', 'Crime', 'Drama', 'Comedy', 'Action', 'Drama', 'Documentary', 'Crime', 'Drama', 'Drama', 'Drama', 'Drama', 'Thriller', 'War', 'Film-Noir', 'Thriller', 'Thriller', 'Comedy', 'Mystery', 'Thriller', 'Drama', 'Comedy', 'Mystery', 'Romance', 'Thriller', 'Crime', 'Thriller', 'Thriller', 'Thriller', 'Thriller', 'Comedy', 'Musical', 'Thriller', 'Comedy', 'Romance', 'Drama', 'Comedy', 'Musical', 'Drama', 'Mystery', 'Thriller', 'Drama', 'Thriller', 'Comedy', 'Comedy', 'Drama', 'Drama', 'Drama', 'Thriller', 'Drama', 'Drama', 'Comedy', 'Crime', 'Drama', 'Sci-Fi', 'Thriller', 'Drama', 'Drama', 'Drama', 'War', 'Drama', 'Drama', 'Comedy', 'Drama', 'Comedy', 'Drama', 'Drama', 'Comedy', 'Drama', 'Comedy', 'Drama', 'Romance', 'Comedy', 'Romance', 'Comedy', 'Drama', 'Comedy', 'Comedy', 'Comedy', 'Drama', 'Romance', 'Comedy', 'Drama', 'Comedy', 'Comedy', 'Drama', 'Action', 'Comedy', 'Fantasy', 'Drama', 'Comedy', 'Horror', 'Sci-Fi', 'Comedy', 'Romance', 'Action', 'Comedy', 'Romance', 'Action', 'Crime', 'Comedy', 'Comedy', 'Drama', 'Romance', 'Thriller', 'Drama', 'Adventure', 'Comedy', 'Comedy', 'Romance', 'Mystery', 'Thriller', 'Crime', 'Drama', 'Drama', 'Documentary', 'Drama', 'Drama', 'Action', 'Thriller', 'Drama', 'Action', 'Adventure', 'Sci-Fi', 'Drama', 'Drama', 'Action', 'Crime', 'Thriller', 'Horror', 'Thriller', 'Crime', 'Crime', 'Comedy', 'Drama', 'Drama', 'Drama', 'Drama', 'Comedy', 'Sci-Fi', 'Thriller', 'War', 'Action', 'Horror', 'Sci-Fi', 'Thriller', 'Comedy', 'Drama', 'Comedy', 'Drama', 'Drama', 'Romance', 'Romance', 'Drama', 'Animation', \"Children's\", 'Comedy', 'Comedy', 'Drama', 'Romance', 'Thriller', 'Comedy', 'Comedy', 'Musical', 'Comedy', 'Comedy', 'Drama', 'Musical', 'Drama', 'Drama', 'Comedy', 'Action', 'Drama', 'Action', 'Crime', 'Drama', 'Drama', 'Mystery', 'Sci-Fi', 'Drama', 'Drama', 'Drama', 'Horror', 'Thriller', 'Drama', 'Romance', 'Comedy', 'Comedy', 'Comedy', 'Drama', 'Thriller', 'Comedy', 'Action', 'Adventure', 'Sci-Fi', 'Thriller', 'War', 'Documentary', 'Comedy', 'Drama', 'Comedy', 'Drama', 'Thriller', 'Horror', 'Horror', 'Drama', 'Documentary', 'Comedy', 'Romance', 'Crime', 'Drama', 'Drama', 'Action', 'Thriller', 'Comedy', 'Drama', 'Drama', 'Horror', 'Mystery', 'Thriller', 'Comedy', 'Romance', 'Romance', 'Drama', 'Comedy', 'Drama', 'Action', 'Adventure', 'Drama', 'Thriller', 'Drama', 'Sci-Fi', 'Thriller', 'Action', 'Drama', 'Comedy', 'Thriller', 'Comedy', 'Drama', 'Comedy', 'Drama', 'Action', 'Thriller', 'Animation', \"Children's\", 'Comedy', 'Animation', \"Children's\", 'Comedy', 'Comedy', 'Drama', 'Drama', 'Comedy', 'Drama', 'Comedy', 'Drama', 'Action', 'Sci-Fi', 'Action', 'Sci-Fi', 'Action', 'Sci-Fi', 'Action', 'Adventure', 'Horror', 'Action', 'Adventure', 'Horror', 'Action', 'Adventure', 'Horror', 'Comedy', 'Romance', 'Action', 'Adventure', 'Drama', 'Comedy', 'Comedy', 'Action', 'Adventure', 'Comedy', 'Drama', 'Comedy', 'Action', 'Horror', 'Sci-Fi', 'Comedy', 'Comedy', 'Comedy', 'Comedy', 'Comedy', 'Comedy', \"Children's\", 'Comedy', 'Comedy', 'Romance', 'Drama', 'Comedy', 'Crime', 'Drama', 'Romance', 'Crime', 'Horror', 'Thriller', 'Comedy', 'Crime', 'Thriller', 'Comedy', 'Drama', 'Action', 'Sci-Fi', 'Animation', 'Musical', 'Comedy', 'Comedy', 'Romance', 'Drama', 'Drama', 'Adventure', \"Children's\", 'Fantasy', \"Children's\", 'Drama', 'Western', 'Action', 'War', 'Action', 'Action', 'War', 'Action', 'Adventure', 'Comedy', 'Romance', 'Action', 'Adventure', 'Comedy', 'Romance', 'Comedy', 'Sci-Fi', 'Comedy', 'Sci-Fi', 'Action', 'Drama', 'Action', 'Drama', 'Action', 'Drama', 'Action', 'Drama', 'Comedy', 'Mystery', 'Action', 'Adventure', 'Mystery', 'Drama', 'Romance', 'Comedy', 'Comedy', 'Drama', 'Comedy', 'Drama', 'Thriller', 'Drama', 'Action', 'Adventure', 'Drama', 'Action', 'Adventure', 'Drama', 'Comedy', 'Comedy', 'Romance', 'Crime', 'Comedy', 'Drama', 'Romance', 'Action', 'Drama', 'War', 'Horror', 'Sci-Fi', 'Adventure', \"Children's\", 'Drama', 'Adventure', \"Children's\", 'Drama', 'Comedy', 'Drama', 'Drama', 'Drama', 'Drama', 'Drama', 'Comedy', 'Drama', 'Drama', 'Thriller', 'Drama', 'Drama', 'Drama', 'Western', 'Drama', 'Drama', 'Romance', 'Comedy', 'Drama', 'Drama', 'Thriller', 'Comedy', 'Drama', 'Horror', 'Sci-Fi', 'Adventure', \"Children's\", 'Adventure', \"Children's\", 'Sci-Fi', 'Horror', 'Horror', 'Drama', 'Fantasy', 'Horror', 'Sci-Fi', 'Horror', 'Sci-Fi', 'Horror', 'Sci-Fi', 'Action', 'Comedy', 'Comedy', 'Crime', 'Horror', 'Horror', 'Horror', 'Horror', 'Comedy', 'Horror', 'Horror', 'Drama', 'Mystery', 'Action', 'Comedy', 'Romance', 'Thriller', 'Comedy', 'Romance', 'Adventure', 'Comedy', 'Adventure', 'Comedy', 'Comedy', 'Comedy', 'Drama', 'Action', 'Mystery', 'Thriller', 'Action', 'War', 'Adventure', 'Comedy', 'Western', 'Drama', 'Thriller', 'Drama', 'Drama', 'Romance', 'Comedy', 'Romance', 'Comedy', 'Horror', 'Thriller', 'Comedy', 'Comedy', 'Romance', 'Drama', 'Action', 'Comedy', 'Drama', 'Horror', 'Thriller', 'Drama', 'Action', 'Thriller', 'Comedy', 'Romance', 'Comedy', 'Drama', 'Documentary', 'Animation', 'Sci-Fi', 'Comedy', 'Romance', 'Romance', 'Comedy', 'Sci-Fi', 'Comedy', 'Comedy', 'Drama', 'Comedy', 'Romance', 'Drama', 'Comedy', 'Drama', 'Thriller', 'Comedy', 'Drama', 'Romance', 'Comedy', 'Drama', 'Comedy', 'Comedy', 'Romance', 'Crime', 'Drama', 'Horror', 'Horror', 'Horror', 'Horror', 'Horror', 'Comedy', 'Horror', 'Drama', 'Drama', 'Drama', 'Drama', 'Thriller', 'Action', 'Drama', 'Action', 'Horror', 'Sci-Fi', 'Sci-Fi', 'Action', 'Sci-Fi', 'Thriller', 'Western', 'Action', 'Adventure', 'Sci-Fi', 'Action', 'Sci-Fi', 'Action', 'Sci-Fi', 'Action', 'Sci-Fi', 'Action', 'Sci-Fi', 'Action', 'Sci-Fi', 'Action', 'Action', 'Drama', 'Adventure', 'Documentary', 'Comedy', 'Action', 'Crime', 'Drama', 'Thriller', 'Drama', 'Comedy', 'Crime', 'Thriller', 'Comedy', 'Drama', 'Comedy', 'Drama', 'Drama', 'Horror', 'Action', 'Sci-Fi', 'Horror', 'Thriller', 'Drama', 'Thriller', 'Comedy', 'Horror', 'Sci-Fi', 'Thriller', 'Horror', 'Sci-Fi', 'Thriller', 'Comedy', 'Comedy', 'Drama', 'Romance', 'Drama', 'Comedy', 'Romance', 'Animation', \"Children's\", 'Drama', 'Horror', 'Crime', 'Thriller', 'Drama', 'Drama', 'Drama', 'Musical', 'Animation', \"Children's\", 'Comedy', 'Action', 'Crime', 'Drama', 'Romance', 'Drama', 'Romance', 'Action', 'Sci-Fi', 'Thriller', 'Comedy', 'Romance', 'Drama', 'Comedy', 'Drama', 'Drama', 'Comedy', 'Drama', 'Sci-Fi', 'Drama', 'Crime', 'Comedy', 'Romance', 'Action', 'Comedy', 'Mystery', 'Comedy', 'Drama', 'Romance', 'Comedy', 'Crime', 'Thriller', 'Comedy', 'Drama', 'Comedy', 'Drama', 'Romance', 'Drama', 'Comedy', 'Romance', 'Drama', 'Comedy', 'Drama', 'Romance', 'Sci-Fi', 'Documentary', 'Comedy', 'Drama', 'Comedy', 'Romance', 'Comedy', 'Comedy', 'Action', 'Sci-Fi', 'Thriller', 'Comedy', 'Adventure', 'Sci-Fi', 'Drama', 'Documentary', 'Crime', 'Thriller', 'Comedy', 'Horror', 'Drama', 'Thriller', 'Drama', 'Drama', 'Drama', 'Drama', 'Action', 'Horror', 'Sci-Fi', 'Action', 'Horror', 'Sci-Fi', 'Adventure', 'Sci-Fi', 'Action', 'Crime', 'Action', 'Adventure', 'Horror', 'Thriller', 'Comedy', 'Drama', 'Drama', 'Romance', 'Drama', 'Romance', 'Comedy', 'Fantasy', 'Comedy', 'Drama', 'Action', 'Comedy', 'Drama', 'Romance', 'Documentary', 'Drama', 'Action', 'Adventure', 'Fantasy', 'Sci-Fi', 'Comedy', 'Romance', 'Drama', 'Comedy', 'Film-Noir', 'Thriller', 'Drama', 'Horror', 'Romance', 'Horror', 'Horror', 'Horror', 'Horror', 'Horror', 'Drama', 'Action', 'Adventure', 'Sci-Fi', 'Action', 'Adventure', 'Sci-Fi', 'Action', 'Adventure', 'Sci-Fi', 'Action', 'Adventure', 'Sci-Fi', 'Horror', 'Horror', 'Horror', 'Horror', 'Horror', 'Horror', 'Horror', 'Horror', 'Horror', 'Horror', 'Horror', 'Horror', 'Horror', 'Sci-Fi', 'Comedy', 'Horror', 'Musical', 'Sci-Fi', 'Sci-Fi', 'Comedy', 'Documentary', 'Sci-Fi', 'Sci-Fi', 'Action', 'Sci-Fi', 'War', 'Sci-Fi', 'Horror', 'Sci-Fi', 'Sci-Fi', 'Sci-Fi', 'Sci-Fi', 'Horror', 'Sci-Fi', 'War', 'War', 'Comedy', 'Romance', 'Drama', 'Sci-Fi', 'Thriller', 'Drama', 'Drama', 'Comedy', 'Drama', 'Romance', 'Drama', 'Thriller', 'Documentary', 'Drama', 'Drama', 'Romance', 'Drama', 'Comedy', 'Romance', 'Sci-Fi', 'Drama', 'Comedy', 'Comedy', 'Drama', 'Comedy', 'Drama', 'Drama', 'Mystery', 'Animation', \"Children's\", 'Drama', 'Thriller', 'Documentary', 'Comedy', 'Drama', 'Action', 'Crime', 'Romance', 'Documentary', 'Comedy', 'Drama', 'Comedy', 'Comedy', 'Drama', 'Romance', 'Sci-Fi', 'Action', 'Comedy', 'Sci-Fi', 'Thriller', 'Animation', 'Comedy', 'Action', 'Sci-Fi', 'Western', 'Drama', 'Drama', 'Drama', 'Romance', 'Drama', 'Comedy', 'Thriller', 'Romance', \"Children's\", 'Comedy', 'Horror', 'Drama', 'Drama', 'Horror', 'Thriller', 'Drama', 'Comedy', 'Romance', 'Comedy', 'Horror', 'Comedy', 'Horror', 'Comedy', 'Horror', 'Thriller', 'Action', 'Adventure', \"Children's\", 'Comedy', 'Romance', 'Action', 'Sci-Fi', 'Thriller', 'Action', 'Adventure', 'Comedy', 'Comedy', 'Romance', 'Drama', 'Crime', 'Film-Noir', 'Film-Noir', 'Drama', 'Drama', 'Drama', 'Drama', 'Drama', 'Adventure', 'Comedy', 'Drama', 'Action', 'Adventure', 'Comedy', 'Comedy', 'Action', 'Comedy', 'Drama', 'Drama', 'Horror', 'Action', 'Thriller', 'Comedy', 'Drama', 'Drama', 'Drama', 'Drama', 'Comedy', 'Horror', 'Musical', 'Comedy', 'Horror', 'Action', 'Adventure', 'Drama', 'Mystery', 'Comedy', 'Drama', 'Comedy', 'Comedy', 'Mystery', 'Thriller', 'Horror', 'Drama', 'Action', 'Drama', 'Drama', 'Comedy', 'Drama', 'Animation', \"Children's\", 'Thriller', 'Action', 'Thriller', 'Crime', 'Drama', 'Thriller', 'Comedy', 'Drama', 'Comedy', 'Drama', 'Comedy', 'Comedy', 'Crime', 'Mystery', 'Comedy', 'Drama', 'Comedy', 'Drama', 'Comedy', 'Romance', 'Drama', 'Documentary', 'Drama', 'Thriller', 'Comedy', 'Comedy', 'Horror', 'Horror', 'Horror', 'Horror', 'Horror', 'Horror', 'Comedy', 'Horror', 'Comedy', 'Horror', 'Horror', 'Comedy', 'Comedy', 'Comedy', 'Horror', 'Comedy', 'Comedy', 'Comedy', 'Comedy', 'Fantasy', 'Comedy', 'Comedy', 'Animation', \"Children's\", 'Drama', 'Romance', 'Action', 'Romance', 'Thriller', 'Thriller', 'Comedy', 'Drama', 'Comedy', 'Romance', 'Comedy', 'Thriller', 'Action', 'Sci-Fi', 'Action', 'Sci-Fi', 'Comedy', 'Animation', 'Mystery', 'Comedy', 'Action', 'Thriller', 'Documentary', 'Horror', 'Action', 'War', 'Action', 'War', 'Action', 'War', 'Action', 'War', 'Thriller', 'Drama', 'Adventure', 'Drama', 'Adventure', 'Romance', 'Action', 'Drama', 'Documentary', 'Drama', 'Action', 'Horror', 'Thriller', 'Sci-Fi', 'Thriller', \"Children's\", 'Comedy', 'Comedy', 'Drama', 'Drama', 'Drama', 'Drama', 'Romance', 'War', 'Comedy', 'Romance', 'Action', 'Thriller', 'Comedy', 'Comedy', 'Romance', 'Comedy', 'Drama', 'Thriller', 'Thriller', 'Crime', 'Drama', 'Comedy', 'Romance', 'Drama', 'Mystery', 'Drama', \"Children's\", 'Drama', 'Drama', 'Comedy', 'Drama', 'Drama', 'Thriller', 'Adventure', 'Sci-Fi', 'Thriller', 'Drama', 'Horror', 'Horror', 'Horror', 'Thriller', 'Animation', 'Musical', 'Comedy', 'Drama', 'Documentary', 'Comedy', 'Comedy', 'Drama', 'Drama', 'Comedy', 'Musical', 'Comedy', 'Comedy', 'Drama', 'Comedy', 'Horror', 'Horror', 'Drama', 'Comedy', 'Adventure', 'Thriller', 'Action', 'Drama', 'Fantasy', 'Romance', 'Drama', 'Mystery', 'Romance', 'Comedy', 'Drama', 'Mystery', 'Romance', 'Animation', \"Children's\", 'Drama', 'Musical', 'Horror', 'Action', 'Adventure', 'Comedy', 'Action', 'Adventure', 'Comedy', 'Action', 'Thriller', 'Drama', 'Comedy', 'Comedy', 'Romance', 'Drama', 'Romance', \"Children's\", 'Comedy', 'Drama', 'Comedy', 'Romance', 'Comedy', 'Drama', 'War', 'Comedy', 'Action', 'Drama', 'Action', 'Drama', 'Drama', 'Romance', 'Adventure', 'Western', 'Comedy', 'War', 'Horror', 'Mystery', 'Adventure', 'Animation', \"Children's\", 'Horror', 'Sci-Fi', 'Horror', 'Sci-Fi', 'Horror', 'Thriller', 'Horror', 'Thriller', 'Drama', 'Action', 'Adventure', 'Drama', 'Romance', 'Comedy', 'Drama', 'Documentary', 'Drama', 'Romance', 'Drama', 'Action', 'Crime', 'Drama', 'Comedy', 'Comedy', 'Drama', 'Comedy', 'Action', 'Adventure', 'Sci-Fi', 'Thriller', 'Crime', 'Thriller', 'Comedy', 'Drama', 'Romance', 'Drama', 'Romance', 'Western', 'Western', 'Comedy', 'Action', 'Comedy', 'Drama', 'Comedy', 'Drama', 'Drama', 'Romance', 'Drama', 'Drama', 'Documentary', 'Drama', 'Drama', 'Drama', 'Musical', 'Comedy', 'Romance', 'Comedy', 'Comedy', 'Drama', 'Drama', 'Thriller', 'Film-Noir', 'Musical', 'Romance', 'War', 'Drama', 'Romance', 'Drama', 'Romance', 'Action', 'War', 'Mystery', 'Comedy', 'Musical', 'Action', 'Action', 'Action', 'Adventure', 'Drama', 'Romance', 'Action', 'Western', 'Crime', 'Thriller', \"Children's\", 'Comedy', 'Drama', 'Drama', 'Action', 'Crime', 'Thriller', 'Drama', 'Drama', 'Drama', 'Drama', 'Comedy', 'Drama', 'Comedy', 'Romance', 'Crime', 'Drama', 'Drama', 'Action', 'Drama', 'Drama', 'Thriller', 'Adventure', 'Fantasy', 'Sci-Fi', 'Drama', 'Romance', 'Adventure', 'Drama', 'Musical', 'Drama', 'War', 'Comedy', 'Horror', 'Thriller', 'Drama', 'Drama', 'Horror', 'Comedy', 'Drama', 'Comedy', 'Romance', 'Drama', 'Drama', 'Documentary', 'Horror', 'Thriller', 'Thriller', 'Documentary', 'Action', 'Crime', 'Sci-Fi', 'Action', 'Crime', 'Sci-Fi', 'Adventure', 'Animation', 'Film-Noir', 'Drama', 'Action', 'Action', 'Action', 'Horror', 'Thriller', 'Action', 'Drama', 'Horror', 'Drama', 'Comedy', 'Romance', 'Comedy', 'Action', 'Adventure', 'Animation', 'Drama', 'Documentary', 'Comedy', 'Drama', 'Comedy', 'Romance', 'Thriller', 'Drama', 'Documentary', 'Thriller', 'Drama', 'Drama', 'Drama', 'Comedy', 'Comedy', 'Horror', 'Comedy', 'Thriller', 'Horror', 'Horror', 'Horror', 'Crime', 'Drama', 'Action', 'Drama', 'Horror', 'Comedy', 'Comedy', 'Romance', 'Horror', 'Sci-Fi', 'Western', 'Horror', 'Horror', 'Comedy', 'Action', 'Drama', 'Comedy', 'Drama', 'Western', 'Comedy', 'Sci-Fi', 'Comedy', 'Sci-Fi', 'Animation', \"Children's\", 'Comedy', 'Drama', 'War', 'Adventure', 'Comedy', 'Drama', 'Western', 'Drama', 'Comedy', 'Comedy', 'Comedy', 'Comedy', 'Comedy', 'Mystery', 'Romance', 'Thriller', 'Comedy', 'Drama', 'Comedy', 'Romance', 'Drama', 'Comedy', 'Comedy', 'War', 'Drama', 'Drama', 'Comedy', 'Drama', 'War', 'Animation', \"Children's\", 'Thriller', 'Thriller', 'Comedy', 'Horror', 'Sci-Fi', 'Drama', 'Comedy', 'Drama', 'Comedy', 'Musical', 'Action', 'Drama', 'War', 'Thriller', 'Thriller', 'Drama', 'War', 'Comedy', 'Drama', 'Drama', 'Drama', 'Adventure', 'Comedy', 'Sci-Fi', 'Drama', 'Comedy', 'Drama', 'Romance', 'Western', 'Thriller', 'Comedy', 'Documentary', 'Drama', 'Drama', 'Drama', 'Sci-Fi', 'Horror', 'Romance', 'Action', 'Thriller', 'Comedy', 'Drama', 'Documentary', 'Horror', 'Comedy', 'Comedy', 'Comedy', 'Drama', 'Drama', 'Drama', 'War', 'Drama', 'Drama', 'Western', 'Drama', 'Romance', 'Drama', 'Comedy', 'Comedy', 'Romance', 'Drama', 'Comedy', 'Romance', 'Drama', 'Thriller', 'Thriller', 'Drama', 'Romance', 'Action', 'Adventure', 'Comedy', 'Crime', 'Drama', 'Drama', 'Romance', 'Action', 'Drama', 'Comedy', 'Drama', 'Romance', 'Drama', 'Drama', 'Drama', 'Drama', 'Action', 'Thriller', 'Animation', \"Children's\", 'Comedy', 'Drama', 'Drama', 'Drama', 'Romance', 'War', 'Drama', 'Horror', 'Comedy', 'Film-Noir', 'Drama', 'Romance', 'Western', 'Comedy', 'Comedy', 'Drama', 'Drama', 'Drama', 'Drama', 'Drama', 'Comedy', 'Drama', 'Comedy', 'Comedy', 'Comedy', 'Comedy', 'Drama', 'War', 'Drama', 'Documentary', 'Action', 'War', 'Drama', 'Action', 'Adventure', 'Comedy', 'Drama', 'Documentary', 'Musical', 'Drama', 'War', 'Comedy', 'Romance', 'Drama', 'Comedy', 'Drama', 'Thriller', 'Drama', 'Mystery', 'Drama', 'Crime', 'Drama', 'Mystery', 'Drama', 'Action', 'Adventure', 'Fantasy', 'Drama', 'War', 'Drama', 'Romance', 'Comedy', 'Drama', 'Sci-Fi', \"Children's\", 'Comedy', 'Drama', 'Animation', \"Children's\", 'Musical', 'Drama', 'Drama', 'Comedy', 'Drama', 'Drama', 'Drama', 'Action', 'Drama', 'Adventure', 'Drama', 'Adventure', 'Drama', 'Drama', 'Western', 'Drama', 'Adventure', 'Drama', 'Comedy', 'Drama', 'Adventure', 'Comedy', 'Sci-Fi', 'Drama', 'Mystery', 'Thriller', 'Comedy', 'Drama', 'Drama', 'Comedy', 'Drama', 'Drama', 'Documentary', 'Drama', 'Action', 'Comedy', 'Crime', 'Drama', 'Drama', 'Drama', 'Drama', 'Documentary', 'Comedy', 'Adventure', 'Sci-Fi', 'Drama', 'Drama', 'Documentary', 'Drama', 'Drama', 'Drama', 'War', 'Action', 'Drama', 'Comedy', 'Musical', 'Romance', 'Comedy', 'Drama', 'Drama', 'Drama', 'Thriller', 'Thriller', 'Horror', 'Romance', 'Adventure', 'Action', 'Comedy', 'Drama', 'Comedy', 'Drama', 'Drama', 'Animation', \"Children's\", 'Drama', 'Drama', 'Horror', 'Drama', 'Drama', 'Thriller', 'Drama', 'Drama', 'Drama', 'Drama', 'Drama', 'Comedy', 'Romance', 'Documentary', 'Comedy', 'Drama', 'Thriller', 'Comedy', 'Crime', 'Drama', 'Thriller', 'Comedy', 'Comedy', 'Comedy', 'Comedy', 'Comedy', 'Western', 'Documentary', 'Thriller', 'Comedy', 'Comedy', 'Comedy', 'Comedy', 'Comedy', 'Comedy', 'Romance', 'Drama', 'Drama', 'Comedy', 'Crime', 'Comedy', 'Thriller', 'Drama', 'Drama', 'Mystery', 'Drama', 'Comedy', 'Comedy', 'Comedy', 'Drama', 'Action', 'Thriller', 'Action', 'Drama', 'Romance', 'Thriller', 'Comedy', 'Drama', 'Romance', 'Drama', 'Comedy', 'Drama', 'Romance', 'Drama', 'Mystery', 'Comedy', 'Comedy', 'Horror', 'Action', 'Crime', 'Action', 'Comedy', 'Crime', 'Drama', 'Action', 'Thriller', 'Action', 'Comedy', 'Adventure', 'Romance', 'Sci-Fi', 'Drama', 'Drama', 'Crime', 'Drama', 'Horror', 'Mystery', 'Thriller', 'Action', 'Action', 'Comedy', 'Comedy', 'Drama', 'Documentary', 'Action', 'Adventure', 'Horror', 'Documentary', 'Comedy', 'Action', 'Comedy', 'Romance', 'Adventure', 'Drama', 'Comedy', 'Animation', \"Children's\", 'Drama', 'Drama', 'Comedy', 'Thriller', 'Film-Noir', 'Drama', 'Sci-Fi', 'Horror', 'Drama', 'Drama', 'Documentary', 'Drama', 'Comedy', 'Drama', 'Action', 'Sci-Fi', 'Comedy', 'Crime', 'Comedy', 'Documentary', 'Crime', 'Drama', 'Film-Noir', 'Horror', 'Comedy', 'Comedy', 'Drama', 'Romance', 'Comedy', 'Drama', 'Comedy', 'Action', 'Western', 'Drama', 'Comedy', 'Action', 'Drama', 'Musical', 'Action', 'Thriller', 'Comedy', 'Drama', 'Thriller', 'Drama', 'Comedy', 'Romance', 'Comedy', 'Comedy', 'Comedy', 'Crime', 'Comedy', 'Comedy', 'Drama', 'Comedy', 'Sci-Fi', 'Documentary', 'Crime', 'Drama', 'Drama', 'Drama', 'Drama', 'Adventure', \"Children's\", 'Drama', 'Crime', 'Drama', 'Film-Noir', 'Thriller', 'Crime', 'Drama', 'Drama', 'Comedy', 'Drama', 'Documentary', 'War', 'Horror', 'Sci-Fi', 'Comedy', 'Drama', 'War', 'Comedy', 'Drama', 'Romance', 'Horror', 'Adventure', \"Children's\", 'Horror', 'Drama', 'Crime', 'Thriller', 'Comedy', 'Drama', 'Horror', 'Drama', 'Comedy', 'Romance', 'Sci-Fi', 'Thriller', 'Documentary', 'Drama', 'Romance', 'Comedy', 'Romance', 'Drama', 'Drama', 'Comedy', 'Comedy', 'Crime', 'Drama', 'Comedy', 'Drama', 'Crime', 'Film-Noir', 'Western', 'Action', 'Adventure', 'War', 'War', 'Romance', 'Western', 'Crime', 'Drama', 'Thriller', 'Drama', 'Action', 'War', 'Western', 'Drama', 'Sci-Fi', 'Romance', 'Drama', 'War', 'Drama', 'Drama', 'Film-Noir', 'Comedy', 'Drama', 'Drama', 'Drama', 'Musical', 'Action', 'Comedy', 'Drama', 'Mystery', 'Comedy', 'Comedy', 'Action', 'Adventure', 'Adventure', 'Comedy', 'Comedy', 'Comedy', 'Fantasy', 'Comedy', 'Romance', 'Comedy', \"Children's\", 'Comedy', \"Children's\", 'Comedy', \"Children's\", 'Comedy', \"Children's\", 'Comedy', 'Animation', \"Children's\", 'Adventure', 'Sci-Fi', 'Drama', 'Drama', 'Thriller', 'Action', 'Drama', 'Action', 'Drama', 'Action', 'Adventure', 'War', 'Comedy', 'Drama', 'Drama', 'Drama', 'Thriller', 'Comedy', 'Drama', 'Drama', 'Adventure', 'Crime', 'Drama', 'Romance', 'Drama', 'Drama', 'Adventure', 'Comedy', 'Sci-Fi', 'Action', 'Drama', 'Comedy', 'Crime', 'Drama', 'Thriller', 'Comedy', 'Comedy', 'Romance', 'Drama', 'Comedy', 'Drama', 'Drama', 'Drama', 'Romance', 'Crime', 'Drama', 'Animation', 'Comedy', 'Action', 'Drama', 'Action', 'Drama', 'Action', 'Drama', 'Action', 'Drama', 'Action', 'Drama', 'Crime', 'Film-Noir', 'Drama', 'Romance', 'Drama', 'Action', \"Children's\", 'Fantasy', 'Action', \"Children's\", 'Fantasy', 'Action', \"Children's\", 'Fantasy', 'Action', 'War', 'Action', 'Action', 'Drama', 'Thriller', 'Action', 'Mystery', 'Thriller', 'Comedy', 'Drama', 'Comedy', 'Drama', 'War', 'Drama', 'Comedy', 'Comedy', 'Drama', 'Action', 'Romance', 'Drama', 'Romance', 'Comedy', 'Romance', 'Drama', 'Thriller', 'Drama', 'Drama', 'Drama', 'Romance', 'Drama', 'Horror', 'Comedy', 'Adventure', 'Drama', 'Thriller', 'Comedy', 'Comedy', 'Sci-Fi', 'Thriller', 'Drama', 'Comedy', 'Fantasy', 'Drama', 'Western', 'Drama', 'Drama', 'Adventure', 'Drama', 'Drama', 'Sci-Fi', 'Horror', 'Comedy', 'Sci-Fi', 'Thriller', 'Drama', 'Romance', 'Horror', 'Mystery', 'Thriller', 'Comedy', 'Drama', 'Drama', 'Adventure', 'Fantasy', 'Romance', 'Drama', 'Comedy', 'Drama', 'Animation', \"Children's\", 'Thriller', 'Horror', 'Sci-Fi', 'Western', 'Horror', 'Sci-Fi', 'Adventure', 'Fantasy', 'Horror', 'Comedy', 'Adventure', 'Horror', 'Adventure', 'Western', 'Comedy', 'Drama', 'Drama', 'Comedy', 'Drama', 'Horror', 'Comedy', 'Drama', 'Comedy', 'Romance', 'Drama', 'Drama', 'Sci-Fi', 'Comedy', 'Drama', 'Thriller', 'Comedy', 'Drama', 'Comedy', 'Western', 'Drama', 'Drama', 'Thriller', 'Comedy', 'Drama', 'Romance', 'Drama', 'Thriller', 'Drama', 'Comedy', 'Comedy', 'Romance', 'Crime', 'Drama', 'Drama', 'Thriller', 'Action', 'War', 'Comedy', 'Comedy', 'Crime', 'Drama', 'Drama', 'Action', 'Thriller', 'Comedy', 'Romance', 'Comedy', 'Comedy', 'Drama', 'Action', 'Sci-Fi', 'Thriller', 'Drama', 'Romance', 'Crime', 'Thriller', 'Comedy', 'Comedy', 'Drama', 'Romance', 'Comedy', 'Drama', 'Comedy', 'Comedy', 'Horror', 'Thriller', 'Comedy', 'Romance', 'Comedy', 'Drama', 'Comedy', 'Documentary', 'Romance', 'Thriller', 'Action', 'Drama', 'Comedy', 'Drama', 'Comedy', 'Musical', 'War', 'Drama', 'Thriller', 'Drama', 'Comedy', 'Drama', 'Musical', 'Horror', 'Thriller', 'Comedy', 'Drama', 'Thriller', 'Drama', 'Romance', 'Action', 'Thriller', 'Comedy', 'Drama', 'Thriller', 'Drama', 'Drama', 'Drama', 'Drama', 'Comedy', 'Drama', 'Action', 'Horror', \"Children's\", 'Comedy', 'Comedy', 'Drama', 'Comedy', 'Drama', 'Comedy', 'Drama', 'Comedy', 'Drama', 'Drama', 'Drama', 'Horror', 'Sci-Fi', 'Horror', 'Sci-Fi', 'Horror', 'Sci-Fi', 'Drama', 'Action', 'Horror', 'Sci-Fi', 'Drama', 'Action', 'Drama', 'Drama', 'Drama', 'Drama', 'Drama', 'Drama', 'Action', 'Drama', 'Romance', 'Thriller', 'Adventure', 'War', 'Drama', 'Horror', 'Crime', 'Drama', 'Horror', 'Comedy', 'Comedy', 'Drama', 'Animation', 'Sci-Fi', 'Action', 'Sci-Fi', 'Drama', 'Comedy', 'Comedy', 'Comedy', 'Drama', 'Comedy', 'Musical', 'Comedy', 'Musical', 'Comedy', 'Western', 'Musical', 'Comedy', 'Musical', 'Drama', 'Musical', 'Musical', 'Comedy', 'Drama', 'Western', 'Comedy', 'Documentary', 'Musical', 'Animation', \"Children's\", 'Comedy', 'Adventure', 'Musical', 'Romance', 'Comedy', 'Comedy', 'Romance', 'Animation', \"Children's\", 'Comedy', 'Romance', 'Comedy', 'Comedy', 'Comedy', 'Comedy', 'Drama', 'Drama', 'Horror', 'Comedy', 'Action', 'Thriller', 'Action', 'Documentary', 'Comedy', 'Horror', 'Thriller', 'Action', 'Drama', 'War', 'Comedy', 'Horror', 'Comedy', 'Comedy', 'Action', 'Thriller', 'Action', 'Drama', 'Drama', 'Action', 'Romance', 'Sci-Fi', 'Action', 'Comedy', 'Drama', 'Drama', 'Western', 'Action', 'Drama', 'War', 'Western', 'Drama', 'Comedy', 'Drama', 'Horror', 'Sci-Fi', 'Drama', 'Horror', 'Horror', 'Horror', 'Documentary', 'Action', 'Drama', 'War', 'Drama', 'Crime', 'Drama', 'Sci-Fi', 'Sci-Fi', 'Thriller', 'Horror', 'Sci-Fi', 'Thriller', 'Horror', 'Sci-Fi', 'Thriller', 'Horror', 'Sci-Fi', 'Thriller', 'Horror', 'Sci-Fi', 'Thriller', 'Horror', 'Sci-Fi', 'Thriller', 'Horror', 'Sci-Fi', 'Thriller', 'Horror', 'Sci-Fi', 'Thriller', 'Action', 'Comedy', 'Drama', 'Romance', 'Comedy', 'War', 'Comedy', 'Western', 'Adventure', \"Children's\", 'Adventure', \"Children's\", 'Adventure', \"Children's\", 'Musical', 'Drama', 'Horror', 'Documentary', 'Drama', 'Documentary', 'Documentary', 'Western', 'Western', 'Drama', 'Film-Noir', 'Drama', 'Romance', 'Comedy', 'Drama', 'Romance', 'Thriller', 'Sci-Fi', 'Comedy', 'Comedy', 'Comedy', 'Comedy', 'Comedy', 'Horror', 'Comedy', 'Horror', 'Comedy', 'Horror', 'Comedy', 'Horror', 'Comedy', 'Horror', 'Sci-Fi', 'Action', 'Sci-Fi', 'Thriller', 'Action', 'Adventure', 'Sci-Fi', 'Adventure', 'Drama', 'Romance', 'Sci-Fi', 'Drama', 'Sci-Fi', 'Crime', 'Drama', 'Sci-Fi', 'Action', 'Sci-Fi', 'Action', 'Sci-Fi', 'Action', 'Sci-Fi', 'Action', 'Adventure', 'Romance', 'Thriller', 'Film-Noir', 'Mystery', 'Thriller', 'Drama', 'Horror', 'Thriller', 'Horror', 'Action', 'Comedy', 'Drama', 'Comedy', 'Drama', 'Drama', 'Comedy', 'Action', 'Crime', 'Action', 'Crime', 'Documentary', 'Comedy', 'Romance', 'Drama', 'Comedy', 'Comedy', 'Drama', 'Drama', 'War', 'Animation', 'Musical', 'Action', 'Thriller', 'Comedy', 'Horror', 'Thriller', 'Action', 'Crime', 'Drama', 'Mystery', 'Drama', 'Thriller', 'Horror', 'Drama', 'Drama', 'Crime', 'Drama', 'Drama', 'Drama', 'Western', 'Drama', 'Comedy', 'Romance', 'Action', 'Comedy', 'Crime', 'Drama', 'Drama', 'War', 'Comedy', 'Romance', 'Action', 'Crime', 'Adventure', 'Animation', 'Sci-Fi', 'Drama', 'War', 'Drama', 'Comedy', 'Romance', 'Drama', 'Drama', 'Animation', \"Children's\", 'Comedy', 'Comedy', 'Action', 'Drama', 'War', 'Animation', \"Children's\", 'Comedy', 'Action', 'Adventure', 'Thriller', 'Drama', 'Horror', 'Drama', 'Sci-Fi', 'Thriller', 'Animation', \"Children's\", 'Musical', 'Comedy', 'Crime', 'Drama', 'Horror', 'Action', 'Crime', 'Thriller', 'Action', 'Crime', 'Thriller', 'Drama', 'Romance', 'Action', 'War', 'Action', 'War', 'Action', 'War', 'Action', 'Adventure', 'Crime', 'Sci-Fi', 'Thriller', 'Action', 'Adventure', 'Horror', 'Comedy', 'Comedy', 'Animation', \"Children's\", 'Musical', 'Animation', \"Children's\", 'Musical', 'Comedy', 'Horror', 'Comedy', 'Drama', 'Sci-Fi', 'Sci-Fi', 'Action', 'Crime', 'Action', 'Crime', 'Crime', 'Drama', 'Comedy', 'Comedy', 'Horror', 'Comedy', 'Comedy', 'Drama', 'Mystery', 'Drama', 'Drama', 'Drama', 'Western', 'Action', 'Sci-Fi', 'Comedy', 'Drama', 'Drama', 'Romance', 'Thriller', 'Thriller', 'Thriller', 'Animation', \"Children's\", 'Drama', 'Romance', 'Drama', 'Mystery', 'Action', 'Sci-Fi', 'Drama', 'Comedy', 'Action', 'Adventure', 'Drama', 'Western', 'Action', 'Adventure', 'Drama', 'War', 'Comedy', 'Drama', 'Thriller', 'Drama', 'War', 'Comedy', 'Drama', 'Comedy', 'Drama', 'Comedy', 'Drama', 'Comedy', 'Musical', 'Comedy', \"Children's\", 'Comedy', 'Drama', 'Romance', 'Drama', 'Drama', 'Romance', 'Drama', 'Horror', 'Sci-Fi', 'Thriller', 'Action', 'Sci-Fi', 'Comedy', 'Comedy', 'Romance', 'Comedy', 'Horror', 'Thriller', 'Comedy', 'Horror', 'Horror', 'Sci-Fi', 'Adventure', 'Drama', 'Romance', 'Thriller', 'Action', 'Comedy', 'War', 'Horror', 'Horror', 'Horror', 'Horror', 'Action', 'Comedy', 'Horror', 'Horror', 'Drama', 'Drama', 'Comedy', 'Horror', 'Drama', 'Thriller', 'Thriller', 'Crime', 'Thriller', 'Comedy', 'Comedy', 'Drama', 'Drama', 'Romance', 'Drama', 'Romance', 'Drama', 'Thriller', 'Comedy', 'Documentary', 'Crime', 'Comedy', 'Comedy', 'Sci-Fi', 'Thriller', 'Action', 'Adventure', 'Sci-Fi', 'Comedy', 'Documentary', 'Comedy', 'Drama', 'Comedy', 'Comedy', 'Drama', 'Drama', 'Western', 'Drama', 'Comedy', 'Western', 'Comedy', 'Romance', 'Horror', 'Drama', 'Action', 'Adventure', 'Fantasy', 'Sci-Fi', 'Action', 'Documentary', 'Documentary', 'Comedy', 'Comedy', 'Drama', 'Comedy', 'Comedy', 'Romance', 'Drama', 'Drama', 'Drama', 'Romance', 'Action', 'Adventure', 'Fantasy', 'Documentary', 'Crime', 'Drama', 'Horror', 'Comedy', 'Thriller', 'Drama', 'Crime', 'Thriller', 'Crime', 'Thriller', 'Comedy', 'Drama', 'Action', 'Comedy', 'Comedy', 'Comedy', 'Drama', 'Comedy', 'Drama', 'Drama', 'Drama', 'Drama', 'Comedy', 'Crime', 'Drama', 'Horror', 'Comedy', 'Romance', 'Drama', 'Musical', 'Comedy', 'Comedy', 'Drama', 'Documentary', 'Drama', 'Drama', 'Drama', 'Horror', 'Horror', 'Horror', 'Drama', 'Fantasy', 'Comedy', 'Comedy', 'Horror', 'Sci-Fi', 'Comedy', 'Comedy', 'Adventure', 'Sci-Fi', 'Adventure', 'Sci-Fi', 'Comedy', 'Horror', 'Comedy', 'Horror', 'Horror', 'Sci-Fi', 'Horror', 'Sci-Fi', 'Horror', 'Sci-Fi', 'Sci-Fi', 'Horror', 'Drama', 'Thriller', 'Sci-Fi', 'Thriller', 'Horror', 'Horror', 'Horror', 'Horror', 'Horror', 'Comedy', 'Comedy', 'Drama', 'Adventure', 'Animation', \"Children's\", 'Action', 'Drama', 'Thriller', 'Thriller', 'Comedy', 'Drama', 'Drama', 'Drama', 'Drama', 'Thriller']\n"
          ]
        }
      ]
    },
    {
      "cell_type": "code",
      "source": [
        "genre_counts = pd.value_counts(genres) # values 내림차순 정렬\n",
        "genre_counts"
      ],
      "metadata": {
        "colab": {
          "base_uri": "https://localhost:8080/"
        },
        "id": "ypqLTVts8K0P",
        "outputId": "c0e6da64-e3b5-4258-bd71-483b3aa0f69b"
      },
      "execution_count": null,
      "outputs": [
        {
          "output_type": "execute_result",
          "data": {
            "text/plain": [
              "Drama          1603\n",
              "Comedy         1200\n",
              "Action          503\n",
              "Thriller        492\n",
              "Romance         471\n",
              "Horror          343\n",
              "Adventure       283\n",
              "Sci-Fi          276\n",
              "Children's      251\n",
              "Crime           211\n",
              "War             143\n",
              "Documentary     127\n",
              "Musical         114\n",
              "Mystery         106\n",
              "Animation       105\n",
              "Fantasy          68\n",
              "Western          68\n",
              "Film-Noir        44\n",
              "dtype: int64"
            ]
          },
          "metadata": {},
          "execution_count": 136
        }
      ]
    },
    {
      "cell_type": "code",
      "source": [
        "genre_counts.index[0] # 가장 빈도수가 많은 영화 장르"
      ],
      "metadata": {
        "colab": {
          "base_uri": "https://localhost:8080/",
          "height": 35
        },
        "id": "6n_qJGqM83j4",
        "outputId": "7e77ae95-3b49-4cc7-d7cb-19f38880d3ff"
      },
      "execution_count": null,
      "outputs": [
        {
          "output_type": "execute_result",
          "data": {
            "text/plain": [
              "'Drama'"
            ],
            "application/vnd.google.colaboratory.intrinsic+json": {
              "type": "string"
            }
          },
          "metadata": {},
          "execution_count": 137
        }
      ]
    },
    {
      "cell_type": "markdown",
      "source": [
        "빈도수 상위 7개의 장르를 시각화"
      ],
      "metadata": {
        "id": "TMV_A5Bi9mJy"
      }
    },
    {
      "cell_type": "code",
      "source": [
        "genre_top7 = genre_counts.head(n=7) #.iloc[:7]\n",
        "genre_top7"
      ],
      "metadata": {
        "colab": {
          "base_uri": "https://localhost:8080/"
        },
        "id": "ycE-5NCe-u5u",
        "outputId": "a4207cee-f647-461c-d1cf-6edcb9c0083c"
      },
      "execution_count": null,
      "outputs": [
        {
          "output_type": "execute_result",
          "data": {
            "text/plain": [
              "Drama        1603\n",
              "Comedy       1200\n",
              "Action        503\n",
              "Thriller      492\n",
              "Romance       471\n",
              "Horror        343\n",
              "Adventure     283\n",
              "dtype: int64"
            ]
          },
          "metadata": {},
          "execution_count": 138
        }
      ]
    },
    {
      "cell_type": "code",
      "source": [
        "sns.barplot(y=genre_top7.index, x=genre_top7.values)\n",
        "plt.show()"
      ],
      "metadata": {
        "colab": {
          "base_uri": "https://localhost:8080/",
          "height": 265
        },
        "id": "Nb0R9179_GT3",
        "outputId": "4ef17a1e-b291-4007-d2dd-947d6784d297"
      },
      "execution_count": null,
      "outputs": [
        {
          "output_type": "display_data",
          "data": {
            "text/plain": [
              "<Figure size 432x288 with 1 Axes>"
            ],
            "image/png": "[encoded data removed]"
          },
          "metadata": {
            "needs_background": "light"
          }
        }
      ]
    },
    {
      "cell_type": "markdown",
      "source": [
        "장르 빈도수 시각화"
      ],
      "metadata": {
        "id": "3R4VYGYh-Uec"
      }
    },
    {
      "cell_type": "code",
      "source": [
        "sns.barplot(y=genre_counts.index, x=genre_counts.values)\n",
        "plt.show"
      ],
      "metadata": {
        "colab": {
          "base_uri": "https://localhost:8080/",
          "height": 283
        },
        "id": "KQZ4FIT9_U7J",
        "outputId": "a9c1be57-c675-492b-a379-908025ab52dc"
      },
      "execution_count": null,
      "outputs": [
        {
          "output_type": "execute_result",
          "data": {
            "text/plain": [
              "<function matplotlib.pyplot.show(*args, **kw)>"
            ]
          },
          "metadata": {},
          "execution_count": 140
        },
        {
          "output_type": "display_data",
          "data": {
            "text/plain": [
              "<Figure size 432x288 with 1 Axes>"
            ],
            "image/png": "[encoded data removed]"
          },
          "metadata": {
            "needs_background": "light"
          }
        }
      ]
    },
    {
      "cell_type": "markdown",
      "source": [
        "## 연도별 영화 개수 분석"
      ],
      "metadata": {
        "id": "dC4ki_Bu_unJ"
      }
    },
    {
      "cell_type": "code",
      "source": [
        "movies.head()"
      ],
      "metadata": {
        "colab": {
          "base_uri": "https://localhost:8080/",
          "height": 206
        },
        "id": "nkxg1Owe_xO2",
        "outputId": "ebed54ba-99e6-4fae-e65e-fab3934dff4e"
      },
      "execution_count": null,
      "outputs": [
        {
          "output_type": "execute_result",
          "data": {
            "text/plain": [
              "   movie_id                               title                        genres\n",
              "0         1                    Toy Story (1995)   Animation|Children's|Comedy\n",
              "1         2                      Jumanji (1995)  Adventure|Children's|Fantasy\n",
              "2         3             Grumpier Old Men (1995)                Comedy|Romance\n",
              "3         4            Waiting to Exhale (1995)                  Comedy|Drama\n",
              "4         5  Father of the Bride Part II (1995)                        Comedy"
            ],
            "text/html": [
              "\n",
              "  <div id=\"df-8c3d626b-3024-4a73-9628-b293ece2c8ad\">\n",
              "    <div class=\"colab-df-container\">\n",
              "      <div>\n",
              "<style scoped>\n",
              "    .dataframe tbody tr th:only-of-type {\n",
              "        vertical-align: middle;\n",
              "    }\n",
              "\n",
              "    .dataframe tbody tr th {\n",
              "        vertical-align: top;\n",
              "    }\n",
              "\n",
              "    .dataframe thead th {\n",
              "        text-align: right;\n",
              "    }\n",
              "</style>\n",
              "<table border=\"1\" class=\"dataframe\">\n",
              "  <thead>\n",
              "    <tr style=\"text-align: right;\">\n",
              "      <th></th>\n",
              "      <th>movie_id</th>\n",
              "      <th>title</th>\n",
              "      <th>genres</th>\n",
              "    </tr>\n",
              "  </thead>\n",
              "  <tbody>\n",
              "    <tr>\n",
              "      <th>0</th>\n",
              "      <td>1</td>\n",
              "      <td>Toy Story (1995)</td>\n",
              "      <td>Animation|Children's|Comedy</td>\n",
              "    </tr>\n",
              "    <tr>\n",
              "      <th>1</th>\n",
              "      <td>2</td>\n",
              "      <td>Jumanji (1995)</td>\n",
              "      <td>Adventure|Children's|Fantasy</td>\n",
              "    </tr>\n",
              "    <tr>\n",
              "      <th>2</th>\n",
              "      <td>3</td>\n",
              "      <td>Grumpier Old Men (1995)</td>\n",
              "      <td>Comedy|Romance</td>\n",
              "    </tr>\n",
              "    <tr>\n",
              "      <th>3</th>\n",
              "      <td>4</td>\n",
              "      <td>Waiting to Exhale (1995)</td>\n",
              "      <td>Comedy|Drama</td>\n",
              "    </tr>\n",
              "    <tr>\n",
              "      <th>4</th>\n",
              "      <td>5</td>\n",
              "      <td>Father of the Bride Part II (1995)</td>\n",
              "      <td>Comedy</td>\n",
              "    </tr>\n",
              "  </tbody>\n",
              "</table>\n",
              "</div>\n",
              "      <button class=\"colab-df-convert\" onclick=\"convertToInteractive('df-8c3d626b-3024-4a73-9628-b293ece2c8ad')\"\n",
              "              title=\"Convert this dataframe to an interactive table.\"\n",
              "              style=\"display:none;\">\n",
              "        \n",
              "  <svg xmlns=\"http://www.w3.org/2000/svg\" height=\"24px\"viewBox=\"0 0 24 24\"\n",
              "       width=\"24px\">\n",
              "    <path d=\"M0 0h24v24H0V0z\" fill=\"none\"/>\n",
              "    <path d=\"M18.56 5.44l.94 2.06.94-2.06 2.06-.94-2.06-.94-.94-2.06-.94 2.06-2.06.94zm-11 1L8.5 8.5l.94-2.06 2.06-.94-2.06-.94L8.5 2.5l-.94 2.06-2.06.94zm10 10l.94 2.06.94-2.06 2.06-.94-2.06-.94-.94-2.06-.94 2.06-2.06.94z\"/><path d=\"M17.41 7.96l-1.37-1.37c-.4-.4-.92-.59-1.43-.59-.52 0-1.04.2-1.43.59L10.3 9.45l-7.72 7.72c-.78.78-.78 2.05 0 2.83L4 21.41c.39.39.9.59 1.41.59.51 0 1.02-.2 1.41-.59l7.78-7.78 2.81-2.81c.8-.78.8-2.07 0-2.86zM5.41 20L4 18.59l7.72-7.72 1.47 1.35L5.41 20z\"/>\n",
              "  </svg>\n",
              "      </button>\n",
              "      \n",
              "  <style>\n",
              "    .colab-df-container {\n",
              "      display:flex;\n",
              "      flex-wrap:wrap;\n",
              "      gap: 12px;\n",
              "    }\n",
              "\n",
              "    .colab-df-convert {\n",
              "      background-color: #E8F0FE;\n",
              "      border: none;\n",
              "      border-radius: 50%;\n",
              "      cursor: pointer;\n",
              "      display: none;\n",
              "      fill: #1967D2;\n",
              "      height: 32px;\n",
              "      padding: 0 0 0 0;\n",
              "      width: 32px;\n",
              "    }\n",
              "\n",
              "    .colab-df-convert:hover {\n",
              "      background-color: #E2EBFA;\n",
              "      box-shadow: 0px 1px 2px rgba(60, 64, 67, 0.3), 0px 1px 3px 1px rgba(60, 64, 67, 0.15);\n",
              "      fill: #174EA6;\n",
              "    }\n",
              "\n",
              "    [theme=dark] .colab-df-convert {\n",
              "      background-color: #3B4455;\n",
              "      fill: #D2E3FC;\n",
              "    }\n",
              "\n",
              "    [theme=dark] .colab-df-convert:hover {\n",
              "      background-color: #434B5C;\n",
              "      box-shadow: 0px 1px 3px 1px rgba(0, 0, 0, 0.15);\n",
              "      filter: drop-shadow(0px 1px 2px rgba(0, 0, 0, 0.3));\n",
              "      fill: #FFFFFF;\n",
              "    }\n",
              "  </style>\n",
              "\n",
              "      <script>\n",
              "        const buttonEl =\n",
              "          document.querySelector('#df-8c3d626b-3024-4a73-9628-b293ece2c8ad button.colab-df-convert');\n",
              "        buttonEl.style.display =\n",
              "          google.colab.kernel.accessAllowed ? 'block' : 'none';\n",
              "\n",
              "        async function convertToInteractive(key) {\n",
              "          const element = document.querySelector('#df-8c3d626b-3024-4a73-9628-b293ece2c8ad');\n",
              "          const dataTable =\n",
              "            await google.colab.kernel.invokeFunction('convertToInteractive',\n",
              "                                                     [key], {});\n",
              "          if (!dataTable) return;\n",
              "\n",
              "          const docLinkHtml = 'Like what you see? Visit the ' +\n",
              "            '<a target=\"_blank\" href=https://colab.research.google.com/notebooks/data_table.ipynb>data table notebook</a>'\n",
              "            + ' to learn more about interactive tables.';\n",
              "          element.innerHTML = '';\n",
              "          dataTable['output_type'] = 'display_data';\n",
              "          await google.colab.output.renderOutput(dataTable, element);\n",
              "          const docLink = document.createElement('div');\n",
              "          docLink.innerHTML = docLinkHtml;\n",
              "          element.appendChild(docLink);\n",
              "        }\n",
              "      </script>\n",
              "    </div>\n",
              "  </div>\n",
              "  "
            ]
          },
          "metadata": {},
          "execution_count": 141
        }
      ]
    },
    {
      "cell_type": "code",
      "source": [
        "movies.title.iloc[0][-5:-1] # string type임. # [0] 인덱싱한거는, 첫 영화를 보기 위하여."
      ],
      "metadata": {
        "colab": {
          "base_uri": "https://localhost:8080/",
          "height": 35
        },
        "id": "vkSl1rRNAO02",
        "outputId": "da006d9a-9f34-4974-fc61-461b41c701d5"
      },
      "execution_count": null,
      "outputs": [
        {
          "output_type": "execute_result",
          "data": {
            "text/plain": [
              "'1995'"
            ],
            "application/vnd.google.colaboratory.intrinsic+json": {
              "type": "string"
            }
          },
          "metadata": {},
          "execution_count": 142
        }
      ]
    },
    {
      "cell_type": "code",
      "source": [
        "# 데이터프레임에 파생변수(새로운 컬럼)을 추가\n",
        "movies['year'] = movies.title.str[-5:-1].astype('int')"
      ],
      "metadata": {
        "id": "8iAGA6HaAzAP"
      },
      "execution_count": null,
      "outputs": []
    },
    {
      "cell_type": "code",
      "source": [
        "movies.title.str[-5:-1].astype('int')"
      ],
      "metadata": {
        "colab": {
          "base_uri": "https://localhost:8080/"
        },
        "id": "TJMCOb4mBDJh",
        "outputId": "cb27e940-4174-4560-aa12-75843597fb9d"
      },
      "execution_count": null,
      "outputs": [
        {
          "output_type": "execute_result",
          "data": {
            "text/plain": [
              "0       1995\n",
              "1       1995\n",
              "2       1995\n",
              "3       1995\n",
              "4       1995\n",
              "        ... \n",
              "3878    2000\n",
              "3879    2000\n",
              "3880    2000\n",
              "3881    2000\n",
              "3882    2000\n",
              "Name: title, Length: 3883, dtype: int64"
            ]
          },
          "metadata": {},
          "execution_count": 144
        }
      ]
    },
    {
      "cell_type": "code",
      "source": [
        "movies.head()"
      ],
      "metadata": {
        "colab": {
          "base_uri": "https://localhost:8080/",
          "height": 206
        },
        "id": "ayjmxbzKBQLd",
        "outputId": "92d12388-da29-494a-8b13-2f20649d1632"
      },
      "execution_count": null,
      "outputs": [
        {
          "output_type": "execute_result",
          "data": {
            "text/plain": [
              "   movie_id                               title                        genres  \\\n",
              "0         1                    Toy Story (1995)   Animation|Children's|Comedy   \n",
              "1         2                      Jumanji (1995)  Adventure|Children's|Fantasy   \n",
              "2         3             Grumpier Old Men (1995)                Comedy|Romance   \n",
              "3         4            Waiting to Exhale (1995)                  Comedy|Drama   \n",
              "4         5  Father of the Bride Part II (1995)                        Comedy   \n",
              "\n",
              "   year  \n",
              "0  1995  \n",
              "1  1995  \n",
              "2  1995  \n",
              "3  1995  \n",
              "4  1995  "
            ],
            "text/html": [
              "\n",
              "  <div id=\"df-ab02b634-7b77-4cf4-83e4-5a186926f708\">\n",
              "    <div class=\"colab-df-container\">\n",
              "      <div>\n",
              "<style scoped>\n",
              "    .dataframe tbody tr th:only-of-type {\n",
              "        vertical-align: middle;\n",
              "    }\n",
              "\n",
              "    .dataframe tbody tr th {\n",
              "        vertical-align: top;\n",
              "    }\n",
              "\n",
              "    .dataframe thead th {\n",
              "        text-align: right;\n",
              "    }\n",
              "</style>\n",
              "<table border=\"1\" class=\"dataframe\">\n",
              "  <thead>\n",
              "    <tr style=\"text-align: right;\">\n",
              "      <th></th>\n",
              "      <th>movie_id</th>\n",
              "      <th>title</th>\n",
              "      <th>genres</th>\n",
              "      <th>year</th>\n",
              "    </tr>\n",
              "  </thead>\n",
              "  <tbody>\n",
              "    <tr>\n",
              "      <th>0</th>\n",
              "      <td>1</td>\n",
              "      <td>Toy Story (1995)</td>\n",
              "      <td>Animation|Children's|Comedy</td>\n",
              "      <td>1995</td>\n",
              "    </tr>\n",
              "    <tr>\n",
              "      <th>1</th>\n",
              "      <td>2</td>\n",
              "      <td>Jumanji (1995)</td>\n",
              "      <td>Adventure|Children's|Fantasy</td>\n",
              "      <td>1995</td>\n",
              "    </tr>\n",
              "    <tr>\n",
              "      <th>2</th>\n",
              "      <td>3</td>\n",
              "      <td>Grumpier Old Men (1995)</td>\n",
              "      <td>Comedy|Romance</td>\n",
              "      <td>1995</td>\n",
              "    </tr>\n",
              "    <tr>\n",
              "      <th>3</th>\n",
              "      <td>4</td>\n",
              "      <td>Waiting to Exhale (1995)</td>\n",
              "      <td>Comedy|Drama</td>\n",
              "      <td>1995</td>\n",
              "    </tr>\n",
              "    <tr>\n",
              "      <th>4</th>\n",
              "      <td>5</td>\n",
              "      <td>Father of the Bride Part II (1995)</td>\n",
              "      <td>Comedy</td>\n",
              "      <td>1995</td>\n",
              "    </tr>\n",
              "  </tbody>\n",
              "</table>\n",
              "</div>\n",
              "      <button class=\"colab-df-convert\" onclick=\"convertToInteractive('df-ab02b634-7b77-4cf4-83e4-5a186926f708')\"\n",
              "              title=\"Convert this dataframe to an interactive table.\"\n",
              "              style=\"display:none;\">\n",
              "        \n",
              "  <svg xmlns=\"http://www.w3.org/2000/svg\" height=\"24px\"viewBox=\"0 0 24 24\"\n",
              "       width=\"24px\">\n",
              "    <path d=\"M0 0h24v24H0V0z\" fill=\"none\"/>\n",
              "    <path d=\"M18.56 5.44l.94 2.06.94-2.06 2.06-.94-2.06-.94-.94-2.06-.94 2.06-2.06.94zm-11 1L8.5 8.5l.94-2.06 2.06-.94-2.06-.94L8.5 2.5l-.94 2.06-2.06.94zm10 10l.94 2.06.94-2.06 2.06-.94-2.06-.94-.94-2.06-.94 2.06-2.06.94z\"/><path d=\"M17.41 7.96l-1.37-1.37c-.4-.4-.92-.59-1.43-.59-.52 0-1.04.2-1.43.59L10.3 9.45l-7.72 7.72c-.78.78-.78 2.05 0 2.83L4 21.41c.39.39.9.59 1.41.59.51 0 1.02-.2 1.41-.59l7.78-7.78 2.81-2.81c.8-.78.8-2.07 0-2.86zM5.41 20L4 18.59l7.72-7.72 1.47 1.35L5.41 20z\"/>\n",
              "  </svg>\n",
              "      </button>\n",
              "      \n",
              "  <style>\n",
              "    .colab-df-container {\n",
              "      display:flex;\n",
              "      flex-wrap:wrap;\n",
              "      gap: 12px;\n",
              "    }\n",
              "\n",
              "    .colab-df-convert {\n",
              "      background-color: #E8F0FE;\n",
              "      border: none;\n",
              "      border-radius: 50%;\n",
              "      cursor: pointer;\n",
              "      display: none;\n",
              "      fill: #1967D2;\n",
              "      height: 32px;\n",
              "      padding: 0 0 0 0;\n",
              "      width: 32px;\n",
              "    }\n",
              "\n",
              "    .colab-df-convert:hover {\n",
              "      background-color: #E2EBFA;\n",
              "      box-shadow: 0px 1px 2px rgba(60, 64, 67, 0.3), 0px 1px 3px 1px rgba(60, 64, 67, 0.15);\n",
              "      fill: #174EA6;\n",
              "    }\n",
              "\n",
              "    [theme=dark] .colab-df-convert {\n",
              "      background-color: #3B4455;\n",
              "      fill: #D2E3FC;\n",
              "    }\n",
              "\n",
              "    [theme=dark] .colab-df-convert:hover {\n",
              "      background-color: #434B5C;\n",
              "      box-shadow: 0px 1px 3px 1px rgba(0, 0, 0, 0.15);\n",
              "      filter: drop-shadow(0px 1px 2px rgba(0, 0, 0, 0.3));\n",
              "      fill: #FFFFFF;\n",
              "    }\n",
              "  </style>\n",
              "\n",
              "      <script>\n",
              "        const buttonEl =\n",
              "          document.querySelector('#df-ab02b634-7b77-4cf4-83e4-5a186926f708 button.colab-df-convert');\n",
              "        buttonEl.style.display =\n",
              "          google.colab.kernel.accessAllowed ? 'block' : 'none';\n",
              "\n",
              "        async function convertToInteractive(key) {\n",
              "          const element = document.querySelector('#df-ab02b634-7b77-4cf4-83e4-5a186926f708');\n",
              "          const dataTable =\n",
              "            await google.colab.kernel.invokeFunction('convertToInteractive',\n",
              "                                                     [key], {});\n",
              "          if (!dataTable) return;\n",
              "\n",
              "          const docLinkHtml = 'Like what you see? Visit the ' +\n",
              "            '<a target=\"_blank\" href=https://colab.research.google.com/notebooks/data_table.ipynb>data table notebook</a>'\n",
              "            + ' to learn more about interactive tables.';\n",
              "          element.innerHTML = '';\n",
              "          dataTable['output_type'] = 'display_data';\n",
              "          await google.colab.output.renderOutput(dataTable, element);\n",
              "          const docLink = document.createElement('div');\n",
              "          docLink.innerHTML = docLinkHtml;\n",
              "          element.appendChild(docLink);\n",
              "        }\n",
              "      </script>\n",
              "    </div>\n",
              "  </div>\n",
              "  "
            ]
          },
          "metadata": {},
          "execution_count": 145
        }
      ]
    },
    {
      "cell_type": "code",
      "source": [
        "year_counts = movies.year.value_counts()\n",
        "year_counts"
      ],
      "metadata": {
        "colab": {
          "base_uri": "https://localhost:8080/"
        },
        "id": "qdae9ojPBS17",
        "outputId": "17b42e3b-84af-45b9-c1aa-79db7ebc8f2b"
      },
      "execution_count": null,
      "outputs": [
        {
          "output_type": "execute_result",
          "data": {
            "text/plain": [
              "1996    345\n",
              "1995    342\n",
              "1998    337\n",
              "1997    315\n",
              "1999    283\n",
              "       ... \n",
              "1923      3\n",
              "1919      3\n",
              "1922      2\n",
              "1920      2\n",
              "1921      1\n",
              "Name: year, Length: 81, dtype: int64"
            ]
          },
          "metadata": {},
          "execution_count": 146
        }
      ]
    },
    {
      "cell_type": "code",
      "source": [
        "# sns.barplot(x=year_counts.index, y=year_counts.values)\n",
        "plt.bar(x=year_counts.index, height=year_counts.values)\n",
        "# plt.xticks(ticks=np.arange(0, 100, 10), labels=np.arange(1920, 2010, 10))\n",
        "plt.show()"
      ],
      "metadata": {
        "colab": {
          "base_uri": "https://localhost:8080/",
          "height": 265
        },
        "id": "VKz0uK-vknT8",
        "outputId": "49760945-d326-4efc-a022-1ec67551fa61"
      },
      "execution_count": null,
      "outputs": [
        {
          "output_type": "display_data",
          "data": {
            "text/plain": [
              "<Figure size 432x288 with 1 Axes>"
            ],
            "image/png": "[encoded data removed]"
          },
          "metadata": {
            "needs_background": "light"
          }
        }
      ]
    },
    {
      "cell_type": "code",
      "source": [
        "sns.lineplot(x=year_counts.index, y=year_counts.values)\n",
        "plt.xlabel('Year')\n",
        "plt.ylabel('# of movies')\n",
        "plt.show()"
      ],
      "metadata": {
        "colab": {
          "base_uri": "https://localhost:8080/",
          "height": 279
        },
        "id": "dDYetC-1kpQ_",
        "outputId": "4018c0db-4c3b-4ff7-c8cf-2afafb5470ee"
      },
      "execution_count": null,
      "outputs": [
        {
          "output_type": "display_data",
          "data": {
            "text/plain": [
              "<Figure size 432x288 with 1 Axes>"
            ],
            "image/png": "[encoded data removed]"
          },
          "metadata": {
            "needs_background": "light"
          }
        }
      ]
    },
    {
      "cell_type": "code",
      "source": [
        "plt.plot(year_counts.index, year_counts.values)\n",
        "plt.show()"
      ],
      "metadata": {
        "colab": {
          "base_uri": "https://localhost:8080/",
          "height": 265
        },
        "id": "WTTL34zIkpTI",
        "outputId": "f6c42251-d989-4d88-856c-afe9df93f469"
      },
      "execution_count": null,
      "outputs": [
        {
          "output_type": "display_data",
          "data": {
            "text/plain": [
              "<Figure size 432x288 with 1 Axes>"
            ],
            "image/png": "[encoded data removed]"
          },
          "metadata": {
            "needs_background": "light"
          }
        }
      ]
    },
    {
      "cell_type": "code",
      "source": [
        "year_counts2 = year_counts.sort_index()\n",
        "# print(year_counts2)\n",
        "plt.plot(year_counts2.index, year_counts2.values)\n",
        "plt.show()"
      ],
      "metadata": {
        "colab": {
          "base_uri": "https://localhost:8080/",
          "height": 265
        },
        "id": "SA8TSoASkpWb",
        "outputId": "b35dc4d9-afdc-420d-d74a-861c4002b49f"
      },
      "execution_count": null,
      "outputs": [
        {
          "output_type": "display_data",
          "data": {
            "text/plain": [
              "<Figure size 432x288 with 1 Axes>"
            ],
            "image/png": "[encoded data removed]"
          },
          "metadata": {
            "needs_background": "light"
          }
        }
      ]
    },
    {
      "cell_type": "markdown",
      "source": [
        "# DataFrame 합치기(`merge`)"
      ],
      "metadata": {
        "id": "mh3h0vP-kvxQ"
      }
    },
    {
      "cell_type": "code",
      "source": [
        "# 데이터 파일의 GitHub 경로\n",
        "movies_file = 'https://github.com/wesm/pydata-book/raw/3rd-edition/datasets/movielens/movies.dat'\n",
        "ratings_file = 'https://github.com/wesm/pydata-book/raw/3rd-edition/datasets/movielens/ratings.dat'\n",
        "users_file = 'https://github.com/wesm/pydata-book/raw/3rd-edition/datasets/movielens/users.dat'"
      ],
      "metadata": {
        "id": "9GH46FaykxUS"
      },
      "execution_count": null,
      "outputs": []
    },
    {
      "cell_type": "code",
      "source": [
        "# 데이터프레임의 컬럼 이름 정의\n",
        "movies_colnames = ['movie_id', 'title', 'genres']\n",
        "ratings_colnames = ['user_id', 'movie_id', 'rating', 'timestamp']\n",
        "users_colnames = ['user_id', 'gender', 'age', 'occupation', 'zipcode']"
      ],
      "metadata": {
        "id": "F1bub36GkxW_"
      },
      "execution_count": null,
      "outputs": []
    },
    {
      "cell_type": "code",
      "source": [
        "movies = pd.read_csv(movies_file, sep='::', engine='python', names=movies_colnames)"
      ],
      "metadata": {
        "id": "K2cz1s4kkxZv"
      },
      "execution_count": null,
      "outputs": []
    },
    {
      "cell_type": "code",
      "source": [
        "movies.head()"
      ],
      "metadata": {
        "colab": {
          "base_uri": "https://localhost:8080/",
          "height": 206
        },
        "id": "_NEXNyank1ch",
        "outputId": "fa876634-01dc-452d-f89e-9d55544dc5ac"
      },
      "execution_count": null,
      "outputs": [
        {
          "output_type": "execute_result",
          "data": {
            "text/plain": [
              "   movie_id                               title                        genres\n",
              "0         1                    Toy Story (1995)   Animation|Children's|Comedy\n",
              "1         2                      Jumanji (1995)  Adventure|Children's|Fantasy\n",
              "2         3             Grumpier Old Men (1995)                Comedy|Romance\n",
              "3         4            Waiting to Exhale (1995)                  Comedy|Drama\n",
              "4         5  Father of the Bride Part II (1995)                        Comedy"
            ],
            "text/html": [
              "\n",
              "  <div id=\"df-c8ca8d58-7803-4b75-8015-a42d5a86f489\">\n",
              "    <div class=\"colab-df-container\">\n",
              "      <div>\n",
              "<style scoped>\n",
              "    .dataframe tbody tr th:only-of-type {\n",
              "        vertical-align: middle;\n",
              "    }\n",
              "\n",
              "    .dataframe tbody tr th {\n",
              "        vertical-align: top;\n",
              "    }\n",
              "\n",
              "    .dataframe thead th {\n",
              "        text-align: right;\n",
              "    }\n",
              "</style>\n",
              "<table border=\"1\" class=\"dataframe\">\n",
              "  <thead>\n",
              "    <tr style=\"text-align: right;\">\n",
              "      <th></th>\n",
              "      <th>movie_id</th>\n",
              "      <th>title</th>\n",
              "      <th>genres</th>\n",
              "    </tr>\n",
              "  </thead>\n",
              "  <tbody>\n",
              "    <tr>\n",
              "      <th>0</th>\n",
              "      <td>1</td>\n",
              "      <td>Toy Story (1995)</td>\n",
              "      <td>Animation|Children's|Comedy</td>\n",
              "    </tr>\n",
              "    <tr>\n",
              "      <th>1</th>\n",
              "      <td>2</td>\n",
              "      <td>Jumanji (1995)</td>\n",
              "      <td>Adventure|Children's|Fantasy</td>\n",
              "    </tr>\n",
              "    <tr>\n",
              "      <th>2</th>\n",
              "      <td>3</td>\n",
              "      <td>Grumpier Old Men (1995)</td>\n",
              "      <td>Comedy|Romance</td>\n",
              "    </tr>\n",
              "    <tr>\n",
              "      <th>3</th>\n",
              "      <td>4</td>\n",
              "      <td>Waiting to Exhale (1995)</td>\n",
              "      <td>Comedy|Drama</td>\n",
              "    </tr>\n",
              "    <tr>\n",
              "      <th>4</th>\n",
              "      <td>5</td>\n",
              "      <td>Father of the Bride Part II (1995)</td>\n",
              "      <td>Comedy</td>\n",
              "    </tr>\n",
              "  </tbody>\n",
              "</table>\n",
              "</div>\n",
              "      <button class=\"colab-df-convert\" onclick=\"convertToInteractive('df-c8ca8d58-7803-4b75-8015-a42d5a86f489')\"\n",
              "              title=\"Convert this dataframe to an interactive table.\"\n",
              "              style=\"display:none;\">\n",
              "        \n",
              "  <svg xmlns=\"http://www.w3.org/2000/svg\" height=\"24px\"viewBox=\"0 0 24 24\"\n",
              "       width=\"24px\">\n",
              "    <path d=\"M0 0h24v24H0V0z\" fill=\"none\"/>\n",
              "    <path d=\"M18.56 5.44l.94 2.06.94-2.06 2.06-.94-2.06-.94-.94-2.06-.94 2.06-2.06.94zm-11 1L8.5 8.5l.94-2.06 2.06-.94-2.06-.94L8.5 2.5l-.94 2.06-2.06.94zm10 10l.94 2.06.94-2.06 2.06-.94-2.06-.94-.94-2.06-.94 2.06-2.06.94z\"/><path d=\"M17.41 7.96l-1.37-1.37c-.4-.4-.92-.59-1.43-.59-.52 0-1.04.2-1.43.59L10.3 9.45l-7.72 7.72c-.78.78-.78 2.05 0 2.83L4 21.41c.39.39.9.59 1.41.59.51 0 1.02-.2 1.41-.59l7.78-7.78 2.81-2.81c.8-.78.8-2.07 0-2.86zM5.41 20L4 18.59l7.72-7.72 1.47 1.35L5.41 20z\"/>\n",
              "  </svg>\n",
              "      </button>\n",
              "      \n",
              "  <style>\n",
              "    .colab-df-container {\n",
              "      display:flex;\n",
              "      flex-wrap:wrap;\n",
              "      gap: 12px;\n",
              "    }\n",
              "\n",
              "    .colab-df-convert {\n",
              "      background-color: #E8F0FE;\n",
              "      border: none;\n",
              "      border-radius: 50%;\n",
              "      cursor: pointer;\n",
              "      display: none;\n",
              "      fill: #1967D2;\n",
              "      height: 32px;\n",
              "      padding: 0 0 0 0;\n",
              "      width: 32px;\n",
              "    }\n",
              "\n",
              "    .colab-df-convert:hover {\n",
              "      background-color: #E2EBFA;\n",
              "      box-shadow: 0px 1px 2px rgba(60, 64, 67, 0.3), 0px 1px 3px 1px rgba(60, 64, 67, 0.15);\n",
              "      fill: #174EA6;\n",
              "    }\n",
              "\n",
              "    [theme=dark] .colab-df-convert {\n",
              "      background-color: #3B4455;\n",
              "      fill: #D2E3FC;\n",
              "    }\n",
              "\n",
              "    [theme=dark] .colab-df-convert:hover {\n",
              "      background-color: #434B5C;\n",
              "      box-shadow: 0px 1px 3px 1px rgba(0, 0, 0, 0.15);\n",
              "      filter: drop-shadow(0px 1px 2px rgba(0, 0, 0, 0.3));\n",
              "      fill: #FFFFFF;\n",
              "    }\n",
              "  </style>\n",
              "\n",
              "      <script>\n",
              "        const buttonEl =\n",
              "          document.querySelector('#df-c8ca8d58-7803-4b75-8015-a42d5a86f489 button.colab-df-convert');\n",
              "        buttonEl.style.display =\n",
              "          google.colab.kernel.accessAllowed ? 'block' : 'none';\n",
              "\n",
              "        async function convertToInteractive(key) {\n",
              "          const element = document.querySelector('#df-c8ca8d58-7803-4b75-8015-a42d5a86f489');\n",
              "          const dataTable =\n",
              "            await google.colab.kernel.invokeFunction('convertToInteractive',\n",
              "                                                     [key], {});\n",
              "          if (!dataTable) return;\n",
              "\n",
              "          const docLinkHtml = 'Like what you see? Visit the ' +\n",
              "            '<a target=\"_blank\" href=https://colab.research.google.com/notebooks/data_table.ipynb>data table notebook</a>'\n",
              "            + ' to learn more about interactive tables.';\n",
              "          element.innerHTML = '';\n",
              "          dataTable['output_type'] = 'display_data';\n",
              "          await google.colab.output.renderOutput(dataTable, element);\n",
              "          const docLink = document.createElement('div');\n",
              "          docLink.innerHTML = docLinkHtml;\n",
              "          element.appendChild(docLink);\n",
              "        }\n",
              "      </script>\n",
              "    </div>\n",
              "  </div>\n",
              "  "
            ]
          },
          "metadata": {},
          "execution_count": 154
        }
      ]
    },
    {
      "cell_type": "code",
      "source": [
        "movies.tail()"
      ],
      "metadata": {
        "colab": {
          "base_uri": "https://localhost:8080/",
          "height": 206
        },
        "id": "z8xe60u2k1fD",
        "outputId": "767a71d8-1558-4354-b503-2a00072bf870"
      },
      "execution_count": null,
      "outputs": [
        {
          "output_type": "execute_result",
          "data": {
            "text/plain": [
              "      movie_id                       title          genres\n",
              "3878      3948     Meet the Parents (2000)          Comedy\n",
              "3879      3949  Requiem for a Dream (2000)           Drama\n",
              "3880      3950            Tigerland (2000)           Drama\n",
              "3881      3951     Two Family House (2000)           Drama\n",
              "3882      3952       Contender, The (2000)  Drama|Thriller"
            ],
            "text/html": [
              "\n",
              "  <div id=\"df-492a94ef-1b2c-4af3-b2cc-a1e2cd120d7c\">\n",
              "    <div class=\"colab-df-container\">\n",
              "      <div>\n",
              "<style scoped>\n",
              "    .dataframe tbody tr th:only-of-type {\n",
              "        vertical-align: middle;\n",
              "    }\n",
              "\n",
              "    .dataframe tbody tr th {\n",
              "        vertical-align: top;\n",
              "    }\n",
              "\n",
              "    .dataframe thead th {\n",
              "        text-align: right;\n",
              "    }\n",
              "</style>\n",
              "<table border=\"1\" class=\"dataframe\">\n",
              "  <thead>\n",
              "    <tr style=\"text-align: right;\">\n",
              "      <th></th>\n",
              "      <th>movie_id</th>\n",
              "      <th>title</th>\n",
              "      <th>genres</th>\n",
              "    </tr>\n",
              "  </thead>\n",
              "  <tbody>\n",
              "    <tr>\n",
              "      <th>3878</th>\n",
              "      <td>3948</td>\n",
              "      <td>Meet the Parents (2000)</td>\n",
              "      <td>Comedy</td>\n",
              "    </tr>\n",
              "    <tr>\n",
              "      <th>3879</th>\n",
              "      <td>3949</td>\n",
              "      <td>Requiem for a Dream (2000)</td>\n",
              "      <td>Drama</td>\n",
              "    </tr>\n",
              "    <tr>\n",
              "      <th>3880</th>\n",
              "      <td>3950</td>\n",
              "      <td>Tigerland (2000)</td>\n",
              "      <td>Drama</td>\n",
              "    </tr>\n",
              "    <tr>\n",
              "      <th>3881</th>\n",
              "      <td>3951</td>\n",
              "      <td>Two Family House (2000)</td>\n",
              "      <td>Drama</td>\n",
              "    </tr>\n",
              "    <tr>\n",
              "      <th>3882</th>\n",
              "      <td>3952</td>\n",
              "      <td>Contender, The (2000)</td>\n",
              "      <td>Drama|Thriller</td>\n",
              "    </tr>\n",
              "  </tbody>\n",
              "</table>\n",
              "</div>\n",
              "      <button class=\"colab-df-convert\" onclick=\"convertToInteractive('df-492a94ef-1b2c-4af3-b2cc-a1e2cd120d7c')\"\n",
              "              title=\"Convert this dataframe to an interactive table.\"\n",
              "              style=\"display:none;\">\n",
              "        \n",
              "  <svg xmlns=\"http://www.w3.org/2000/svg\" height=\"24px\"viewBox=\"0 0 24 24\"\n",
              "       width=\"24px\">\n",
              "    <path d=\"M0 0h24v24H0V0z\" fill=\"none\"/>\n",
              "    <path d=\"M18.56 5.44l.94 2.06.94-2.06 2.06-.94-2.06-.94-.94-2.06-.94 2.06-2.06.94zm-11 1L8.5 8.5l.94-2.06 2.06-.94-2.06-.94L8.5 2.5l-.94 2.06-2.06.94zm10 10l.94 2.06.94-2.06 2.06-.94-2.06-.94-.94-2.06-.94 2.06-2.06.94z\"/><path d=\"M17.41 7.96l-1.37-1.37c-.4-.4-.92-.59-1.43-.59-.52 0-1.04.2-1.43.59L10.3 9.45l-7.72 7.72c-.78.78-.78 2.05 0 2.83L4 21.41c.39.39.9.59 1.41.59.51 0 1.02-.2 1.41-.59l7.78-7.78 2.81-2.81c.8-.78.8-2.07 0-2.86zM5.41 20L4 18.59l7.72-7.72 1.47 1.35L5.41 20z\"/>\n",
              "  </svg>\n",
              "      </button>\n",
              "      \n",
              "  <style>\n",
              "    .colab-df-container {\n",
              "      display:flex;\n",
              "      flex-wrap:wrap;\n",
              "      gap: 12px;\n",
              "    }\n",
              "\n",
              "    .colab-df-convert {\n",
              "      background-color: #E8F0FE;\n",
              "      border: none;\n",
              "      border-radius: 50%;\n",
              "      cursor: pointer;\n",
              "      display: none;\n",
              "      fill: #1967D2;\n",
              "      height: 32px;\n",
              "      padding: 0 0 0 0;\n",
              "      width: 32px;\n",
              "    }\n",
              "\n",
              "    .colab-df-convert:hover {\n",
              "      background-color: #E2EBFA;\n",
              "      box-shadow: 0px 1px 2px rgba(60, 64, 67, 0.3), 0px 1px 3px 1px rgba(60, 64, 67, 0.15);\n",
              "      fill: #174EA6;\n",
              "    }\n",
              "\n",
              "    [theme=dark] .colab-df-convert {\n",
              "      background-color: #3B4455;\n",
              "      fill: #D2E3FC;\n",
              "    }\n",
              "\n",
              "    [theme=dark] .colab-df-convert:hover {\n",
              "      background-color: #434B5C;\n",
              "      box-shadow: 0px 1px 3px 1px rgba(0, 0, 0, 0.15);\n",
              "      filter: drop-shadow(0px 1px 2px rgba(0, 0, 0, 0.3));\n",
              "      fill: #FFFFFF;\n",
              "    }\n",
              "  </style>\n",
              "\n",
              "      <script>\n",
              "        const buttonEl =\n",
              "          document.querySelector('#df-492a94ef-1b2c-4af3-b2cc-a1e2cd120d7c button.colab-df-convert');\n",
              "        buttonEl.style.display =\n",
              "          google.colab.kernel.accessAllowed ? 'block' : 'none';\n",
              "\n",
              "        async function convertToInteractive(key) {\n",
              "          const element = document.querySelector('#df-492a94ef-1b2c-4af3-b2cc-a1e2cd120d7c');\n",
              "          const dataTable =\n",
              "            await google.colab.kernel.invokeFunction('convertToInteractive',\n",
              "                                                     [key], {});\n",
              "          if (!dataTable) return;\n",
              "\n",
              "          const docLinkHtml = 'Like what you see? Visit the ' +\n",
              "            '<a target=\"_blank\" href=https://colab.research.google.com/notebooks/data_table.ipynb>data table notebook</a>'\n",
              "            + ' to learn more about interactive tables.';\n",
              "          element.innerHTML = '';\n",
              "          dataTable['output_type'] = 'display_data';\n",
              "          await google.colab.output.renderOutput(dataTable, element);\n",
              "          const docLink = document.createElement('div');\n",
              "          docLink.innerHTML = docLinkHtml;\n",
              "          element.appendChild(docLink);\n",
              "        }\n",
              "      </script>\n",
              "    </div>\n",
              "  </div>\n",
              "  "
            ]
          },
          "metadata": {},
          "execution_count": 155
        }
      ]
    },
    {
      "cell_type": "code",
      "source": [
        "ratings = pd.read_csv(ratings_file, sep='::', engine='python', names=ratings_colnames)"
      ],
      "metadata": {
        "id": "YOhJH4qwk1hp"
      },
      "execution_count": null,
      "outputs": []
    },
    {
      "cell_type": "code",
      "source": [
        "ratings.head()"
      ],
      "metadata": {
        "colab": {
          "base_uri": "https://localhost:8080/",
          "height": 206
        },
        "id": "CqcDxRW2k1kL",
        "outputId": "668db459-c913-4846-cbf0-09f44295b924"
      },
      "execution_count": null,
      "outputs": [
        {
          "output_type": "execute_result",
          "data": {
            "text/plain": [
              "   user_id  movie_id  rating  timestamp\n",
              "0        1      1193       5  978300760\n",
              "1        1       661       3  978302109\n",
              "2        1       914       3  978301968\n",
              "3        1      3408       4  978300275\n",
              "4        1      2355       5  978824291"
            ],
            "text/html": [
              "\n",
              "  <div id=\"df-8f813f65-08c1-4518-81c0-1fcaa6ca577e\">\n",
              "    <div class=\"colab-df-container\">\n",
              "      <div>\n",
              "<style scoped>\n",
              "    .dataframe tbody tr th:only-of-type {\n",
              "        vertical-align: middle;\n",
              "    }\n",
              "\n",
              "    .dataframe tbody tr th {\n",
              "        vertical-align: top;\n",
              "    }\n",
              "\n",
              "    .dataframe thead th {\n",
              "        text-align: right;\n",
              "    }\n",
              "</style>\n",
              "<table border=\"1\" class=\"dataframe\">\n",
              "  <thead>\n",
              "    <tr style=\"text-align: right;\">\n",
              "      <th></th>\n",
              "      <th>user_id</th>\n",
              "      <th>movie_id</th>\n",
              "      <th>rating</th>\n",
              "      <th>timestamp</th>\n",
              "    </tr>\n",
              "  </thead>\n",
              "  <tbody>\n",
              "    <tr>\n",
              "      <th>0</th>\n",
              "      <td>1</td>\n",
              "      <td>1193</td>\n",
              "      <td>5</td>\n",
              "      <td>978300760</td>\n",
              "    </tr>\n",
              "    <tr>\n",
              "      <th>1</th>\n",
              "      <td>1</td>\n",
              "      <td>661</td>\n",
              "      <td>3</td>\n",
              "      <td>978302109</td>\n",
              "    </tr>\n",
              "    <tr>\n",
              "      <th>2</th>\n",
              "      <td>1</td>\n",
              "      <td>914</td>\n",
              "      <td>3</td>\n",
              "      <td>978301968</td>\n",
              "    </tr>\n",
              "    <tr>\n",
              "      <th>3</th>\n",
              "      <td>1</td>\n",
              "      <td>3408</td>\n",
              "      <td>4</td>\n",
              "      <td>978300275</td>\n",
              "    </tr>\n",
              "    <tr>\n",
              "      <th>4</th>\n",
              "      <td>1</td>\n",
              "      <td>2355</td>\n",
              "      <td>5</td>\n",
              "      <td>978824291</td>\n",
              "    </tr>\n",
              "  </tbody>\n",
              "</table>\n",
              "</div>\n",
              "      <button class=\"colab-df-convert\" onclick=\"convertToInteractive('df-8f813f65-08c1-4518-81c0-1fcaa6ca577e')\"\n",
              "              title=\"Convert this dataframe to an interactive table.\"\n",
              "              style=\"display:none;\">\n",
              "        \n",
              "  <svg xmlns=\"http://www.w3.org/2000/svg\" height=\"24px\"viewBox=\"0 0 24 24\"\n",
              "       width=\"24px\">\n",
              "    <path d=\"M0 0h24v24H0V0z\" fill=\"none\"/>\n",
              "    <path d=\"M18.56 5.44l.94 2.06.94-2.06 2.06-.94-2.06-.94-.94-2.06-.94 2.06-2.06.94zm-11 1L8.5 8.5l.94-2.06 2.06-.94-2.06-.94L8.5 2.5l-.94 2.06-2.06.94zm10 10l.94 2.06.94-2.06 2.06-.94-2.06-.94-.94-2.06-.94 2.06-2.06.94z\"/><path d=\"M17.41 7.96l-1.37-1.37c-.4-.4-.92-.59-1.43-.59-.52 0-1.04.2-1.43.59L10.3 9.45l-7.72 7.72c-.78.78-.78 2.05 0 2.83L4 21.41c.39.39.9.59 1.41.59.51 0 1.02-.2 1.41-.59l7.78-7.78 2.81-2.81c.8-.78.8-2.07 0-2.86zM5.41 20L4 18.59l7.72-7.72 1.47 1.35L5.41 20z\"/>\n",
              "  </svg>\n",
              "      </button>\n",
              "      \n",
              "  <style>\n",
              "    .colab-df-container {\n",
              "      display:flex;\n",
              "      flex-wrap:wrap;\n",
              "      gap: 12px;\n",
              "    }\n",
              "\n",
              "    .colab-df-convert {\n",
              "      background-color: #E8F0FE;\n",
              "      border: none;\n",
              "      border-radius: 50%;\n",
              "      cursor: pointer;\n",
              "      display: none;\n",
              "      fill: #1967D2;\n",
              "      height: 32px;\n",
              "      padding: 0 0 0 0;\n",
              "      width: 32px;\n",
              "    }\n",
              "\n",
              "    .colab-df-convert:hover {\n",
              "      background-color: #E2EBFA;\n",
              "      box-shadow: 0px 1px 2px rgba(60, 64, 67, 0.3), 0px 1px 3px 1px rgba(60, 64, 67, 0.15);\n",
              "      fill: #174EA6;\n",
              "    }\n",
              "\n",
              "    [theme=dark] .colab-df-convert {\n",
              "      background-color: #3B4455;\n",
              "      fill: #D2E3FC;\n",
              "    }\n",
              "\n",
              "    [theme=dark] .colab-df-convert:hover {\n",
              "      background-color: #434B5C;\n",
              "      box-shadow: 0px 1px 3px 1px rgba(0, 0, 0, 0.15);\n",
              "      filter: drop-shadow(0px 1px 2px rgba(0, 0, 0, 0.3));\n",
              "      fill: #FFFFFF;\n",
              "    }\n",
              "  </style>\n",
              "\n",
              "      <script>\n",
              "        const buttonEl =\n",
              "          document.querySelector('#df-8f813f65-08c1-4518-81c0-1fcaa6ca577e button.colab-df-convert');\n",
              "        buttonEl.style.display =\n",
              "          google.colab.kernel.accessAllowed ? 'block' : 'none';\n",
              "\n",
              "        async function convertToInteractive(key) {\n",
              "          const element = document.querySelector('#df-8f813f65-08c1-4518-81c0-1fcaa6ca577e');\n",
              "          const dataTable =\n",
              "            await google.colab.kernel.invokeFunction('convertToInteractive',\n",
              "                                                     [key], {});\n",
              "          if (!dataTable) return;\n",
              "\n",
              "          const docLinkHtml = 'Like what you see? Visit the ' +\n",
              "            '<a target=\"_blank\" href=https://colab.research.google.com/notebooks/data_table.ipynb>data table notebook</a>'\n",
              "            + ' to learn more about interactive tables.';\n",
              "          element.innerHTML = '';\n",
              "          dataTable['output_type'] = 'display_data';\n",
              "          await google.colab.output.renderOutput(dataTable, element);\n",
              "          const docLink = document.createElement('div');\n",
              "          docLink.innerHTML = docLinkHtml;\n",
              "          element.appendChild(docLink);\n",
              "        }\n",
              "      </script>\n",
              "    </div>\n",
              "  </div>\n",
              "  "
            ]
          },
          "metadata": {},
          "execution_count": 157
        }
      ]
    },
    {
      "cell_type": "code",
      "source": [
        "ratings.info()"
      ],
      "metadata": {
        "colab": {
          "base_uri": "https://localhost:8080/"
        },
        "id": "XWW01R3Lk6fN",
        "outputId": "2294cc72-d432-405c-ce82-8acd5f0c1146"
      },
      "execution_count": null,
      "outputs": [
        {
          "output_type": "stream",
          "name": "stdout",
          "text": [
            "<class 'pandas.core.frame.DataFrame'>\n",
            "RangeIndex: 1000209 entries, 0 to 1000208\n",
            "Data columns (total 4 columns):\n",
            " #   Column     Non-Null Count    Dtype\n",
            "---  ------     --------------    -----\n",
            " 0   user_id    1000209 non-null  int64\n",
            " 1   movie_id   1000209 non-null  int64\n",
            " 2   rating     1000209 non-null  int64\n",
            " 3   timestamp  1000209 non-null  int64\n",
            "dtypes: int64(4)\n",
            "memory usage: 30.5 MB\n"
          ]
        }
      ]
    },
    {
      "cell_type": "code",
      "source": [
        "users = pd.read_csv(users_file, sep='::', engine='python', names=users_colnames)"
      ],
      "metadata": {
        "id": "xk3QuMxgk6iH"
      },
      "execution_count": null,
      "outputs": []
    },
    {
      "cell_type": "code",
      "source": [
        "users.head()"
      ],
      "metadata": {
        "colab": {
          "base_uri": "https://localhost:8080/",
          "height": 206
        },
        "id": "66a2I7_gk6k1",
        "outputId": "50bdd453-cfae-47bc-c51a-c9102381b1a3"
      },
      "execution_count": null,
      "outputs": [
        {
          "output_type": "execute_result",
          "data": {
            "text/plain": [
              "   user_id gender  age  occupation zipcode\n",
              "0        1      F    1          10   48067\n",
              "1        2      M   56          16   70072\n",
              "2        3      M   25          15   55117\n",
              "3        4      M   45           7   02460\n",
              "4        5      M   25          20   55455"
            ],
            "text/html": [
              "\n",
              "  <div id=\"df-382cb5ea-af59-40f1-8c0f-dc8491d994e3\">\n",
              "    <div class=\"colab-df-container\">\n",
              "      <div>\n",
              "<style scoped>\n",
              "    .dataframe tbody tr th:only-of-type {\n",
              "        vertical-align: middle;\n",
              "    }\n",
              "\n",
              "    .dataframe tbody tr th {\n",
              "        vertical-align: top;\n",
              "    }\n",
              "\n",
              "    .dataframe thead th {\n",
              "        text-align: right;\n",
              "    }\n",
              "</style>\n",
              "<table border=\"1\" class=\"dataframe\">\n",
              "  <thead>\n",
              "    <tr style=\"text-align: right;\">\n",
              "      <th></th>\n",
              "      <th>user_id</th>\n",
              "      <th>gender</th>\n",
              "      <th>age</th>\n",
              "      <th>occupation</th>\n",
              "      <th>zipcode</th>\n",
              "    </tr>\n",
              "  </thead>\n",
              "  <tbody>\n",
              "    <tr>\n",
              "      <th>0</th>\n",
              "      <td>1</td>\n",
              "      <td>F</td>\n",
              "      <td>1</td>\n",
              "      <td>10</td>\n",
              "      <td>48067</td>\n",
              "    </tr>\n",
              "    <tr>\n",
              "      <th>1</th>\n",
              "      <td>2</td>\n",
              "      <td>M</td>\n",
              "      <td>56</td>\n",
              "      <td>16</td>\n",
              "      <td>70072</td>\n",
              "    </tr>\n",
              "    <tr>\n",
              "      <th>2</th>\n",
              "      <td>3</td>\n",
              "      <td>M</td>\n",
              "      <td>25</td>\n",
              "      <td>15</td>\n",
              "      <td>55117</td>\n",
              "    </tr>\n",
              "    <tr>\n",
              "      <th>3</th>\n",
              "      <td>4</td>\n",
              "      <td>M</td>\n",
              "      <td>45</td>\n",
              "      <td>7</td>\n",
              "      <td>02460</td>\n",
              "    </tr>\n",
              "    <tr>\n",
              "      <th>4</th>\n",
              "      <td>5</td>\n",
              "      <td>M</td>\n",
              "      <td>25</td>\n",
              "      <td>20</td>\n",
              "      <td>55455</td>\n",
              "    </tr>\n",
              "  </tbody>\n",
              "</table>\n",
              "</div>\n",
              "      <button class=\"colab-df-convert\" onclick=\"convertToInteractive('df-382cb5ea-af59-40f1-8c0f-dc8491d994e3')\"\n",
              "              title=\"Convert this dataframe to an interactive table.\"\n",
              "              style=\"display:none;\">\n",
              "        \n",
              "  <svg xmlns=\"http://www.w3.org/2000/svg\" height=\"24px\"viewBox=\"0 0 24 24\"\n",
              "       width=\"24px\">\n",
              "    <path d=\"M0 0h24v24H0V0z\" fill=\"none\"/>\n",
              "    <path d=\"M18.56 5.44l.94 2.06.94-2.06 2.06-.94-2.06-.94-.94-2.06-.94 2.06-2.06.94zm-11 1L8.5 8.5l.94-2.06 2.06-.94-2.06-.94L8.5 2.5l-.94 2.06-2.06.94zm10 10l.94 2.06.94-2.06 2.06-.94-2.06-.94-.94-2.06-.94 2.06-2.06.94z\"/><path d=\"M17.41 7.96l-1.37-1.37c-.4-.4-.92-.59-1.43-.59-.52 0-1.04.2-1.43.59L10.3 9.45l-7.72 7.72c-.78.78-.78 2.05 0 2.83L4 21.41c.39.39.9.59 1.41.59.51 0 1.02-.2 1.41-.59l7.78-7.78 2.81-2.81c.8-.78.8-2.07 0-2.86zM5.41 20L4 18.59l7.72-7.72 1.47 1.35L5.41 20z\"/>\n",
              "  </svg>\n",
              "      </button>\n",
              "      \n",
              "  <style>\n",
              "    .colab-df-container {\n",
              "      display:flex;\n",
              "      flex-wrap:wrap;\n",
              "      gap: 12px;\n",
              "    }\n",
              "\n",
              "    .colab-df-convert {\n",
              "      background-color: #E8F0FE;\n",
              "      border: none;\n",
              "      border-radius: 50%;\n",
              "      cursor: pointer;\n",
              "      display: none;\n",
              "      fill: #1967D2;\n",
              "      height: 32px;\n",
              "      padding: 0 0 0 0;\n",
              "      width: 32px;\n",
              "    }\n",
              "\n",
              "    .colab-df-convert:hover {\n",
              "      background-color: #E2EBFA;\n",
              "      box-shadow: 0px 1px 2px rgba(60, 64, 67, 0.3), 0px 1px 3px 1px rgba(60, 64, 67, 0.15);\n",
              "      fill: #174EA6;\n",
              "    }\n",
              "\n",
              "    [theme=dark] .colab-df-convert {\n",
              "      background-color: #3B4455;\n",
              "      fill: #D2E3FC;\n",
              "    }\n",
              "\n",
              "    [theme=dark] .colab-df-convert:hover {\n",
              "      background-color: #434B5C;\n",
              "      box-shadow: 0px 1px 3px 1px rgba(0, 0, 0, 0.15);\n",
              "      filter: drop-shadow(0px 1px 2px rgba(0, 0, 0, 0.3));\n",
              "      fill: #FFFFFF;\n",
              "    }\n",
              "  </style>\n",
              "\n",
              "      <script>\n",
              "        const buttonEl =\n",
              "          document.querySelector('#df-382cb5ea-af59-40f1-8c0f-dc8491d994e3 button.colab-df-convert');\n",
              "        buttonEl.style.display =\n",
              "          google.colab.kernel.accessAllowed ? 'block' : 'none';\n",
              "\n",
              "        async function convertToInteractive(key) {\n",
              "          const element = document.querySelector('#df-382cb5ea-af59-40f1-8c0f-dc8491d994e3');\n",
              "          const dataTable =\n",
              "            await google.colab.kernel.invokeFunction('convertToInteractive',\n",
              "                                                     [key], {});\n",
              "          if (!dataTable) return;\n",
              "\n",
              "          const docLinkHtml = 'Like what you see? Visit the ' +\n",
              "            '<a target=\"_blank\" href=https://colab.research.google.com/notebooks/data_table.ipynb>data table notebook</a>'\n",
              "            + ' to learn more about interactive tables.';\n",
              "          element.innerHTML = '';\n",
              "          dataTable['output_type'] = 'display_data';\n",
              "          await google.colab.output.renderOutput(dataTable, element);\n",
              "          const docLink = document.createElement('div');\n",
              "          docLink.innerHTML = docLinkHtml;\n",
              "          element.appendChild(docLink);\n",
              "        }\n",
              "      </script>\n",
              "    </div>\n",
              "  </div>\n",
              "  "
            ]
          },
          "metadata": {},
          "execution_count": 160
        }
      ]
    },
    {
      "cell_type": "code",
      "source": [
        "users.info()"
      ],
      "metadata": {
        "colab": {
          "base_uri": "https://localhost:8080/"
        },
        "id": "gRgVUbUFk6ny",
        "outputId": "01b5b213-ca38-467c-d10b-3ab39a4fad98"
      },
      "execution_count": null,
      "outputs": [
        {
          "output_type": "stream",
          "name": "stdout",
          "text": [
            "<class 'pandas.core.frame.DataFrame'>\n",
            "RangeIndex: 6040 entries, 0 to 6039\n",
            "Data columns (total 5 columns):\n",
            " #   Column      Non-Null Count  Dtype \n",
            "---  ------      --------------  ----- \n",
            " 0   user_id     6040 non-null   int64 \n",
            " 1   gender      6040 non-null   object\n",
            " 2   age         6040 non-null   int64 \n",
            " 3   occupation  6040 non-null   int64 \n",
            " 4   zipcode     6040 non-null   object\n",
            "dtypes: int64(3), object(2)\n",
            "memory usage: 236.1+ KB\n"
          ]
        }
      ]
    },
    {
      "cell_type": "markdown",
      "source": [
        "## ratings와 movies 데이터프레임을 merge"
      ],
      "metadata": {
        "id": "xSyIoQJ4lABp"
      }
    },
    {
      "cell_type": "code",
      "source": [
        "df = pd.merge(ratings, movies)\n",
        "# merge() 함수: SQL JOIN 문\n",
        "# param how: join 방식. inner, left, right, outer. 기본값은 inner.\n",
        "# param on: join을 할 때 사용할 컬럼(들)의 이름."
      ],
      "metadata": {
        "id": "nGCNGJ10lBgM"
      },
      "execution_count": null,
      "outputs": []
    },
    {
      "cell_type": "code",
      "source": [
        "df.head()"
      ],
      "metadata": {
        "colab": {
          "base_uri": "https://localhost:8080/",
          "height": 206
        },
        "id": "O-ZCkRIFlBi5",
        "outputId": "f0903249-5358-4d43-f9da-063c33635f7b"
      },
      "execution_count": null,
      "outputs": [
        {
          "output_type": "execute_result",
          "data": {
            "text/plain": [
              "   user_id  movie_id  rating  timestamp  \\\n",
              "0        1      1193       5  978300760   \n",
              "1        2      1193       5  978298413   \n",
              "2       12      1193       4  978220179   \n",
              "3       15      1193       4  978199279   \n",
              "4       17      1193       5  978158471   \n",
              "\n",
              "                                    title genres  \n",
              "0  One Flew Over the Cuckoo's Nest (1975)  Drama  \n",
              "1  One Flew Over the Cuckoo's Nest (1975)  Drama  \n",
              "2  One Flew Over the Cuckoo's Nest (1975)  Drama  \n",
              "3  One Flew Over the Cuckoo's Nest (1975)  Drama  \n",
              "4  One Flew Over the Cuckoo's Nest (1975)  Drama  "
            ],
            "text/html": [
              "\n",
              "  <div id=\"df-6980537b-fd2c-43bf-be0f-f87d6a4ae593\">\n",
              "    <div class=\"colab-df-container\">\n",
              "      <div>\n",
              "<style scoped>\n",
              "    .dataframe tbody tr th:only-of-type {\n",
              "        vertical-align: middle;\n",
              "    }\n",
              "\n",
              "    .dataframe tbody tr th {\n",
              "        vertical-align: top;\n",
              "    }\n",
              "\n",
              "    .dataframe thead th {\n",
              "        text-align: right;\n",
              "    }\n",
              "</style>\n",
              "<table border=\"1\" class=\"dataframe\">\n",
              "  <thead>\n",
              "    <tr style=\"text-align: right;\">\n",
              "      <th></th>\n",
              "      <th>user_id</th>\n",
              "      <th>movie_id</th>\n",
              "      <th>rating</th>\n",
              "      <th>timestamp</th>\n",
              "      <th>title</th>\n",
              "      <th>genres</th>\n",
              "    </tr>\n",
              "  </thead>\n",
              "  <tbody>\n",
              "    <tr>\n",
              "      <th>0</th>\n",
              "      <td>1</td>\n",
              "      <td>1193</td>\n",
              "      <td>5</td>\n",
              "      <td>978300760</td>\n",
              "      <td>One Flew Over the Cuckoo's Nest (1975)</td>\n",
              "      <td>Drama</td>\n",
              "    </tr>\n",
              "    <tr>\n",
              "      <th>1</th>\n",
              "      <td>2</td>\n",
              "      <td>1193</td>\n",
              "      <td>5</td>\n",
              "      <td>978298413</td>\n",
              "      <td>One Flew Over the Cuckoo's Nest (1975)</td>\n",
              "      <td>Drama</td>\n",
              "    </tr>\n",
              "    <tr>\n",
              "      <th>2</th>\n",
              "      <td>12</td>\n",
              "      <td>1193</td>\n",
              "      <td>4</td>\n",
              "      <td>978220179</td>\n",
              "      <td>One Flew Over the Cuckoo's Nest (1975)</td>\n",
              "      <td>Drama</td>\n",
              "    </tr>\n",
              "    <tr>\n",
              "      <th>3</th>\n",
              "      <td>15</td>\n",
              "      <td>1193</td>\n",
              "      <td>4</td>\n",
              "      <td>978199279</td>\n",
              "      <td>One Flew Over the Cuckoo's Nest (1975)</td>\n",
              "      <td>Drama</td>\n",
              "    </tr>\n",
              "    <tr>\n",
              "      <th>4</th>\n",
              "      <td>17</td>\n",
              "      <td>1193</td>\n",
              "      <td>5</td>\n",
              "      <td>978158471</td>\n",
              "      <td>One Flew Over the Cuckoo's Nest (1975)</td>\n",
              "      <td>Drama</td>\n",
              "    </tr>\n",
              "  </tbody>\n",
              "</table>\n",
              "</div>\n",
              "      <button class=\"colab-df-convert\" onclick=\"convertToInteractive('df-6980537b-fd2c-43bf-be0f-f87d6a4ae593')\"\n",
              "              title=\"Convert this dataframe to an interactive table.\"\n",
              "              style=\"display:none;\">\n",
              "        \n",
              "  <svg xmlns=\"http://www.w3.org/2000/svg\" height=\"24px\"viewBox=\"0 0 24 24\"\n",
              "       width=\"24px\">\n",
              "    <path d=\"M0 0h24v24H0V0z\" fill=\"none\"/>\n",
              "    <path d=\"M18.56 5.44l.94 2.06.94-2.06 2.06-.94-2.06-.94-.94-2.06-.94 2.06-2.06.94zm-11 1L8.5 8.5l.94-2.06 2.06-.94-2.06-.94L8.5 2.5l-.94 2.06-2.06.94zm10 10l.94 2.06.94-2.06 2.06-.94-2.06-.94-.94-2.06-.94 2.06-2.06.94z\"/><path d=\"M17.41 7.96l-1.37-1.37c-.4-.4-.92-.59-1.43-.59-.52 0-1.04.2-1.43.59L10.3 9.45l-7.72 7.72c-.78.78-.78 2.05 0 2.83L4 21.41c.39.39.9.59 1.41.59.51 0 1.02-.2 1.41-.59l7.78-7.78 2.81-2.81c.8-.78.8-2.07 0-2.86zM5.41 20L4 18.59l7.72-7.72 1.47 1.35L5.41 20z\"/>\n",
              "  </svg>\n",
              "      </button>\n",
              "      \n",
              "  <style>\n",
              "    .colab-df-container {\n",
              "      display:flex;\n",
              "      flex-wrap:wrap;\n",
              "      gap: 12px;\n",
              "    }\n",
              "\n",
              "    .colab-df-convert {\n",
              "      background-color: #E8F0FE;\n",
              "      border: none;\n",
              "      border-radius: 50%;\n",
              "      cursor: pointer;\n",
              "      display: none;\n",
              "      fill: #1967D2;\n",
              "      height: 32px;\n",
              "      padding: 0 0 0 0;\n",
              "      width: 32px;\n",
              "    }\n",
              "\n",
              "    .colab-df-convert:hover {\n",
              "      background-color: #E2EBFA;\n",
              "      box-shadow: 0px 1px 2px rgba(60, 64, 67, 0.3), 0px 1px 3px 1px rgba(60, 64, 67, 0.15);\n",
              "      fill: #174EA6;\n",
              "    }\n",
              "\n",
              "    [theme=dark] .colab-df-convert {\n",
              "      background-color: #3B4455;\n",
              "      fill: #D2E3FC;\n",
              "    }\n",
              "\n",
              "    [theme=dark] .colab-df-convert:hover {\n",
              "      background-color: #434B5C;\n",
              "      box-shadow: 0px 1px 3px 1px rgba(0, 0, 0, 0.15);\n",
              "      filter: drop-shadow(0px 1px 2px rgba(0, 0, 0, 0.3));\n",
              "      fill: #FFFFFF;\n",
              "    }\n",
              "  </style>\n",
              "\n",
              "      <script>\n",
              "        const buttonEl =\n",
              "          document.querySelector('#df-6980537b-fd2c-43bf-be0f-f87d6a4ae593 button.colab-df-convert');\n",
              "        buttonEl.style.display =\n",
              "          google.colab.kernel.accessAllowed ? 'block' : 'none';\n",
              "\n",
              "        async function convertToInteractive(key) {\n",
              "          const element = document.querySelector('#df-6980537b-fd2c-43bf-be0f-f87d6a4ae593');\n",
              "          const dataTable =\n",
              "            await google.colab.kernel.invokeFunction('convertToInteractive',\n",
              "                                                     [key], {});\n",
              "          if (!dataTable) return;\n",
              "\n",
              "          const docLinkHtml = 'Like what you see? Visit the ' +\n",
              "            '<a target=\"_blank\" href=https://colab.research.google.com/notebooks/data_table.ipynb>data table notebook</a>'\n",
              "            + ' to learn more about interactive tables.';\n",
              "          element.innerHTML = '';\n",
              "          dataTable['output_type'] = 'display_data';\n",
              "          await google.colab.output.renderOutput(dataTable, element);\n",
              "          const docLink = document.createElement('div');\n",
              "          docLink.innerHTML = docLinkHtml;\n",
              "          element.appendChild(docLink);\n",
              "        }\n",
              "      </script>\n",
              "    </div>\n",
              "  </div>\n",
              "  "
            ]
          },
          "metadata": {},
          "execution_count": 163
        }
      ]
    },
    {
      "cell_type": "code",
      "source": [
        "df.info()"
      ],
      "metadata": {
        "colab": {
          "base_uri": "https://localhost:8080/"
        },
        "id": "iC44rIkXlDIO",
        "outputId": "82398970-4295-4e9a-914e-bf616bed0f22"
      },
      "execution_count": null,
      "outputs": [
        {
          "output_type": "stream",
          "name": "stdout",
          "text": [
            "<class 'pandas.core.frame.DataFrame'>\n",
            "Int64Index: 1000209 entries, 0 to 1000208\n",
            "Data columns (total 6 columns):\n",
            " #   Column     Non-Null Count    Dtype \n",
            "---  ------     --------------    ----- \n",
            " 0   user_id    1000209 non-null  int64 \n",
            " 1   movie_id   1000209 non-null  int64 \n",
            " 2   rating     1000209 non-null  int64 \n",
            " 3   timestamp  1000209 non-null  int64 \n",
            " 4   title      1000209 non-null  object\n",
            " 5   genres     1000209 non-null  object\n",
            "dtypes: int64(4), object(2)\n",
            "memory usage: 53.4+ MB\n"
          ]
        }
      ]
    },
    {
      "cell_type": "markdown",
      "source": [
        "## df와 users 데이터프레임을 merge"
      ],
      "metadata": {
        "id": "efRJ5-omlFUj"
      }
    },
    {
      "cell_type": "code",
      "source": [
        "df = pd.merge(df, users)"
      ],
      "metadata": {
        "id": "HxlgFMqElGZR"
      },
      "execution_count": null,
      "outputs": []
    },
    {
      "cell_type": "code",
      "source": [
        "df.head()"
      ],
      "metadata": {
        "colab": {
          "base_uri": "https://localhost:8080/",
          "height": 206
        },
        "id": "-bdvn00YlGbu",
        "outputId": "6e000a12-5b91-453a-bc4b-2bcc1796de11"
      },
      "execution_count": null,
      "outputs": [
        {
          "output_type": "execute_result",
          "data": {
            "text/plain": [
              "   user_id  movie_id  rating  timestamp  \\\n",
              "0        1      1193       5  978300760   \n",
              "1        1       661       3  978302109   \n",
              "2        1       914       3  978301968   \n",
              "3        1      3408       4  978300275   \n",
              "4        1      2355       5  978824291   \n",
              "\n",
              "                                    title                        genres  \\\n",
              "0  One Flew Over the Cuckoo's Nest (1975)                         Drama   \n",
              "1        James and the Giant Peach (1996)  Animation|Children's|Musical   \n",
              "2                     My Fair Lady (1964)               Musical|Romance   \n",
              "3                  Erin Brockovich (2000)                         Drama   \n",
              "4                    Bug's Life, A (1998)   Animation|Children's|Comedy   \n",
              "\n",
              "  gender  age  occupation zipcode  \n",
              "0      F    1          10   48067  \n",
              "1      F    1          10   48067  \n",
              "2      F    1          10   48067  \n",
              "3      F    1          10   48067  \n",
              "4      F    1          10   48067  "
            ],
            "text/html": [
              "\n",
              "  <div id=\"df-b387dc6f-0166-4768-9029-80d10fdc9a67\">\n",
              "    <div class=\"colab-df-container\">\n",
              "      <div>\n",
              "<style scoped>\n",
              "    .dataframe tbody tr th:only-of-type {\n",
              "        vertical-align: middle;\n",
              "    }\n",
              "\n",
              "    .dataframe tbody tr th {\n",
              "        vertical-align: top;\n",
              "    }\n",
              "\n",
              "    .dataframe thead th {\n",
              "        text-align: right;\n",
              "    }\n",
              "</style>\n",
              "<table border=\"1\" class=\"dataframe\">\n",
              "  <thead>\n",
              "    <tr style=\"text-align: right;\">\n",
              "      <th></th>\n",
              "      <th>user_id</th>\n",
              "      <th>movie_id</th>\n",
              "      <th>rating</th>\n",
              "      <th>timestamp</th>\n",
              "      <th>title</th>\n",
              "      <th>genres</th>\n",
              "      <th>gender</th>\n",
              "      <th>age</th>\n",
              "      <th>occupation</th>\n",
              "      <th>zipcode</th>\n",
              "    </tr>\n",
              "  </thead>\n",
              "  <tbody>\n",
              "    <tr>\n",
              "      <th>0</th>\n",
              "      <td>1</td>\n",
              "      <td>1193</td>\n",
              "      <td>5</td>\n",
              "      <td>978300760</td>\n",
              "      <td>One Flew Over the Cuckoo's Nest (1975)</td>\n",
              "      <td>Drama</td>\n",
              "      <td>F</td>\n",
              "      <td>1</td>\n",
              "      <td>10</td>\n",
              "      <td>48067</td>\n",
              "    </tr>\n",
              "    <tr>\n",
              "      <th>1</th>\n",
              "      <td>1</td>\n",
              "      <td>661</td>\n",
              "      <td>3</td>\n",
              "      <td>978302109</td>\n",
              "      <td>James and the Giant Peach (1996)</td>\n",
              "      <td>Animation|Children's|Musical</td>\n",
              "      <td>F</td>\n",
              "      <td>1</td>\n",
              "      <td>10</td>\n",
              "      <td>48067</td>\n",
              "    </tr>\n",
              "    <tr>\n",
              "      <th>2</th>\n",
              "      <td>1</td>\n",
              "      <td>914</td>\n",
              "      <td>3</td>\n",
              "      <td>978301968</td>\n",
              "      <td>My Fair Lady (1964)</td>\n",
              "      <td>Musical|Romance</td>\n",
              "      <td>F</td>\n",
              "      <td>1</td>\n",
              "      <td>10</td>\n",
              "      <td>48067</td>\n",
              "    </tr>\n",
              "    <tr>\n",
              "      <th>3</th>\n",
              "      <td>1</td>\n",
              "      <td>3408</td>\n",
              "      <td>4</td>\n",
              "      <td>978300275</td>\n",
              "      <td>Erin Brockovich (2000)</td>\n",
              "      <td>Drama</td>\n",
              "      <td>F</td>\n",
              "      <td>1</td>\n",
              "      <td>10</td>\n",
              "      <td>48067</td>\n",
              "    </tr>\n",
              "    <tr>\n",
              "      <th>4</th>\n",
              "      <td>1</td>\n",
              "      <td>2355</td>\n",
              "      <td>5</td>\n",
              "      <td>978824291</td>\n",
              "      <td>Bug's Life, A (1998)</td>\n",
              "      <td>Animation|Children's|Comedy</td>\n",
              "      <td>F</td>\n",
              "      <td>1</td>\n",
              "      <td>10</td>\n",
              "      <td>48067</td>\n",
              "    </tr>\n",
              "  </tbody>\n",
              "</table>\n",
              "</div>\n",
              "      <button class=\"colab-df-convert\" onclick=\"convertToInteractive('df-b387dc6f-0166-4768-9029-80d10fdc9a67')\"\n",
              "              title=\"Convert this dataframe to an interactive table.\"\n",
              "              style=\"display:none;\">\n",
              "        \n",
              "  <svg xmlns=\"http://www.w3.org/2000/svg\" height=\"24px\"viewBox=\"0 0 24 24\"\n",
              "       width=\"24px\">\n",
              "    <path d=\"M0 0h24v24H0V0z\" fill=\"none\"/>\n",
              "    <path d=\"M18.56 5.44l.94 2.06.94-2.06 2.06-.94-2.06-.94-.94-2.06-.94 2.06-2.06.94zm-11 1L8.5 8.5l.94-2.06 2.06-.94-2.06-.94L8.5 2.5l-.94 2.06-2.06.94zm10 10l.94 2.06.94-2.06 2.06-.94-2.06-.94-.94-2.06-.94 2.06-2.06.94z\"/><path d=\"M17.41 7.96l-1.37-1.37c-.4-.4-.92-.59-1.43-.59-.52 0-1.04.2-1.43.59L10.3 9.45l-7.72 7.72c-.78.78-.78 2.05 0 2.83L4 21.41c.39.39.9.59 1.41.59.51 0 1.02-.2 1.41-.59l7.78-7.78 2.81-2.81c.8-.78.8-2.07 0-2.86zM5.41 20L4 18.59l7.72-7.72 1.47 1.35L5.41 20z\"/>\n",
              "  </svg>\n",
              "      </button>\n",
              "      \n",
              "  <style>\n",
              "    .colab-df-container {\n",
              "      display:flex;\n",
              "      flex-wrap:wrap;\n",
              "      gap: 12px;\n",
              "    }\n",
              "\n",
              "    .colab-df-convert {\n",
              "      background-color: #E8F0FE;\n",
              "      border: none;\n",
              "      border-radius: 50%;\n",
              "      cursor: pointer;\n",
              "      display: none;\n",
              "      fill: #1967D2;\n",
              "      height: 32px;\n",
              "      padding: 0 0 0 0;\n",
              "      width: 32px;\n",
              "    }\n",
              "\n",
              "    .colab-df-convert:hover {\n",
              "      background-color: #E2EBFA;\n",
              "      box-shadow: 0px 1px 2px rgba(60, 64, 67, 0.3), 0px 1px 3px 1px rgba(60, 64, 67, 0.15);\n",
              "      fill: #174EA6;\n",
              "    }\n",
              "\n",
              "    [theme=dark] .colab-df-convert {\n",
              "      background-color: #3B4455;\n",
              "      fill: #D2E3FC;\n",
              "    }\n",
              "\n",
              "    [theme=dark] .colab-df-convert:hover {\n",
              "      background-color: #434B5C;\n",
              "      box-shadow: 0px 1px 3px 1px rgba(0, 0, 0, 0.15);\n",
              "      filter: drop-shadow(0px 1px 2px rgba(0, 0, 0, 0.3));\n",
              "      fill: #FFFFFF;\n",
              "    }\n",
              "  </style>\n",
              "\n",
              "      <script>\n",
              "        const buttonEl =\n",
              "          document.querySelector('#df-b387dc6f-0166-4768-9029-80d10fdc9a67 button.colab-df-convert');\n",
              "        buttonEl.style.display =\n",
              "          google.colab.kernel.accessAllowed ? 'block' : 'none';\n",
              "\n",
              "        async function convertToInteractive(key) {\n",
              "          const element = document.querySelector('#df-b387dc6f-0166-4768-9029-80d10fdc9a67');\n",
              "          const dataTable =\n",
              "            await google.colab.kernel.invokeFunction('convertToInteractive',\n",
              "                                                     [key], {});\n",
              "          if (!dataTable) return;\n",
              "\n",
              "          const docLinkHtml = 'Like what you see? Visit the ' +\n",
              "            '<a target=\"_blank\" href=https://colab.research.google.com/notebooks/data_table.ipynb>data table notebook</a>'\n",
              "            + ' to learn more about interactive tables.';\n",
              "          element.innerHTML = '';\n",
              "          dataTable['output_type'] = 'display_data';\n",
              "          await google.colab.output.renderOutput(dataTable, element);\n",
              "          const docLink = document.createElement('div');\n",
              "          docLink.innerHTML = docLinkHtml;\n",
              "          element.appendChild(docLink);\n",
              "        }\n",
              "      </script>\n",
              "    </div>\n",
              "  </div>\n",
              "  "
            ]
          },
          "metadata": {},
          "execution_count": 166
        }
      ]
    },
    {
      "cell_type": "code",
      "source": [
        "df.info()"
      ],
      "metadata": {
        "colab": {
          "base_uri": "https://localhost:8080/"
        },
        "id": "8RCOs0XClGeV",
        "outputId": "55b9f737-e15f-46b6-bda1-1d3f39af41c5"
      },
      "execution_count": null,
      "outputs": [
        {
          "output_type": "stream",
          "name": "stdout",
          "text": [
            "<class 'pandas.core.frame.DataFrame'>\n",
            "Int64Index: 1000209 entries, 0 to 1000208\n",
            "Data columns (total 10 columns):\n",
            " #   Column      Non-Null Count    Dtype \n",
            "---  ------      --------------    ----- \n",
            " 0   user_id     1000209 non-null  int64 \n",
            " 1   movie_id    1000209 non-null  int64 \n",
            " 2   rating      1000209 non-null  int64 \n",
            " 3   timestamp   1000209 non-null  int64 \n",
            " 4   title       1000209 non-null  object\n",
            " 5   genres      1000209 non-null  object\n",
            " 6   gender      1000209 non-null  object\n",
            " 7   age         1000209 non-null  int64 \n",
            " 8   occupation  1000209 non-null  int64 \n",
            " 9   zipcode     1000209 non-null  object\n",
            "dtypes: int64(6), object(4)\n",
            "memory usage: 83.9+ MB\n"
          ]
        }
      ]
    },
    {
      "cell_type": "markdown",
      "source": [
        "# 영화 별점 분석"
      ],
      "metadata": {
        "id": "X4aCIiO7lJ8x"
      }
    },
    {
      "cell_type": "markdown",
      "source": [
        "## 별점 box plot"
      ],
      "metadata": {
        "id": "wSSxwERwlLEt"
      }
    },
    {
      "cell_type": "code",
      "source": [
        "df.rating.describe()"
      ],
      "metadata": {
        "colab": {
          "base_uri": "https://localhost:8080/"
        },
        "id": "s9Gy7oUBlNXT",
        "outputId": "021409d8-3d7c-4399-8a35-64c9eb8cf6b1"
      },
      "execution_count": null,
      "outputs": [
        {
          "output_type": "execute_result",
          "data": {
            "text/plain": [
              "count    1.000209e+06\n",
              "mean     3.581564e+00\n",
              "std      1.117102e+00\n",
              "min      1.000000e+00\n",
              "25%      3.000000e+00\n",
              "50%      4.000000e+00\n",
              "75%      4.000000e+00\n",
              "max      5.000000e+00\n",
              "Name: rating, dtype: float64"
            ]
          },
          "metadata": {},
          "execution_count": 168
        }
      ]
    },
    {
      "cell_type": "code",
      "source": [
        "sns.boxplot(data=df, y='rating')\n",
        "plt.show()"
      ],
      "metadata": {
        "colab": {
          "base_uri": "https://localhost:8080/",
          "height": 252
        },
        "id": "BMKUZOG8lNaY",
        "outputId": "3cd83764-d5ef-45bb-c80b-898d6b6c7acf"
      },
      "execution_count": null,
      "outputs": [
        {
          "output_type": "display_data",
          "data": {
            "text/plain": [
              "<Figure size 432x288 with 1 Axes>"
            ],
            "image/png": "[encoded data removed]"
          },
          "metadata": {
            "needs_background": "light"
          }
        }
      ]
    },
    {
      "cell_type": "markdown",
      "source": [
        "## 별점 빈도수: count plot"
      ],
      "metadata": {
        "id": "TdTXHDIblPwT"
      }
    },
    {
      "cell_type": "code",
      "source": [
        "sns.countplot(data=df, x='rating')\n",
        "plt.show()"
      ],
      "metadata": {
        "colab": {
          "base_uri": "https://localhost:8080/",
          "height": 279
        },
        "id": "jjtBRHOZlRau",
        "outputId": "db777d19-3890-4538-c29b-fffd968da516"
      },
      "execution_count": null,
      "outputs": [
        {
          "output_type": "display_data",
          "data": {
            "text/plain": [
              "<Figure size 432x288 with 1 Axes>"
            ],
            "image/png": "[encoded data removed]"
          },
          "metadata": {
            "needs_background": "light"
          }
        }
      ]
    },
    {
      "cell_type": "code",
      "source": [
        "rating_counts = df.rating.value_counts()\n",
        "rating_counts"
      ],
      "metadata": {
        "colab": {
          "base_uri": "https://localhost:8080/"
        },
        "id": "oP8HWcmQlRdR",
        "outputId": "9a6eabb4-ef42-4a8a-b4ad-d0ceccb0b204"
      },
      "execution_count": null,
      "outputs": [
        {
          "output_type": "execute_result",
          "data": {
            "text/plain": [
              "4    348971\n",
              "3    261197\n",
              "5    226310\n",
              "2    107557\n",
              "1     56174\n",
              "Name: rating, dtype: int64"
            ]
          },
          "metadata": {},
          "execution_count": 171
        }
      ]
    },
    {
      "cell_type": "markdown",
      "source": [
        "## 성별 분석"
      ],
      "metadata": {
        "id": "Ew-AudJFlUFA"
      }
    },
    {
      "cell_type": "code",
      "source": [
        "# 영화 별점을 남긴 사용자들의 성비\n",
        "sns.countplot(data=df, x='gender')\n",
        "plt.show()"
      ],
      "metadata": {
        "colab": {
          "base_uri": "https://localhost:8080/",
          "height": 279
        },
        "id": "1fUnRB0OlVOM",
        "outputId": "103983e0-fcee-485b-a218-f3abdb7505f6"
      },
      "execution_count": null,
      "outputs": [
        {
          "output_type": "display_data",
          "data": {
            "text/plain": [
              "<Figure size 432x288 with 1 Axes>"
            ],
            "image/png": "[encoded data removed]"
          },
          "metadata": {
            "needs_background": "light"
          }
        }
      ]
    },
    {
      "cell_type": "code",
      "source": [
        "# users 데이터프레임의 성비\n",
        "sns.countplot(data=users, x='gender')\n",
        "plt.show()"
      ],
      "metadata": {
        "colab": {
          "base_uri": "https://localhost:8080/",
          "height": 279
        },
        "id": "7jezRAi0lVRm",
        "outputId": "430f1c9f-86ce-4640-9d13-8be2a4babf0e"
      },
      "execution_count": null,
      "outputs": [
        {
          "output_type": "display_data",
          "data": {
            "text/plain": [
              "<Figure size 432x288 with 1 Axes>"
            ],
            "image/png": "[encoded data removed]"
          },
          "metadata": {
            "needs_background": "light"
          }
        }
      ]
    },
    {
      "cell_type": "markdown",
      "source": [
        "## 연령대 분석"
      ],
      "metadata": {
        "id": "sexMv7JhlXB3"
      }
    },
    {
      "cell_type": "code",
      "source": [
        "df.age.value_counts()"
      ],
      "metadata": {
        "colab": {
          "base_uri": "https://localhost:8080/"
        },
        "id": "Vp_M7SF6lZkF",
        "outputId": "a3de65cd-1a78-4b5e-d0b2-5cdc7642651f"
      },
      "execution_count": null,
      "outputs": [
        {
          "output_type": "execute_result",
          "data": {
            "text/plain": [
              "25    395556\n",
              "35    199003\n",
              "18    183536\n",
              "45     83633\n",
              "50     72490\n",
              "56     38780\n",
              "1      27211\n",
              "Name: age, dtype: int64"
            ]
          },
          "metadata": {},
          "execution_count": 174
        }
      ]
    },
    {
      "cell_type": "code",
      "source": [
        "sns.countplot(data=df, x='age')\n",
        "plt.show()"
      ],
      "metadata": {
        "colab": {
          "base_uri": "https://localhost:8080/",
          "height": 279
        },
        "id": "y7EqKE6LlZnR",
        "outputId": "21dd56b5-bbee-4f2f-b9b8-a60d0d62cc1b"
      },
      "execution_count": null,
      "outputs": [
        {
          "output_type": "display_data",
          "data": {
            "text/plain": [
              "<Figure size 432x288 with 1 Axes>"
            ],
            "image/png": "[encoded data removed]"
          },
          "metadata": {
            "needs_background": "light"
          }
        }
      ]
    },
    {
      "cell_type": "markdown",
      "source": [
        "## 직업군 분석\n",
        "\n",
        "가장 별점을 많이 남긴 직업군 5개.\n"
      ],
      "metadata": {
        "id": "H4dsIonglbsN"
      }
    },
    {
      "cell_type": "code",
      "source": [
        "occ_counts = df.occupation.value_counts()\n",
        "occ_counts"
      ],
      "metadata": {
        "colab": {
          "base_uri": "https://localhost:8080/"
        },
        "id": "PsMZW3lclfEK",
        "outputId": "db07fe90-8603-489f-bd6a-9cfeb2cf0306"
      },
      "execution_count": null,
      "outputs": [
        {
          "output_type": "execute_result",
          "data": {
            "text/plain": [
              "4     131032\n",
              "0     130499\n",
              "7     105425\n",
              "1      85351\n",
              "17     72816\n",
              "20     60397\n",
              "12     57214\n",
              "2      50068\n",
              "14     49109\n",
              "16     46021\n",
              "6      37205\n",
              "3      31623\n",
              "10     23290\n",
              "15     22951\n",
              "5      21850\n",
              "11     20563\n",
              "19     14904\n",
              "13     13754\n",
              "18     12086\n",
              "9      11345\n",
              "8       2706\n",
              "Name: occupation, dtype: int64"
            ]
          },
          "metadata": {},
          "execution_count": 176
        }
      ]
    },
    {
      "cell_type": "code",
      "source": [
        "sns.countplot(data=df, x='occupation')\n",
        "plt.show()"
      ],
      "metadata": {
        "colab": {
          "base_uri": "https://localhost:8080/",
          "height": 279
        },
        "id": "5feLQJrVlfGf",
        "outputId": "87a36b65-25a6-41f6-94b4-1c346fe029f8"
      },
      "execution_count": null,
      "outputs": [
        {
          "output_type": "display_data",
          "data": {
            "text/plain": [
              "<Figure size 432x288 with 1 Axes>"
            ],
            "image/png": "[encoded data removed]"
          },
          "metadata": {
            "needs_background": "light"
          }
        }
      ]
    },
    {
      "cell_type": "markdown",
      "source": [
        "# 영화 별점 평균 상위/하위 10개 영화 제목"
      ],
      "metadata": {
        "id": "jMsD25upli61"
      }
    },
    {
      "cell_type": "code",
      "source": [
        "df.head()"
      ],
      "metadata": {
        "colab": {
          "base_uri": "https://localhost:8080/",
          "height": 206
        },
        "id": "JJpsCCmhljvl",
        "outputId": "61a95a4e-66b3-436a-aedc-bf605c783e7b"
      },
      "execution_count": null,
      "outputs": [
        {
          "output_type": "execute_result",
          "data": {
            "text/plain": [
              "   user_id  movie_id  rating  timestamp  \\\n",
              "0        1      1193       5  978300760   \n",
              "1        1       661       3  978302109   \n",
              "2        1       914       3  978301968   \n",
              "3        1      3408       4  978300275   \n",
              "4        1      2355       5  978824291   \n",
              "\n",
              "                                    title                        genres  \\\n",
              "0  One Flew Over the Cuckoo's Nest (1975)                         Drama   \n",
              "1        James and the Giant Peach (1996)  Animation|Children's|Musical   \n",
              "2                     My Fair Lady (1964)               Musical|Romance   \n",
              "3                  Erin Brockovich (2000)                         Drama   \n",
              "4                    Bug's Life, A (1998)   Animation|Children's|Comedy   \n",
              "\n",
              "  gender  age  occupation zipcode  \n",
              "0      F    1          10   48067  \n",
              "1      F    1          10   48067  \n",
              "2      F    1          10   48067  \n",
              "3      F    1          10   48067  \n",
              "4      F    1          10   48067  "
            ],
            "text/html": [
              "\n",
              "  <div id=\"df-6c9a16a3-354d-4b9f-bf49-4cfab10a34df\">\n",
              "    <div class=\"colab-df-container\">\n",
              "      <div>\n",
              "<style scoped>\n",
              "    .dataframe tbody tr th:only-of-type {\n",
              "        vertical-align: middle;\n",
              "    }\n",
              "\n",
              "    .dataframe tbody tr th {\n",
              "        vertical-align: top;\n",
              "    }\n",
              "\n",
              "    .dataframe thead th {\n",
              "        text-align: right;\n",
              "    }\n",
              "</style>\n",
              "<table border=\"1\" class=\"dataframe\">\n",
              "  <thead>\n",
              "    <tr style=\"text-align: right;\">\n",
              "      <th></th>\n",
              "      <th>user_id</th>\n",
              "      <th>movie_id</th>\n",
              "      <th>rating</th>\n",
              "      <th>timestamp</th>\n",
              "      <th>title</th>\n",
              "      <th>genres</th>\n",
              "      <th>gender</th>\n",
              "      <th>age</th>\n",
              "      <th>occupation</th>\n",
              "      <th>zipcode</th>\n",
              "    </tr>\n",
              "  </thead>\n",
              "  <tbody>\n",
              "    <tr>\n",
              "      <th>0</th>\n",
              "      <td>1</td>\n",
              "      <td>1193</td>\n",
              "      <td>5</td>\n",
              "      <td>978300760</td>\n",
              "      <td>One Flew Over the Cuckoo's Nest (1975)</td>\n",
              "      <td>Drama</td>\n",
              "      <td>F</td>\n",
              "      <td>1</td>\n",
              "      <td>10</td>\n",
              "      <td>48067</td>\n",
              "    </tr>\n",
              "    <tr>\n",
              "      <th>1</th>\n",
              "      <td>1</td>\n",
              "      <td>661</td>\n",
              "      <td>3</td>\n",
              "      <td>978302109</td>\n",
              "      <td>James and the Giant Peach (1996)</td>\n",
              "      <td>Animation|Children's|Musical</td>\n",
              "      <td>F</td>\n",
              "      <td>1</td>\n",
              "      <td>10</td>\n",
              "      <td>48067</td>\n",
              "    </tr>\n",
              "    <tr>\n",
              "      <th>2</th>\n",
              "      <td>1</td>\n",
              "      <td>914</td>\n",
              "      <td>3</td>\n",
              "      <td>978301968</td>\n",
              "      <td>My Fair Lady (1964)</td>\n",
              "      <td>Musical|Romance</td>\n",
              "      <td>F</td>\n",
              "      <td>1</td>\n",
              "      <td>10</td>\n",
              "      <td>48067</td>\n",
              "    </tr>\n",
              "    <tr>\n",
              "      <th>3</th>\n",
              "      <td>1</td>\n",
              "      <td>3408</td>\n",
              "      <td>4</td>\n",
              "      <td>978300275</td>\n",
              "      <td>Erin Brockovich (2000)</td>\n",
              "      <td>Drama</td>\n",
              "      <td>F</td>\n",
              "      <td>1</td>\n",
              "      <td>10</td>\n",
              "      <td>48067</td>\n",
              "    </tr>\n",
              "    <tr>\n",
              "      <th>4</th>\n",
              "      <td>1</td>\n",
              "      <td>2355</td>\n",
              "      <td>5</td>\n",
              "      <td>978824291</td>\n",
              "      <td>Bug's Life, A (1998)</td>\n",
              "      <td>Animation|Children's|Comedy</td>\n",
              "      <td>F</td>\n",
              "      <td>1</td>\n",
              "      <td>10</td>\n",
              "      <td>48067</td>\n",
              "    </tr>\n",
              "  </tbody>\n",
              "</table>\n",
              "</div>\n",
              "      <button class=\"colab-df-convert\" onclick=\"convertToInteractive('df-6c9a16a3-354d-4b9f-bf49-4cfab10a34df')\"\n",
              "              title=\"Convert this dataframe to an interactive table.\"\n",
              "              style=\"display:none;\">\n",
              "        \n",
              "  <svg xmlns=\"http://www.w3.org/2000/svg\" height=\"24px\"viewBox=\"0 0 24 24\"\n",
              "       width=\"24px\">\n",
              "    <path d=\"M0 0h24v24H0V0z\" fill=\"none\"/>\n",
              "    <path d=\"M18.56 5.44l.94 2.06.94-2.06 2.06-.94-2.06-.94-.94-2.06-.94 2.06-2.06.94zm-11 1L8.5 8.5l.94-2.06 2.06-.94-2.06-.94L8.5 2.5l-.94 2.06-2.06.94zm10 10l.94 2.06.94-2.06 2.06-.94-2.06-.94-.94-2.06-.94 2.06-2.06.94z\"/><path d=\"M17.41 7.96l-1.37-1.37c-.4-.4-.92-.59-1.43-.59-.52 0-1.04.2-1.43.59L10.3 9.45l-7.72 7.72c-.78.78-.78 2.05 0 2.83L4 21.41c.39.39.9.59 1.41.59.51 0 1.02-.2 1.41-.59l7.78-7.78 2.81-2.81c.8-.78.8-2.07 0-2.86zM5.41 20L4 18.59l7.72-7.72 1.47 1.35L5.41 20z\"/>\n",
              "  </svg>\n",
              "      </button>\n",
              "      \n",
              "  <style>\n",
              "    .colab-df-container {\n",
              "      display:flex;\n",
              "      flex-wrap:wrap;\n",
              "      gap: 12px;\n",
              "    }\n",
              "\n",
              "    .colab-df-convert {\n",
              "      background-color: #E8F0FE;\n",
              "      border: none;\n",
              "      border-radius: 50%;\n",
              "      cursor: pointer;\n",
              "      display: none;\n",
              "      fill: #1967D2;\n",
              "      height: 32px;\n",
              "      padding: 0 0 0 0;\n",
              "      width: 32px;\n",
              "    }\n",
              "\n",
              "    .colab-df-convert:hover {\n",
              "      background-color: #E2EBFA;\n",
              "      box-shadow: 0px 1px 2px rgba(60, 64, 67, 0.3), 0px 1px 3px 1px rgba(60, 64, 67, 0.15);\n",
              "      fill: #174EA6;\n",
              "    }\n",
              "\n",
              "    [theme=dark] .colab-df-convert {\n",
              "      background-color: #3B4455;\n",
              "      fill: #D2E3FC;\n",
              "    }\n",
              "\n",
              "    [theme=dark] .colab-df-convert:hover {\n",
              "      background-color: #434B5C;\n",
              "      box-shadow: 0px 1px 3px 1px rgba(0, 0, 0, 0.15);\n",
              "      filter: drop-shadow(0px 1px 2px rgba(0, 0, 0, 0.3));\n",
              "      fill: #FFFFFF;\n",
              "    }\n",
              "  </style>\n",
              "\n",
              "      <script>\n",
              "        const buttonEl =\n",
              "          document.querySelector('#df-6c9a16a3-354d-4b9f-bf49-4cfab10a34df button.colab-df-convert');\n",
              "        buttonEl.style.display =\n",
              "          google.colab.kernel.accessAllowed ? 'block' : 'none';\n",
              "\n",
              "        async function convertToInteractive(key) {\n",
              "          const element = document.querySelector('#df-6c9a16a3-354d-4b9f-bf49-4cfab10a34df');\n",
              "          const dataTable =\n",
              "            await google.colab.kernel.invokeFunction('convertToInteractive',\n",
              "                                                     [key], {});\n",
              "          if (!dataTable) return;\n",
              "\n",
              "          const docLinkHtml = 'Like what you see? Visit the ' +\n",
              "            '<a target=\"_blank\" href=https://colab.research.google.com/notebooks/data_table.ipynb>data table notebook</a>'\n",
              "            + ' to learn more about interactive tables.';\n",
              "          element.innerHTML = '';\n",
              "          dataTable['output_type'] = 'display_data';\n",
              "          await google.colab.output.renderOutput(dataTable, element);\n",
              "          const docLink = document.createElement('div');\n",
              "          docLink.innerHTML = docLinkHtml;\n",
              "          element.appendChild(docLink);\n",
              "        }\n",
              "      </script>\n",
              "    </div>\n",
              "  </div>\n",
              "  "
            ]
          },
          "metadata": {},
          "execution_count": 178
        }
      ]
    },
    {
      "cell_type": "code",
      "source": [
        "# 영화 제목별 별점 평균\n",
        "by_title = df.groupby('title').rating.mean()\n",
        "by_title"
      ],
      "metadata": {
        "colab": {
          "base_uri": "https://localhost:8080/"
        },
        "id": "4fpAtZb4ljyk",
        "outputId": "e0df97b3-e024-498d-97c5-427cacf70300"
      },
      "execution_count": null,
      "outputs": [
        {
          "output_type": "execute_result",
          "data": {
            "text/plain": [
              "title\n",
              "$1,000,000 Duck (1971)                        3.027027\n",
              "'Night Mother (1986)                          3.371429\n",
              "'Til There Was You (1997)                     2.692308\n",
              "'burbs, The (1989)                            2.910891\n",
              "...And Justice for All (1979)                 3.713568\n",
              "                                                ...   \n",
              "Zed & Two Noughts, A (1985)                   3.413793\n",
              "Zero Effect (1998)                            3.750831\n",
              "Zero Kelvin (Kjærlighetens kjøtere) (1995)    3.500000\n",
              "Zeus and Roxanne (1997)                       2.521739\n",
              "eXistenZ (1999)                               3.256098\n",
              "Name: rating, Length: 3706, dtype: float64"
            ]
          },
          "metadata": {},
          "execution_count": 179
        }
      ]
    },
    {
      "cell_type": "code",
      "source": [
        "# 제목별 별점 평균을 평균값 내림차순 정렬 -> 첫 10개 선택\n",
        "by_title.sort_values(ascending=False).head(n=10)"
      ],
      "metadata": {
        "colab": {
          "base_uri": "https://localhost:8080/"
        },
        "id": "MtokJXKflj1Y",
        "outputId": "b2dc9c20-a8bd-4df1-e081-a3f8475dda60"
      },
      "execution_count": null,
      "outputs": [
        {
          "output_type": "execute_result",
          "data": {
            "text/plain": [
              "title\n",
              "Ulysses (Ulisse) (1954)                      5.0\n",
              "Lured (1947)                                 5.0\n",
              "Follow the Bitch (1998)                      5.0\n",
              "Bittersweet Motel (2000)                     5.0\n",
              "Song of Freedom (1936)                       5.0\n",
              "One Little Indian (1973)                     5.0\n",
              "Smashing Time (1967)                         5.0\n",
              "Schlafes Bruder (Brother of Sleep) (1995)    5.0\n",
              "Gate of Heavenly Peace, The (1995)           5.0\n",
              "Baby, The (1973)                             5.0\n",
              "Name: rating, dtype: float64"
            ]
          },
          "metadata": {},
          "execution_count": 180
        }
      ]
    },
    {
      "cell_type": "code",
      "source": [
        "by_title.sort_values(ascending=False).head(n=10).index"
      ],
      "metadata": {
        "colab": {
          "base_uri": "https://localhost:8080/"
        },
        "id": "Zod6Hc2Llj5y",
        "outputId": "bddc9d30-0b2e-4980-d540-63a8d1d48453"
      },
      "execution_count": null,
      "outputs": [
        {
          "output_type": "execute_result",
          "data": {
            "text/plain": [
              "Index(['Ulysses (Ulisse) (1954)', 'Lured (1947)', 'Follow the Bitch (1998)',\n",
              "       'Bittersweet Motel (2000)', 'Song of Freedom (1936)',\n",
              "       'One Little Indian (1973)', 'Smashing Time (1967)',\n",
              "       'Schlafes Bruder (Brother of Sleep) (1995)',\n",
              "       'Gate of Heavenly Peace, The (1995)', 'Baby, The (1973)'],\n",
              "      dtype='object', name='title')"
            ]
          },
          "metadata": {},
          "execution_count": 181
        }
      ]
    },
    {
      "cell_type": "code",
      "source": [
        "# 제목별 별점 평균을 오름차순 정렬 -> 첫 10개 선택\n",
        "by_title.sort_values(ascending=True).head(n=10)"
      ],
      "metadata": {
        "colab": {
          "base_uri": "https://localhost:8080/"
        },
        "id": "5CbRVHMElnK_",
        "outputId": "06006c2c-fc6d-4546-8bac-5ef353b19162"
      },
      "execution_count": null,
      "outputs": [
        {
          "output_type": "execute_result",
          "data": {
            "text/plain": [
              "title\n",
              "Elstree Calling (1930)                                        1.0\n",
              "Get Over It (1996)                                            1.0\n",
              "Venice/Venice (1992)                                          1.0\n",
              "Windows (1980)                                                1.0\n",
              "Kestrel's Eye (Falkens öga) (1998)                            1.0\n",
              "McCullochs, The (1975)                                        1.0\n",
              "Sleepover (1995)                                              1.0\n",
              "Torso (Corpi Presentano Tracce di Violenza Carnale) (1973)    1.0\n",
              "Spring Fever USA (a.k.a. Lauderdale) (1989)                   1.0\n",
              "Santa with Muscles (1996)                                     1.0\n",
              "Name: rating, dtype: float64"
            ]
          },
          "metadata": {},
          "execution_count": 182
        }
      ]
    },
    {
      "cell_type": "markdown",
      "source": [
        "별점의 개수가 1 ~ 2개 밖에 없는 영화들의 별점 평균은 큰 의미가 없을 것 같다. 일정 개수(예: 10개, 30개, 100개, ...) 이상의 별점 건수가 있는 영화들을 선택해서 별점 평균 분석을 하는 것이 더 의미가 있을 것 같다."
      ],
      "metadata": {
        "id": "6DEsl8vUloFU"
      }
    },
    {
      "cell_type": "code",
      "source": [
        "# 영화 제목별 별점 개수\n",
        "title_counts = df.title.value_counts()\n",
        "title_counts"
      ],
      "metadata": {
        "colab": {
          "base_uri": "https://localhost:8080/"
        },
        "id": "Xt5_-xxMlp3Q",
        "outputId": "d7c61516-2782-46fa-fc53-de5bca18ae89"
      },
      "execution_count": null,
      "outputs": [
        {
          "output_type": "execute_result",
          "data": {
            "text/plain": [
              "American Beauty (1999)                                   3428\n",
              "Star Wars: Episode IV - A New Hope (1977)                2991\n",
              "Star Wars: Episode V - The Empire Strikes Back (1980)    2990\n",
              "Star Wars: Episode VI - Return of the Jedi (1983)        2883\n",
              "Jurassic Park (1993)                                     2672\n",
              "                                                         ... \n",
              "Waiting Game, The (2000)                                    1\n",
              "Shadows (Cienie) (1988)                                     1\n",
              "Juno and Paycock (1930)                                     1\n",
              "Resurrection Man (1998)                                     1\n",
              "Windows (1980)                                              1\n",
              "Name: title, Length: 3706, dtype: int64"
            ]
          },
          "metadata": {},
          "execution_count": 183
        }
      ]
    },
    {
      "cell_type": "code",
      "source": [
        "title_counts.head(10)"
      ],
      "metadata": {
        "colab": {
          "base_uri": "https://localhost:8080/"
        },
        "id": "mnpzvowzlp5x",
        "outputId": "b982030b-1a20-4561-c72c-a13bf301baa7"
      },
      "execution_count": null,
      "outputs": [
        {
          "output_type": "execute_result",
          "data": {
            "text/plain": [
              "American Beauty (1999)                                   3428\n",
              "Star Wars: Episode IV - A New Hope (1977)                2991\n",
              "Star Wars: Episode V - The Empire Strikes Back (1980)    2990\n",
              "Star Wars: Episode VI - Return of the Jedi (1983)        2883\n",
              "Jurassic Park (1993)                                     2672\n",
              "Saving Private Ryan (1998)                               2653\n",
              "Terminator 2: Judgment Day (1991)                        2649\n",
              "Matrix, The (1999)                                       2590\n",
              "Back to the Future (1985)                                2583\n",
              "Silence of the Lambs, The (1991)                         2578\n",
              "Name: title, dtype: int64"
            ]
          },
          "metadata": {},
          "execution_count": 184
        }
      ]
    },
    {
      "cell_type": "code",
      "source": [
        "title_counts.describe()  # 영화 제목 빈도수의 기술 통계량"
      ],
      "metadata": {
        "colab": {
          "base_uri": "https://localhost:8080/"
        },
        "id": "o7JGNJaXlp8k",
        "outputId": "a3485adb-a1c8-4d7f-b293-b9acacb13bf3"
      },
      "execution_count": null,
      "outputs": [
        {
          "output_type": "execute_result",
          "data": {
            "text/plain": [
              "count    3706.000000\n",
              "mean      269.889099\n",
              "std       384.047838\n",
              "min         1.000000\n",
              "25%        33.000000\n",
              "50%       123.500000\n",
              "75%       350.000000\n",
              "max      3428.000000\n",
              "Name: title, dtype: float64"
            ]
          },
          "metadata": {},
          "execution_count": 185
        }
      ]
    },
    {
      "cell_type": "markdown",
      "source": [
        "150건 이상의 별점을 받은 영화들에 대해서 별점 평균 분석."
      ],
      "metadata": {
        "id": "BrxwUTMQltnC"
      }
    },
    {
      "cell_type": "code",
      "source": [
        "# 150건 이상의 별점 리뷰가 있는 영화 제목들\n",
        "indexer = title_counts[title_counts >= 150].index\n",
        "indexer"
      ],
      "metadata": {
        "colab": {
          "base_uri": "https://localhost:8080/"
        },
        "id": "WADq7sNNluhW",
        "outputId": "626c8780-d566-4e51-d272-7a201c03e42e"
      },
      "execution_count": null,
      "outputs": [
        {
          "output_type": "execute_result",
          "data": {
            "text/plain": [
              "Index(['American Beauty (1999)', 'Star Wars: Episode IV - A New Hope (1977)',\n",
              "       'Star Wars: Episode V - The Empire Strikes Back (1980)',\n",
              "       'Star Wars: Episode VI - Return of the Jedi (1983)',\n",
              "       'Jurassic Park (1993)', 'Saving Private Ryan (1998)',\n",
              "       'Terminator 2: Judgment Day (1991)', 'Matrix, The (1999)',\n",
              "       'Back to the Future (1985)', 'Silence of the Lambs, The (1991)',\n",
              "       ...\n",
              "       'Alligator (1980)', 'Cowboy Way, The (1994)', 'Twelfth Night (1996)',\n",
              "       'Program, The (1993)', 'Love and Death on Long Island (1997)',\n",
              "       'Asphalt Jungle, The (1950)',\n",
              "       'Tales from the Crypt Presents: Bordello of Blood (1996)',\n",
              "       'Golden Voyage of Sinbad, The (1974)', 'In the Army Now (1994)',\n",
              "       'Police Academy 5: Assignment: Miami Beach (1988)'],\n",
              "      dtype='object', length=1683)"
            ]
          },
          "metadata": {},
          "execution_count": 186
        }
      ]
    },
    {
      "cell_type": "code",
      "source": [
        "# 150건 이상의 별점 리뷰가 있는 영화들의 별점 평균\n",
        "by_title_150 = by_title.loc[indexer]\n",
        "by_title_150"
      ],
      "metadata": {
        "colab": {
          "base_uri": "https://localhost:8080/"
        },
        "id": "LhYkIJgxlujr",
        "outputId": "66819922-3f88-4488-fccc-eb47c282edde"
      },
      "execution_count": null,
      "outputs": [
        {
          "output_type": "execute_result",
          "data": {
            "text/plain": [
              "American Beauty (1999)                                     4.317386\n",
              "Star Wars: Episode IV - A New Hope (1977)                  4.453694\n",
              "Star Wars: Episode V - The Empire Strikes Back (1980)      4.292977\n",
              "Star Wars: Episode VI - Return of the Jedi (1983)          4.022893\n",
              "Jurassic Park (1993)                                       3.763847\n",
              "                                                             ...   \n",
              "Asphalt Jungle, The (1950)                                 3.927152\n",
              "Tales from the Crypt Presents: Bordello of Blood (1996)    2.589404\n",
              "Golden Voyage of Sinbad, The (1974)                        3.397351\n",
              "In the Army Now (1994)                                     2.225166\n",
              "Police Academy 5: Assignment: Miami Beach (1988)           1.766667\n",
              "Name: rating, Length: 1683, dtype: float64"
            ]
          },
          "metadata": {},
          "execution_count": 187
        }
      ]
    },
    {
      "cell_type": "markdown",
      "source": [
        "별점 리뷰 150건 이상의 영화들 중에서 별점 평균 상위 10개 영화 제목"
      ],
      "metadata": {
        "id": "HmR1FESplyAx"
      }
    },
    {
      "cell_type": "code",
      "source": [
        "by_title_150.sort_values(ascending=False).head(n=10)"
      ],
      "metadata": {
        "colab": {
          "base_uri": "https://localhost:8080/"
        },
        "id": "QU1qVFEKlzCi",
        "outputId": "ad8f6a8c-67ba-4e4e-c0c3-55390cc28a80"
      },
      "execution_count": null,
      "outputs": [
        {
          "output_type": "execute_result",
          "data": {
            "text/plain": [
              "Seven Samurai (The Magnificent Seven) (Shichinin no samurai) (1954)    4.560510\n",
              "Shawshank Redemption, The (1994)                                       4.554558\n",
              "Godfather, The (1972)                                                  4.524966\n",
              "Close Shave, A (1995)                                                  4.520548\n",
              "Usual Suspects, The (1995)                                             4.517106\n",
              "Schindler's List (1993)                                                4.510417\n",
              "Wrong Trousers, The (1993)                                             4.507937\n",
              "Sunset Blvd. (a.k.a. Sunset Boulevard) (1950)                          4.491489\n",
              "Raiders of the Lost Ark (1981)                                         4.477725\n",
              "Rear Window (1954)                                                     4.476190\n",
              "Name: rating, dtype: float64"
            ]
          },
          "metadata": {},
          "execution_count": 188
        }
      ]
    },
    {
      "cell_type": "markdown",
      "source": [
        "별점 리뷰 150건 이상을 갖는 영화들 중에서 별점 평균 하위 10개 영화 제목"
      ],
      "metadata": {
        "id": "tvj-ElWClzJX"
      }
    },
    {
      "cell_type": "code",
      "source": [
        "by_title_150.sort_values().head(n=10)"
      ],
      "metadata": {
        "colab": {
          "base_uri": "https://localhost:8080/"
        },
        "id": "M4V3ZlROlzN-",
        "outputId": "b15934b2-8fc9-4524-f646-456ec123dc98"
      },
      "execution_count": null,
      "outputs": [
        {
          "output_type": "execute_result",
          "data": {
            "text/plain": [
              "Battlefield Earth (2000)                            1.611111\n",
              "Baby Geniuses (1999)                                1.701220\n",
              "Police Academy 5: Assignment: Miami Beach (1988)    1.766667\n",
              "Stop! Or My Mom Will Shoot (1992)                   1.782123\n",
              "Jaws 3-D (1983)                                     1.852381\n",
              "Speed 2: Cruise Control (1997)                      1.871935\n",
              "Spice World (1997)                                  1.873684\n",
              "Super Mario Bros. (1993)                            1.874286\n",
              "Home Alone 3 (1997)                                 1.876623\n",
              "Superman IV: The Quest for Peace (1987)             1.888554\n",
              "Name: rating, dtype: float64"
            ]
          },
          "metadata": {},
          "execution_count": 189
        }
      ]
    },
    {
      "cell_type": "markdown",
      "source": [
        "## 성별 영화 선호도 차이?\n",
        "\n",
        "성별, 영화 제목별 별점의 평균\n"
      ],
      "metadata": {
        "id": "B1V-DfRql423"
      }
    },
    {
      "cell_type": "code",
      "source": [
        "df.groupby(['title', 'gender']).rating.mean()"
      ],
      "metadata": {
        "colab": {
          "base_uri": "https://localhost:8080/"
        },
        "id": "4AcvZrZGl5-x",
        "outputId": "337414b3-c040-44a0-95ef-ba5e056a7c69"
      },
      "execution_count": null,
      "outputs": [
        {
          "output_type": "execute_result",
          "data": {
            "text/plain": [
              "title                                       gender\n",
              "$1,000,000 Duck (1971)                      F         3.375000\n",
              "                                            M         2.761905\n",
              "'Night Mother (1986)                        F         3.388889\n",
              "                                            M         3.352941\n",
              "'Til There Was You (1997)                   F         2.675676\n",
              "                                                        ...   \n",
              "Zero Kelvin (Kjærlighetens kjøtere) (1995)  M         3.500000\n",
              "Zeus and Roxanne (1997)                     F         2.777778\n",
              "                                            M         2.357143\n",
              "eXistenZ (1999)                             F         3.098592\n",
              "                                            M         3.289086\n",
              "Name: rating, Length: 7152, dtype: float64"
            ]
          },
          "metadata": {},
          "execution_count": 190
        }
      ]
    },
    {
      "cell_type": "markdown",
      "source": [
        "\n",
        "* `unstack()`: 행의 인덱스를 컬럼 이름으로 변환.\n",
        "* `stack()`: 컬럼 이름을 행의 인덱스로 변환.\n"
      ],
      "metadata": {
        "id": "L9LxCUbel7SD"
      }
    },
    {
      "cell_type": "code",
      "source": [
        "df.groupby(['title', 'gender']).rating.mean().unstack()"
      ],
      "metadata": {
        "colab": {
          "base_uri": "https://localhost:8080/",
          "height": 455
        },
        "id": "Bzle9VuHl8Ty",
        "outputId": "8e0fc35b-3b76-4454-f88a-5e4b1c840204"
      },
      "execution_count": null,
      "outputs": [
        {
          "output_type": "execute_result",
          "data": {
            "text/plain": [
              "gender                                             F         M\n",
              "title                                                         \n",
              "$1,000,000 Duck (1971)                      3.375000  2.761905\n",
              "'Night Mother (1986)                        3.388889  3.352941\n",
              "'Til There Was You (1997)                   2.675676  2.733333\n",
              "'burbs, The (1989)                          2.793478  2.962085\n",
              "...And Justice for All (1979)               3.828571  3.689024\n",
              "...                                              ...       ...\n",
              "Zed & Two Noughts, A (1985)                 3.500000  3.380952\n",
              "Zero Effect (1998)                          3.864407  3.723140\n",
              "Zero Kelvin (Kjærlighetens kjøtere) (1995)       NaN  3.500000\n",
              "Zeus and Roxanne (1997)                     2.777778  2.357143\n",
              "eXistenZ (1999)                             3.098592  3.289086\n",
              "\n",
              "[3706 rows x 2 columns]"
            ],
            "text/html": [
              "\n",
              "  <div id=\"df-ddd8e4d2-5cae-417a-8ff9-e19207b1fcd9\">\n",
              "    <div class=\"colab-df-container\">\n",
              "      <div>\n",
              "<style scoped>\n",
              "    .dataframe tbody tr th:only-of-type {\n",
              "        vertical-align: middle;\n",
              "    }\n",
              "\n",
              "    .dataframe tbody tr th {\n",
              "        vertical-align: top;\n",
              "    }\n",
              "\n",
              "    .dataframe thead th {\n",
              "        text-align: right;\n",
              "    }\n",
              "</style>\n",
              "<table border=\"1\" class=\"dataframe\">\n",
              "  <thead>\n",
              "    <tr style=\"text-align: right;\">\n",
              "      <th>gender</th>\n",
              "      <th>F</th>\n",
              "      <th>M</th>\n",
              "    </tr>\n",
              "    <tr>\n",
              "      <th>title</th>\n",
              "      <th></th>\n",
              "      <th></th>\n",
              "    </tr>\n",
              "  </thead>\n",
              "  <tbody>\n",
              "    <tr>\n",
              "      <th>$1,000,000 Duck (1971)</th>\n",
              "      <td>3.375000</td>\n",
              "      <td>2.761905</td>\n",
              "    </tr>\n",
              "    <tr>\n",
              "      <th>'Night Mother (1986)</th>\n",
              "      <td>3.388889</td>\n",
              "      <td>3.352941</td>\n",
              "    </tr>\n",
              "    <tr>\n",
              "      <th>'Til There Was You (1997)</th>\n",
              "      <td>2.675676</td>\n",
              "      <td>2.733333</td>\n",
              "    </tr>\n",
              "    <tr>\n",
              "      <th>'burbs, The (1989)</th>\n",
              "      <td>2.793478</td>\n",
              "      <td>2.962085</td>\n",
              "    </tr>\n",
              "    <tr>\n",
              "      <th>...And Justice for All (1979)</th>\n",
              "      <td>3.828571</td>\n",
              "      <td>3.689024</td>\n",
              "    </tr>\n",
              "    <tr>\n",
              "      <th>...</th>\n",
              "      <td>...</td>\n",
              "      <td>...</td>\n",
              "    </tr>\n",
              "    <tr>\n",
              "      <th>Zed &amp; Two Noughts, A (1985)</th>\n",
              "      <td>3.500000</td>\n",
              "      <td>3.380952</td>\n",
              "    </tr>\n",
              "    <tr>\n",
              "      <th>Zero Effect (1998)</th>\n",
              "      <td>3.864407</td>\n",
              "      <td>3.723140</td>\n",
              "    </tr>\n",
              "    <tr>\n",
              "      <th>Zero Kelvin (Kjærlighetens kjøtere) (1995)</th>\n",
              "      <td>NaN</td>\n",
              "      <td>3.500000</td>\n",
              "    </tr>\n",
              "    <tr>\n",
              "      <th>Zeus and Roxanne (1997)</th>\n",
              "      <td>2.777778</td>\n",
              "      <td>2.357143</td>\n",
              "    </tr>\n",
              "    <tr>\n",
              "      <th>eXistenZ (1999)</th>\n",
              "      <td>3.098592</td>\n",
              "      <td>3.289086</td>\n",
              "    </tr>\n",
              "  </tbody>\n",
              "</table>\n",
              "<p>3706 rows × 2 columns</p>\n",
              "</div>\n",
              "      <button class=\"colab-df-convert\" onclick=\"convertToInteractive('df-ddd8e4d2-5cae-417a-8ff9-e19207b1fcd9')\"\n",
              "              title=\"Convert this dataframe to an interactive table.\"\n",
              "              style=\"display:none;\">\n",
              "        \n",
              "  <svg xmlns=\"http://www.w3.org/2000/svg\" height=\"24px\"viewBox=\"0 0 24 24\"\n",
              "       width=\"24px\">\n",
              "    <path d=\"M0 0h24v24H0V0z\" fill=\"none\"/>\n",
              "    <path d=\"M18.56 5.44l.94 2.06.94-2.06 2.06-.94-2.06-.94-.94-2.06-.94 2.06-2.06.94zm-11 1L8.5 8.5l.94-2.06 2.06-.94-2.06-.94L8.5 2.5l-.94 2.06-2.06.94zm10 10l.94 2.06.94-2.06 2.06-.94-2.06-.94-.94-2.06-.94 2.06-2.06.94z\"/><path d=\"M17.41 7.96l-1.37-1.37c-.4-.4-.92-.59-1.43-.59-.52 0-1.04.2-1.43.59L10.3 9.45l-7.72 7.72c-.78.78-.78 2.05 0 2.83L4 21.41c.39.39.9.59 1.41.59.51 0 1.02-.2 1.41-.59l7.78-7.78 2.81-2.81c.8-.78.8-2.07 0-2.86zM5.41 20L4 18.59l7.72-7.72 1.47 1.35L5.41 20z\"/>\n",
              "  </svg>\n",
              "      </button>\n",
              "      \n",
              "  <style>\n",
              "    .colab-df-container {\n",
              "      display:flex;\n",
              "      flex-wrap:wrap;\n",
              "      gap: 12px;\n",
              "    }\n",
              "\n",
              "    .colab-df-convert {\n",
              "      background-color: #E8F0FE;\n",
              "      border: none;\n",
              "      border-radius: 50%;\n",
              "      cursor: pointer;\n",
              "      display: none;\n",
              "      fill: #1967D2;\n",
              "      height: 32px;\n",
              "      padding: 0 0 0 0;\n",
              "      width: 32px;\n",
              "    }\n",
              "\n",
              "    .colab-df-convert:hover {\n",
              "      background-color: #E2EBFA;\n",
              "      box-shadow: 0px 1px 2px rgba(60, 64, 67, 0.3), 0px 1px 3px 1px rgba(60, 64, 67, 0.15);\n",
              "      fill: #174EA6;\n",
              "    }\n",
              "\n",
              "    [theme=dark] .colab-df-convert {\n",
              "      background-color: #3B4455;\n",
              "      fill: #D2E3FC;\n",
              "    }\n",
              "\n",
              "    [theme=dark] .colab-df-convert:hover {\n",
              "      background-color: #434B5C;\n",
              "      box-shadow: 0px 1px 3px 1px rgba(0, 0, 0, 0.15);\n",
              "      filter: drop-shadow(0px 1px 2px rgba(0, 0, 0, 0.3));\n",
              "      fill: #FFFFFF;\n",
              "    }\n",
              "  </style>\n",
              "\n",
              "      <script>\n",
              "        const buttonEl =\n",
              "          document.querySelector('#df-ddd8e4d2-5cae-417a-8ff9-e19207b1fcd9 button.colab-df-convert');\n",
              "        buttonEl.style.display =\n",
              "          google.colab.kernel.accessAllowed ? 'block' : 'none';\n",
              "\n",
              "        async function convertToInteractive(key) {\n",
              "          const element = document.querySelector('#df-ddd8e4d2-5cae-417a-8ff9-e19207b1fcd9');\n",
              "          const dataTable =\n",
              "            await google.colab.kernel.invokeFunction('convertToInteractive',\n",
              "                                                     [key], {});\n",
              "          if (!dataTable) return;\n",
              "\n",
              "          const docLinkHtml = 'Like what you see? Visit the ' +\n",
              "            '<a target=\"_blank\" href=https://colab.research.google.com/notebooks/data_table.ipynb>data table notebook</a>'\n",
              "            + ' to learn more about interactive tables.';\n",
              "          element.innerHTML = '';\n",
              "          dataTable['output_type'] = 'display_data';\n",
              "          await google.colab.output.renderOutput(dataTable, element);\n",
              "          const docLink = document.createElement('div');\n",
              "          docLink.innerHTML = docLinkHtml;\n",
              "          element.appendChild(docLink);\n",
              "        }\n",
              "      </script>\n",
              "    </div>\n",
              "  </div>\n",
              "  "
            ]
          },
          "metadata": {},
          "execution_count": 191
        }
      ]
    },
    {
      "cell_type": "code",
      "source": [
        "by_gender = df.pivot_table(values='rating', index='title', columns='gender', aggfunc=np.mean)\n",
        "by_gender\n",
        "# param values: 피봇 테이블의 각 셀에 채울 값으로 사용할 컬럼 이름.\n",
        "# param index: 피봇 테이블의 (행) 인덱스로 사용할 컬럼 이름.\n",
        "# param columns: 피봇 테이블의 컬럼으로 사용할 컬럼 이름.\n",
        "# param aggfunc: 집계 함수. values들을 계산할 함수. 기본값은 평균."
      ],
      "metadata": {
        "colab": {
          "base_uri": "https://localhost:8080/",
          "height": 455
        },
        "id": "QIwyUElrl9f-",
        "outputId": "dc924947-6998-4602-8791-5457def93002"
      },
      "execution_count": null,
      "outputs": [
        {
          "output_type": "execute_result",
          "data": {
            "text/plain": [
              "gender                                             F         M\n",
              "title                                                         \n",
              "$1,000,000 Duck (1971)                      3.375000  2.761905\n",
              "'Night Mother (1986)                        3.388889  3.352941\n",
              "'Til There Was You (1997)                   2.675676  2.733333\n",
              "'burbs, The (1989)                          2.793478  2.962085\n",
              "...And Justice for All (1979)               3.828571  3.689024\n",
              "...                                              ...       ...\n",
              "Zed & Two Noughts, A (1985)                 3.500000  3.380952\n",
              "Zero Effect (1998)                          3.864407  3.723140\n",
              "Zero Kelvin (Kjærlighetens kjøtere) (1995)       NaN  3.500000\n",
              "Zeus and Roxanne (1997)                     2.777778  2.357143\n",
              "eXistenZ (1999)                             3.098592  3.289086\n",
              "\n",
              "[3706 rows x 2 columns]"
            ],
            "text/html": [
              "\n",
              "  <div id=\"df-c8fce211-8242-45a3-b133-c630a1236dac\">\n",
              "    <div class=\"colab-df-container\">\n",
              "      <div>\n",
              "<style scoped>\n",
              "    .dataframe tbody tr th:only-of-type {\n",
              "        vertical-align: middle;\n",
              "    }\n",
              "\n",
              "    .dataframe tbody tr th {\n",
              "        vertical-align: top;\n",
              "    }\n",
              "\n",
              "    .dataframe thead th {\n",
              "        text-align: right;\n",
              "    }\n",
              "</style>\n",
              "<table border=\"1\" class=\"dataframe\">\n",
              "  <thead>\n",
              "    <tr style=\"text-align: right;\">\n",
              "      <th>gender</th>\n",
              "      <th>F</th>\n",
              "      <th>M</th>\n",
              "    </tr>\n",
              "    <tr>\n",
              "      <th>title</th>\n",
              "      <th></th>\n",
              "      <th></th>\n",
              "    </tr>\n",
              "  </thead>\n",
              "  <tbody>\n",
              "    <tr>\n",
              "      <th>$1,000,000 Duck (1971)</th>\n",
              "      <td>3.375000</td>\n",
              "      <td>2.761905</td>\n",
              "    </tr>\n",
              "    <tr>\n",
              "      <th>'Night Mother (1986)</th>\n",
              "      <td>3.388889</td>\n",
              "      <td>3.352941</td>\n",
              "    </tr>\n",
              "    <tr>\n",
              "      <th>'Til There Was You (1997)</th>\n",
              "      <td>2.675676</td>\n",
              "      <td>2.733333</td>\n",
              "    </tr>\n",
              "    <tr>\n",
              "      <th>'burbs, The (1989)</th>\n",
              "      <td>2.793478</td>\n",
              "      <td>2.962085</td>\n",
              "    </tr>\n",
              "    <tr>\n",
              "      <th>...And Justice for All (1979)</th>\n",
              "      <td>3.828571</td>\n",
              "      <td>3.689024</td>\n",
              "    </tr>\n",
              "    <tr>\n",
              "      <th>...</th>\n",
              "      <td>...</td>\n",
              "      <td>...</td>\n",
              "    </tr>\n",
              "    <tr>\n",
              "      <th>Zed &amp; Two Noughts, A (1985)</th>\n",
              "      <td>3.500000</td>\n",
              "      <td>3.380952</td>\n",
              "    </tr>\n",
              "    <tr>\n",
              "      <th>Zero Effect (1998)</th>\n",
              "      <td>3.864407</td>\n",
              "      <td>3.723140</td>\n",
              "    </tr>\n",
              "    <tr>\n",
              "      <th>Zero Kelvin (Kjærlighetens kjøtere) (1995)</th>\n",
              "      <td>NaN</td>\n",
              "      <td>3.500000</td>\n",
              "    </tr>\n",
              "    <tr>\n",
              "      <th>Zeus and Roxanne (1997)</th>\n",
              "      <td>2.777778</td>\n",
              "      <td>2.357143</td>\n",
              "    </tr>\n",
              "    <tr>\n",
              "      <th>eXistenZ (1999)</th>\n",
              "      <td>3.098592</td>\n",
              "      <td>3.289086</td>\n",
              "    </tr>\n",
              "  </tbody>\n",
              "</table>\n",
              "<p>3706 rows × 2 columns</p>\n",
              "</div>\n",
              "      <button class=\"colab-df-convert\" onclick=\"convertToInteractive('df-c8fce211-8242-45a3-b133-c630a1236dac')\"\n",
              "              title=\"Convert this dataframe to an interactive table.\"\n",
              "              style=\"display:none;\">\n",
              "        \n",
              "  <svg xmlns=\"http://www.w3.org/2000/svg\" height=\"24px\"viewBox=\"0 0 24 24\"\n",
              "       width=\"24px\">\n",
              "    <path d=\"M0 0h24v24H0V0z\" fill=\"none\"/>\n",
              "    <path d=\"M18.56 5.44l.94 2.06.94-2.06 2.06-.94-2.06-.94-.94-2.06-.94 2.06-2.06.94zm-11 1L8.5 8.5l.94-2.06 2.06-.94-2.06-.94L8.5 2.5l-.94 2.06-2.06.94zm10 10l.94 2.06.94-2.06 2.06-.94-2.06-.94-.94-2.06-.94 2.06-2.06.94z\"/><path d=\"M17.41 7.96l-1.37-1.37c-.4-.4-.92-.59-1.43-.59-.52 0-1.04.2-1.43.59L10.3 9.45l-7.72 7.72c-.78.78-.78 2.05 0 2.83L4 21.41c.39.39.9.59 1.41.59.51 0 1.02-.2 1.41-.59l7.78-7.78 2.81-2.81c.8-.78.8-2.07 0-2.86zM5.41 20L4 18.59l7.72-7.72 1.47 1.35L5.41 20z\"/>\n",
              "  </svg>\n",
              "      </button>\n",
              "      \n",
              "  <style>\n",
              "    .colab-df-container {\n",
              "      display:flex;\n",
              "      flex-wrap:wrap;\n",
              "      gap: 12px;\n",
              "    }\n",
              "\n",
              "    .colab-df-convert {\n",
              "      background-color: #E8F0FE;\n",
              "      border: none;\n",
              "      border-radius: 50%;\n",
              "      cursor: pointer;\n",
              "      display: none;\n",
              "      fill: #1967D2;\n",
              "      height: 32px;\n",
              "      padding: 0 0 0 0;\n",
              "      width: 32px;\n",
              "    }\n",
              "\n",
              "    .colab-df-convert:hover {\n",
              "      background-color: #E2EBFA;\n",
              "      box-shadow: 0px 1px 2px rgba(60, 64, 67, 0.3), 0px 1px 3px 1px rgba(60, 64, 67, 0.15);\n",
              "      fill: #174EA6;\n",
              "    }\n",
              "\n",
              "    [theme=dark] .colab-df-convert {\n",
              "      background-color: #3B4455;\n",
              "      fill: #D2E3FC;\n",
              "    }\n",
              "\n",
              "    [theme=dark] .colab-df-convert:hover {\n",
              "      background-color: #434B5C;\n",
              "      box-shadow: 0px 1px 3px 1px rgba(0, 0, 0, 0.15);\n",
              "      filter: drop-shadow(0px 1px 2px rgba(0, 0, 0, 0.3));\n",
              "      fill: #FFFFFF;\n",
              "    }\n",
              "  </style>\n",
              "\n",
              "      <script>\n",
              "        const buttonEl =\n",
              "          document.querySelector('#df-c8fce211-8242-45a3-b133-c630a1236dac button.colab-df-convert');\n",
              "        buttonEl.style.display =\n",
              "          google.colab.kernel.accessAllowed ? 'block' : 'none';\n",
              "\n",
              "        async function convertToInteractive(key) {\n",
              "          const element = document.querySelector('#df-c8fce211-8242-45a3-b133-c630a1236dac');\n",
              "          const dataTable =\n",
              "            await google.colab.kernel.invokeFunction('convertToInteractive',\n",
              "                                                     [key], {});\n",
              "          if (!dataTable) return;\n",
              "\n",
              "          const docLinkHtml = 'Like what you see? Visit the ' +\n",
              "            '<a target=\"_blank\" href=https://colab.research.google.com/notebooks/data_table.ipynb>data table notebook</a>'\n",
              "            + ' to learn more about interactive tables.';\n",
              "          element.innerHTML = '';\n",
              "          dataTable['output_type'] = 'display_data';\n",
              "          await google.colab.output.renderOutput(dataTable, element);\n",
              "          const docLink = document.createElement('div');\n",
              "          docLink.innerHTML = docLinkHtml;\n",
              "          element.appendChild(docLink);\n",
              "        }\n",
              "      </script>\n",
              "    </div>\n",
              "  </div>\n",
              "  "
            ]
          },
          "metadata": {},
          "execution_count": 192
        }
      ]
    },
    {
      "cell_type": "code",
      "source": [
        "# (제목별,) 연령대별 별점 평균\n",
        "df.groupby(['title', 'age']).rating.mean().unstack()"
      ],
      "metadata": {
        "colab": {
          "base_uri": "https://localhost:8080/",
          "height": 455
        },
        "id": "o5sgKk0Xl_HB",
        "outputId": "553f8056-6af8-405e-82a1-6248b90b57c8"
      },
      "execution_count": null,
      "outputs": [
        {
          "output_type": "execute_result",
          "data": {
            "text/plain": [
              "age                                               1         18        25  \\\n",
              "title                                                                      \n",
              "$1,000,000 Duck (1971)                           NaN  3.000000  3.090909   \n",
              "'Night Mother (1986)                        2.000000  4.666667  3.423077   \n",
              "'Til There Was You (1997)                   3.500000  2.500000  2.666667   \n",
              "'burbs, The (1989)                          4.500000  3.244444  2.652174   \n",
              "...And Justice for All (1979)               3.000000  3.428571  3.724138   \n",
              "...                                              ...       ...       ...   \n",
              "Zed & Two Noughts, A (1985)                 1.000000  3.000000  3.375000   \n",
              "Zero Effect (1998)                          4.125000  3.883333  3.715278   \n",
              "Zero Kelvin (Kjærlighetens kjøtere) (1995)       NaN       NaN       NaN   \n",
              "Zeus and Roxanne (1997)                     1.500000  2.500000  2.833333   \n",
              "eXistenZ (1999)                             3.142857  3.289157  3.234973   \n",
              "\n",
              "age                                               35        45        50  \\\n",
              "title                                                                      \n",
              "$1,000,000 Duck (1971)                      3.133333  2.000000  2.750000   \n",
              "'Night Mother (1986)                        2.904762  3.833333  3.555556   \n",
              "'Til There Was You (1997)                   2.900000  2.333333  2.500000   \n",
              "'burbs, The (1989)                          2.818182  2.545455  3.208333   \n",
              "...And Justice for All (1979)               3.657143  4.100000  3.551724   \n",
              "...                                              ...       ...       ...   \n",
              "Zed & Two Noughts, A (1985)                 3.777778  4.000000  3.000000   \n",
              "Zero Effect (1998)                          3.608696  3.764706  3.833333   \n",
              "Zero Kelvin (Kjærlighetens kjøtere) (1995)  3.500000       NaN       NaN   \n",
              "Zeus and Roxanne (1997)                     3.500000  1.000000       NaN   \n",
              "eXistenZ (1999)                             3.364865  3.222222  3.291667   \n",
              "\n",
              "age                                               56  \n",
              "title                                                 \n",
              "$1,000,000 Duck (1971)                           NaN  \n",
              "'Night Mother (1986)                        4.333333  \n",
              "'Til There Was You (1997)                   2.666667  \n",
              "'burbs, The (1989)                          2.666667  \n",
              "...And Justice for All (1979)               3.928571  \n",
              "...                                              ...  \n",
              "Zed & Two Noughts, A (1985)                      NaN  \n",
              "Zero Effect (1998)                          3.625000  \n",
              "Zero Kelvin (Kjærlighetens kjøtere) (1995)       NaN  \n",
              "Zeus and Roxanne (1997)                          NaN  \n",
              "eXistenZ (1999)                             2.200000  \n",
              "\n",
              "[3706 rows x 7 columns]"
            ],
            "text/html": [
              "\n",
              "  <div id=\"df-6780728e-0c8c-477f-857e-463793dc6b39\">\n",
              "    <div class=\"colab-df-container\">\n",
              "      <div>\n",
              "<style scoped>\n",
              "    .dataframe tbody tr th:only-of-type {\n",
              "        vertical-align: middle;\n",
              "    }\n",
              "\n",
              "    .dataframe tbody tr th {\n",
              "        vertical-align: top;\n",
              "    }\n",
              "\n",
              "    .dataframe thead th {\n",
              "        text-align: right;\n",
              "    }\n",
              "</style>\n",
              "<table border=\"1\" class=\"dataframe\">\n",
              "  <thead>\n",
              "    <tr style=\"text-align: right;\">\n",
              "      <th>age</th>\n",
              "      <th>1</th>\n",
              "      <th>18</th>\n",
              "      <th>25</th>\n",
              "      <th>35</th>\n",
              "      <th>45</th>\n",
              "      <th>50</th>\n",
              "      <th>56</th>\n",
              "    </tr>\n",
              "    <tr>\n",
              "      <th>title</th>\n",
              "      <th></th>\n",
              "      <th></th>\n",
              "      <th></th>\n",
              "      <th></th>\n",
              "      <th></th>\n",
              "      <th></th>\n",
              "      <th></th>\n",
              "    </tr>\n",
              "  </thead>\n",
              "  <tbody>\n",
              "    <tr>\n",
              "      <th>$1,000,000 Duck (1971)</th>\n",
              "      <td>NaN</td>\n",
              "      <td>3.000000</td>\n",
              "      <td>3.090909</td>\n",
              "      <td>3.133333</td>\n",
              "      <td>2.000000</td>\n",
              "      <td>2.750000</td>\n",
              "      <td>NaN</td>\n",
              "    </tr>\n",
              "    <tr>\n",
              "      <th>'Night Mother (1986)</th>\n",
              "      <td>2.000000</td>\n",
              "      <td>4.666667</td>\n",
              "      <td>3.423077</td>\n",
              "      <td>2.904762</td>\n",
              "      <td>3.833333</td>\n",
              "      <td>3.555556</td>\n",
              "      <td>4.333333</td>\n",
              "    </tr>\n",
              "    <tr>\n",
              "      <th>'Til There Was You (1997)</th>\n",
              "      <td>3.500000</td>\n",
              "      <td>2.500000</td>\n",
              "      <td>2.666667</td>\n",
              "      <td>2.900000</td>\n",
              "      <td>2.333333</td>\n",
              "      <td>2.500000</td>\n",
              "      <td>2.666667</td>\n",
              "    </tr>\n",
              "    <tr>\n",
              "      <th>'burbs, The (1989)</th>\n",
              "      <td>4.500000</td>\n",
              "      <td>3.244444</td>\n",
              "      <td>2.652174</td>\n",
              "      <td>2.818182</td>\n",
              "      <td>2.545455</td>\n",
              "      <td>3.208333</td>\n",
              "      <td>2.666667</td>\n",
              "    </tr>\n",
              "    <tr>\n",
              "      <th>...And Justice for All (1979)</th>\n",
              "      <td>3.000000</td>\n",
              "      <td>3.428571</td>\n",
              "      <td>3.724138</td>\n",
              "      <td>3.657143</td>\n",
              "      <td>4.100000</td>\n",
              "      <td>3.551724</td>\n",
              "      <td>3.928571</td>\n",
              "    </tr>\n",
              "    <tr>\n",
              "      <th>...</th>\n",
              "      <td>...</td>\n",
              "      <td>...</td>\n",
              "      <td>...</td>\n",
              "      <td>...</td>\n",
              "      <td>...</td>\n",
              "      <td>...</td>\n",
              "      <td>...</td>\n",
              "    </tr>\n",
              "    <tr>\n",
              "      <th>Zed &amp; Two Noughts, A (1985)</th>\n",
              "      <td>1.000000</td>\n",
              "      <td>3.000000</td>\n",
              "      <td>3.375000</td>\n",
              "      <td>3.777778</td>\n",
              "      <td>4.000000</td>\n",
              "      <td>3.000000</td>\n",
              "      <td>NaN</td>\n",
              "    </tr>\n",
              "    <tr>\n",
              "      <th>Zero Effect (1998)</th>\n",
              "      <td>4.125000</td>\n",
              "      <td>3.883333</td>\n",
              "      <td>3.715278</td>\n",
              "      <td>3.608696</td>\n",
              "      <td>3.764706</td>\n",
              "      <td>3.833333</td>\n",
              "      <td>3.625000</td>\n",
              "    </tr>\n",
              "    <tr>\n",
              "      <th>Zero Kelvin (Kjærlighetens kjøtere) (1995)</th>\n",
              "      <td>NaN</td>\n",
              "      <td>NaN</td>\n",
              "      <td>NaN</td>\n",
              "      <td>3.500000</td>\n",
              "      <td>NaN</td>\n",
              "      <td>NaN</td>\n",
              "      <td>NaN</td>\n",
              "    </tr>\n",
              "    <tr>\n",
              "      <th>Zeus and Roxanne (1997)</th>\n",
              "      <td>1.500000</td>\n",
              "      <td>2.500000</td>\n",
              "      <td>2.833333</td>\n",
              "      <td>3.500000</td>\n",
              "      <td>1.000000</td>\n",
              "      <td>NaN</td>\n",
              "      <td>NaN</td>\n",
              "    </tr>\n",
              "    <tr>\n",
              "      <th>eXistenZ (1999)</th>\n",
              "      <td>3.142857</td>\n",
              "      <td>3.289157</td>\n",
              "      <td>3.234973</td>\n",
              "      <td>3.364865</td>\n",
              "      <td>3.222222</td>\n",
              "      <td>3.291667</td>\n",
              "      <td>2.200000</td>\n",
              "    </tr>\n",
              "  </tbody>\n",
              "</table>\n",
              "<p>3706 rows × 7 columns</p>\n",
              "</div>\n",
              "      <button class=\"colab-df-convert\" onclick=\"convertToInteractive('df-6780728e-0c8c-477f-857e-463793dc6b39')\"\n",
              "              title=\"Convert this dataframe to an interactive table.\"\n",
              "              style=\"display:none;\">\n",
              "        \n",
              "  <svg xmlns=\"http://www.w3.org/2000/svg\" height=\"24px\"viewBox=\"0 0 24 24\"\n",
              "       width=\"24px\">\n",
              "    <path d=\"M0 0h24v24H0V0z\" fill=\"none\"/>\n",
              "    <path d=\"M18.56 5.44l.94 2.06.94-2.06 2.06-.94-2.06-.94-.94-2.06-.94 2.06-2.06.94zm-11 1L8.5 8.5l.94-2.06 2.06-.94-2.06-.94L8.5 2.5l-.94 2.06-2.06.94zm10 10l.94 2.06.94-2.06 2.06-.94-2.06-.94-.94-2.06-.94 2.06-2.06.94z\"/><path d=\"M17.41 7.96l-1.37-1.37c-.4-.4-.92-.59-1.43-.59-.52 0-1.04.2-1.43.59L10.3 9.45l-7.72 7.72c-.78.78-.78 2.05 0 2.83L4 21.41c.39.39.9.59 1.41.59.51 0 1.02-.2 1.41-.59l7.78-7.78 2.81-2.81c.8-.78.8-2.07 0-2.86zM5.41 20L4 18.59l7.72-7.72 1.47 1.35L5.41 20z\"/>\n",
              "  </svg>\n",
              "      </button>\n",
              "      \n",
              "  <style>\n",
              "    .colab-df-container {\n",
              "      display:flex;\n",
              "      flex-wrap:wrap;\n",
              "      gap: 12px;\n",
              "    }\n",
              "\n",
              "    .colab-df-convert {\n",
              "      background-color: #E8F0FE;\n",
              "      border: none;\n",
              "      border-radius: 50%;\n",
              "      cursor: pointer;\n",
              "      display: none;\n",
              "      fill: #1967D2;\n",
              "      height: 32px;\n",
              "      padding: 0 0 0 0;\n",
              "      width: 32px;\n",
              "    }\n",
              "\n",
              "    .colab-df-convert:hover {\n",
              "      background-color: #E2EBFA;\n",
              "      box-shadow: 0px 1px 2px rgba(60, 64, 67, 0.3), 0px 1px 3px 1px rgba(60, 64, 67, 0.15);\n",
              "      fill: #174EA6;\n",
              "    }\n",
              "\n",
              "    [theme=dark] .colab-df-convert {\n",
              "      background-color: #3B4455;\n",
              "      fill: #D2E3FC;\n",
              "    }\n",
              "\n",
              "    [theme=dark] .colab-df-convert:hover {\n",
              "      background-color: #434B5C;\n",
              "      box-shadow: 0px 1px 3px 1px rgba(0, 0, 0, 0.15);\n",
              "      filter: drop-shadow(0px 1px 2px rgba(0, 0, 0, 0.3));\n",
              "      fill: #FFFFFF;\n",
              "    }\n",
              "  </style>\n",
              "\n",
              "      <script>\n",
              "        const buttonEl =\n",
              "          document.querySelector('#df-6780728e-0c8c-477f-857e-463793dc6b39 button.colab-df-convert');\n",
              "        buttonEl.style.display =\n",
              "          google.colab.kernel.accessAllowed ? 'block' : 'none';\n",
              "\n",
              "        async function convertToInteractive(key) {\n",
              "          const element = document.querySelector('#df-6780728e-0c8c-477f-857e-463793dc6b39');\n",
              "          const dataTable =\n",
              "            await google.colab.kernel.invokeFunction('convertToInteractive',\n",
              "                                                     [key], {});\n",
              "          if (!dataTable) return;\n",
              "\n",
              "          const docLinkHtml = 'Like what you see? Visit the ' +\n",
              "            '<a target=\"_blank\" href=https://colab.research.google.com/notebooks/data_table.ipynb>data table notebook</a>'\n",
              "            + ' to learn more about interactive tables.';\n",
              "          element.innerHTML = '';\n",
              "          dataTable['output_type'] = 'display_data';\n",
              "          await google.colab.output.renderOutput(dataTable, element);\n",
              "          const docLink = document.createElement('div');\n",
              "          docLink.innerHTML = docLinkHtml;\n",
              "          element.appendChild(docLink);\n",
              "        }\n",
              "      </script>\n",
              "    </div>\n",
              "  </div>\n",
              "  "
            ]
          },
          "metadata": {},
          "execution_count": 193
        }
      ]
    },
    {
      "cell_type": "code",
      "source": [
        "df.pivot_table(values='rating', index='title', columns='age')"
      ],
      "metadata": {
        "colab": {
          "base_uri": "https://localhost:8080/",
          "height": 455
        },
        "id": "3z52Xuc_l_Co",
        "outputId": "b8e6dfd3-2205-47cd-cb87-8aaf6b4edaa7"
      },
      "execution_count": null,
      "outputs": [
        {
          "output_type": "execute_result",
          "data": {
            "text/plain": [
              "age                                               1         18        25  \\\n",
              "title                                                                      \n",
              "$1,000,000 Duck (1971)                           NaN  3.000000  3.090909   \n",
              "'Night Mother (1986)                        2.000000  4.666667  3.423077   \n",
              "'Til There Was You (1997)                   3.500000  2.500000  2.666667   \n",
              "'burbs, The (1989)                          4.500000  3.244444  2.652174   \n",
              "...And Justice for All (1979)               3.000000  3.428571  3.724138   \n",
              "...                                              ...       ...       ...   \n",
              "Zed & Two Noughts, A (1985)                 1.000000  3.000000  3.375000   \n",
              "Zero Effect (1998)                          4.125000  3.883333  3.715278   \n",
              "Zero Kelvin (Kjærlighetens kjøtere) (1995)       NaN       NaN       NaN   \n",
              "Zeus and Roxanne (1997)                     1.500000  2.500000  2.833333   \n",
              "eXistenZ (1999)                             3.142857  3.289157  3.234973   \n",
              "\n",
              "age                                               35        45        50  \\\n",
              "title                                                                      \n",
              "$1,000,000 Duck (1971)                      3.133333  2.000000  2.750000   \n",
              "'Night Mother (1986)                        2.904762  3.833333  3.555556   \n",
              "'Til There Was You (1997)                   2.900000  2.333333  2.500000   \n",
              "'burbs, The (1989)                          2.818182  2.545455  3.208333   \n",
              "...And Justice for All (1979)               3.657143  4.100000  3.551724   \n",
              "...                                              ...       ...       ...   \n",
              "Zed & Two Noughts, A (1985)                 3.777778  4.000000  3.000000   \n",
              "Zero Effect (1998)                          3.608696  3.764706  3.833333   \n",
              "Zero Kelvin (Kjærlighetens kjøtere) (1995)  3.500000       NaN       NaN   \n",
              "Zeus and Roxanne (1997)                     3.500000  1.000000       NaN   \n",
              "eXistenZ (1999)                             3.364865  3.222222  3.291667   \n",
              "\n",
              "age                                               56  \n",
              "title                                                 \n",
              "$1,000,000 Duck (1971)                           NaN  \n",
              "'Night Mother (1986)                        4.333333  \n",
              "'Til There Was You (1997)                   2.666667  \n",
              "'burbs, The (1989)                          2.666667  \n",
              "...And Justice for All (1979)               3.928571  \n",
              "...                                              ...  \n",
              "Zed & Two Noughts, A (1985)                      NaN  \n",
              "Zero Effect (1998)                          3.625000  \n",
              "Zero Kelvin (Kjærlighetens kjøtere) (1995)       NaN  \n",
              "Zeus and Roxanne (1997)                          NaN  \n",
              "eXistenZ (1999)                             2.200000  \n",
              "\n",
              "[3706 rows x 7 columns]"
            ],
            "text/html": [
              "\n",
              "  <div id=\"df-4f682580-f987-4e15-9993-5f68bc71711a\">\n",
              "    <div class=\"colab-df-container\">\n",
              "      <div>\n",
              "<style scoped>\n",
              "    .dataframe tbody tr th:only-of-type {\n",
              "        vertical-align: middle;\n",
              "    }\n",
              "\n",
              "    .dataframe tbody tr th {\n",
              "        vertical-align: top;\n",
              "    }\n",
              "\n",
              "    .dataframe thead th {\n",
              "        text-align: right;\n",
              "    }\n",
              "</style>\n",
              "<table border=\"1\" class=\"dataframe\">\n",
              "  <thead>\n",
              "    <tr style=\"text-align: right;\">\n",
              "      <th>age</th>\n",
              "      <th>1</th>\n",
              "      <th>18</th>\n",
              "      <th>25</th>\n",
              "      <th>35</th>\n",
              "      <th>45</th>\n",
              "      <th>50</th>\n",
              "      <th>56</th>\n",
              "    </tr>\n",
              "    <tr>\n",
              "      <th>title</th>\n",
              "      <th></th>\n",
              "      <th></th>\n",
              "      <th></th>\n",
              "      <th></th>\n",
              "      <th></th>\n",
              "      <th></th>\n",
              "      <th></th>\n",
              "    </tr>\n",
              "  </thead>\n",
              "  <tbody>\n",
              "    <tr>\n",
              "      <th>$1,000,000 Duck (1971)</th>\n",
              "      <td>NaN</td>\n",
              "      <td>3.000000</td>\n",
              "      <td>3.090909</td>\n",
              "      <td>3.133333</td>\n",
              "      <td>2.000000</td>\n",
              "      <td>2.750000</td>\n",
              "      <td>NaN</td>\n",
              "    </tr>\n",
              "    <tr>\n",
              "      <th>'Night Mother (1986)</th>\n",
              "      <td>2.000000</td>\n",
              "      <td>4.666667</td>\n",
              "      <td>3.423077</td>\n",
              "      <td>2.904762</td>\n",
              "      <td>3.833333</td>\n",
              "      <td>3.555556</td>\n",
              "      <td>4.333333</td>\n",
              "    </tr>\n",
              "    <tr>\n",
              "      <th>'Til There Was You (1997)</th>\n",
              "      <td>3.500000</td>\n",
              "      <td>2.500000</td>\n",
              "      <td>2.666667</td>\n",
              "      <td>2.900000</td>\n",
              "      <td>2.333333</td>\n",
              "      <td>2.500000</td>\n",
              "      <td>2.666667</td>\n",
              "    </tr>\n",
              "    <tr>\n",
              "      <th>'burbs, The (1989)</th>\n",
              "      <td>4.500000</td>\n",
              "      <td>3.244444</td>\n",
              "      <td>2.652174</td>\n",
              "      <td>2.818182</td>\n",
              "      <td>2.545455</td>\n",
              "      <td>3.208333</td>\n",
              "      <td>2.666667</td>\n",
              "    </tr>\n",
              "    <tr>\n",
              "      <th>...And Justice for All (1979)</th>\n",
              "      <td>3.000000</td>\n",
              "      <td>3.428571</td>\n",
              "      <td>3.724138</td>\n",
              "      <td>3.657143</td>\n",
              "      <td>4.100000</td>\n",
              "      <td>3.551724</td>\n",
              "      <td>3.928571</td>\n",
              "    </tr>\n",
              "    <tr>\n",
              "      <th>...</th>\n",
              "      <td>...</td>\n",
              "      <td>...</td>\n",
              "      <td>...</td>\n",
              "      <td>...</td>\n",
              "      <td>...</td>\n",
              "      <td>...</td>\n",
              "      <td>...</td>\n",
              "    </tr>\n",
              "    <tr>\n",
              "      <th>Zed &amp; Two Noughts, A (1985)</th>\n",
              "      <td>1.000000</td>\n",
              "      <td>3.000000</td>\n",
              "      <td>3.375000</td>\n",
              "      <td>3.777778</td>\n",
              "      <td>4.000000</td>\n",
              "      <td>3.000000</td>\n",
              "      <td>NaN</td>\n",
              "    </tr>\n",
              "    <tr>\n",
              "      <th>Zero Effect (1998)</th>\n",
              "      <td>4.125000</td>\n",
              "      <td>3.883333</td>\n",
              "      <td>3.715278</td>\n",
              "      <td>3.608696</td>\n",
              "      <td>3.764706</td>\n",
              "      <td>3.833333</td>\n",
              "      <td>3.625000</td>\n",
              "    </tr>\n",
              "    <tr>\n",
              "      <th>Zero Kelvin (Kjærlighetens kjøtere) (1995)</th>\n",
              "      <td>NaN</td>\n",
              "      <td>NaN</td>\n",
              "      <td>NaN</td>\n",
              "      <td>3.500000</td>\n",
              "      <td>NaN</td>\n",
              "      <td>NaN</td>\n",
              "      <td>NaN</td>\n",
              "    </tr>\n",
              "    <tr>\n",
              "      <th>Zeus and Roxanne (1997)</th>\n",
              "      <td>1.500000</td>\n",
              "      <td>2.500000</td>\n",
              "      <td>2.833333</td>\n",
              "      <td>3.500000</td>\n",
              "      <td>1.000000</td>\n",
              "      <td>NaN</td>\n",
              "      <td>NaN</td>\n",
              "    </tr>\n",
              "    <tr>\n",
              "      <th>eXistenZ (1999)</th>\n",
              "      <td>3.142857</td>\n",
              "      <td>3.289157</td>\n",
              "      <td>3.234973</td>\n",
              "      <td>3.364865</td>\n",
              "      <td>3.222222</td>\n",
              "      <td>3.291667</td>\n",
              "      <td>2.200000</td>\n",
              "    </tr>\n",
              "  </tbody>\n",
              "</table>\n",
              "<p>3706 rows × 7 columns</p>\n",
              "</div>\n",
              "      <button class=\"colab-df-convert\" onclick=\"convertToInteractive('df-4f682580-f987-4e15-9993-5f68bc71711a')\"\n",
              "              title=\"Convert this dataframe to an interactive table.\"\n",
              "              style=\"display:none;\">\n",
              "        \n",
              "  <svg xmlns=\"http://www.w3.org/2000/svg\" height=\"24px\"viewBox=\"0 0 24 24\"\n",
              "       width=\"24px\">\n",
              "    <path d=\"M0 0h24v24H0V0z\" fill=\"none\"/>\n",
              "    <path d=\"M18.56 5.44l.94 2.06.94-2.06 2.06-.94-2.06-.94-.94-2.06-.94 2.06-2.06.94zm-11 1L8.5 8.5l.94-2.06 2.06-.94-2.06-.94L8.5 2.5l-.94 2.06-2.06.94zm10 10l.94 2.06.94-2.06 2.06-.94-2.06-.94-.94-2.06-.94 2.06-2.06.94z\"/><path d=\"M17.41 7.96l-1.37-1.37c-.4-.4-.92-.59-1.43-.59-.52 0-1.04.2-1.43.59L10.3 9.45l-7.72 7.72c-.78.78-.78 2.05 0 2.83L4 21.41c.39.39.9.59 1.41.59.51 0 1.02-.2 1.41-.59l7.78-7.78 2.81-2.81c.8-.78.8-2.07 0-2.86zM5.41 20L4 18.59l7.72-7.72 1.47 1.35L5.41 20z\"/>\n",
              "  </svg>\n",
              "      </button>\n",
              "      \n",
              "  <style>\n",
              "    .colab-df-container {\n",
              "      display:flex;\n",
              "      flex-wrap:wrap;\n",
              "      gap: 12px;\n",
              "    }\n",
              "\n",
              "    .colab-df-convert {\n",
              "      background-color: #E8F0FE;\n",
              "      border: none;\n",
              "      border-radius: 50%;\n",
              "      cursor: pointer;\n",
              "      display: none;\n",
              "      fill: #1967D2;\n",
              "      height: 32px;\n",
              "      padding: 0 0 0 0;\n",
              "      width: 32px;\n",
              "    }\n",
              "\n",
              "    .colab-df-convert:hover {\n",
              "      background-color: #E2EBFA;\n",
              "      box-shadow: 0px 1px 2px rgba(60, 64, 67, 0.3), 0px 1px 3px 1px rgba(60, 64, 67, 0.15);\n",
              "      fill: #174EA6;\n",
              "    }\n",
              "\n",
              "    [theme=dark] .colab-df-convert {\n",
              "      background-color: #3B4455;\n",
              "      fill: #D2E3FC;\n",
              "    }\n",
              "\n",
              "    [theme=dark] .colab-df-convert:hover {\n",
              "      background-color: #434B5C;\n",
              "      box-shadow: 0px 1px 3px 1px rgba(0, 0, 0, 0.15);\n",
              "      filter: drop-shadow(0px 1px 2px rgba(0, 0, 0, 0.3));\n",
              "      fill: #FFFFFF;\n",
              "    }\n",
              "  </style>\n",
              "\n",
              "      <script>\n",
              "        const buttonEl =\n",
              "          document.querySelector('#df-4f682580-f987-4e15-9993-5f68bc71711a button.colab-df-convert');\n",
              "        buttonEl.style.display =\n",
              "          google.colab.kernel.accessAllowed ? 'block' : 'none';\n",
              "\n",
              "        async function convertToInteractive(key) {\n",
              "          const element = document.querySelector('#df-4f682580-f987-4e15-9993-5f68bc71711a');\n",
              "          const dataTable =\n",
              "            await google.colab.kernel.invokeFunction('convertToInteractive',\n",
              "                                                     [key], {});\n",
              "          if (!dataTable) return;\n",
              "\n",
              "          const docLinkHtml = 'Like what you see? Visit the ' +\n",
              "            '<a target=\"_blank\" href=https://colab.research.google.com/notebooks/data_table.ipynb>data table notebook</a>'\n",
              "            + ' to learn more about interactive tables.';\n",
              "          element.innerHTML = '';\n",
              "          dataTable['output_type'] = 'display_data';\n",
              "          await google.colab.output.renderOutput(dataTable, element);\n",
              "          const docLink = document.createElement('div');\n",
              "          docLink.innerHTML = docLinkHtml;\n",
              "          element.appendChild(docLink);\n",
              "        }\n",
              "      </script>\n",
              "    </div>\n",
              "  </div>\n",
              "  "
            ]
          },
          "metadata": {},
          "execution_count": 194
        }
      ]
    },
    {
      "cell_type": "code",
      "source": [
        "# 150건 이상의 별점 리뷰를 가지고 있는 영화들에서 성별 별점 평균\n",
        "by_gender_150 = by_gender.loc[indexer]\n",
        "by_gender_150"
      ],
      "metadata": {
        "colab": {
          "base_uri": "https://localhost:8080/",
          "height": 424
        },
        "id": "L70qCOIbmCxS",
        "outputId": "50a45e3c-f5d8-4fea-8041-2ff248c3c5c0"
      },
      "execution_count": null,
      "outputs": [
        {
          "output_type": "execute_result",
          "data": {
            "text/plain": [
              "gender                                                     F         M\n",
              "American Beauty (1999)                              4.238901  4.347301\n",
              "Star Wars: Episode IV - A New Hope (1977)           4.302937  4.495307\n",
              "Star Wars: Episode V - The Empire Strikes Back ...  4.106481  4.344577\n",
              "Star Wars: Episode VI - Return of the Jedi (1983)   3.865237  4.069058\n",
              "Jurassic Park (1993)                                3.579407  3.814197\n",
              "...                                                      ...       ...\n",
              "Asphalt Jungle, The (1950)                          3.571429  4.008130\n",
              "Tales from the Crypt Presents: Bordello of Bloo...  2.727273  2.565891\n",
              "Golden Voyage of Sinbad, The (1974)                 3.157895  3.431818\n",
              "In the Army Now (1994)                              2.384615  2.192000\n",
              "Police Academy 5: Assignment: Miami Beach (1988)    1.935484  1.722689\n",
              "\n",
              "[1683 rows x 2 columns]"
            ],
            "text/html": [
              "\n",
              "  <div id=\"df-d7e334e3-cd93-4fa5-be54-18b9787f8b4b\">\n",
              "    <div class=\"colab-df-container\">\n",
              "      <div>\n",
              "<style scoped>\n",
              "    .dataframe tbody tr th:only-of-type {\n",
              "        vertical-align: middle;\n",
              "    }\n",
              "\n",
              "    .dataframe tbody tr th {\n",
              "        vertical-align: top;\n",
              "    }\n",
              "\n",
              "    .dataframe thead th {\n",
              "        text-align: right;\n",
              "    }\n",
              "</style>\n",
              "<table border=\"1\" class=\"dataframe\">\n",
              "  <thead>\n",
              "    <tr style=\"text-align: right;\">\n",
              "      <th>gender</th>\n",
              "      <th>F</th>\n",
              "      <th>M</th>\n",
              "    </tr>\n",
              "  </thead>\n",
              "  <tbody>\n",
              "    <tr>\n",
              "      <th>American Beauty (1999)</th>\n",
              "      <td>4.238901</td>\n",
              "      <td>4.347301</td>\n",
              "    </tr>\n",
              "    <tr>\n",
              "      <th>Star Wars: Episode IV - A New Hope (1977)</th>\n",
              "      <td>4.302937</td>\n",
              "      <td>4.495307</td>\n",
              "    </tr>\n",
              "    <tr>\n",
              "      <th>Star Wars: Episode V - The Empire Strikes Back (1980)</th>\n",
              "      <td>4.106481</td>\n",
              "      <td>4.344577</td>\n",
              "    </tr>\n",
              "    <tr>\n",
              "      <th>Star Wars: Episode VI - Return of the Jedi (1983)</th>\n",
              "      <td>3.865237</td>\n",
              "      <td>4.069058</td>\n",
              "    </tr>\n",
              "    <tr>\n",
              "      <th>Jurassic Park (1993)</th>\n",
              "      <td>3.579407</td>\n",
              "      <td>3.814197</td>\n",
              "    </tr>\n",
              "    <tr>\n",
              "      <th>...</th>\n",
              "      <td>...</td>\n",
              "      <td>...</td>\n",
              "    </tr>\n",
              "    <tr>\n",
              "      <th>Asphalt Jungle, The (1950)</th>\n",
              "      <td>3.571429</td>\n",
              "      <td>4.008130</td>\n",
              "    </tr>\n",
              "    <tr>\n",
              "      <th>Tales from the Crypt Presents: Bordello of Blood (1996)</th>\n",
              "      <td>2.727273</td>\n",
              "      <td>2.565891</td>\n",
              "    </tr>\n",
              "    <tr>\n",
              "      <th>Golden Voyage of Sinbad, The (1974)</th>\n",
              "      <td>3.157895</td>\n",
              "      <td>3.431818</td>\n",
              "    </tr>\n",
              "    <tr>\n",
              "      <th>In the Army Now (1994)</th>\n",
              "      <td>2.384615</td>\n",
              "      <td>2.192000</td>\n",
              "    </tr>\n",
              "    <tr>\n",
              "      <th>Police Academy 5: Assignment: Miami Beach (1988)</th>\n",
              "      <td>1.935484</td>\n",
              "      <td>1.722689</td>\n",
              "    </tr>\n",
              "  </tbody>\n",
              "</table>\n",
              "<p>1683 rows × 2 columns</p>\n",
              "</div>\n",
              "      <button class=\"colab-df-convert\" onclick=\"convertToInteractive('df-d7e334e3-cd93-4fa5-be54-18b9787f8b4b')\"\n",
              "              title=\"Convert this dataframe to an interactive table.\"\n",
              "              style=\"display:none;\">\n",
              "        \n",
              "  <svg xmlns=\"http://www.w3.org/2000/svg\" height=\"24px\"viewBox=\"0 0 24 24\"\n",
              "       width=\"24px\">\n",
              "    <path d=\"M0 0h24v24H0V0z\" fill=\"none\"/>\n",
              "    <path d=\"M18.56 5.44l.94 2.06.94-2.06 2.06-.94-2.06-.94-.94-2.06-.94 2.06-2.06.94zm-11 1L8.5 8.5l.94-2.06 2.06-.94-2.06-.94L8.5 2.5l-.94 2.06-2.06.94zm10 10l.94 2.06.94-2.06 2.06-.94-2.06-.94-.94-2.06-.94 2.06-2.06.94z\"/><path d=\"M17.41 7.96l-1.37-1.37c-.4-.4-.92-.59-1.43-.59-.52 0-1.04.2-1.43.59L10.3 9.45l-7.72 7.72c-.78.78-.78 2.05 0 2.83L4 21.41c.39.39.9.59 1.41.59.51 0 1.02-.2 1.41-.59l7.78-7.78 2.81-2.81c.8-.78.8-2.07 0-2.86zM5.41 20L4 18.59l7.72-7.72 1.47 1.35L5.41 20z\"/>\n",
              "  </svg>\n",
              "      </button>\n",
              "      \n",
              "  <style>\n",
              "    .colab-df-container {\n",
              "      display:flex;\n",
              "      flex-wrap:wrap;\n",
              "      gap: 12px;\n",
              "    }\n",
              "\n",
              "    .colab-df-convert {\n",
              "      background-color: #E8F0FE;\n",
              "      border: none;\n",
              "      border-radius: 50%;\n",
              "      cursor: pointer;\n",
              "      display: none;\n",
              "      fill: #1967D2;\n",
              "      height: 32px;\n",
              "      padding: 0 0 0 0;\n",
              "      width: 32px;\n",
              "    }\n",
              "\n",
              "    .colab-df-convert:hover {\n",
              "      background-color: #E2EBFA;\n",
              "      box-shadow: 0px 1px 2px rgba(60, 64, 67, 0.3), 0px 1px 3px 1px rgba(60, 64, 67, 0.15);\n",
              "      fill: #174EA6;\n",
              "    }\n",
              "\n",
              "    [theme=dark] .colab-df-convert {\n",
              "      background-color: #3B4455;\n",
              "      fill: #D2E3FC;\n",
              "    }\n",
              "\n",
              "    [theme=dark] .colab-df-convert:hover {\n",
              "      background-color: #434B5C;\n",
              "      box-shadow: 0px 1px 3px 1px rgba(0, 0, 0, 0.15);\n",
              "      filter: drop-shadow(0px 1px 2px rgba(0, 0, 0, 0.3));\n",
              "      fill: #FFFFFF;\n",
              "    }\n",
              "  </style>\n",
              "\n",
              "      <script>\n",
              "        const buttonEl =\n",
              "          document.querySelector('#df-d7e334e3-cd93-4fa5-be54-18b9787f8b4b button.colab-df-convert');\n",
              "        buttonEl.style.display =\n",
              "          google.colab.kernel.accessAllowed ? 'block' : 'none';\n",
              "\n",
              "        async function convertToInteractive(key) {\n",
              "          const element = document.querySelector('#df-d7e334e3-cd93-4fa5-be54-18b9787f8b4b');\n",
              "          const dataTable =\n",
              "            await google.colab.kernel.invokeFunction('convertToInteractive',\n",
              "                                                     [key], {});\n",
              "          if (!dataTable) return;\n",
              "\n",
              "          const docLinkHtml = 'Like what you see? Visit the ' +\n",
              "            '<a target=\"_blank\" href=https://colab.research.google.com/notebooks/data_table.ipynb>data table notebook</a>'\n",
              "            + ' to learn more about interactive tables.';\n",
              "          element.innerHTML = '';\n",
              "          dataTable['output_type'] = 'display_data';\n",
              "          await google.colab.output.renderOutput(dataTable, element);\n",
              "          const docLink = document.createElement('div');\n",
              "          docLink.innerHTML = docLinkHtml;\n",
              "          element.appendChild(docLink);\n",
              "        }\n",
              "      </script>\n",
              "    </div>\n",
              "  </div>\n",
              "  "
            ]
          },
          "metadata": {},
          "execution_count": 195
        }
      ]
    },
    {
      "cell_type": "code",
      "source": [
        "# 여성 별점 평균 상위 10개 영화\n",
        "by_gender_150.sort_values(by='F', ascending=False).head(n=10)"
      ],
      "metadata": {
        "colab": {
          "base_uri": "https://localhost:8080/",
          "height": 363
        },
        "id": "HYDYcIfTmEFY",
        "outputId": "cb8ec9db-c357-4598-a05c-c23ad67f7a12"
      },
      "execution_count": null,
      "outputs": [
        {
          "output_type": "execute_result",
          "data": {
            "text/plain": [
              "gender                                                     F         M\n",
              "Close Shave, A (1995)                               4.644444  4.473795\n",
              "Wrong Trousers, The (1993)                          4.588235  4.478261\n",
              "General, The (1927)                                 4.575758  4.329480\n",
              "Sunset Blvd. (a.k.a. Sunset Boulevard) (1950)       4.572650  4.464589\n",
              "Wallace & Gromit: The Best of Aardman Animation...  4.563107  4.385075\n",
              "Schindler's List (1993)                             4.562602  4.491415\n",
              "Grand Illusion (Grande illusion, La) (1937)         4.560976  4.266129\n",
              "Shawshank Redemption, The (1994)                    4.539075  4.560625\n",
              "Grand Day Out, A (1992)                             4.537879  4.293255\n",
              "To Kill a Mockingbird (1962)                        4.536667  4.372611"
            ],
            "text/html": [
              "\n",
              "  <div id=\"df-dd78e055-21e3-4b8a-9fc1-ac40bd5a580a\">\n",
              "    <div class=\"colab-df-container\">\n",
              "      <div>\n",
              "<style scoped>\n",
              "    .dataframe tbody tr th:only-of-type {\n",
              "        vertical-align: middle;\n",
              "    }\n",
              "\n",
              "    .dataframe tbody tr th {\n",
              "        vertical-align: top;\n",
              "    }\n",
              "\n",
              "    .dataframe thead th {\n",
              "        text-align: right;\n",
              "    }\n",
              "</style>\n",
              "<table border=\"1\" class=\"dataframe\">\n",
              "  <thead>\n",
              "    <tr style=\"text-align: right;\">\n",
              "      <th>gender</th>\n",
              "      <th>F</th>\n",
              "      <th>M</th>\n",
              "    </tr>\n",
              "  </thead>\n",
              "  <tbody>\n",
              "    <tr>\n",
              "      <th>Close Shave, A (1995)</th>\n",
              "      <td>4.644444</td>\n",
              "      <td>4.473795</td>\n",
              "    </tr>\n",
              "    <tr>\n",
              "      <th>Wrong Trousers, The (1993)</th>\n",
              "      <td>4.588235</td>\n",
              "      <td>4.478261</td>\n",
              "    </tr>\n",
              "    <tr>\n",
              "      <th>General, The (1927)</th>\n",
              "      <td>4.575758</td>\n",
              "      <td>4.329480</td>\n",
              "    </tr>\n",
              "    <tr>\n",
              "      <th>Sunset Blvd. (a.k.a. Sunset Boulevard) (1950)</th>\n",
              "      <td>4.572650</td>\n",
              "      <td>4.464589</td>\n",
              "    </tr>\n",
              "    <tr>\n",
              "      <th>Wallace &amp; Gromit: The Best of Aardman Animation (1996)</th>\n",
              "      <td>4.563107</td>\n",
              "      <td>4.385075</td>\n",
              "    </tr>\n",
              "    <tr>\n",
              "      <th>Schindler's List (1993)</th>\n",
              "      <td>4.562602</td>\n",
              "      <td>4.491415</td>\n",
              "    </tr>\n",
              "    <tr>\n",
              "      <th>Grand Illusion (Grande illusion, La) (1937)</th>\n",
              "      <td>4.560976</td>\n",
              "      <td>4.266129</td>\n",
              "    </tr>\n",
              "    <tr>\n",
              "      <th>Shawshank Redemption, The (1994)</th>\n",
              "      <td>4.539075</td>\n",
              "      <td>4.560625</td>\n",
              "    </tr>\n",
              "    <tr>\n",
              "      <th>Grand Day Out, A (1992)</th>\n",
              "      <td>4.537879</td>\n",
              "      <td>4.293255</td>\n",
              "    </tr>\n",
              "    <tr>\n",
              "      <th>To Kill a Mockingbird (1962)</th>\n",
              "      <td>4.536667</td>\n",
              "      <td>4.372611</td>\n",
              "    </tr>\n",
              "  </tbody>\n",
              "</table>\n",
              "</div>\n",
              "      <button class=\"colab-df-convert\" onclick=\"convertToInteractive('df-dd78e055-21e3-4b8a-9fc1-ac40bd5a580a')\"\n",
              "              title=\"Convert this dataframe to an interactive table.\"\n",
              "              style=\"display:none;\">\n",
              "        \n",
              "  <svg xmlns=\"http://www.w3.org/2000/svg\" height=\"24px\"viewBox=\"0 0 24 24\"\n",
              "       width=\"24px\">\n",
              "    <path d=\"M0 0h24v24H0V0z\" fill=\"none\"/>\n",
              "    <path d=\"M18.56 5.44l.94 2.06.94-2.06 2.06-.94-2.06-.94-.94-2.06-.94 2.06-2.06.94zm-11 1L8.5 8.5l.94-2.06 2.06-.94-2.06-.94L8.5 2.5l-.94 2.06-2.06.94zm10 10l.94 2.06.94-2.06 2.06-.94-2.06-.94-.94-2.06-.94 2.06-2.06.94z\"/><path d=\"M17.41 7.96l-1.37-1.37c-.4-.4-.92-.59-1.43-.59-.52 0-1.04.2-1.43.59L10.3 9.45l-7.72 7.72c-.78.78-.78 2.05 0 2.83L4 21.41c.39.39.9.59 1.41.59.51 0 1.02-.2 1.41-.59l7.78-7.78 2.81-2.81c.8-.78.8-2.07 0-2.86zM5.41 20L4 18.59l7.72-7.72 1.47 1.35L5.41 20z\"/>\n",
              "  </svg>\n",
              "      </button>\n",
              "      \n",
              "  <style>\n",
              "    .colab-df-container {\n",
              "      display:flex;\n",
              "      flex-wrap:wrap;\n",
              "      gap: 12px;\n",
              "    }\n",
              "\n",
              "    .colab-df-convert {\n",
              "      background-color: #E8F0FE;\n",
              "      border: none;\n",
              "      border-radius: 50%;\n",
              "      cursor: pointer;\n",
              "      display: none;\n",
              "      fill: #1967D2;\n",
              "      height: 32px;\n",
              "      padding: 0 0 0 0;\n",
              "      width: 32px;\n",
              "    }\n",
              "\n",
              "    .colab-df-convert:hover {\n",
              "      background-color: #E2EBFA;\n",
              "      box-shadow: 0px 1px 2px rgba(60, 64, 67, 0.3), 0px 1px 3px 1px rgba(60, 64, 67, 0.15);\n",
              "      fill: #174EA6;\n",
              "    }\n",
              "\n",
              "    [theme=dark] .colab-df-convert {\n",
              "      background-color: #3B4455;\n",
              "      fill: #D2E3FC;\n",
              "    }\n",
              "\n",
              "    [theme=dark] .colab-df-convert:hover {\n",
              "      background-color: #434B5C;\n",
              "      box-shadow: 0px 1px 3px 1px rgba(0, 0, 0, 0.15);\n",
              "      filter: drop-shadow(0px 1px 2px rgba(0, 0, 0, 0.3));\n",
              "      fill: #FFFFFF;\n",
              "    }\n",
              "  </style>\n",
              "\n",
              "      <script>\n",
              "        const buttonEl =\n",
              "          document.querySelector('#df-dd78e055-21e3-4b8a-9fc1-ac40bd5a580a button.colab-df-convert');\n",
              "        buttonEl.style.display =\n",
              "          google.colab.kernel.accessAllowed ? 'block' : 'none';\n",
              "\n",
              "        async function convertToInteractive(key) {\n",
              "          const element = document.querySelector('#df-dd78e055-21e3-4b8a-9fc1-ac40bd5a580a');\n",
              "          const dataTable =\n",
              "            await google.colab.kernel.invokeFunction('convertToInteractive',\n",
              "                                                     [key], {});\n",
              "          if (!dataTable) return;\n",
              "\n",
              "          const docLinkHtml = 'Like what you see? Visit the ' +\n",
              "            '<a target=\"_blank\" href=https://colab.research.google.com/notebooks/data_table.ipynb>data table notebook</a>'\n",
              "            + ' to learn more about interactive tables.';\n",
              "          element.innerHTML = '';\n",
              "          dataTable['output_type'] = 'display_data';\n",
              "          await google.colab.output.renderOutput(dataTable, element);\n",
              "          const docLink = document.createElement('div');\n",
              "          docLink.innerHTML = docLinkHtml;\n",
              "          element.appendChild(docLink);\n",
              "        }\n",
              "      </script>\n",
              "    </div>\n",
              "  </div>\n",
              "  "
            ]
          },
          "metadata": {},
          "execution_count": 196
        }
      ]
    },
    {
      "cell_type": "code",
      "source": [
        "# 남성 별점 평균 상위 10개 영화\n",
        "by_gender_150.sort_values(by='M', ascending=False).head(n=10)"
      ],
      "metadata": {
        "colab": {
          "base_uri": "https://localhost:8080/",
          "height": 363
        },
        "id": "omViRDJcmE8K",
        "outputId": "1e4334b8-1ef8-4dda-94bd-21d02b0a6a74"
      },
      "execution_count": null,
      "outputs": [
        {
          "output_type": "execute_result",
          "data": {
            "text/plain": [
              "gender                                                     F         M\n",
              "Godfather, The (1972)                               4.314700  4.583333\n",
              "Seven Samurai (The Magnificent Seven) (Shichini...  4.481132  4.576628\n",
              "Shawshank Redemption, The (1994)                    4.539075  4.560625\n",
              "Raiders of the Lost Ark (1981)                      4.332168  4.520597\n",
              "Usual Suspects, The (1995)                          4.513317  4.518248\n",
              "Star Wars: Episode IV - A New Hope (1977)           4.302937  4.495307\n",
              "Schindler's List (1993)                             4.562602  4.491415\n",
              "Paths of Glory (1957)                               4.392857  4.485149\n",
              "Wrong Trousers, The (1993)                          4.588235  4.478261\n",
              "Close Shave, A (1995)                               4.644444  4.473795"
            ],
            "text/html": [
              "\n",
              "  <div id=\"df-56042364-2daa-4fd8-b0a7-f83162cd4ba2\">\n",
              "    <div class=\"colab-df-container\">\n",
              "      <div>\n",
              "<style scoped>\n",
              "    .dataframe tbody tr th:only-of-type {\n",
              "        vertical-align: middle;\n",
              "    }\n",
              "\n",
              "    .dataframe tbody tr th {\n",
              "        vertical-align: top;\n",
              "    }\n",
              "\n",
              "    .dataframe thead th {\n",
              "        text-align: right;\n",
              "    }\n",
              "</style>\n",
              "<table border=\"1\" class=\"dataframe\">\n",
              "  <thead>\n",
              "    <tr style=\"text-align: right;\">\n",
              "      <th>gender</th>\n",
              "      <th>F</th>\n",
              "      <th>M</th>\n",
              "    </tr>\n",
              "  </thead>\n",
              "  <tbody>\n",
              "    <tr>\n",
              "      <th>Godfather, The (1972)</th>\n",
              "      <td>4.314700</td>\n",
              "      <td>4.583333</td>\n",
              "    </tr>\n",
              "    <tr>\n",
              "      <th>Seven Samurai (The Magnificent Seven) (Shichinin no samurai) (1954)</th>\n",
              "      <td>4.481132</td>\n",
              "      <td>4.576628</td>\n",
              "    </tr>\n",
              "    <tr>\n",
              "      <th>Shawshank Redemption, The (1994)</th>\n",
              "      <td>4.539075</td>\n",
              "      <td>4.560625</td>\n",
              "    </tr>\n",
              "    <tr>\n",
              "      <th>Raiders of the Lost Ark (1981)</th>\n",
              "      <td>4.332168</td>\n",
              "      <td>4.520597</td>\n",
              "    </tr>\n",
              "    <tr>\n",
              "      <th>Usual Suspects, The (1995)</th>\n",
              "      <td>4.513317</td>\n",
              "      <td>4.518248</td>\n",
              "    </tr>\n",
              "    <tr>\n",
              "      <th>Star Wars: Episode IV - A New Hope (1977)</th>\n",
              "      <td>4.302937</td>\n",
              "      <td>4.495307</td>\n",
              "    </tr>\n",
              "    <tr>\n",
              "      <th>Schindler's List (1993)</th>\n",
              "      <td>4.562602</td>\n",
              "      <td>4.491415</td>\n",
              "    </tr>\n",
              "    <tr>\n",
              "      <th>Paths of Glory (1957)</th>\n",
              "      <td>4.392857</td>\n",
              "      <td>4.485149</td>\n",
              "    </tr>\n",
              "    <tr>\n",
              "      <th>Wrong Trousers, The (1993)</th>\n",
              "      <td>4.588235</td>\n",
              "      <td>4.478261</td>\n",
              "    </tr>\n",
              "    <tr>\n",
              "      <th>Close Shave, A (1995)</th>\n",
              "      <td>4.644444</td>\n",
              "      <td>4.473795</td>\n",
              "    </tr>\n",
              "  </tbody>\n",
              "</table>\n",
              "</div>\n",
              "      <button class=\"colab-df-convert\" onclick=\"convertToInteractive('df-56042364-2daa-4fd8-b0a7-f83162cd4ba2')\"\n",
              "              title=\"Convert this dataframe to an interactive table.\"\n",
              "              style=\"display:none;\">\n",
              "        \n",
              "  <svg xmlns=\"http://www.w3.org/2000/svg\" height=\"24px\"viewBox=\"0 0 24 24\"\n",
              "       width=\"24px\">\n",
              "    <path d=\"M0 0h24v24H0V0z\" fill=\"none\"/>\n",
              "    <path d=\"M18.56 5.44l.94 2.06.94-2.06 2.06-.94-2.06-.94-.94-2.06-.94 2.06-2.06.94zm-11 1L8.5 8.5l.94-2.06 2.06-.94-2.06-.94L8.5 2.5l-.94 2.06-2.06.94zm10 10l.94 2.06.94-2.06 2.06-.94-2.06-.94-.94-2.06-.94 2.06-2.06.94z\"/><path d=\"M17.41 7.96l-1.37-1.37c-.4-.4-.92-.59-1.43-.59-.52 0-1.04.2-1.43.59L10.3 9.45l-7.72 7.72c-.78.78-.78 2.05 0 2.83L4 21.41c.39.39.9.59 1.41.59.51 0 1.02-.2 1.41-.59l7.78-7.78 2.81-2.81c.8-.78.8-2.07 0-2.86zM5.41 20L4 18.59l7.72-7.72 1.47 1.35L5.41 20z\"/>\n",
              "  </svg>\n",
              "      </button>\n",
              "      \n",
              "  <style>\n",
              "    .colab-df-container {\n",
              "      display:flex;\n",
              "      flex-wrap:wrap;\n",
              "      gap: 12px;\n",
              "    }\n",
              "\n",
              "    .colab-df-convert {\n",
              "      background-color: #E8F0FE;\n",
              "      border: none;\n",
              "      border-radius: 50%;\n",
              "      cursor: pointer;\n",
              "      display: none;\n",
              "      fill: #1967D2;\n",
              "      height: 32px;\n",
              "      padding: 0 0 0 0;\n",
              "      width: 32px;\n",
              "    }\n",
              "\n",
              "    .colab-df-convert:hover {\n",
              "      background-color: #E2EBFA;\n",
              "      box-shadow: 0px 1px 2px rgba(60, 64, 67, 0.3), 0px 1px 3px 1px rgba(60, 64, 67, 0.15);\n",
              "      fill: #174EA6;\n",
              "    }\n",
              "\n",
              "    [theme=dark] .colab-df-convert {\n",
              "      background-color: #3B4455;\n",
              "      fill: #D2E3FC;\n",
              "    }\n",
              "\n",
              "    [theme=dark] .colab-df-convert:hover {\n",
              "      background-color: #434B5C;\n",
              "      box-shadow: 0px 1px 3px 1px rgba(0, 0, 0, 0.15);\n",
              "      filter: drop-shadow(0px 1px 2px rgba(0, 0, 0, 0.3));\n",
              "      fill: #FFFFFF;\n",
              "    }\n",
              "  </style>\n",
              "\n",
              "      <script>\n",
              "        const buttonEl =\n",
              "          document.querySelector('#df-56042364-2daa-4fd8-b0a7-f83162cd4ba2 button.colab-df-convert');\n",
              "        buttonEl.style.display =\n",
              "          google.colab.kernel.accessAllowed ? 'block' : 'none';\n",
              "\n",
              "        async function convertToInteractive(key) {\n",
              "          const element = document.querySelector('#df-56042364-2daa-4fd8-b0a7-f83162cd4ba2');\n",
              "          const dataTable =\n",
              "            await google.colab.kernel.invokeFunction('convertToInteractive',\n",
              "                                                     [key], {});\n",
              "          if (!dataTable) return;\n",
              "\n",
              "          const docLinkHtml = 'Like what you see? Visit the ' +\n",
              "            '<a target=\"_blank\" href=https://colab.research.google.com/notebooks/data_table.ipynb>data table notebook</a>'\n",
              "            + ' to learn more about interactive tables.';\n",
              "          element.innerHTML = '';\n",
              "          dataTable['output_type'] = 'display_data';\n",
              "          await google.colab.output.renderOutput(dataTable, element);\n",
              "          const docLink = document.createElement('div');\n",
              "          docLink.innerHTML = docLinkHtml;\n",
              "          element.appendChild(docLink);\n",
              "        }\n",
              "      </script>\n",
              "    </div>\n",
              "  </div>\n",
              "  "
            ]
          },
          "metadata": {},
          "execution_count": 197
        }
      ]
    },
    {
      "cell_type": "markdown",
      "source": [
        "# 영화 장르 분석\n",
        "\n",
        "* 50건 이상의 별점 리뷰를 갖는 영화들 중에서\n",
        "    * 별점 평균이 4.0 이상인 영화들의 장르 상위 10개\n",
        "    * 성별 별점 평균이 4.0 이상인 영화들의 장르 상위 10개\n",
        "    * 연령대(18+, 25+, 35+)별 별점 평균이 4.0 이상인 영화들의 장르 상위 10개"
      ],
      "metadata": {
        "id": "m5tmhsQTmleZ"
      }
    },
    {
      "cell_type": "markdown",
      "source": [
        "## 장르 빈도수 상위 10개 (별점평균)"
      ],
      "metadata": {
        "id": "9WjGhHpd8hkA"
      }
    },
    {
      "cell_type": "code",
      "source": [
        "df.head()"
      ],
      "metadata": {
        "colab": {
          "base_uri": "https://localhost:8080/",
          "height": 206
        },
        "id": "ruoEDWYp0lNT",
        "outputId": "ebad2246-7f3e-4473-a479-495716552633"
      },
      "execution_count": null,
      "outputs": [
        {
          "output_type": "execute_result",
          "data": {
            "text/plain": [
              "   user_id  movie_id  rating  timestamp  \\\n",
              "0        1      1193       5  978300760   \n",
              "1        1       661       3  978302109   \n",
              "2        1       914       3  978301968   \n",
              "3        1      3408       4  978300275   \n",
              "4        1      2355       5  978824291   \n",
              "\n",
              "                                    title                        genres  \\\n",
              "0  One Flew Over the Cuckoo's Nest (1975)                         Drama   \n",
              "1        James and the Giant Peach (1996)  Animation|Children's|Musical   \n",
              "2                     My Fair Lady (1964)               Musical|Romance   \n",
              "3                  Erin Brockovich (2000)                         Drama   \n",
              "4                    Bug's Life, A (1998)   Animation|Children's|Comedy   \n",
              "\n",
              "  gender  age  occupation zipcode  \n",
              "0      F    1          10   48067  \n",
              "1      F    1          10   48067  \n",
              "2      F    1          10   48067  \n",
              "3      F    1          10   48067  \n",
              "4      F    1          10   48067  "
            ],
            "text/html": [
              "\n",
              "  <div id=\"df-9793fee4-efc8-4d73-a068-773ff8378853\">\n",
              "    <div class=\"colab-df-container\">\n",
              "      <div>\n",
              "<style scoped>\n",
              "    .dataframe tbody tr th:only-of-type {\n",
              "        vertical-align: middle;\n",
              "    }\n",
              "\n",
              "    .dataframe tbody tr th {\n",
              "        vertical-align: top;\n",
              "    }\n",
              "\n",
              "    .dataframe thead th {\n",
              "        text-align: right;\n",
              "    }\n",
              "</style>\n",
              "<table border=\"1\" class=\"dataframe\">\n",
              "  <thead>\n",
              "    <tr style=\"text-align: right;\">\n",
              "      <th></th>\n",
              "      <th>user_id</th>\n",
              "      <th>movie_id</th>\n",
              "      <th>rating</th>\n",
              "      <th>timestamp</th>\n",
              "      <th>title</th>\n",
              "      <th>genres</th>\n",
              "      <th>gender</th>\n",
              "      <th>age</th>\n",
              "      <th>occupation</th>\n",
              "      <th>zipcode</th>\n",
              "    </tr>\n",
              "  </thead>\n",
              "  <tbody>\n",
              "    <tr>\n",
              "      <th>0</th>\n",
              "      <td>1</td>\n",
              "      <td>1193</td>\n",
              "      <td>5</td>\n",
              "      <td>978300760</td>\n",
              "      <td>One Flew Over the Cuckoo's Nest (1975)</td>\n",
              "      <td>Drama</td>\n",
              "      <td>F</td>\n",
              "      <td>1</td>\n",
              "      <td>10</td>\n",
              "      <td>48067</td>\n",
              "    </tr>\n",
              "    <tr>\n",
              "      <th>1</th>\n",
              "      <td>1</td>\n",
              "      <td>661</td>\n",
              "      <td>3</td>\n",
              "      <td>978302109</td>\n",
              "      <td>James and the Giant Peach (1996)</td>\n",
              "      <td>Animation|Children's|Musical</td>\n",
              "      <td>F</td>\n",
              "      <td>1</td>\n",
              "      <td>10</td>\n",
              "      <td>48067</td>\n",
              "    </tr>\n",
              "    <tr>\n",
              "      <th>2</th>\n",
              "      <td>1</td>\n",
              "      <td>914</td>\n",
              "      <td>3</td>\n",
              "      <td>978301968</td>\n",
              "      <td>My Fair Lady (1964)</td>\n",
              "      <td>Musical|Romance</td>\n",
              "      <td>F</td>\n",
              "      <td>1</td>\n",
              "      <td>10</td>\n",
              "      <td>48067</td>\n",
              "    </tr>\n",
              "    <tr>\n",
              "      <th>3</th>\n",
              "      <td>1</td>\n",
              "      <td>3408</td>\n",
              "      <td>4</td>\n",
              "      <td>978300275</td>\n",
              "      <td>Erin Brockovich (2000)</td>\n",
              "      <td>Drama</td>\n",
              "      <td>F</td>\n",
              "      <td>1</td>\n",
              "      <td>10</td>\n",
              "      <td>48067</td>\n",
              "    </tr>\n",
              "    <tr>\n",
              "      <th>4</th>\n",
              "      <td>1</td>\n",
              "      <td>2355</td>\n",
              "      <td>5</td>\n",
              "      <td>978824291</td>\n",
              "      <td>Bug's Life, A (1998)</td>\n",
              "      <td>Animation|Children's|Comedy</td>\n",
              "      <td>F</td>\n",
              "      <td>1</td>\n",
              "      <td>10</td>\n",
              "      <td>48067</td>\n",
              "    </tr>\n",
              "  </tbody>\n",
              "</table>\n",
              "</div>\n",
              "      <button class=\"colab-df-convert\" onclick=\"convertToInteractive('df-9793fee4-efc8-4d73-a068-773ff8378853')\"\n",
              "              title=\"Convert this dataframe to an interactive table.\"\n",
              "              style=\"display:none;\">\n",
              "        \n",
              "  <svg xmlns=\"http://www.w3.org/2000/svg\" height=\"24px\"viewBox=\"0 0 24 24\"\n",
              "       width=\"24px\">\n",
              "    <path d=\"M0 0h24v24H0V0z\" fill=\"none\"/>\n",
              "    <path d=\"M18.56 5.44l.94 2.06.94-2.06 2.06-.94-2.06-.94-.94-2.06-.94 2.06-2.06.94zm-11 1L8.5 8.5l.94-2.06 2.06-.94-2.06-.94L8.5 2.5l-.94 2.06-2.06.94zm10 10l.94 2.06.94-2.06 2.06-.94-2.06-.94-.94-2.06-.94 2.06-2.06.94z\"/><path d=\"M17.41 7.96l-1.37-1.37c-.4-.4-.92-.59-1.43-.59-.52 0-1.04.2-1.43.59L10.3 9.45l-7.72 7.72c-.78.78-.78 2.05 0 2.83L4 21.41c.39.39.9.59 1.41.59.51 0 1.02-.2 1.41-.59l7.78-7.78 2.81-2.81c.8-.78.8-2.07 0-2.86zM5.41 20L4 18.59l7.72-7.72 1.47 1.35L5.41 20z\"/>\n",
              "  </svg>\n",
              "      </button>\n",
              "      \n",
              "  <style>\n",
              "    .colab-df-container {\n",
              "      display:flex;\n",
              "      flex-wrap:wrap;\n",
              "      gap: 12px;\n",
              "    }\n",
              "\n",
              "    .colab-df-convert {\n",
              "      background-color: #E8F0FE;\n",
              "      border: none;\n",
              "      border-radius: 50%;\n",
              "      cursor: pointer;\n",
              "      display: none;\n",
              "      fill: #1967D2;\n",
              "      height: 32px;\n",
              "      padding: 0 0 0 0;\n",
              "      width: 32px;\n",
              "    }\n",
              "\n",
              "    .colab-df-convert:hover {\n",
              "      background-color: #E2EBFA;\n",
              "      box-shadow: 0px 1px 2px rgba(60, 64, 67, 0.3), 0px 1px 3px 1px rgba(60, 64, 67, 0.15);\n",
              "      fill: #174EA6;\n",
              "    }\n",
              "\n",
              "    [theme=dark] .colab-df-convert {\n",
              "      background-color: #3B4455;\n",
              "      fill: #D2E3FC;\n",
              "    }\n",
              "\n",
              "    [theme=dark] .colab-df-convert:hover {\n",
              "      background-color: #434B5C;\n",
              "      box-shadow: 0px 1px 3px 1px rgba(0, 0, 0, 0.15);\n",
              "      filter: drop-shadow(0px 1px 2px rgba(0, 0, 0, 0.3));\n",
              "      fill: #FFFFFF;\n",
              "    }\n",
              "  </style>\n",
              "\n",
              "      <script>\n",
              "        const buttonEl =\n",
              "          document.querySelector('#df-9793fee4-efc8-4d73-a068-773ff8378853 button.colab-df-convert');\n",
              "        buttonEl.style.display =\n",
              "          google.colab.kernel.accessAllowed ? 'block' : 'none';\n",
              "\n",
              "        async function convertToInteractive(key) {\n",
              "          const element = document.querySelector('#df-9793fee4-efc8-4d73-a068-773ff8378853');\n",
              "          const dataTable =\n",
              "            await google.colab.kernel.invokeFunction('convertToInteractive',\n",
              "                                                     [key], {});\n",
              "          if (!dataTable) return;\n",
              "\n",
              "          const docLinkHtml = 'Like what you see? Visit the ' +\n",
              "            '<a target=\"_blank\" href=https://colab.research.google.com/notebooks/data_table.ipynb>data table notebook</a>'\n",
              "            + ' to learn more about interactive tables.';\n",
              "          element.innerHTML = '';\n",
              "          dataTable['output_type'] = 'display_data';\n",
              "          await google.colab.output.renderOutput(dataTable, element);\n",
              "          const docLink = document.createElement('div');\n",
              "          docLink.innerHTML = docLinkHtml;\n",
              "          element.appendChild(docLink);\n",
              "        }\n",
              "      </script>\n",
              "    </div>\n",
              "  </div>\n",
              "  "
            ]
          },
          "metadata": {},
          "execution_count": 198
        }
      ]
    },
    {
      "cell_type": "code",
      "source": [
        "title_counts = df.title.value_counts()\n",
        "title_counts # 어떤 영화가 df에 몇번 등장하느냐."
      ],
      "metadata": {
        "colab": {
          "base_uri": "https://localhost:8080/"
        },
        "id": "mRAQAQ8q2RrO",
        "outputId": "e839a1f1-f764-4bdb-ccfb-531eb71d06bc"
      },
      "execution_count": null,
      "outputs": [
        {
          "output_type": "execute_result",
          "data": {
            "text/plain": [
              "American Beauty (1999)                                   3428\n",
              "Star Wars: Episode IV - A New Hope (1977)                2991\n",
              "Star Wars: Episode V - The Empire Strikes Back (1980)    2990\n",
              "Star Wars: Episode VI - Return of the Jedi (1983)        2883\n",
              "Jurassic Park (1993)                                     2672\n",
              "                                                         ... \n",
              "Waiting Game, The (2000)                                    1\n",
              "Shadows (Cienie) (1988)                                     1\n",
              "Juno and Paycock (1930)                                     1\n",
              "Resurrection Man (1998)                                     1\n",
              "Windows (1980)                                              1\n",
              "Name: title, Length: 3706, dtype: int64"
            ]
          },
          "metadata": {},
          "execution_count": 199
        }
      ]
    },
    {
      "cell_type": "code",
      "source": [
        "title_counts[title_counts >= 50]"
      ],
      "metadata": {
        "colab": {
          "base_uri": "https://localhost:8080/"
        },
        "id": "XXquLuvW2jDg",
        "outputId": "de63c6e0-fa76-4dc0-a557-38d63f4ac5f2"
      },
      "execution_count": null,
      "outputs": [
        {
          "output_type": "execute_result",
          "data": {
            "text/plain": [
              "American Beauty (1999)                                   3428\n",
              "Star Wars: Episode IV - A New Hope (1977)                2991\n",
              "Star Wars: Episode V - The Empire Strikes Back (1980)    2990\n",
              "Star Wars: Episode VI - Return of the Jedi (1983)        2883\n",
              "Jurassic Park (1993)                                     2672\n",
              "                                                         ... \n",
              "House Arrest (1996)                                        50\n",
              "Washington Square (1997)                                   50\n",
              "Love Is a Many-Splendored Thing (1955)                     50\n",
              "Associate, The (1996)                                      50\n",
              "Myth of Fingerprints, The (1997)                           50\n",
              "Name: title, Length: 2514, dtype: int64"
            ]
          },
          "metadata": {},
          "execution_count": 201
        }
      ]
    },
    {
      "cell_type": "code",
      "source": [
        "# 별점 리뷰가 50개 이상인 영화 제목\n",
        "indexer1 = title_counts[title_counts >= 50].index\n",
        "indexer1"
      ],
      "metadata": {
        "colab": {
          "base_uri": "https://localhost:8080/"
        },
        "id": "q83iBT__21ao",
        "outputId": "f1e68609-75c8-423c-dcda-bcb4fb8413b0"
      },
      "execution_count": null,
      "outputs": [
        {
          "output_type": "execute_result",
          "data": {
            "text/plain": [
              "Index(['American Beauty (1999)', 'Star Wars: Episode IV - A New Hope (1977)',\n",
              "       'Star Wars: Episode V - The Empire Strikes Back (1980)',\n",
              "       'Star Wars: Episode VI - Return of the Jedi (1983)',\n",
              "       'Jurassic Park (1993)', 'Saving Private Ryan (1998)',\n",
              "       'Terminator 2: Judgment Day (1991)', 'Matrix, The (1999)',\n",
              "       'Back to the Future (1985)', 'Silence of the Lambs, The (1991)',\n",
              "       ...\n",
              "       'Crossing Guard, The (1995)', 'Heidi Fleiss: Hollywood Madam (1995)',\n",
              "       'Thousand Acres, A (1997)', 'Jude (1996)', 'Hear My Song (1991)',\n",
              "       'House Arrest (1996)', 'Washington Square (1997)',\n",
              "       'Love Is a Many-Splendored Thing (1955)', 'Associate, The (1996)',\n",
              "       'Myth of Fingerprints, The (1997)'],\n",
              "      dtype='object', length=2514)"
            ]
          },
          "metadata": {},
          "execution_count": 202
        }
      ]
    },
    {
      "cell_type": "code",
      "source": [
        "by_title = df.groupby('title').rating.mean()\n",
        "by_title"
      ],
      "metadata": {
        "colab": {
          "base_uri": "https://localhost:8080/"
        },
        "id": "2nl3yuTg3EHC",
        "outputId": "f4ba67cd-a26e-4867-f080-bda90ded2ea3"
      },
      "execution_count": null,
      "outputs": [
        {
          "output_type": "execute_result",
          "data": {
            "text/plain": [
              "title\n",
              "$1,000,000 Duck (1971)                        3.027027\n",
              "'Night Mother (1986)                          3.371429\n",
              "'Til There Was You (1997)                     2.692308\n",
              "'burbs, The (1989)                            2.910891\n",
              "...And Justice for All (1979)                 3.713568\n",
              "                                                ...   \n",
              "Zed & Two Noughts, A (1985)                   3.413793\n",
              "Zero Effect (1998)                            3.750831\n",
              "Zero Kelvin (Kjærlighetens kjøtere) (1995)    3.500000\n",
              "Zeus and Roxanne (1997)                       2.521739\n",
              "eXistenZ (1999)                               3.256098\n",
              "Name: rating, Length: 3706, dtype: float64"
            ]
          },
          "metadata": {},
          "execution_count": 204
        }
      ]
    },
    {
      "cell_type": "code",
      "source": [
        "by_title_50 = by_title.loc[indexer1]\n",
        "by_title_50"
      ],
      "metadata": {
        "colab": {
          "base_uri": "https://localhost:8080/"
        },
        "id": "DpqrrxHh3eDx",
        "outputId": "7e1d14ff-8596-456c-946d-f90efee015bf"
      },
      "execution_count": null,
      "outputs": [
        {
          "output_type": "execute_result",
          "data": {
            "text/plain": [
              "American Beauty (1999)                                   4.317386\n",
              "Star Wars: Episode IV - A New Hope (1977)                4.453694\n",
              "Star Wars: Episode V - The Empire Strikes Back (1980)    4.292977\n",
              "Star Wars: Episode VI - Return of the Jedi (1983)        4.022893\n",
              "Jurassic Park (1993)                                     3.763847\n",
              "                                                           ...   \n",
              "House Arrest (1996)                                      2.560000\n",
              "Washington Square (1997)                                 3.340000\n",
              "Love Is a Many-Splendored Thing (1955)                   3.260000\n",
              "Associate, The (1996)                                    3.000000\n",
              "Myth of Fingerprints, The (1997)                         3.000000\n",
              "Name: rating, Length: 2514, dtype: float64"
            ]
          },
          "metadata": {},
          "execution_count": 206
        }
      ]
    },
    {
      "cell_type": "code",
      "source": [
        "over4 = by_title_50[by_title_50 >= 4.0]\n",
        "over4"
      ],
      "metadata": {
        "colab": {
          "base_uri": "https://localhost:8080/"
        },
        "id": "gz59Fbn_3x5G",
        "outputId": "9e1574c5-2f2f-4d4c-be6c-acbb8e22de2a"
      },
      "execution_count": null,
      "outputs": [
        {
          "output_type": "execute_result",
          "data": {
            "text/plain": [
              "American Beauty (1999)                                   4.317386\n",
              "Star Wars: Episode IV - A New Hope (1977)                4.453694\n",
              "Star Wars: Episode V - The Empire Strikes Back (1980)    4.292977\n",
              "Star Wars: Episode VI - Return of the Jedi (1983)        4.022893\n",
              "Saving Private Ryan (1998)                               4.337354\n",
              "                                                           ...   \n",
              "Children of Heaven, The (Bacheha-Ye Aseman) (1997)       4.163934\n",
              "Maya Lin: A Strong Clear Vision (1994)                   4.101695\n",
              "Conformist, The (Il Conformista) (1970)                  4.228070\n",
              "World of Apu, The (Apur Sansar) (1959)                   4.410714\n",
              "Lonely Are the Brave (1962)                              4.000000\n",
              "Name: rating, Length: 330, dtype: float64"
            ]
          },
          "metadata": {},
          "execution_count": 209
        }
      ]
    },
    {
      "cell_type": "code",
      "source": [
        "movies_idx = movies.set_index('title') # set_index란, title 컬럼을 인덱스로 만듦.\n",
        "movies_idx # 영화 제목을 인덱스로 가지고 있는 data frame"
      ],
      "metadata": {
        "colab": {
          "base_uri": "https://localhost:8080/",
          "height": 455
        },
        "id": "dbzQPceA4ZkM",
        "outputId": "4d8031f0-4ac8-42c5-9be5-9e2abcf58b03"
      },
      "execution_count": null,
      "outputs": [
        {
          "output_type": "execute_result",
          "data": {
            "text/plain": [
              "                                    movie_id                        genres\n",
              "title                                                                     \n",
              "Toy Story (1995)                           1   Animation|Children's|Comedy\n",
              "Jumanji (1995)                             2  Adventure|Children's|Fantasy\n",
              "Grumpier Old Men (1995)                    3                Comedy|Romance\n",
              "Waiting to Exhale (1995)                   4                  Comedy|Drama\n",
              "Father of the Bride Part II (1995)         5                        Comedy\n",
              "...                                      ...                           ...\n",
              "Meet the Parents (2000)                 3948                        Comedy\n",
              "Requiem for a Dream (2000)              3949                         Drama\n",
              "Tigerland (2000)                        3950                         Drama\n",
              "Two Family House (2000)                 3951                         Drama\n",
              "Contender, The (2000)                   3952                Drama|Thriller\n",
              "\n",
              "[3883 rows x 2 columns]"
            ],
            "text/html": [
              "\n",
              "  <div id=\"df-a7d77aa7-ded0-47f9-a946-662a8c1237dd\">\n",
              "    <div class=\"colab-df-container\">\n",
              "      <div>\n",
              "<style scoped>\n",
              "    .dataframe tbody tr th:only-of-type {\n",
              "        vertical-align: middle;\n",
              "    }\n",
              "\n",
              "    .dataframe tbody tr th {\n",
              "        vertical-align: top;\n",
              "    }\n",
              "\n",
              "    .dataframe thead th {\n",
              "        text-align: right;\n",
              "    }\n",
              "</style>\n",
              "<table border=\"1\" class=\"dataframe\">\n",
              "  <thead>\n",
              "    <tr style=\"text-align: right;\">\n",
              "      <th></th>\n",
              "      <th>movie_id</th>\n",
              "      <th>genres</th>\n",
              "    </tr>\n",
              "    <tr>\n",
              "      <th>title</th>\n",
              "      <th></th>\n",
              "      <th></th>\n",
              "    </tr>\n",
              "  </thead>\n",
              "  <tbody>\n",
              "    <tr>\n",
              "      <th>Toy Story (1995)</th>\n",
              "      <td>1</td>\n",
              "      <td>Animation|Children's|Comedy</td>\n",
              "    </tr>\n",
              "    <tr>\n",
              "      <th>Jumanji (1995)</th>\n",
              "      <td>2</td>\n",
              "      <td>Adventure|Children's|Fantasy</td>\n",
              "    </tr>\n",
              "    <tr>\n",
              "      <th>Grumpier Old Men (1995)</th>\n",
              "      <td>3</td>\n",
              "      <td>Comedy|Romance</td>\n",
              "    </tr>\n",
              "    <tr>\n",
              "      <th>Waiting to Exhale (1995)</th>\n",
              "      <td>4</td>\n",
              "      <td>Comedy|Drama</td>\n",
              "    </tr>\n",
              "    <tr>\n",
              "      <th>Father of the Bride Part II (1995)</th>\n",
              "      <td>5</td>\n",
              "      <td>Comedy</td>\n",
              "    </tr>\n",
              "    <tr>\n",
              "      <th>...</th>\n",
              "      <td>...</td>\n",
              "      <td>...</td>\n",
              "    </tr>\n",
              "    <tr>\n",
              "      <th>Meet the Parents (2000)</th>\n",
              "      <td>3948</td>\n",
              "      <td>Comedy</td>\n",
              "    </tr>\n",
              "    <tr>\n",
              "      <th>Requiem for a Dream (2000)</th>\n",
              "      <td>3949</td>\n",
              "      <td>Drama</td>\n",
              "    </tr>\n",
              "    <tr>\n",
              "      <th>Tigerland (2000)</th>\n",
              "      <td>3950</td>\n",
              "      <td>Drama</td>\n",
              "    </tr>\n",
              "    <tr>\n",
              "      <th>Two Family House (2000)</th>\n",
              "      <td>3951</td>\n",
              "      <td>Drama</td>\n",
              "    </tr>\n",
              "    <tr>\n",
              "      <th>Contender, The (2000)</th>\n",
              "      <td>3952</td>\n",
              "      <td>Drama|Thriller</td>\n",
              "    </tr>\n",
              "  </tbody>\n",
              "</table>\n",
              "<p>3883 rows × 2 columns</p>\n",
              "</div>\n",
              "      <button class=\"colab-df-convert\" onclick=\"convertToInteractive('df-a7d77aa7-ded0-47f9-a946-662a8c1237dd')\"\n",
              "              title=\"Convert this dataframe to an interactive table.\"\n",
              "              style=\"display:none;\">\n",
              "        \n",
              "  <svg xmlns=\"http://www.w3.org/2000/svg\" height=\"24px\"viewBox=\"0 0 24 24\"\n",
              "       width=\"24px\">\n",
              "    <path d=\"M0 0h24v24H0V0z\" fill=\"none\"/>\n",
              "    <path d=\"M18.56 5.44l.94 2.06.94-2.06 2.06-.94-2.06-.94-.94-2.06-.94 2.06-2.06.94zm-11 1L8.5 8.5l.94-2.06 2.06-.94-2.06-.94L8.5 2.5l-.94 2.06-2.06.94zm10 10l.94 2.06.94-2.06 2.06-.94-2.06-.94-.94-2.06-.94 2.06-2.06.94z\"/><path d=\"M17.41 7.96l-1.37-1.37c-.4-.4-.92-.59-1.43-.59-.52 0-1.04.2-1.43.59L10.3 9.45l-7.72 7.72c-.78.78-.78 2.05 0 2.83L4 21.41c.39.39.9.59 1.41.59.51 0 1.02-.2 1.41-.59l7.78-7.78 2.81-2.81c.8-.78.8-2.07 0-2.86zM5.41 20L4 18.59l7.72-7.72 1.47 1.35L5.41 20z\"/>\n",
              "  </svg>\n",
              "      </button>\n",
              "      \n",
              "  <style>\n",
              "    .colab-df-container {\n",
              "      display:flex;\n",
              "      flex-wrap:wrap;\n",
              "      gap: 12px;\n",
              "    }\n",
              "\n",
              "    .colab-df-convert {\n",
              "      background-color: #E8F0FE;\n",
              "      border: none;\n",
              "      border-radius: 50%;\n",
              "      cursor: pointer;\n",
              "      display: none;\n",
              "      fill: #1967D2;\n",
              "      height: 32px;\n",
              "      padding: 0 0 0 0;\n",
              "      width: 32px;\n",
              "    }\n",
              "\n",
              "    .colab-df-convert:hover {\n",
              "      background-color: #E2EBFA;\n",
              "      box-shadow: 0px 1px 2px rgba(60, 64, 67, 0.3), 0px 1px 3px 1px rgba(60, 64, 67, 0.15);\n",
              "      fill: #174EA6;\n",
              "    }\n",
              "\n",
              "    [theme=dark] .colab-df-convert {\n",
              "      background-color: #3B4455;\n",
              "      fill: #D2E3FC;\n",
              "    }\n",
              "\n",
              "    [theme=dark] .colab-df-convert:hover {\n",
              "      background-color: #434B5C;\n",
              "      box-shadow: 0px 1px 3px 1px rgba(0, 0, 0, 0.15);\n",
              "      filter: drop-shadow(0px 1px 2px rgba(0, 0, 0, 0.3));\n",
              "      fill: #FFFFFF;\n",
              "    }\n",
              "  </style>\n",
              "\n",
              "      <script>\n",
              "        const buttonEl =\n",
              "          document.querySelector('#df-a7d77aa7-ded0-47f9-a946-662a8c1237dd button.colab-df-convert');\n",
              "        buttonEl.style.display =\n",
              "          google.colab.kernel.accessAllowed ? 'block' : 'none';\n",
              "\n",
              "        async function convertToInteractive(key) {\n",
              "          const element = document.querySelector('#df-a7d77aa7-ded0-47f9-a946-662a8c1237dd');\n",
              "          const dataTable =\n",
              "            await google.colab.kernel.invokeFunction('convertToInteractive',\n",
              "                                                     [key], {});\n",
              "          if (!dataTable) return;\n",
              "\n",
              "          const docLinkHtml = 'Like what you see? Visit the ' +\n",
              "            '<a target=\"_blank\" href=https://colab.research.google.com/notebooks/data_table.ipynb>data table notebook</a>'\n",
              "            + ' to learn more about interactive tables.';\n",
              "          element.innerHTML = '';\n",
              "          dataTable['output_type'] = 'display_data';\n",
              "          await google.colab.output.renderOutput(dataTable, element);\n",
              "          const docLink = document.createElement('div');\n",
              "          docLink.innerHTML = docLinkHtml;\n",
              "          element.appendChild(docLink);\n",
              "        }\n",
              "      </script>\n",
              "    </div>\n",
              "  </div>\n",
              "  "
            ]
          },
          "metadata": {},
          "execution_count": 211
        }
      ]
    },
    {
      "cell_type": "code",
      "source": [
        "result1 = movies_idx.loc[over4.index] # 330개 영화로 줄어든다\n",
        "result1"
      ],
      "metadata": {
        "colab": {
          "base_uri": "https://localhost:8080/",
          "height": 424
        },
        "id": "TkRDXS2l5ANl",
        "outputId": "a9e001b5-9ad8-49c4-d682-58c12451d983"
      },
      "execution_count": null,
      "outputs": [
        {
          "output_type": "execute_result",
          "data": {
            "text/plain": [
              "                                                    movie_id  \\\n",
              "American Beauty (1999)                                  2858   \n",
              "Star Wars: Episode IV - A New Hope (1977)                260   \n",
              "Star Wars: Episode V - The Empire Strikes Back ...      1196   \n",
              "Star Wars: Episode VI - Return of the Jedi (1983)       1210   \n",
              "Saving Private Ryan (1998)                              2028   \n",
              "...                                                      ...   \n",
              "Children of Heaven, The (Bacheha-Ye Aseman) (1997)      1900   \n",
              "Maya Lin: A Strong Clear Vision (1994)                   759   \n",
              "Conformist, The (Il Conformista) (1970)                 2925   \n",
              "World of Apu, The (Apur Sansar) (1959)                   670   \n",
              "Lonely Are the Brave (1962)                             3737   \n",
              "\n",
              "                                                                                 genres  \n",
              "American Beauty (1999)                                                     Comedy|Drama  \n",
              "Star Wars: Episode IV - A New Hope (1977)               Action|Adventure|Fantasy|Sci-Fi  \n",
              "Star Wars: Episode V - The Empire Strikes Back ...    Action|Adventure|Drama|Sci-Fi|War  \n",
              "Star Wars: Episode VI - Return of the Jedi (1983)   Action|Adventure|Romance|Sci-Fi|War  \n",
              "Saving Private Ryan (1998)                                             Action|Drama|War  \n",
              "...                                                                                 ...  \n",
              "Children of Heaven, The (Bacheha-Ye Aseman) (1997)                                Drama  \n",
              "Maya Lin: A Strong Clear Vision (1994)                                      Documentary  \n",
              "Conformist, The (Il Conformista) (1970)                                           Drama  \n",
              "World of Apu, The (Apur Sansar) (1959)                                            Drama  \n",
              "Lonely Are the Brave (1962)                                               Drama|Western  \n",
              "\n",
              "[330 rows x 2 columns]"
            ],
            "text/html": [
              "\n",
              "  <div id=\"df-61bfc32f-35bb-497b-95ea-c01a1f760b10\">\n",
              "    <div class=\"colab-df-container\">\n",
              "      <div>\n",
              "<style scoped>\n",
              "    .dataframe tbody tr th:only-of-type {\n",
              "        vertical-align: middle;\n",
              "    }\n",
              "\n",
              "    .dataframe tbody tr th {\n",
              "        vertical-align: top;\n",
              "    }\n",
              "\n",
              "    .dataframe thead th {\n",
              "        text-align: right;\n",
              "    }\n",
              "</style>\n",
              "<table border=\"1\" class=\"dataframe\">\n",
              "  <thead>\n",
              "    <tr style=\"text-align: right;\">\n",
              "      <th></th>\n",
              "      <th>movie_id</th>\n",
              "      <th>genres</th>\n",
              "    </tr>\n",
              "  </thead>\n",
              "  <tbody>\n",
              "    <tr>\n",
              "      <th>American Beauty (1999)</th>\n",
              "      <td>2858</td>\n",
              "      <td>Comedy|Drama</td>\n",
              "    </tr>\n",
              "    <tr>\n",
              "      <th>Star Wars: Episode IV - A New Hope (1977)</th>\n",
              "      <td>260</td>\n",
              "      <td>Action|Adventure|Fantasy|Sci-Fi</td>\n",
              "    </tr>\n",
              "    <tr>\n",
              "      <th>Star Wars: Episode V - The Empire Strikes Back (1980)</th>\n",
              "      <td>1196</td>\n",
              "      <td>Action|Adventure|Drama|Sci-Fi|War</td>\n",
              "    </tr>\n",
              "    <tr>\n",
              "      <th>Star Wars: Episode VI - Return of the Jedi (1983)</th>\n",
              "      <td>1210</td>\n",
              "      <td>Action|Adventure|Romance|Sci-Fi|War</td>\n",
              "    </tr>\n",
              "    <tr>\n",
              "      <th>Saving Private Ryan (1998)</th>\n",
              "      <td>2028</td>\n",
              "      <td>Action|Drama|War</td>\n",
              "    </tr>\n",
              "    <tr>\n",
              "      <th>...</th>\n",
              "      <td>...</td>\n",
              "      <td>...</td>\n",
              "    </tr>\n",
              "    <tr>\n",
              "      <th>Children of Heaven, The (Bacheha-Ye Aseman) (1997)</th>\n",
              "      <td>1900</td>\n",
              "      <td>Drama</td>\n",
              "    </tr>\n",
              "    <tr>\n",
              "      <th>Maya Lin: A Strong Clear Vision (1994)</th>\n",
              "      <td>759</td>\n",
              "      <td>Documentary</td>\n",
              "    </tr>\n",
              "    <tr>\n",
              "      <th>Conformist, The (Il Conformista) (1970)</th>\n",
              "      <td>2925</td>\n",
              "      <td>Drama</td>\n",
              "    </tr>\n",
              "    <tr>\n",
              "      <th>World of Apu, The (Apur Sansar) (1959)</th>\n",
              "      <td>670</td>\n",
              "      <td>Drama</td>\n",
              "    </tr>\n",
              "    <tr>\n",
              "      <th>Lonely Are the Brave (1962)</th>\n",
              "      <td>3737</td>\n",
              "      <td>Drama|Western</td>\n",
              "    </tr>\n",
              "  </tbody>\n",
              "</table>\n",
              "<p>330 rows × 2 columns</p>\n",
              "</div>\n",
              "      <button class=\"colab-df-convert\" onclick=\"convertToInteractive('df-61bfc32f-35bb-497b-95ea-c01a1f760b10')\"\n",
              "              title=\"Convert this dataframe to an interactive table.\"\n",
              "              style=\"display:none;\">\n",
              "        \n",
              "  <svg xmlns=\"http://www.w3.org/2000/svg\" height=\"24px\"viewBox=\"0 0 24 24\"\n",
              "       width=\"24px\">\n",
              "    <path d=\"M0 0h24v24H0V0z\" fill=\"none\"/>\n",
              "    <path d=\"M18.56 5.44l.94 2.06.94-2.06 2.06-.94-2.06-.94-.94-2.06-.94 2.06-2.06.94zm-11 1L8.5 8.5l.94-2.06 2.06-.94-2.06-.94L8.5 2.5l-.94 2.06-2.06.94zm10 10l.94 2.06.94-2.06 2.06-.94-2.06-.94-.94-2.06-.94 2.06-2.06.94z\"/><path d=\"M17.41 7.96l-1.37-1.37c-.4-.4-.92-.59-1.43-.59-.52 0-1.04.2-1.43.59L10.3 9.45l-7.72 7.72c-.78.78-.78 2.05 0 2.83L4 21.41c.39.39.9.59 1.41.59.51 0 1.02-.2 1.41-.59l7.78-7.78 2.81-2.81c.8-.78.8-2.07 0-2.86zM5.41 20L4 18.59l7.72-7.72 1.47 1.35L5.41 20z\"/>\n",
              "  </svg>\n",
              "      </button>\n",
              "      \n",
              "  <style>\n",
              "    .colab-df-container {\n",
              "      display:flex;\n",
              "      flex-wrap:wrap;\n",
              "      gap: 12px;\n",
              "    }\n",
              "\n",
              "    .colab-df-convert {\n",
              "      background-color: #E8F0FE;\n",
              "      border: none;\n",
              "      border-radius: 50%;\n",
              "      cursor: pointer;\n",
              "      display: none;\n",
              "      fill: #1967D2;\n",
              "      height: 32px;\n",
              "      padding: 0 0 0 0;\n",
              "      width: 32px;\n",
              "    }\n",
              "\n",
              "    .colab-df-convert:hover {\n",
              "      background-color: #E2EBFA;\n",
              "      box-shadow: 0px 1px 2px rgba(60, 64, 67, 0.3), 0px 1px 3px 1px rgba(60, 64, 67, 0.15);\n",
              "      fill: #174EA6;\n",
              "    }\n",
              "\n",
              "    [theme=dark] .colab-df-convert {\n",
              "      background-color: #3B4455;\n",
              "      fill: #D2E3FC;\n",
              "    }\n",
              "\n",
              "    [theme=dark] .colab-df-convert:hover {\n",
              "      background-color: #434B5C;\n",
              "      box-shadow: 0px 1px 3px 1px rgba(0, 0, 0, 0.15);\n",
              "      filter: drop-shadow(0px 1px 2px rgba(0, 0, 0, 0.3));\n",
              "      fill: #FFFFFF;\n",
              "    }\n",
              "  </style>\n",
              "\n",
              "      <script>\n",
              "        const buttonEl =\n",
              "          document.querySelector('#df-61bfc32f-35bb-497b-95ea-c01a1f760b10 button.colab-df-convert');\n",
              "        buttonEl.style.display =\n",
              "          google.colab.kernel.accessAllowed ? 'block' : 'none';\n",
              "\n",
              "        async function convertToInteractive(key) {\n",
              "          const element = document.querySelector('#df-61bfc32f-35bb-497b-95ea-c01a1f760b10');\n",
              "          const dataTable =\n",
              "            await google.colab.kernel.invokeFunction('convertToInteractive',\n",
              "                                                     [key], {});\n",
              "          if (!dataTable) return;\n",
              "\n",
              "          const docLinkHtml = 'Like what you see? Visit the ' +\n",
              "            '<a target=\"_blank\" href=https://colab.research.google.com/notebooks/data_table.ipynb>data table notebook</a>'\n",
              "            + ' to learn more about interactive tables.';\n",
              "          element.innerHTML = '';\n",
              "          dataTable['output_type'] = 'display_data';\n",
              "          await google.colab.output.renderOutput(dataTable, element);\n",
              "          const docLink = document.createElement('div');\n",
              "          docLink.innerHTML = docLinkHtml;\n",
              "          element.appendChild(docLink);\n",
              "        }\n",
              "      </script>\n",
              "    </div>\n",
              "  </div>\n",
              "  "
            ]
          },
          "metadata": {},
          "execution_count": 215
        }
      ]
    },
    {
      "cell_type": "code",
      "source": [
        "result1.head()"
      ],
      "metadata": {
        "colab": {
          "base_uri": "https://localhost:8080/",
          "height": 206
        },
        "id": "O-hOuoGb5e7R",
        "outputId": "f2150e8f-6b7d-49b7-ea9e-3d463f8bb8e8"
      },
      "execution_count": null,
      "outputs": [
        {
          "output_type": "execute_result",
          "data": {
            "text/plain": [
              "                                                    movie_id  \\\n",
              "American Beauty (1999)                                  2858   \n",
              "Star Wars: Episode IV - A New Hope (1977)                260   \n",
              "Star Wars: Episode V - The Empire Strikes Back ...      1196   \n",
              "Star Wars: Episode VI - Return of the Jedi (1983)       1210   \n",
              "Saving Private Ryan (1998)                              2028   \n",
              "\n",
              "                                                                                 genres  \n",
              "American Beauty (1999)                                                     Comedy|Drama  \n",
              "Star Wars: Episode IV - A New Hope (1977)               Action|Adventure|Fantasy|Sci-Fi  \n",
              "Star Wars: Episode V - The Empire Strikes Back ...    Action|Adventure|Drama|Sci-Fi|War  \n",
              "Star Wars: Episode VI - Return of the Jedi (1983)   Action|Adventure|Romance|Sci-Fi|War  \n",
              "Saving Private Ryan (1998)                                             Action|Drama|War  "
            ],
            "text/html": [
              "\n",
              "  <div id=\"df-d3f3761f-35b9-4006-8139-470a998c562e\">\n",
              "    <div class=\"colab-df-container\">\n",
              "      <div>\n",
              "<style scoped>\n",
              "    .dataframe tbody tr th:only-of-type {\n",
              "        vertical-align: middle;\n",
              "    }\n",
              "\n",
              "    .dataframe tbody tr th {\n",
              "        vertical-align: top;\n",
              "    }\n",
              "\n",
              "    .dataframe thead th {\n",
              "        text-align: right;\n",
              "    }\n",
              "</style>\n",
              "<table border=\"1\" class=\"dataframe\">\n",
              "  <thead>\n",
              "    <tr style=\"text-align: right;\">\n",
              "      <th></th>\n",
              "      <th>movie_id</th>\n",
              "      <th>genres</th>\n",
              "    </tr>\n",
              "  </thead>\n",
              "  <tbody>\n",
              "    <tr>\n",
              "      <th>American Beauty (1999)</th>\n",
              "      <td>2858</td>\n",
              "      <td>Comedy|Drama</td>\n",
              "    </tr>\n",
              "    <tr>\n",
              "      <th>Star Wars: Episode IV - A New Hope (1977)</th>\n",
              "      <td>260</td>\n",
              "      <td>Action|Adventure|Fantasy|Sci-Fi</td>\n",
              "    </tr>\n",
              "    <tr>\n",
              "      <th>Star Wars: Episode V - The Empire Strikes Back (1980)</th>\n",
              "      <td>1196</td>\n",
              "      <td>Action|Adventure|Drama|Sci-Fi|War</td>\n",
              "    </tr>\n",
              "    <tr>\n",
              "      <th>Star Wars: Episode VI - Return of the Jedi (1983)</th>\n",
              "      <td>1210</td>\n",
              "      <td>Action|Adventure|Romance|Sci-Fi|War</td>\n",
              "    </tr>\n",
              "    <tr>\n",
              "      <th>Saving Private Ryan (1998)</th>\n",
              "      <td>2028</td>\n",
              "      <td>Action|Drama|War</td>\n",
              "    </tr>\n",
              "  </tbody>\n",
              "</table>\n",
              "</div>\n",
              "      <button class=\"colab-df-convert\" onclick=\"convertToInteractive('df-d3f3761f-35b9-4006-8139-470a998c562e')\"\n",
              "              title=\"Convert this dataframe to an interactive table.\"\n",
              "              style=\"display:none;\">\n",
              "        \n",
              "  <svg xmlns=\"http://www.w3.org/2000/svg\" height=\"24px\"viewBox=\"0 0 24 24\"\n",
              "       width=\"24px\">\n",
              "    <path d=\"M0 0h24v24H0V0z\" fill=\"none\"/>\n",
              "    <path d=\"M18.56 5.44l.94 2.06.94-2.06 2.06-.94-2.06-.94-.94-2.06-.94 2.06-2.06.94zm-11 1L8.5 8.5l.94-2.06 2.06-.94-2.06-.94L8.5 2.5l-.94 2.06-2.06.94zm10 10l.94 2.06.94-2.06 2.06-.94-2.06-.94-.94-2.06-.94 2.06-2.06.94z\"/><path d=\"M17.41 7.96l-1.37-1.37c-.4-.4-.92-.59-1.43-.59-.52 0-1.04.2-1.43.59L10.3 9.45l-7.72 7.72c-.78.78-.78 2.05 0 2.83L4 21.41c.39.39.9.59 1.41.59.51 0 1.02-.2 1.41-.59l7.78-7.78 2.81-2.81c.8-.78.8-2.07 0-2.86zM5.41 20L4 18.59l7.72-7.72 1.47 1.35L5.41 20z\"/>\n",
              "  </svg>\n",
              "      </button>\n",
              "      \n",
              "  <style>\n",
              "    .colab-df-container {\n",
              "      display:flex;\n",
              "      flex-wrap:wrap;\n",
              "      gap: 12px;\n",
              "    }\n",
              "\n",
              "    .colab-df-convert {\n",
              "      background-color: #E8F0FE;\n",
              "      border: none;\n",
              "      border-radius: 50%;\n",
              "      cursor: pointer;\n",
              "      display: none;\n",
              "      fill: #1967D2;\n",
              "      height: 32px;\n",
              "      padding: 0 0 0 0;\n",
              "      width: 32px;\n",
              "    }\n",
              "\n",
              "    .colab-df-convert:hover {\n",
              "      background-color: #E2EBFA;\n",
              "      box-shadow: 0px 1px 2px rgba(60, 64, 67, 0.3), 0px 1px 3px 1px rgba(60, 64, 67, 0.15);\n",
              "      fill: #174EA6;\n",
              "    }\n",
              "\n",
              "    [theme=dark] .colab-df-convert {\n",
              "      background-color: #3B4455;\n",
              "      fill: #D2E3FC;\n",
              "    }\n",
              "\n",
              "    [theme=dark] .colab-df-convert:hover {\n",
              "      background-color: #434B5C;\n",
              "      box-shadow: 0px 1px 3px 1px rgba(0, 0, 0, 0.15);\n",
              "      filter: drop-shadow(0px 1px 2px rgba(0, 0, 0, 0.3));\n",
              "      fill: #FFFFFF;\n",
              "    }\n",
              "  </style>\n",
              "\n",
              "      <script>\n",
              "        const buttonEl =\n",
              "          document.querySelector('#df-d3f3761f-35b9-4006-8139-470a998c562e button.colab-df-convert');\n",
              "        buttonEl.style.display =\n",
              "          google.colab.kernel.accessAllowed ? 'block' : 'none';\n",
              "\n",
              "        async function convertToInteractive(key) {\n",
              "          const element = document.querySelector('#df-d3f3761f-35b9-4006-8139-470a998c562e');\n",
              "          const dataTable =\n",
              "            await google.colab.kernel.invokeFunction('convertToInteractive',\n",
              "                                                     [key], {});\n",
              "          if (!dataTable) return;\n",
              "\n",
              "          const docLinkHtml = 'Like what you see? Visit the ' +\n",
              "            '<a target=\"_blank\" href=https://colab.research.google.com/notebooks/data_table.ipynb>data table notebook</a>'\n",
              "            + ' to learn more about interactive tables.';\n",
              "          element.innerHTML = '';\n",
              "          dataTable['output_type'] = 'display_data';\n",
              "          await google.colab.output.renderOutput(dataTable, element);\n",
              "          const docLink = document.createElement('div');\n",
              "          docLink.innerHTML = docLinkHtml;\n",
              "          element.appendChild(docLink);\n",
              "        }\n",
              "      </script>\n",
              "    </div>\n",
              "  </div>\n",
              "  "
            ]
          },
          "metadata": {},
          "execution_count": 216
        }
      ]
    },
    {
      "cell_type": "code",
      "source": [
        "genres = []\n",
        "for x in result1.genres: # 바로 위 result1에서 genres컬럼만 잘라 주는 것.\n",
        "    genres.extend(x.split(sep=\"|\"))\n",
        "\n",
        "# genres 영화 장르 다 중복된채로 출력"
      ],
      "metadata": {
        "id": "0uHYfOwe6Fwt"
      },
      "execution_count": null,
      "outputs": []
    },
    {
      "cell_type": "code",
      "source": [
        "genres_top10 = pd.value_counts(genres).head(n=10)\n",
        "genres_top10"
      ],
      "metadata": {
        "colab": {
          "base_uri": "https://localhost:8080/"
        },
        "id": "MlAUQwVx6ohK",
        "outputId": "16bebf50-5099-4d46-ccea-ab4a90ffd142"
      },
      "execution_count": null,
      "outputs": [
        {
          "output_type": "execute_result",
          "data": {
            "text/plain": [
              "Drama          163\n",
              "Comedy          88\n",
              "Thriller        51\n",
              "Romance         43\n",
              "War             38\n",
              "Action          37\n",
              "Crime           27\n",
              "Mystery         21\n",
              "Documentary     20\n",
              "Sci-Fi          19\n",
              "dtype: int64"
            ]
          },
          "metadata": {},
          "execution_count": 223
        }
      ]
    },
    {
      "cell_type": "code",
      "source": [
        "sns.barplot(x=genres_top10.values, y=genres_top10.index)\n",
        "plt.show()"
      ],
      "metadata": {
        "colab": {
          "base_uri": "https://localhost:8080/",
          "height": 265
        },
        "id": "SWqCUyXw7JIX",
        "outputId": "9a381a28-7e16-4648-f9af-8005dee6b838"
      },
      "execution_count": null,
      "outputs": [
        {
          "output_type": "display_data",
          "data": {
            "text/plain": [
              "<Figure size 432x288 with 1 Axes>"
            ],
            "image/png": "[encoded data removed]"
          },
          "metadata": {
            "needs_background": "light"
          }
        }
      ]
    },
    {
      "cell_type": "markdown",
      "source": [
        "## 성별 장르 빈도수 10개"
      ],
      "metadata": {
        "id": "I3ZhoU5T8oTR"
      }
    },
    {
      "cell_type": "code",
      "source": [
        "df.groupby(['title', 'gender']).rating.mean().unstack()"
      ],
      "metadata": {
        "colab": {
          "base_uri": "https://localhost:8080/",
          "height": 455
        },
        "id": "vk7OG2AS8p5W",
        "outputId": "b335a313-2665-4b62-dac3-4ad11d0d9b1a"
      },
      "execution_count": null,
      "outputs": [
        {
          "output_type": "execute_result",
          "data": {
            "text/plain": [
              "gender                                             F         M\n",
              "title                                                         \n",
              "$1,000,000 Duck (1971)                      3.375000  2.761905\n",
              "'Night Mother (1986)                        3.388889  3.352941\n",
              "'Til There Was You (1997)                   2.675676  2.733333\n",
              "'burbs, The (1989)                          2.793478  2.962085\n",
              "...And Justice for All (1979)               3.828571  3.689024\n",
              "...                                              ...       ...\n",
              "Zed & Two Noughts, A (1985)                 3.500000  3.380952\n",
              "Zero Effect (1998)                          3.864407  3.723140\n",
              "Zero Kelvin (Kjærlighetens kjøtere) (1995)       NaN  3.500000\n",
              "Zeus and Roxanne (1997)                     2.777778  2.357143\n",
              "eXistenZ (1999)                             3.098592  3.289086\n",
              "\n",
              "[3706 rows x 2 columns]"
            ],
            "text/html": [
              "\n",
              "  <div id=\"df-1b20cd01-4ec8-4129-83fa-4ec2849fe4cb\">\n",
              "    <div class=\"colab-df-container\">\n",
              "      <div>\n",
              "<style scoped>\n",
              "    .dataframe tbody tr th:only-of-type {\n",
              "        vertical-align: middle;\n",
              "    }\n",
              "\n",
              "    .dataframe tbody tr th {\n",
              "        vertical-align: top;\n",
              "    }\n",
              "\n",
              "    .dataframe thead th {\n",
              "        text-align: right;\n",
              "    }\n",
              "</style>\n",
              "<table border=\"1\" class=\"dataframe\">\n",
              "  <thead>\n",
              "    <tr style=\"text-align: right;\">\n",
              "      <th>gender</th>\n",
              "      <th>F</th>\n",
              "      <th>M</th>\n",
              "    </tr>\n",
              "    <tr>\n",
              "      <th>title</th>\n",
              "      <th></th>\n",
              "      <th></th>\n",
              "    </tr>\n",
              "  </thead>\n",
              "  <tbody>\n",
              "    <tr>\n",
              "      <th>$1,000,000 Duck (1971)</th>\n",
              "      <td>3.375000</td>\n",
              "      <td>2.761905</td>\n",
              "    </tr>\n",
              "    <tr>\n",
              "      <th>'Night Mother (1986)</th>\n",
              "      <td>3.388889</td>\n",
              "      <td>3.352941</td>\n",
              "    </tr>\n",
              "    <tr>\n",
              "      <th>'Til There Was You (1997)</th>\n",
              "      <td>2.675676</td>\n",
              "      <td>2.733333</td>\n",
              "    </tr>\n",
              "    <tr>\n",
              "      <th>'burbs, The (1989)</th>\n",
              "      <td>2.793478</td>\n",
              "      <td>2.962085</td>\n",
              "    </tr>\n",
              "    <tr>\n",
              "      <th>...And Justice for All (1979)</th>\n",
              "      <td>3.828571</td>\n",
              "      <td>3.689024</td>\n",
              "    </tr>\n",
              "    <tr>\n",
              "      <th>...</th>\n",
              "      <td>...</td>\n",
              "      <td>...</td>\n",
              "    </tr>\n",
              "    <tr>\n",
              "      <th>Zed &amp; Two Noughts, A (1985)</th>\n",
              "      <td>3.500000</td>\n",
              "      <td>3.380952</td>\n",
              "    </tr>\n",
              "    <tr>\n",
              "      <th>Zero Effect (1998)</th>\n",
              "      <td>3.864407</td>\n",
              "      <td>3.723140</td>\n",
              "    </tr>\n",
              "    <tr>\n",
              "      <th>Zero Kelvin (Kjærlighetens kjøtere) (1995)</th>\n",
              "      <td>NaN</td>\n",
              "      <td>3.500000</td>\n",
              "    </tr>\n",
              "    <tr>\n",
              "      <th>Zeus and Roxanne (1997)</th>\n",
              "      <td>2.777778</td>\n",
              "      <td>2.357143</td>\n",
              "    </tr>\n",
              "    <tr>\n",
              "      <th>eXistenZ (1999)</th>\n",
              "      <td>3.098592</td>\n",
              "      <td>3.289086</td>\n",
              "    </tr>\n",
              "  </tbody>\n",
              "</table>\n",
              "<p>3706 rows × 2 columns</p>\n",
              "</div>\n",
              "      <button class=\"colab-df-convert\" onclick=\"convertToInteractive('df-1b20cd01-4ec8-4129-83fa-4ec2849fe4cb')\"\n",
              "              title=\"Convert this dataframe to an interactive table.\"\n",
              "              style=\"display:none;\">\n",
              "        \n",
              "  <svg xmlns=\"http://www.w3.org/2000/svg\" height=\"24px\"viewBox=\"0 0 24 24\"\n",
              "       width=\"24px\">\n",
              "    <path d=\"M0 0h24v24H0V0z\" fill=\"none\"/>\n",
              "    <path d=\"M18.56 5.44l.94 2.06.94-2.06 2.06-.94-2.06-.94-.94-2.06-.94 2.06-2.06.94zm-11 1L8.5 8.5l.94-2.06 2.06-.94-2.06-.94L8.5 2.5l-.94 2.06-2.06.94zm10 10l.94 2.06.94-2.06 2.06-.94-2.06-.94-.94-2.06-.94 2.06-2.06.94z\"/><path d=\"M17.41 7.96l-1.37-1.37c-.4-.4-.92-.59-1.43-.59-.52 0-1.04.2-1.43.59L10.3 9.45l-7.72 7.72c-.78.78-.78 2.05 0 2.83L4 21.41c.39.39.9.59 1.41.59.51 0 1.02-.2 1.41-.59l7.78-7.78 2.81-2.81c.8-.78.8-2.07 0-2.86zM5.41 20L4 18.59l7.72-7.72 1.47 1.35L5.41 20z\"/>\n",
              "  </svg>\n",
              "      </button>\n",
              "      \n",
              "  <style>\n",
              "    .colab-df-container {\n",
              "      display:flex;\n",
              "      flex-wrap:wrap;\n",
              "      gap: 12px;\n",
              "    }\n",
              "\n",
              "    .colab-df-convert {\n",
              "      background-color: #E8F0FE;\n",
              "      border: none;\n",
              "      border-radius: 50%;\n",
              "      cursor: pointer;\n",
              "      display: none;\n",
              "      fill: #1967D2;\n",
              "      height: 32px;\n",
              "      padding: 0 0 0 0;\n",
              "      width: 32px;\n",
              "    }\n",
              "\n",
              "    .colab-df-convert:hover {\n",
              "      background-color: #E2EBFA;\n",
              "      box-shadow: 0px 1px 2px rgba(60, 64, 67, 0.3), 0px 1px 3px 1px rgba(60, 64, 67, 0.15);\n",
              "      fill: #174EA6;\n",
              "    }\n",
              "\n",
              "    [theme=dark] .colab-df-convert {\n",
              "      background-color: #3B4455;\n",
              "      fill: #D2E3FC;\n",
              "    }\n",
              "\n",
              "    [theme=dark] .colab-df-convert:hover {\n",
              "      background-color: #434B5C;\n",
              "      box-shadow: 0px 1px 3px 1px rgba(0, 0, 0, 0.15);\n",
              "      filter: drop-shadow(0px 1px 2px rgba(0, 0, 0, 0.3));\n",
              "      fill: #FFFFFF;\n",
              "    }\n",
              "  </style>\n",
              "\n",
              "      <script>\n",
              "        const buttonEl =\n",
              "          document.querySelector('#df-1b20cd01-4ec8-4129-83fa-4ec2849fe4cb button.colab-df-convert');\n",
              "        buttonEl.style.display =\n",
              "          google.colab.kernel.accessAllowed ? 'block' : 'none';\n",
              "\n",
              "        async function convertToInteractive(key) {\n",
              "          const element = document.querySelector('#df-1b20cd01-4ec8-4129-83fa-4ec2849fe4cb');\n",
              "          const dataTable =\n",
              "            await google.colab.kernel.invokeFunction('convertToInteractive',\n",
              "                                                     [key], {});\n",
              "          if (!dataTable) return;\n",
              "\n",
              "          const docLinkHtml = 'Like what you see? Visit the ' +\n",
              "            '<a target=\"_blank\" href=https://colab.research.google.com/notebooks/data_table.ipynb>data table notebook</a>'\n",
              "            + ' to learn more about interactive tables.';\n",
              "          element.innerHTML = '';\n",
              "          dataTable['output_type'] = 'display_data';\n",
              "          await google.colab.output.renderOutput(dataTable, element);\n",
              "          const docLink = document.createElement('div');\n",
              "          docLink.innerHTML = docLinkHtml;\n",
              "          element.appendChild(docLink);\n",
              "        }\n",
              "      </script>\n",
              "    </div>\n",
              "  </div>\n",
              "  "
            ]
          },
          "metadata": {},
          "execution_count": 225
        }
      ]
    },
    {
      "cell_type": "code",
      "source": [
        "by_gender = df.pivot_table(values='rating', index='title', columns='gender')\n",
        "by_gender"
      ],
      "metadata": {
        "colab": {
          "base_uri": "https://localhost:8080/",
          "height": 455
        },
        "id": "kTq_A5YR89D5",
        "outputId": "1beb1a4d-c13f-4cf5-efb6-8e0eb71ba41b"
      },
      "execution_count": null,
      "outputs": [
        {
          "output_type": "execute_result",
          "data": {
            "text/plain": [
              "gender                                             F         M\n",
              "title                                                         \n",
              "$1,000,000 Duck (1971)                      3.375000  2.761905\n",
              "'Night Mother (1986)                        3.388889  3.352941\n",
              "'Til There Was You (1997)                   2.675676  2.733333\n",
              "'burbs, The (1989)                          2.793478  2.962085\n",
              "...And Justice for All (1979)               3.828571  3.689024\n",
              "...                                              ...       ...\n",
              "Zed & Two Noughts, A (1985)                 3.500000  3.380952\n",
              "Zero Effect (1998)                          3.864407  3.723140\n",
              "Zero Kelvin (Kjærlighetens kjøtere) (1995)       NaN  3.500000\n",
              "Zeus and Roxanne (1997)                     2.777778  2.357143\n",
              "eXistenZ (1999)                             3.098592  3.289086\n",
              "\n",
              "[3706 rows x 2 columns]"
            ],
            "text/html": [
              "\n",
              "  <div id=\"df-36635b3e-49ac-4389-b219-1d089fb361e2\">\n",
              "    <div class=\"colab-df-container\">\n",
              "      <div>\n",
              "<style scoped>\n",
              "    .dataframe tbody tr th:only-of-type {\n",
              "        vertical-align: middle;\n",
              "    }\n",
              "\n",
              "    .dataframe tbody tr th {\n",
              "        vertical-align: top;\n",
              "    }\n",
              "\n",
              "    .dataframe thead th {\n",
              "        text-align: right;\n",
              "    }\n",
              "</style>\n",
              "<table border=\"1\" class=\"dataframe\">\n",
              "  <thead>\n",
              "    <tr style=\"text-align: right;\">\n",
              "      <th>gender</th>\n",
              "      <th>F</th>\n",
              "      <th>M</th>\n",
              "    </tr>\n",
              "    <tr>\n",
              "      <th>title</th>\n",
              "      <th></th>\n",
              "      <th></th>\n",
              "    </tr>\n",
              "  </thead>\n",
              "  <tbody>\n",
              "    <tr>\n",
              "      <th>$1,000,000 Duck (1971)</th>\n",
              "      <td>3.375000</td>\n",
              "      <td>2.761905</td>\n",
              "    </tr>\n",
              "    <tr>\n",
              "      <th>'Night Mother (1986)</th>\n",
              "      <td>3.388889</td>\n",
              "      <td>3.352941</td>\n",
              "    </tr>\n",
              "    <tr>\n",
              "      <th>'Til There Was You (1997)</th>\n",
              "      <td>2.675676</td>\n",
              "      <td>2.733333</td>\n",
              "    </tr>\n",
              "    <tr>\n",
              "      <th>'burbs, The (1989)</th>\n",
              "      <td>2.793478</td>\n",
              "      <td>2.962085</td>\n",
              "    </tr>\n",
              "    <tr>\n",
              "      <th>...And Justice for All (1979)</th>\n",
              "      <td>3.828571</td>\n",
              "      <td>3.689024</td>\n",
              "    </tr>\n",
              "    <tr>\n",
              "      <th>...</th>\n",
              "      <td>...</td>\n",
              "      <td>...</td>\n",
              "    </tr>\n",
              "    <tr>\n",
              "      <th>Zed &amp; Two Noughts, A (1985)</th>\n",
              "      <td>3.500000</td>\n",
              "      <td>3.380952</td>\n",
              "    </tr>\n",
              "    <tr>\n",
              "      <th>Zero Effect (1998)</th>\n",
              "      <td>3.864407</td>\n",
              "      <td>3.723140</td>\n",
              "    </tr>\n",
              "    <tr>\n",
              "      <th>Zero Kelvin (Kjærlighetens kjøtere) (1995)</th>\n",
              "      <td>NaN</td>\n",
              "      <td>3.500000</td>\n",
              "    </tr>\n",
              "    <tr>\n",
              "      <th>Zeus and Roxanne (1997)</th>\n",
              "      <td>2.777778</td>\n",
              "      <td>2.357143</td>\n",
              "    </tr>\n",
              "    <tr>\n",
              "      <th>eXistenZ (1999)</th>\n",
              "      <td>3.098592</td>\n",
              "      <td>3.289086</td>\n",
              "    </tr>\n",
              "  </tbody>\n",
              "</table>\n",
              "<p>3706 rows × 2 columns</p>\n",
              "</div>\n",
              "      <button class=\"colab-df-convert\" onclick=\"convertToInteractive('df-36635b3e-49ac-4389-b219-1d089fb361e2')\"\n",
              "              title=\"Convert this dataframe to an interactive table.\"\n",
              "              style=\"display:none;\">\n",
              "        \n",
              "  <svg xmlns=\"http://www.w3.org/2000/svg\" height=\"24px\"viewBox=\"0 0 24 24\"\n",
              "       width=\"24px\">\n",
              "    <path d=\"M0 0h24v24H0V0z\" fill=\"none\"/>\n",
              "    <path d=\"M18.56 5.44l.94 2.06.94-2.06 2.06-.94-2.06-.94-.94-2.06-.94 2.06-2.06.94zm-11 1L8.5 8.5l.94-2.06 2.06-.94-2.06-.94L8.5 2.5l-.94 2.06-2.06.94zm10 10l.94 2.06.94-2.06 2.06-.94-2.06-.94-.94-2.06-.94 2.06-2.06.94z\"/><path d=\"M17.41 7.96l-1.37-1.37c-.4-.4-.92-.59-1.43-.59-.52 0-1.04.2-1.43.59L10.3 9.45l-7.72 7.72c-.78.78-.78 2.05 0 2.83L4 21.41c.39.39.9.59 1.41.59.51 0 1.02-.2 1.41-.59l7.78-7.78 2.81-2.81c.8-.78.8-2.07 0-2.86zM5.41 20L4 18.59l7.72-7.72 1.47 1.35L5.41 20z\"/>\n",
              "  </svg>\n",
              "      </button>\n",
              "      \n",
              "  <style>\n",
              "    .colab-df-container {\n",
              "      display:flex;\n",
              "      flex-wrap:wrap;\n",
              "      gap: 12px;\n",
              "    }\n",
              "\n",
              "    .colab-df-convert {\n",
              "      background-color: #E8F0FE;\n",
              "      border: none;\n",
              "      border-radius: 50%;\n",
              "      cursor: pointer;\n",
              "      display: none;\n",
              "      fill: #1967D2;\n",
              "      height: 32px;\n",
              "      padding: 0 0 0 0;\n",
              "      width: 32px;\n",
              "    }\n",
              "\n",
              "    .colab-df-convert:hover {\n",
              "      background-color: #E2EBFA;\n",
              "      box-shadow: 0px 1px 2px rgba(60, 64, 67, 0.3), 0px 1px 3px 1px rgba(60, 64, 67, 0.15);\n",
              "      fill: #174EA6;\n",
              "    }\n",
              "\n",
              "    [theme=dark] .colab-df-convert {\n",
              "      background-color: #3B4455;\n",
              "      fill: #D2E3FC;\n",
              "    }\n",
              "\n",
              "    [theme=dark] .colab-df-convert:hover {\n",
              "      background-color: #434B5C;\n",
              "      box-shadow: 0px 1px 3px 1px rgba(0, 0, 0, 0.15);\n",
              "      filter: drop-shadow(0px 1px 2px rgba(0, 0, 0, 0.3));\n",
              "      fill: #FFFFFF;\n",
              "    }\n",
              "  </style>\n",
              "\n",
              "      <script>\n",
              "        const buttonEl =\n",
              "          document.querySelector('#df-36635b3e-49ac-4389-b219-1d089fb361e2 button.colab-df-convert');\n",
              "        buttonEl.style.display =\n",
              "          google.colab.kernel.accessAllowed ? 'block' : 'none';\n",
              "\n",
              "        async function convertToInteractive(key) {\n",
              "          const element = document.querySelector('#df-36635b3e-49ac-4389-b219-1d089fb361e2');\n",
              "          const dataTable =\n",
              "            await google.colab.kernel.invokeFunction('convertToInteractive',\n",
              "                                                     [key], {});\n",
              "          if (!dataTable) return;\n",
              "\n",
              "          const docLinkHtml = 'Like what you see? Visit the ' +\n",
              "            '<a target=\"_blank\" href=https://colab.research.google.com/notebooks/data_table.ipynb>data table notebook</a>'\n",
              "            + ' to learn more about interactive tables.';\n",
              "          element.innerHTML = '';\n",
              "          dataTable['output_type'] = 'display_data';\n",
              "          await google.colab.output.renderOutput(dataTable, element);\n",
              "          const docLink = document.createElement('div');\n",
              "          docLink.innerHTML = docLinkHtml;\n",
              "          element.appendChild(docLink);\n",
              "        }\n",
              "      </script>\n",
              "    </div>\n",
              "  </div>\n",
              "  "
            ]
          },
          "metadata": {},
          "execution_count": 226
        }
      ]
    },
    {
      "cell_type": "code",
      "source": [
        "by_gender_50 = by_gender.loc[indexer1]\n",
        "by_gender_50"
      ],
      "metadata": {
        "colab": {
          "base_uri": "https://localhost:8080/",
          "height": 424
        },
        "id": "A3iceJbR9JEW",
        "outputId": "8e6f272f-1be9-4645-9407-56e58a3f5da1"
      },
      "execution_count": null,
      "outputs": [
        {
          "output_type": "execute_result",
          "data": {
            "text/plain": [
              "gender                                                     F         M\n",
              "American Beauty (1999)                              4.238901  4.347301\n",
              "Star Wars: Episode IV - A New Hope (1977)           4.302937  4.495307\n",
              "Star Wars: Episode V - The Empire Strikes Back ...  4.106481  4.344577\n",
              "Star Wars: Episode VI - Return of the Jedi (1983)   3.865237  4.069058\n",
              "Jurassic Park (1993)                                3.579407  3.814197\n",
              "...                                                      ...       ...\n",
              "House Arrest (1996)                                 2.583333  2.552632\n",
              "Washington Square (1997)                            3.520000  3.160000\n",
              "Love Is a Many-Splendored Thing (1955)              3.555556  2.913043\n",
              "Associate, The (1996)                               3.500000  2.718750\n",
              "Myth of Fingerprints, The (1997)                    3.200000  2.800000\n",
              "\n",
              "[2514 rows x 2 columns]"
            ],
            "text/html": [
              "\n",
              "  <div id=\"df-76df2b4c-1f81-4a74-8718-07bac8cfd2ea\">\n",
              "    <div class=\"colab-df-container\">\n",
              "      <div>\n",
              "<style scoped>\n",
              "    .dataframe tbody tr th:only-of-type {\n",
              "        vertical-align: middle;\n",
              "    }\n",
              "\n",
              "    .dataframe tbody tr th {\n",
              "        vertical-align: top;\n",
              "    }\n",
              "\n",
              "    .dataframe thead th {\n",
              "        text-align: right;\n",
              "    }\n",
              "</style>\n",
              "<table border=\"1\" class=\"dataframe\">\n",
              "  <thead>\n",
              "    <tr style=\"text-align: right;\">\n",
              "      <th>gender</th>\n",
              "      <th>F</th>\n",
              "      <th>M</th>\n",
              "    </tr>\n",
              "  </thead>\n",
              "  <tbody>\n",
              "    <tr>\n",
              "      <th>American Beauty (1999)</th>\n",
              "      <td>4.238901</td>\n",
              "      <td>4.347301</td>\n",
              "    </tr>\n",
              "    <tr>\n",
              "      <th>Star Wars: Episode IV - A New Hope (1977)</th>\n",
              "      <td>4.302937</td>\n",
              "      <td>4.495307</td>\n",
              "    </tr>\n",
              "    <tr>\n",
              "      <th>Star Wars: Episode V - The Empire Strikes Back (1980)</th>\n",
              "      <td>4.106481</td>\n",
              "      <td>4.344577</td>\n",
              "    </tr>\n",
              "    <tr>\n",
              "      <th>Star Wars: Episode VI - Return of the Jedi (1983)</th>\n",
              "      <td>3.865237</td>\n",
              "      <td>4.069058</td>\n",
              "    </tr>\n",
              "    <tr>\n",
              "      <th>Jurassic Park (1993)</th>\n",
              "      <td>3.579407</td>\n",
              "      <td>3.814197</td>\n",
              "    </tr>\n",
              "    <tr>\n",
              "      <th>...</th>\n",
              "      <td>...</td>\n",
              "      <td>...</td>\n",
              "    </tr>\n",
              "    <tr>\n",
              "      <th>House Arrest (1996)</th>\n",
              "      <td>2.583333</td>\n",
              "      <td>2.552632</td>\n",
              "    </tr>\n",
              "    <tr>\n",
              "      <th>Washington Square (1997)</th>\n",
              "      <td>3.520000</td>\n",
              "      <td>3.160000</td>\n",
              "    </tr>\n",
              "    <tr>\n",
              "      <th>Love Is a Many-Splendored Thing (1955)</th>\n",
              "      <td>3.555556</td>\n",
              "      <td>2.913043</td>\n",
              "    </tr>\n",
              "    <tr>\n",
              "      <th>Associate, The (1996)</th>\n",
              "      <td>3.500000</td>\n",
              "      <td>2.718750</td>\n",
              "    </tr>\n",
              "    <tr>\n",
              "      <th>Myth of Fingerprints, The (1997)</th>\n",
              "      <td>3.200000</td>\n",
              "      <td>2.800000</td>\n",
              "    </tr>\n",
              "  </tbody>\n",
              "</table>\n",
              "<p>2514 rows × 2 columns</p>\n",
              "</div>\n",
              "      <button class=\"colab-df-convert\" onclick=\"convertToInteractive('df-76df2b4c-1f81-4a74-8718-07bac8cfd2ea')\"\n",
              "              title=\"Convert this dataframe to an interactive table.\"\n",
              "              style=\"display:none;\">\n",
              "        \n",
              "  <svg xmlns=\"http://www.w3.org/2000/svg\" height=\"24px\"viewBox=\"0 0 24 24\"\n",
              "       width=\"24px\">\n",
              "    <path d=\"M0 0h24v24H0V0z\" fill=\"none\"/>\n",
              "    <path d=\"M18.56 5.44l.94 2.06.94-2.06 2.06-.94-2.06-.94-.94-2.06-.94 2.06-2.06.94zm-11 1L8.5 8.5l.94-2.06 2.06-.94-2.06-.94L8.5 2.5l-.94 2.06-2.06.94zm10 10l.94 2.06.94-2.06 2.06-.94-2.06-.94-.94-2.06-.94 2.06-2.06.94z\"/><path d=\"M17.41 7.96l-1.37-1.37c-.4-.4-.92-.59-1.43-.59-.52 0-1.04.2-1.43.59L10.3 9.45l-7.72 7.72c-.78.78-.78 2.05 0 2.83L4 21.41c.39.39.9.59 1.41.59.51 0 1.02-.2 1.41-.59l7.78-7.78 2.81-2.81c.8-.78.8-2.07 0-2.86zM5.41 20L4 18.59l7.72-7.72 1.47 1.35L5.41 20z\"/>\n",
              "  </svg>\n",
              "      </button>\n",
              "      \n",
              "  <style>\n",
              "    .colab-df-container {\n",
              "      display:flex;\n",
              "      flex-wrap:wrap;\n",
              "      gap: 12px;\n",
              "    }\n",
              "\n",
              "    .colab-df-convert {\n",
              "      background-color: #E8F0FE;\n",
              "      border: none;\n",
              "      border-radius: 50%;\n",
              "      cursor: pointer;\n",
              "      display: none;\n",
              "      fill: #1967D2;\n",
              "      height: 32px;\n",
              "      padding: 0 0 0 0;\n",
              "      width: 32px;\n",
              "    }\n",
              "\n",
              "    .colab-df-convert:hover {\n",
              "      background-color: #E2EBFA;\n",
              "      box-shadow: 0px 1px 2px rgba(60, 64, 67, 0.3), 0px 1px 3px 1px rgba(60, 64, 67, 0.15);\n",
              "      fill: #174EA6;\n",
              "    }\n",
              "\n",
              "    [theme=dark] .colab-df-convert {\n",
              "      background-color: #3B4455;\n",
              "      fill: #D2E3FC;\n",
              "    }\n",
              "\n",
              "    [theme=dark] .colab-df-convert:hover {\n",
              "      background-color: #434B5C;\n",
              "      box-shadow: 0px 1px 3px 1px rgba(0, 0, 0, 0.15);\n",
              "      filter: drop-shadow(0px 1px 2px rgba(0, 0, 0, 0.3));\n",
              "      fill: #FFFFFF;\n",
              "    }\n",
              "  </style>\n",
              "\n",
              "      <script>\n",
              "        const buttonEl =\n",
              "          document.querySelector('#df-76df2b4c-1f81-4a74-8718-07bac8cfd2ea button.colab-df-convert');\n",
              "        buttonEl.style.display =\n",
              "          google.colab.kernel.accessAllowed ? 'block' : 'none';\n",
              "\n",
              "        async function convertToInteractive(key) {\n",
              "          const element = document.querySelector('#df-76df2b4c-1f81-4a74-8718-07bac8cfd2ea');\n",
              "          const dataTable =\n",
              "            await google.colab.kernel.invokeFunction('convertToInteractive',\n",
              "                                                     [key], {});\n",
              "          if (!dataTable) return;\n",
              "\n",
              "          const docLinkHtml = 'Like what you see? Visit the ' +\n",
              "            '<a target=\"_blank\" href=https://colab.research.google.com/notebooks/data_table.ipynb>data table notebook</a>'\n",
              "            + ' to learn more about interactive tables.';\n",
              "          element.innerHTML = '';\n",
              "          dataTable['output_type'] = 'display_data';\n",
              "          await google.colab.output.renderOutput(dataTable, element);\n",
              "          const docLink = document.createElement('div');\n",
              "          docLink.innerHTML = docLinkHtml;\n",
              "          element.appendChild(docLink);\n",
              "        }\n",
              "      </script>\n",
              "    </div>\n",
              "  </div>\n",
              "  "
            ]
          },
          "metadata": {},
          "execution_count": 228
        }
      ]
    },
    {
      "cell_type": "code",
      "source": [
        "female_over4 = by_gender_50[by_gender_50['F'] >= 4.0]\n",
        "female_over4"
      ],
      "metadata": {
        "colab": {
          "base_uri": "https://localhost:8080/",
          "height": 424
        },
        "id": "8Qh7M7pO9d1H",
        "outputId": "39620b01-65d7-443d-bfb7-087889cd6fc7"
      },
      "execution_count": null,
      "outputs": [
        {
          "output_type": "execute_result",
          "data": {
            "text/plain": [
              "gender                                                     F         M\n",
              "American Beauty (1999)                              4.238901  4.347301\n",
              "Star Wars: Episode IV - A New Hope (1977)           4.302937  4.495307\n",
              "Star Wars: Episode V - The Empire Strikes Back ...  4.106481  4.344577\n",
              "Saving Private Ryan (1998)                          4.114783  4.398941\n",
              "Matrix, The (1999)                                  4.128405  4.362235\n",
              "...                                                      ...       ...\n",
              "Inspector General, The (1949)                       4.076923  3.414634\n",
              "Stalker (1979)                                      4.000000  3.586957\n",
              "Horseman on the Roof, The (Hussard sur le toit,...  4.050000  3.343750\n",
              "Trial, The (Le Procès) (1963)                       4.444444  3.833333\n",
              "Hear My Song (1991)                                 4.100000  3.775000\n",
              "\n",
              "[352 rows x 2 columns]"
            ],
            "text/html": [
              "\n",
              "  <div id=\"df-78884b38-68e8-4224-8f2b-9b4c1080ef57\">\n",
              "    <div class=\"colab-df-container\">\n",
              "      <div>\n",
              "<style scoped>\n",
              "    .dataframe tbody tr th:only-of-type {\n",
              "        vertical-align: middle;\n",
              "    }\n",
              "\n",
              "    .dataframe tbody tr th {\n",
              "        vertical-align: top;\n",
              "    }\n",
              "\n",
              "    .dataframe thead th {\n",
              "        text-align: right;\n",
              "    }\n",
              "</style>\n",
              "<table border=\"1\" class=\"dataframe\">\n",
              "  <thead>\n",
              "    <tr style=\"text-align: right;\">\n",
              "      <th>gender</th>\n",
              "      <th>F</th>\n",
              "      <th>M</th>\n",
              "    </tr>\n",
              "  </thead>\n",
              "  <tbody>\n",
              "    <tr>\n",
              "      <th>American Beauty (1999)</th>\n",
              "      <td>4.238901</td>\n",
              "      <td>4.347301</td>\n",
              "    </tr>\n",
              "    <tr>\n",
              "      <th>Star Wars: Episode IV - A New Hope (1977)</th>\n",
              "      <td>4.302937</td>\n",
              "      <td>4.495307</td>\n",
              "    </tr>\n",
              "    <tr>\n",
              "      <th>Star Wars: Episode V - The Empire Strikes Back (1980)</th>\n",
              "      <td>4.106481</td>\n",
              "      <td>4.344577</td>\n",
              "    </tr>\n",
              "    <tr>\n",
              "      <th>Saving Private Ryan (1998)</th>\n",
              "      <td>4.114783</td>\n",
              "      <td>4.398941</td>\n",
              "    </tr>\n",
              "    <tr>\n",
              "      <th>Matrix, The (1999)</th>\n",
              "      <td>4.128405</td>\n",
              "      <td>4.362235</td>\n",
              "    </tr>\n",
              "    <tr>\n",
              "      <th>...</th>\n",
              "      <td>...</td>\n",
              "      <td>...</td>\n",
              "    </tr>\n",
              "    <tr>\n",
              "      <th>Inspector General, The (1949)</th>\n",
              "      <td>4.076923</td>\n",
              "      <td>3.414634</td>\n",
              "    </tr>\n",
              "    <tr>\n",
              "      <th>Stalker (1979)</th>\n",
              "      <td>4.000000</td>\n",
              "      <td>3.586957</td>\n",
              "    </tr>\n",
              "    <tr>\n",
              "      <th>Horseman on the Roof, The (Hussard sur le toit, Le) (1995)</th>\n",
              "      <td>4.050000</td>\n",
              "      <td>3.343750</td>\n",
              "    </tr>\n",
              "    <tr>\n",
              "      <th>Trial, The (Le Procès) (1963)</th>\n",
              "      <td>4.444444</td>\n",
              "      <td>3.833333</td>\n",
              "    </tr>\n",
              "    <tr>\n",
              "      <th>Hear My Song (1991)</th>\n",
              "      <td>4.100000</td>\n",
              "      <td>3.775000</td>\n",
              "    </tr>\n",
              "  </tbody>\n",
              "</table>\n",
              "<p>352 rows × 2 columns</p>\n",
              "</div>\n",
              "      <button class=\"colab-df-convert\" onclick=\"convertToInteractive('df-78884b38-68e8-4224-8f2b-9b4c1080ef57')\"\n",
              "              title=\"Convert this dataframe to an interactive table.\"\n",
              "              style=\"display:none;\">\n",
              "        \n",
              "  <svg xmlns=\"http://www.w3.org/2000/svg\" height=\"24px\"viewBox=\"0 0 24 24\"\n",
              "       width=\"24px\">\n",
              "    <path d=\"M0 0h24v24H0V0z\" fill=\"none\"/>\n",
              "    <path d=\"M18.56 5.44l.94 2.06.94-2.06 2.06-.94-2.06-.94-.94-2.06-.94 2.06-2.06.94zm-11 1L8.5 8.5l.94-2.06 2.06-.94-2.06-.94L8.5 2.5l-.94 2.06-2.06.94zm10 10l.94 2.06.94-2.06 2.06-.94-2.06-.94-.94-2.06-.94 2.06-2.06.94z\"/><path d=\"M17.41 7.96l-1.37-1.37c-.4-.4-.92-.59-1.43-.59-.52 0-1.04.2-1.43.59L10.3 9.45l-7.72 7.72c-.78.78-.78 2.05 0 2.83L4 21.41c.39.39.9.59 1.41.59.51 0 1.02-.2 1.41-.59l7.78-7.78 2.81-2.81c.8-.78.8-2.07 0-2.86zM5.41 20L4 18.59l7.72-7.72 1.47 1.35L5.41 20z\"/>\n",
              "  </svg>\n",
              "      </button>\n",
              "      \n",
              "  <style>\n",
              "    .colab-df-container {\n",
              "      display:flex;\n",
              "      flex-wrap:wrap;\n",
              "      gap: 12px;\n",
              "    }\n",
              "\n",
              "    .colab-df-convert {\n",
              "      background-color: #E8F0FE;\n",
              "      border: none;\n",
              "      border-radius: 50%;\n",
              "      cursor: pointer;\n",
              "      display: none;\n",
              "      fill: #1967D2;\n",
              "      height: 32px;\n",
              "      padding: 0 0 0 0;\n",
              "      width: 32px;\n",
              "    }\n",
              "\n",
              "    .colab-df-convert:hover {\n",
              "      background-color: #E2EBFA;\n",
              "      box-shadow: 0px 1px 2px rgba(60, 64, 67, 0.3), 0px 1px 3px 1px rgba(60, 64, 67, 0.15);\n",
              "      fill: #174EA6;\n",
              "    }\n",
              "\n",
              "    [theme=dark] .colab-df-convert {\n",
              "      background-color: #3B4455;\n",
              "      fill: #D2E3FC;\n",
              "    }\n",
              "\n",
              "    [theme=dark] .colab-df-convert:hover {\n",
              "      background-color: #434B5C;\n",
              "      box-shadow: 0px 1px 3px 1px rgba(0, 0, 0, 0.15);\n",
              "      filter: drop-shadow(0px 1px 2px rgba(0, 0, 0, 0.3));\n",
              "      fill: #FFFFFF;\n",
              "    }\n",
              "  </style>\n",
              "\n",
              "      <script>\n",
              "        const buttonEl =\n",
              "          document.querySelector('#df-78884b38-68e8-4224-8f2b-9b4c1080ef57 button.colab-df-convert');\n",
              "        buttonEl.style.display =\n",
              "          google.colab.kernel.accessAllowed ? 'block' : 'none';\n",
              "\n",
              "        async function convertToInteractive(key) {\n",
              "          const element = document.querySelector('#df-78884b38-68e8-4224-8f2b-9b4c1080ef57');\n",
              "          const dataTable =\n",
              "            await google.colab.kernel.invokeFunction('convertToInteractive',\n",
              "                                                     [key], {});\n",
              "          if (!dataTable) return;\n",
              "\n",
              "          const docLinkHtml = 'Like what you see? Visit the ' +\n",
              "            '<a target=\"_blank\" href=https://colab.research.google.com/notebooks/data_table.ipynb>data table notebook</a>'\n",
              "            + ' to learn more about interactive tables.';\n",
              "          element.innerHTML = '';\n",
              "          dataTable['output_type'] = 'display_data';\n",
              "          await google.colab.output.renderOutput(dataTable, element);\n",
              "          const docLink = document.createElement('div');\n",
              "          docLink.innerHTML = docLinkHtml;\n",
              "          element.appendChild(docLink);\n",
              "        }\n",
              "      </script>\n",
              "    </div>\n",
              "  </div>\n",
              "  "
            ]
          },
          "metadata": {},
          "execution_count": 230
        }
      ]
    },
    {
      "cell_type": "markdown",
      "source": [
        "문제 발생 가능: Stalker 보면, 4.0인데, 여자 한명만이 리뷰를 한것일수도 있다."
      ],
      "metadata": {
        "id": "Cef6uHj897dx"
      }
    },
    {
      "cell_type": "code",
      "source": [
        "result2 = movies_idx.loc[female_over4.index]\n",
        "result2"
      ],
      "metadata": {
        "colab": {
          "base_uri": "https://localhost:8080/",
          "height": 424
        },
        "id": "Zx5iB6Cz-Gk8",
        "outputId": "dcc6a036-0653-4835-b8a7-2c25043c8e10"
      },
      "execution_count": null,
      "outputs": [
        {
          "output_type": "execute_result",
          "data": {
            "text/plain": [
              "                                                    movie_id  \\\n",
              "American Beauty (1999)                                  2858   \n",
              "Star Wars: Episode IV - A New Hope (1977)                260   \n",
              "Star Wars: Episode V - The Empire Strikes Back ...      1196   \n",
              "Saving Private Ryan (1998)                              2028   \n",
              "Matrix, The (1999)                                      2571   \n",
              "...                                                      ...   \n",
              "Inspector General, The (1949)                            963   \n",
              "Stalker (1979)                                          1232   \n",
              "Horseman on the Roof, The (Hussard sur le toit,...       715   \n",
              "Trial, The (Le Procès) (1963)                           3416   \n",
              "Hear My Song (1991)                                     1180   \n",
              "\n",
              "                                                                               genres  \n",
              "American Beauty (1999)                                                   Comedy|Drama  \n",
              "Star Wars: Episode IV - A New Hope (1977)             Action|Adventure|Fantasy|Sci-Fi  \n",
              "Star Wars: Episode V - The Empire Strikes Back ...  Action|Adventure|Drama|Sci-Fi|War  \n",
              "Saving Private Ryan (1998)                                           Action|Drama|War  \n",
              "Matrix, The (1999)                                             Action|Sci-Fi|Thriller  \n",
              "...                                                                               ...  \n",
              "Inspector General, The (1949)                                                 Musical  \n",
              "Stalker (1979)                                                         Mystery|Sci-Fi  \n",
              "Horseman on the Roof, The (Hussard sur le toit,...                              Drama  \n",
              "Trial, The (Le Procès) (1963)                                                   Drama  \n",
              "Hear My Song (1991)                                                            Comedy  \n",
              "\n",
              "[352 rows x 2 columns]"
            ],
            "text/html": [
              "\n",
              "  <div id=\"df-0a9ca5bb-8a4b-4317-8441-998d481542c6\">\n",
              "    <div class=\"colab-df-container\">\n",
              "      <div>\n",
              "<style scoped>\n",
              "    .dataframe tbody tr th:only-of-type {\n",
              "        vertical-align: middle;\n",
              "    }\n",
              "\n",
              "    .dataframe tbody tr th {\n",
              "        vertical-align: top;\n",
              "    }\n",
              "\n",
              "    .dataframe thead th {\n",
              "        text-align: right;\n",
              "    }\n",
              "</style>\n",
              "<table border=\"1\" class=\"dataframe\">\n",
              "  <thead>\n",
              "    <tr style=\"text-align: right;\">\n",
              "      <th></th>\n",
              "      <th>movie_id</th>\n",
              "      <th>genres</th>\n",
              "    </tr>\n",
              "  </thead>\n",
              "  <tbody>\n",
              "    <tr>\n",
              "      <th>American Beauty (1999)</th>\n",
              "      <td>2858</td>\n",
              "      <td>Comedy|Drama</td>\n",
              "    </tr>\n",
              "    <tr>\n",
              "      <th>Star Wars: Episode IV - A New Hope (1977)</th>\n",
              "      <td>260</td>\n",
              "      <td>Action|Adventure|Fantasy|Sci-Fi</td>\n",
              "    </tr>\n",
              "    <tr>\n",
              "      <th>Star Wars: Episode V - The Empire Strikes Back (1980)</th>\n",
              "      <td>1196</td>\n",
              "      <td>Action|Adventure|Drama|Sci-Fi|War</td>\n",
              "    </tr>\n",
              "    <tr>\n",
              "      <th>Saving Private Ryan (1998)</th>\n",
              "      <td>2028</td>\n",
              "      <td>Action|Drama|War</td>\n",
              "    </tr>\n",
              "    <tr>\n",
              "      <th>Matrix, The (1999)</th>\n",
              "      <td>2571</td>\n",
              "      <td>Action|Sci-Fi|Thriller</td>\n",
              "    </tr>\n",
              "    <tr>\n",
              "      <th>...</th>\n",
              "      <td>...</td>\n",
              "      <td>...</td>\n",
              "    </tr>\n",
              "    <tr>\n",
              "      <th>Inspector General, The (1949)</th>\n",
              "      <td>963</td>\n",
              "      <td>Musical</td>\n",
              "    </tr>\n",
              "    <tr>\n",
              "      <th>Stalker (1979)</th>\n",
              "      <td>1232</td>\n",
              "      <td>Mystery|Sci-Fi</td>\n",
              "    </tr>\n",
              "    <tr>\n",
              "      <th>Horseman on the Roof, The (Hussard sur le toit, Le) (1995)</th>\n",
              "      <td>715</td>\n",
              "      <td>Drama</td>\n",
              "    </tr>\n",
              "    <tr>\n",
              "      <th>Trial, The (Le Procès) (1963)</th>\n",
              "      <td>3416</td>\n",
              "      <td>Drama</td>\n",
              "    </tr>\n",
              "    <tr>\n",
              "      <th>Hear My Song (1991)</th>\n",
              "      <td>1180</td>\n",
              "      <td>Comedy</td>\n",
              "    </tr>\n",
              "  </tbody>\n",
              "</table>\n",
              "<p>352 rows × 2 columns</p>\n",
              "</div>\n",
              "      <button class=\"colab-df-convert\" onclick=\"convertToInteractive('df-0a9ca5bb-8a4b-4317-8441-998d481542c6')\"\n",
              "              title=\"Convert this dataframe to an interactive table.\"\n",
              "              style=\"display:none;\">\n",
              "        \n",
              "  <svg xmlns=\"http://www.w3.org/2000/svg\" height=\"24px\"viewBox=\"0 0 24 24\"\n",
              "       width=\"24px\">\n",
              "    <path d=\"M0 0h24v24H0V0z\" fill=\"none\"/>\n",
              "    <path d=\"M18.56 5.44l.94 2.06.94-2.06 2.06-.94-2.06-.94-.94-2.06-.94 2.06-2.06.94zm-11 1L8.5 8.5l.94-2.06 2.06-.94-2.06-.94L8.5 2.5l-.94 2.06-2.06.94zm10 10l.94 2.06.94-2.06 2.06-.94-2.06-.94-.94-2.06-.94 2.06-2.06.94z\"/><path d=\"M17.41 7.96l-1.37-1.37c-.4-.4-.92-.59-1.43-.59-.52 0-1.04.2-1.43.59L10.3 9.45l-7.72 7.72c-.78.78-.78 2.05 0 2.83L4 21.41c.39.39.9.59 1.41.59.51 0 1.02-.2 1.41-.59l7.78-7.78 2.81-2.81c.8-.78.8-2.07 0-2.86zM5.41 20L4 18.59l7.72-7.72 1.47 1.35L5.41 20z\"/>\n",
              "  </svg>\n",
              "      </button>\n",
              "      \n",
              "  <style>\n",
              "    .colab-df-container {\n",
              "      display:flex;\n",
              "      flex-wrap:wrap;\n",
              "      gap: 12px;\n",
              "    }\n",
              "\n",
              "    .colab-df-convert {\n",
              "      background-color: #E8F0FE;\n",
              "      border: none;\n",
              "      border-radius: 50%;\n",
              "      cursor: pointer;\n",
              "      display: none;\n",
              "      fill: #1967D2;\n",
              "      height: 32px;\n",
              "      padding: 0 0 0 0;\n",
              "      width: 32px;\n",
              "    }\n",
              "\n",
              "    .colab-df-convert:hover {\n",
              "      background-color: #E2EBFA;\n",
              "      box-shadow: 0px 1px 2px rgba(60, 64, 67, 0.3), 0px 1px 3px 1px rgba(60, 64, 67, 0.15);\n",
              "      fill: #174EA6;\n",
              "    }\n",
              "\n",
              "    [theme=dark] .colab-df-convert {\n",
              "      background-color: #3B4455;\n",
              "      fill: #D2E3FC;\n",
              "    }\n",
              "\n",
              "    [theme=dark] .colab-df-convert:hover {\n",
              "      background-color: #434B5C;\n",
              "      box-shadow: 0px 1px 3px 1px rgba(0, 0, 0, 0.15);\n",
              "      filter: drop-shadow(0px 1px 2px rgba(0, 0, 0, 0.3));\n",
              "      fill: #FFFFFF;\n",
              "    }\n",
              "  </style>\n",
              "\n",
              "      <script>\n",
              "        const buttonEl =\n",
              "          document.querySelector('#df-0a9ca5bb-8a4b-4317-8441-998d481542c6 button.colab-df-convert');\n",
              "        buttonEl.style.display =\n",
              "          google.colab.kernel.accessAllowed ? 'block' : 'none';\n",
              "\n",
              "        async function convertToInteractive(key) {\n",
              "          const element = document.querySelector('#df-0a9ca5bb-8a4b-4317-8441-998d481542c6');\n",
              "          const dataTable =\n",
              "            await google.colab.kernel.invokeFunction('convertToInteractive',\n",
              "                                                     [key], {});\n",
              "          if (!dataTable) return;\n",
              "\n",
              "          const docLinkHtml = 'Like what you see? Visit the ' +\n",
              "            '<a target=\"_blank\" href=https://colab.research.google.com/notebooks/data_table.ipynb>data table notebook</a>'\n",
              "            + ' to learn more about interactive tables.';\n",
              "          element.innerHTML = '';\n",
              "          dataTable['output_type'] = 'display_data';\n",
              "          await google.colab.output.renderOutput(dataTable, element);\n",
              "          const docLink = document.createElement('div');\n",
              "          docLink.innerHTML = docLinkHtml;\n",
              "          element.appendChild(docLink);\n",
              "        }\n",
              "      </script>\n",
              "    </div>\n",
              "  </div>\n",
              "  "
            ]
          },
          "metadata": {},
          "execution_count": 233
        }
      ]
    },
    {
      "cell_type": "code",
      "source": [
        "genres = []\n",
        "for x in result2.genres:\n",
        "    genres.extend(x.split(sep=\"|\"))"
      ],
      "metadata": {
        "id": "DlQtHMM8B8jt"
      },
      "execution_count": null,
      "outputs": []
    },
    {
      "cell_type": "code",
      "source": [
        "genres_female_top10 = pd.value_counts(genres).head(10)\n",
        "genres_female_top10"
      ],
      "metadata": {
        "colab": {
          "base_uri": "https://localhost:8080/"
        },
        "id": "HoRQySsQCJ-f",
        "outputId": "4ac12615-f9db-4bba-f3e7-b509f5cf1f27"
      },
      "execution_count": null,
      "outputs": [
        {
          "output_type": "execute_result",
          "data": {
            "text/plain": [
              "Drama          189\n",
              "Comedy          98\n",
              "Romance         52\n",
              "Thriller        43\n",
              "War             35\n",
              "Action          27\n",
              "Mystery         23\n",
              "Crime           22\n",
              "Musical         19\n",
              "Documentary     19\n",
              "dtype: int64"
            ]
          },
          "metadata": {},
          "execution_count": 240
        }
      ]
    },
    {
      "cell_type": "code",
      "source": [
        "sns.barplot(x=genres_female_top10.values, y=genres_female_top10.index)\n",
        "plt.show()"
      ],
      "metadata": {
        "colab": {
          "base_uri": "https://localhost:8080/",
          "height": 265
        },
        "id": "rSvQy61vCfjQ",
        "outputId": "13f3ca4b-05b7-40bf-ece8-5708b125e920"
      },
      "execution_count": null,
      "outputs": [
        {
          "output_type": "display_data",
          "data": {
            "text/plain": [
              "<Figure size 432x288 with 1 Axes>"
            ],
            "image/png": "[encoded data removed]"
          },
          "metadata": {
            "needs_background": "light"
          }
        }
      ]
    },
    {
      "cell_type": "code",
      "source": [
        "male_over4 =by_gender_50[by_gender_50['M'] >= 4.0]\n",
        "male_over4"
      ],
      "metadata": {
        "colab": {
          "base_uri": "https://localhost:8080/",
          "height": 424
        },
        "id": "xWqPC6VODITk",
        "outputId": "55c4c551-907a-409a-dde7-3e18bf1c3479"
      },
      "execution_count": null,
      "outputs": [
        {
          "output_type": "execute_result",
          "data": {
            "text/plain": [
              "gender                                                     F         M\n",
              "American Beauty (1999)                              4.238901  4.347301\n",
              "Star Wars: Episode IV - A New Hope (1977)           4.302937  4.495307\n",
              "Star Wars: Episode V - The Empire Strikes Back ...  4.106481  4.344577\n",
              "Star Wars: Episode VI - Return of the Jedi (1983)   3.865237  4.069058\n",
              "Saving Private Ryan (1998)                          4.114783  4.398941\n",
              "...                                                      ...       ...\n",
              "Maya Lin: A Strong Clear Vision (1994)              4.105263  4.100000\n",
              "Conformist, The (Il Conformista) (1970)             4.285714  4.209302\n",
              "World of Apu, The (Apur Sansar) (1959)              4.842105  4.189189\n",
              "Four Days in September (1997)                       3.785714  4.054054\n",
              "Lonely Are the Brave (1962)                         3.000000  4.162791\n",
              "\n",
              "[323 rows x 2 columns]"
            ],
            "text/html": [
              "\n",
              "  <div id=\"df-61064ca1-ab5f-4dcf-aaca-f84b0782fec2\">\n",
              "    <div class=\"colab-df-container\">\n",
              "      <div>\n",
              "<style scoped>\n",
              "    .dataframe tbody tr th:only-of-type {\n",
              "        vertical-align: middle;\n",
              "    }\n",
              "\n",
              "    .dataframe tbody tr th {\n",
              "        vertical-align: top;\n",
              "    }\n",
              "\n",
              "    .dataframe thead th {\n",
              "        text-align: right;\n",
              "    }\n",
              "</style>\n",
              "<table border=\"1\" class=\"dataframe\">\n",
              "  <thead>\n",
              "    <tr style=\"text-align: right;\">\n",
              "      <th>gender</th>\n",
              "      <th>F</th>\n",
              "      <th>M</th>\n",
              "    </tr>\n",
              "  </thead>\n",
              "  <tbody>\n",
              "    <tr>\n",
              "      <th>American Beauty (1999)</th>\n",
              "      <td>4.238901</td>\n",
              "      <td>4.347301</td>\n",
              "    </tr>\n",
              "    <tr>\n",
              "      <th>Star Wars: Episode IV - A New Hope (1977)</th>\n",
              "      <td>4.302937</td>\n",
              "      <td>4.495307</td>\n",
              "    </tr>\n",
              "    <tr>\n",
              "      <th>Star Wars: Episode V - The Empire Strikes Back (1980)</th>\n",
              "      <td>4.106481</td>\n",
              "      <td>4.344577</td>\n",
              "    </tr>\n",
              "    <tr>\n",
              "      <th>Star Wars: Episode VI - Return of the Jedi (1983)</th>\n",
              "      <td>3.865237</td>\n",
              "      <td>4.069058</td>\n",
              "    </tr>\n",
              "    <tr>\n",
              "      <th>Saving Private Ryan (1998)</th>\n",
              "      <td>4.114783</td>\n",
              "      <td>4.398941</td>\n",
              "    </tr>\n",
              "    <tr>\n",
              "      <th>...</th>\n",
              "      <td>...</td>\n",
              "      <td>...</td>\n",
              "    </tr>\n",
              "    <tr>\n",
              "      <th>Maya Lin: A Strong Clear Vision (1994)</th>\n",
              "      <td>4.105263</td>\n",
              "      <td>4.100000</td>\n",
              "    </tr>\n",
              "    <tr>\n",
              "      <th>Conformist, The (Il Conformista) (1970)</th>\n",
              "      <td>4.285714</td>\n",
              "      <td>4.209302</td>\n",
              "    </tr>\n",
              "    <tr>\n",
              "      <th>World of Apu, The (Apur Sansar) (1959)</th>\n",
              "      <td>4.842105</td>\n",
              "      <td>4.189189</td>\n",
              "    </tr>\n",
              "    <tr>\n",
              "      <th>Four Days in September (1997)</th>\n",
              "      <td>3.785714</td>\n",
              "      <td>4.054054</td>\n",
              "    </tr>\n",
              "    <tr>\n",
              "      <th>Lonely Are the Brave (1962)</th>\n",
              "      <td>3.000000</td>\n",
              "      <td>4.162791</td>\n",
              "    </tr>\n",
              "  </tbody>\n",
              "</table>\n",
              "<p>323 rows × 2 columns</p>\n",
              "</div>\n",
              "      <button class=\"colab-df-convert\" onclick=\"convertToInteractive('df-61064ca1-ab5f-4dcf-aaca-f84b0782fec2')\"\n",
              "              title=\"Convert this dataframe to an interactive table.\"\n",
              "              style=\"display:none;\">\n",
              "        \n",
              "  <svg xmlns=\"http://www.w3.org/2000/svg\" height=\"24px\"viewBox=\"0 0 24 24\"\n",
              "       width=\"24px\">\n",
              "    <path d=\"M0 0h24v24H0V0z\" fill=\"none\"/>\n",
              "    <path d=\"M18.56 5.44l.94 2.06.94-2.06 2.06-.94-2.06-.94-.94-2.06-.94 2.06-2.06.94zm-11 1L8.5 8.5l.94-2.06 2.06-.94-2.06-.94L8.5 2.5l-.94 2.06-2.06.94zm10 10l.94 2.06.94-2.06 2.06-.94-2.06-.94-.94-2.06-.94 2.06-2.06.94z\"/><path d=\"M17.41 7.96l-1.37-1.37c-.4-.4-.92-.59-1.43-.59-.52 0-1.04.2-1.43.59L10.3 9.45l-7.72 7.72c-.78.78-.78 2.05 0 2.83L4 21.41c.39.39.9.59 1.41.59.51 0 1.02-.2 1.41-.59l7.78-7.78 2.81-2.81c.8-.78.8-2.07 0-2.86zM5.41 20L4 18.59l7.72-7.72 1.47 1.35L5.41 20z\"/>\n",
              "  </svg>\n",
              "      </button>\n",
              "      \n",
              "  <style>\n",
              "    .colab-df-container {\n",
              "      display:flex;\n",
              "      flex-wrap:wrap;\n",
              "      gap: 12px;\n",
              "    }\n",
              "\n",
              "    .colab-df-convert {\n",
              "      background-color: #E8F0FE;\n",
              "      border: none;\n",
              "      border-radius: 50%;\n",
              "      cursor: pointer;\n",
              "      display: none;\n",
              "      fill: #1967D2;\n",
              "      height: 32px;\n",
              "      padding: 0 0 0 0;\n",
              "      width: 32px;\n",
              "    }\n",
              "\n",
              "    .colab-df-convert:hover {\n",
              "      background-color: #E2EBFA;\n",
              "      box-shadow: 0px 1px 2px rgba(60, 64, 67, 0.3), 0px 1px 3px 1px rgba(60, 64, 67, 0.15);\n",
              "      fill: #174EA6;\n",
              "    }\n",
              "\n",
              "    [theme=dark] .colab-df-convert {\n",
              "      background-color: #3B4455;\n",
              "      fill: #D2E3FC;\n",
              "    }\n",
              "\n",
              "    [theme=dark] .colab-df-convert:hover {\n",
              "      background-color: #434B5C;\n",
              "      box-shadow: 0px 1px 3px 1px rgba(0, 0, 0, 0.15);\n",
              "      filter: drop-shadow(0px 1px 2px rgba(0, 0, 0, 0.3));\n",
              "      fill: #FFFFFF;\n",
              "    }\n",
              "  </style>\n",
              "\n",
              "      <script>\n",
              "        const buttonEl =\n",
              "          document.querySelector('#df-61064ca1-ab5f-4dcf-aaca-f84b0782fec2 button.colab-df-convert');\n",
              "        buttonEl.style.display =\n",
              "          google.colab.kernel.accessAllowed ? 'block' : 'none';\n",
              "\n",
              "        async function convertToInteractive(key) {\n",
              "          const element = document.querySelector('#df-61064ca1-ab5f-4dcf-aaca-f84b0782fec2');\n",
              "          const dataTable =\n",
              "            await google.colab.kernel.invokeFunction('convertToInteractive',\n",
              "                                                     [key], {});\n",
              "          if (!dataTable) return;\n",
              "\n",
              "          const docLinkHtml = 'Like what you see? Visit the ' +\n",
              "            '<a target=\"_blank\" href=https://colab.research.google.com/notebooks/data_table.ipynb>data table notebook</a>'\n",
              "            + ' to learn more about interactive tables.';\n",
              "          element.innerHTML = '';\n",
              "          dataTable['output_type'] = 'display_data';\n",
              "          await google.colab.output.renderOutput(dataTable, element);\n",
              "          const docLink = document.createElement('div');\n",
              "          docLink.innerHTML = docLinkHtml;\n",
              "          element.appendChild(docLink);\n",
              "        }\n",
              "      </script>\n",
              "    </div>\n",
              "  </div>\n",
              "  "
            ]
          },
          "metadata": {},
          "execution_count": 245
        }
      ]
    },
    {
      "cell_type": "code",
      "source": [
        "result3 = movies_idx.loc[male_over4.index]\n",
        "result3"
      ],
      "metadata": {
        "colab": {
          "base_uri": "https://localhost:8080/",
          "height": 424
        },
        "id": "7sgbMYhdDoto",
        "outputId": "edcc1b63-0d54-4b00-bcc5-f0928dc79ac4"
      },
      "execution_count": null,
      "outputs": [
        {
          "output_type": "execute_result",
          "data": {
            "text/plain": [
              "                                                    movie_id  \\\n",
              "American Beauty (1999)                                  2858   \n",
              "Star Wars: Episode IV - A New Hope (1977)                260   \n",
              "Star Wars: Episode V - The Empire Strikes Back ...      1196   \n",
              "Star Wars: Episode VI - Return of the Jedi (1983)       1210   \n",
              "Saving Private Ryan (1998)                              2028   \n",
              "...                                                      ...   \n",
              "Maya Lin: A Strong Clear Vision (1994)                   759   \n",
              "Conformist, The (Il Conformista) (1970)                 2925   \n",
              "World of Apu, The (Apur Sansar) (1959)                   670   \n",
              "Four Days in September (1997)                           1759   \n",
              "Lonely Are the Brave (1962)                             3737   \n",
              "\n",
              "                                                                                 genres  \n",
              "American Beauty (1999)                                                     Comedy|Drama  \n",
              "Star Wars: Episode IV - A New Hope (1977)               Action|Adventure|Fantasy|Sci-Fi  \n",
              "Star Wars: Episode V - The Empire Strikes Back ...    Action|Adventure|Drama|Sci-Fi|War  \n",
              "Star Wars: Episode VI - Return of the Jedi (1983)   Action|Adventure|Romance|Sci-Fi|War  \n",
              "Saving Private Ryan (1998)                                             Action|Drama|War  \n",
              "...                                                                                 ...  \n",
              "Maya Lin: A Strong Clear Vision (1994)                                      Documentary  \n",
              "Conformist, The (Il Conformista) (1970)                                           Drama  \n",
              "World of Apu, The (Apur Sansar) (1959)                                            Drama  \n",
              "Four Days in September (1997)                                                     Drama  \n",
              "Lonely Are the Brave (1962)                                               Drama|Western  \n",
              "\n",
              "[323 rows x 2 columns]"
            ],
            "text/html": [
              "\n",
              "  <div id=\"df-4a3f631e-b82c-4c06-940a-6d09a5e24a8e\">\n",
              "    <div class=\"colab-df-container\">\n",
              "      <div>\n",
              "<style scoped>\n",
              "    .dataframe tbody tr th:only-of-type {\n",
              "        vertical-align: middle;\n",
              "    }\n",
              "\n",
              "    .dataframe tbody tr th {\n",
              "        vertical-align: top;\n",
              "    }\n",
              "\n",
              "    .dataframe thead th {\n",
              "        text-align: right;\n",
              "    }\n",
              "</style>\n",
              "<table border=\"1\" class=\"dataframe\">\n",
              "  <thead>\n",
              "    <tr style=\"text-align: right;\">\n",
              "      <th></th>\n",
              "      <th>movie_id</th>\n",
              "      <th>genres</th>\n",
              "    </tr>\n",
              "  </thead>\n",
              "  <tbody>\n",
              "    <tr>\n",
              "      <th>American Beauty (1999)</th>\n",
              "      <td>2858</td>\n",
              "      <td>Comedy|Drama</td>\n",
              "    </tr>\n",
              "    <tr>\n",
              "      <th>Star Wars: Episode IV - A New Hope (1977)</th>\n",
              "      <td>260</td>\n",
              "      <td>Action|Adventure|Fantasy|Sci-Fi</td>\n",
              "    </tr>\n",
              "    <tr>\n",
              "      <th>Star Wars: Episode V - The Empire Strikes Back (1980)</th>\n",
              "      <td>1196</td>\n",
              "      <td>Action|Adventure|Drama|Sci-Fi|War</td>\n",
              "    </tr>\n",
              "    <tr>\n",
              "      <th>Star Wars: Episode VI - Return of the Jedi (1983)</th>\n",
              "      <td>1210</td>\n",
              "      <td>Action|Adventure|Romance|Sci-Fi|War</td>\n",
              "    </tr>\n",
              "    <tr>\n",
              "      <th>Saving Private Ryan (1998)</th>\n",
              "      <td>2028</td>\n",
              "      <td>Action|Drama|War</td>\n",
              "    </tr>\n",
              "    <tr>\n",
              "      <th>...</th>\n",
              "      <td>...</td>\n",
              "      <td>...</td>\n",
              "    </tr>\n",
              "    <tr>\n",
              "      <th>Maya Lin: A Strong Clear Vision (1994)</th>\n",
              "      <td>759</td>\n",
              "      <td>Documentary</td>\n",
              "    </tr>\n",
              "    <tr>\n",
              "      <th>Conformist, The (Il Conformista) (1970)</th>\n",
              "      <td>2925</td>\n",
              "      <td>Drama</td>\n",
              "    </tr>\n",
              "    <tr>\n",
              "      <th>World of Apu, The (Apur Sansar) (1959)</th>\n",
              "      <td>670</td>\n",
              "      <td>Drama</td>\n",
              "    </tr>\n",
              "    <tr>\n",
              "      <th>Four Days in September (1997)</th>\n",
              "      <td>1759</td>\n",
              "      <td>Drama</td>\n",
              "    </tr>\n",
              "    <tr>\n",
              "      <th>Lonely Are the Brave (1962)</th>\n",
              "      <td>3737</td>\n",
              "      <td>Drama|Western</td>\n",
              "    </tr>\n",
              "  </tbody>\n",
              "</table>\n",
              "<p>323 rows × 2 columns</p>\n",
              "</div>\n",
              "      <button class=\"colab-df-convert\" onclick=\"convertToInteractive('df-4a3f631e-b82c-4c06-940a-6d09a5e24a8e')\"\n",
              "              title=\"Convert this dataframe to an interactive table.\"\n",
              "              style=\"display:none;\">\n",
              "        \n",
              "  <svg xmlns=\"http://www.w3.org/2000/svg\" height=\"24px\"viewBox=\"0 0 24 24\"\n",
              "       width=\"24px\">\n",
              "    <path d=\"M0 0h24v24H0V0z\" fill=\"none\"/>\n",
              "    <path d=\"M18.56 5.44l.94 2.06.94-2.06 2.06-.94-2.06-.94-.94-2.06-.94 2.06-2.06.94zm-11 1L8.5 8.5l.94-2.06 2.06-.94-2.06-.94L8.5 2.5l-.94 2.06-2.06.94zm10 10l.94 2.06.94-2.06 2.06-.94-2.06-.94-.94-2.06-.94 2.06-2.06.94z\"/><path d=\"M17.41 7.96l-1.37-1.37c-.4-.4-.92-.59-1.43-.59-.52 0-1.04.2-1.43.59L10.3 9.45l-7.72 7.72c-.78.78-.78 2.05 0 2.83L4 21.41c.39.39.9.59 1.41.59.51 0 1.02-.2 1.41-.59l7.78-7.78 2.81-2.81c.8-.78.8-2.07 0-2.86zM5.41 20L4 18.59l7.72-7.72 1.47 1.35L5.41 20z\"/>\n",
              "  </svg>\n",
              "      </button>\n",
              "      \n",
              "  <style>\n",
              "    .colab-df-container {\n",
              "      display:flex;\n",
              "      flex-wrap:wrap;\n",
              "      gap: 12px;\n",
              "    }\n",
              "\n",
              "    .colab-df-convert {\n",
              "      background-color: #E8F0FE;\n",
              "      border: none;\n",
              "      border-radius: 50%;\n",
              "      cursor: pointer;\n",
              "      display: none;\n",
              "      fill: #1967D2;\n",
              "      height: 32px;\n",
              "      padding: 0 0 0 0;\n",
              "      width: 32px;\n",
              "    }\n",
              "\n",
              "    .colab-df-convert:hover {\n",
              "      background-color: #E2EBFA;\n",
              "      box-shadow: 0px 1px 2px rgba(60, 64, 67, 0.3), 0px 1px 3px 1px rgba(60, 64, 67, 0.15);\n",
              "      fill: #174EA6;\n",
              "    }\n",
              "\n",
              "    [theme=dark] .colab-df-convert {\n",
              "      background-color: #3B4455;\n",
              "      fill: #D2E3FC;\n",
              "    }\n",
              "\n",
              "    [theme=dark] .colab-df-convert:hover {\n",
              "      background-color: #434B5C;\n",
              "      box-shadow: 0px 1px 3px 1px rgba(0, 0, 0, 0.15);\n",
              "      filter: drop-shadow(0px 1px 2px rgba(0, 0, 0, 0.3));\n",
              "      fill: #FFFFFF;\n",
              "    }\n",
              "  </style>\n",
              "\n",
              "      <script>\n",
              "        const buttonEl =\n",
              "          document.querySelector('#df-4a3f631e-b82c-4c06-940a-6d09a5e24a8e button.colab-df-convert');\n",
              "        buttonEl.style.display =\n",
              "          google.colab.kernel.accessAllowed ? 'block' : 'none';\n",
              "\n",
              "        async function convertToInteractive(key) {\n",
              "          const element = document.querySelector('#df-4a3f631e-b82c-4c06-940a-6d09a5e24a8e');\n",
              "          const dataTable =\n",
              "            await google.colab.kernel.invokeFunction('convertToInteractive',\n",
              "                                                     [key], {});\n",
              "          if (!dataTable) return;\n",
              "\n",
              "          const docLinkHtml = 'Like what you see? Visit the ' +\n",
              "            '<a target=\"_blank\" href=https://colab.research.google.com/notebooks/data_table.ipynb>data table notebook</a>'\n",
              "            + ' to learn more about interactive tables.';\n",
              "          element.innerHTML = '';\n",
              "          dataTable['output_type'] = 'display_data';\n",
              "          await google.colab.output.renderOutput(dataTable, element);\n",
              "          const docLink = document.createElement('div');\n",
              "          docLink.innerHTML = docLinkHtml;\n",
              "          element.appendChild(docLink);\n",
              "        }\n",
              "      </script>\n",
              "    </div>\n",
              "  </div>\n",
              "  "
            ]
          },
          "metadata": {},
          "execution_count": 249
        }
      ]
    },
    {
      "cell_type": "code",
      "source": [
        "genres = []\n",
        "for x in result3.genres:\n",
        "    genres.extend(x.split(sep=\"|\"))"
      ],
      "metadata": {
        "id": "pY31AB4OD2PY"
      },
      "execution_count": null,
      "outputs": []
    },
    {
      "cell_type": "code",
      "source": [
        "genres_male_top10 = pd.value_counts(genres).head(10)\n",
        "genres_male_top10"
      ],
      "metadata": {
        "colab": {
          "base_uri": "https://localhost:8080/"
        },
        "id": "nNfW1iQrEBXX",
        "outputId": "500c218c-3a97-40bd-ae4d-0acc876cb4c1"
      },
      "execution_count": null,
      "outputs": [
        {
          "output_type": "execute_result",
          "data": {
            "text/plain": [
              "Drama        160\n",
              "Comedy        86\n",
              "Thriller      49\n",
              "Action        41\n",
              "Romance       39\n",
              "War           37\n",
              "Crime         27\n",
              "Sci-Fi        20\n",
              "Adventure     19\n",
              "Film-Noir     19\n",
              "dtype: int64"
            ]
          },
          "metadata": {},
          "execution_count": 255
        }
      ]
    },
    {
      "cell_type": "code",
      "source": [
        "fig, ax = plt.subplots(ncols=2, figsize=(13, 4))\n",
        "\n",
        "sns.barplot(x=genres_female_top10.values, y=genres_female_top10.index, ax=ax[0])\n",
        "sns.barplot(x=genres_male_top10.values, y=genres_male_top10.index, ax=ax[1])\n",
        "\n",
        "ax[0].set_title('Female Genres')\n",
        "ax[1].set_title('Male Genres')\n",
        "\n",
        "plt.show()"
      ],
      "metadata": {
        "colab": {
          "base_uri": "https://localhost:8080/",
          "height": 281
        },
        "id": "1JfGF-FrEfRV",
        "outputId": "5df219db-dbe6-49ed-dc06-d7c99a927401"
      },
      "execution_count": null,
      "outputs": [
        {
          "output_type": "display_data",
          "data": {
            "text/plain": [
              "<Figure size 936x288 with 2 Axes>"
            ],
            "image/png": "[encoded data removed]"
          },
          "metadata": {
            "needs_background": "light"
          }
        }
      ]
    },
    {
      "cell_type": "markdown",
      "source": [
        "## 연령대 장르 빈도수 상위 10개"
      ],
      "metadata": {
        "id": "wU_cnqaSGTMa"
      }
    },
    {
      "cell_type": "code",
      "source": [
        "by_age = df.pivot_table(values='rating', index='title', columns='age')\n",
        "by_age"
      ],
      "metadata": {
        "colab": {
          "base_uri": "https://localhost:8080/",
          "height": 455
        },
        "id": "3jSngkKQGeQ5",
        "outputId": "6a6206f4-bab2-4e2b-8f54-4b581b5e6a40"
      },
      "execution_count": null,
      "outputs": [
        {
          "output_type": "execute_result",
          "data": {
            "text/plain": [
              "age                                               1         18        25  \\\n",
              "title                                                                      \n",
              "$1,000,000 Duck (1971)                           NaN  3.000000  3.090909   \n",
              "'Night Mother (1986)                        2.000000  4.666667  3.423077   \n",
              "'Til There Was You (1997)                   3.500000  2.500000  2.666667   \n",
              "'burbs, The (1989)                          4.500000  3.244444  2.652174   \n",
              "...And Justice for All (1979)               3.000000  3.428571  3.724138   \n",
              "...                                              ...       ...       ...   \n",
              "Zed & Two Noughts, A (1985)                 1.000000  3.000000  3.375000   \n",
              "Zero Effect (1998)                          4.125000  3.883333  3.715278   \n",
              "Zero Kelvin (Kjærlighetens kjøtere) (1995)       NaN       NaN       NaN   \n",
              "Zeus and Roxanne (1997)                     1.500000  2.500000  2.833333   \n",
              "eXistenZ (1999)                             3.142857  3.289157  3.234973   \n",
              "\n",
              "age                                               35        45        50  \\\n",
              "title                                                                      \n",
              "$1,000,000 Duck (1971)                      3.133333  2.000000  2.750000   \n",
              "'Night Mother (1986)                        2.904762  3.833333  3.555556   \n",
              "'Til There Was You (1997)                   2.900000  2.333333  2.500000   \n",
              "'burbs, The (1989)                          2.818182  2.545455  3.208333   \n",
              "...And Justice for All (1979)               3.657143  4.100000  3.551724   \n",
              "...                                              ...       ...       ...   \n",
              "Zed & Two Noughts, A (1985)                 3.777778  4.000000  3.000000   \n",
              "Zero Effect (1998)                          3.608696  3.764706  3.833333   \n",
              "Zero Kelvin (Kjærlighetens kjøtere) (1995)  3.500000       NaN       NaN   \n",
              "Zeus and Roxanne (1997)                     3.500000  1.000000       NaN   \n",
              "eXistenZ (1999)                             3.364865  3.222222  3.291667   \n",
              "\n",
              "age                                               56  \n",
              "title                                                 \n",
              "$1,000,000 Duck (1971)                           NaN  \n",
              "'Night Mother (1986)                        4.333333  \n",
              "'Til There Was You (1997)                   2.666667  \n",
              "'burbs, The (1989)                          2.666667  \n",
              "...And Justice for All (1979)               3.928571  \n",
              "...                                              ...  \n",
              "Zed & Two Noughts, A (1985)                      NaN  \n",
              "Zero Effect (1998)                          3.625000  \n",
              "Zero Kelvin (Kjærlighetens kjøtere) (1995)       NaN  \n",
              "Zeus and Roxanne (1997)                          NaN  \n",
              "eXistenZ (1999)                             2.200000  \n",
              "\n",
              "[3706 rows x 7 columns]"
            ],
            "text/html": [
              "\n",
              "  <div id=\"df-4fc019a4-a711-4132-a18f-1ca5c264e52d\">\n",
              "    <div class=\"colab-df-container\">\n",
              "      <div>\n",
              "<style scoped>\n",
              "    .dataframe tbody tr th:only-of-type {\n",
              "        vertical-align: middle;\n",
              "    }\n",
              "\n",
              "    .dataframe tbody tr th {\n",
              "        vertical-align: top;\n",
              "    }\n",
              "\n",
              "    .dataframe thead th {\n",
              "        text-align: right;\n",
              "    }\n",
              "</style>\n",
              "<table border=\"1\" class=\"dataframe\">\n",
              "  <thead>\n",
              "    <tr style=\"text-align: right;\">\n",
              "      <th>age</th>\n",
              "      <th>1</th>\n",
              "      <th>18</th>\n",
              "      <th>25</th>\n",
              "      <th>35</th>\n",
              "      <th>45</th>\n",
              "      <th>50</th>\n",
              "      <th>56</th>\n",
              "    </tr>\n",
              "    <tr>\n",
              "      <th>title</th>\n",
              "      <th></th>\n",
              "      <th></th>\n",
              "      <th></th>\n",
              "      <th></th>\n",
              "      <th></th>\n",
              "      <th></th>\n",
              "      <th></th>\n",
              "    </tr>\n",
              "  </thead>\n",
              "  <tbody>\n",
              "    <tr>\n",
              "      <th>$1,000,000 Duck (1971)</th>\n",
              "      <td>NaN</td>\n",
              "      <td>3.000000</td>\n",
              "      <td>3.090909</td>\n",
              "      <td>3.133333</td>\n",
              "      <td>2.000000</td>\n",
              "      <td>2.750000</td>\n",
              "      <td>NaN</td>\n",
              "    </tr>\n",
              "    <tr>\n",
              "      <th>'Night Mother (1986)</th>\n",
              "      <td>2.000000</td>\n",
              "      <td>4.666667</td>\n",
              "      <td>3.423077</td>\n",
              "      <td>2.904762</td>\n",
              "      <td>3.833333</td>\n",
              "      <td>3.555556</td>\n",
              "      <td>4.333333</td>\n",
              "    </tr>\n",
              "    <tr>\n",
              "      <th>'Til There Was You (1997)</th>\n",
              "      <td>3.500000</td>\n",
              "      <td>2.500000</td>\n",
              "      <td>2.666667</td>\n",
              "      <td>2.900000</td>\n",
              "      <td>2.333333</td>\n",
              "      <td>2.500000</td>\n",
              "      <td>2.666667</td>\n",
              "    </tr>\n",
              "    <tr>\n",
              "      <th>'burbs, The (1989)</th>\n",
              "      <td>4.500000</td>\n",
              "      <td>3.244444</td>\n",
              "      <td>2.652174</td>\n",
              "      <td>2.818182</td>\n",
              "      <td>2.545455</td>\n",
              "      <td>3.208333</td>\n",
              "      <td>2.666667</td>\n",
              "    </tr>\n",
              "    <tr>\n",
              "      <th>...And Justice for All (1979)</th>\n",
              "      <td>3.000000</td>\n",
              "      <td>3.428571</td>\n",
              "      <td>3.724138</td>\n",
              "      <td>3.657143</td>\n",
              "      <td>4.100000</td>\n",
              "      <td>3.551724</td>\n",
              "      <td>3.928571</td>\n",
              "    </tr>\n",
              "    <tr>\n",
              "      <th>...</th>\n",
              "      <td>...</td>\n",
              "      <td>...</td>\n",
              "      <td>...</td>\n",
              "      <td>...</td>\n",
              "      <td>...</td>\n",
              "      <td>...</td>\n",
              "      <td>...</td>\n",
              "    </tr>\n",
              "    <tr>\n",
              "      <th>Zed &amp; Two Noughts, A (1985)</th>\n",
              "      <td>1.000000</td>\n",
              "      <td>3.000000</td>\n",
              "      <td>3.375000</td>\n",
              "      <td>3.777778</td>\n",
              "      <td>4.000000</td>\n",
              "      <td>3.000000</td>\n",
              "      <td>NaN</td>\n",
              "    </tr>\n",
              "    <tr>\n",
              "      <th>Zero Effect (1998)</th>\n",
              "      <td>4.125000</td>\n",
              "      <td>3.883333</td>\n",
              "      <td>3.715278</td>\n",
              "      <td>3.608696</td>\n",
              "      <td>3.764706</td>\n",
              "      <td>3.833333</td>\n",
              "      <td>3.625000</td>\n",
              "    </tr>\n",
              "    <tr>\n",
              "      <th>Zero Kelvin (Kjærlighetens kjøtere) (1995)</th>\n",
              "      <td>NaN</td>\n",
              "      <td>NaN</td>\n",
              "      <td>NaN</td>\n",
              "      <td>3.500000</td>\n",
              "      <td>NaN</td>\n",
              "      <td>NaN</td>\n",
              "      <td>NaN</td>\n",
              "    </tr>\n",
              "    <tr>\n",
              "      <th>Zeus and Roxanne (1997)</th>\n",
              "      <td>1.500000</td>\n",
              "      <td>2.500000</td>\n",
              "      <td>2.833333</td>\n",
              "      <td>3.500000</td>\n",
              "      <td>1.000000</td>\n",
              "      <td>NaN</td>\n",
              "      <td>NaN</td>\n",
              "    </tr>\n",
              "    <tr>\n",
              "      <th>eXistenZ (1999)</th>\n",
              "      <td>3.142857</td>\n",
              "      <td>3.289157</td>\n",
              "      <td>3.234973</td>\n",
              "      <td>3.364865</td>\n",
              "      <td>3.222222</td>\n",
              "      <td>3.291667</td>\n",
              "      <td>2.200000</td>\n",
              "    </tr>\n",
              "  </tbody>\n",
              "</table>\n",
              "<p>3706 rows × 7 columns</p>\n",
              "</div>\n",
              "      <button class=\"colab-df-convert\" onclick=\"convertToInteractive('df-4fc019a4-a711-4132-a18f-1ca5c264e52d')\"\n",
              "              title=\"Convert this dataframe to an interactive table.\"\n",
              "              style=\"display:none;\">\n",
              "        \n",
              "  <svg xmlns=\"http://www.w3.org/2000/svg\" height=\"24px\"viewBox=\"0 0 24 24\"\n",
              "       width=\"24px\">\n",
              "    <path d=\"M0 0h24v24H0V0z\" fill=\"none\"/>\n",
              "    <path d=\"M18.56 5.44l.94 2.06.94-2.06 2.06-.94-2.06-.94-.94-2.06-.94 2.06-2.06.94zm-11 1L8.5 8.5l.94-2.06 2.06-.94-2.06-.94L8.5 2.5l-.94 2.06-2.06.94zm10 10l.94 2.06.94-2.06 2.06-.94-2.06-.94-.94-2.06-.94 2.06-2.06.94z\"/><path d=\"M17.41 7.96l-1.37-1.37c-.4-.4-.92-.59-1.43-.59-.52 0-1.04.2-1.43.59L10.3 9.45l-7.72 7.72c-.78.78-.78 2.05 0 2.83L4 21.41c.39.39.9.59 1.41.59.51 0 1.02-.2 1.41-.59l7.78-7.78 2.81-2.81c.8-.78.8-2.07 0-2.86zM5.41 20L4 18.59l7.72-7.72 1.47 1.35L5.41 20z\"/>\n",
              "  </svg>\n",
              "      </button>\n",
              "      \n",
              "  <style>\n",
              "    .colab-df-container {\n",
              "      display:flex;\n",
              "      flex-wrap:wrap;\n",
              "      gap: 12px;\n",
              "    }\n",
              "\n",
              "    .colab-df-convert {\n",
              "      background-color: #E8F0FE;\n",
              "      border: none;\n",
              "      border-radius: 50%;\n",
              "      cursor: pointer;\n",
              "      display: none;\n",
              "      fill: #1967D2;\n",
              "      height: 32px;\n",
              "      padding: 0 0 0 0;\n",
              "      width: 32px;\n",
              "    }\n",
              "\n",
              "    .colab-df-convert:hover {\n",
              "      background-color: #E2EBFA;\n",
              "      box-shadow: 0px 1px 2px rgba(60, 64, 67, 0.3), 0px 1px 3px 1px rgba(60, 64, 67, 0.15);\n",
              "      fill: #174EA6;\n",
              "    }\n",
              "\n",
              "    [theme=dark] .colab-df-convert {\n",
              "      background-color: #3B4455;\n",
              "      fill: #D2E3FC;\n",
              "    }\n",
              "\n",
              "    [theme=dark] .colab-df-convert:hover {\n",
              "      background-color: #434B5C;\n",
              "      box-shadow: 0px 1px 3px 1px rgba(0, 0, 0, 0.15);\n",
              "      filter: drop-shadow(0px 1px 2px rgba(0, 0, 0, 0.3));\n",
              "      fill: #FFFFFF;\n",
              "    }\n",
              "  </style>\n",
              "\n",
              "      <script>\n",
              "        const buttonEl =\n",
              "          document.querySelector('#df-4fc019a4-a711-4132-a18f-1ca5c264e52d button.colab-df-convert');\n",
              "        buttonEl.style.display =\n",
              "          google.colab.kernel.accessAllowed ? 'block' : 'none';\n",
              "\n",
              "        async function convertToInteractive(key) {\n",
              "          const element = document.querySelector('#df-4fc019a4-a711-4132-a18f-1ca5c264e52d');\n",
              "          const dataTable =\n",
              "            await google.colab.kernel.invokeFunction('convertToInteractive',\n",
              "                                                     [key], {});\n",
              "          if (!dataTable) return;\n",
              "\n",
              "          const docLinkHtml = 'Like what you see? Visit the ' +\n",
              "            '<a target=\"_blank\" href=https://colab.research.google.com/notebooks/data_table.ipynb>data table notebook</a>'\n",
              "            + ' to learn more about interactive tables.';\n",
              "          element.innerHTML = '';\n",
              "          dataTable['output_type'] = 'display_data';\n",
              "          await google.colab.output.renderOutput(dataTable, element);\n",
              "          const docLink = document.createElement('div');\n",
              "          docLink.innerHTML = docLinkHtml;\n",
              "          element.appendChild(docLink);\n",
              "        }\n",
              "      </script>\n",
              "    </div>\n",
              "  </div>\n",
              "  "
            ]
          },
          "metadata": {},
          "execution_count": 264
        }
      ]
    },
    {
      "cell_type": "code",
      "source": [
        "by_age[25] # int타입이니, 문자열이 아닌 숫자 타입으로 주어야"
      ],
      "metadata": {
        "colab": {
          "base_uri": "https://localhost:8080/"
        },
        "id": "5p0qbY3KG7LU",
        "outputId": "8beabf7c-1b25-466a-89e0-f0965eff217a"
      },
      "execution_count": null,
      "outputs": [
        {
          "output_type": "execute_result",
          "data": {
            "text/plain": [
              "title\n",
              "$1,000,000 Duck (1971)                        3.090909\n",
              "'Night Mother (1986)                          3.423077\n",
              "'Til There Was You (1997)                     2.666667\n",
              "'burbs, The (1989)                            2.652174\n",
              "...And Justice for All (1979)                 3.724138\n",
              "                                                ...   \n",
              "Zed & Two Noughts, A (1985)                   3.375000\n",
              "Zero Effect (1998)                            3.715278\n",
              "Zero Kelvin (Kjærlighetens kjøtere) (1995)         NaN\n",
              "Zeus and Roxanne (1997)                       2.833333\n",
              "eXistenZ (1999)                               3.234973\n",
              "Name: 25, Length: 3706, dtype: float64"
            ]
          },
          "metadata": {},
          "execution_count": 266
        }
      ]
    },
    {
      "cell_type": "code",
      "source": [
        "by_age[25] > 4.0 # boolean indexing"
      ],
      "metadata": {
        "colab": {
          "base_uri": "https://localhost:8080/"
        },
        "id": "o4RjMH9fHIQH",
        "outputId": "208127be-28f4-44b2-fbee-3ead1db12532"
      },
      "execution_count": null,
      "outputs": [
        {
          "output_type": "execute_result",
          "data": {
            "text/plain": [
              "title\n",
              "$1,000,000 Duck (1971)                        False\n",
              "'Night Mother (1986)                          False\n",
              "'Til There Was You (1997)                     False\n",
              "'burbs, The (1989)                            False\n",
              "...And Justice for All (1979)                 False\n",
              "                                              ...  \n",
              "Zed & Two Noughts, A (1985)                   False\n",
              "Zero Effect (1998)                            False\n",
              "Zero Kelvin (Kjærlighetens kjøtere) (1995)    False\n",
              "Zeus and Roxanne (1997)                       False\n",
              "eXistenZ (1999)                               False\n",
              "Name: 25, Length: 3706, dtype: bool"
            ]
          },
          "metadata": {},
          "execution_count": 268
        }
      ]
    }
  ]
}