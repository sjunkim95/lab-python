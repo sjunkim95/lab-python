{
  "nbformat": 4,
  "nbformat_minor": 0,
  "metadata": {
    "colab": {
      "provenance": [],
      "authorship_tag": "ABX9TyPAHVm0OFJGoO5aBmTJ1vDB",
      "include_colab_link": true
    },
    "kernelspec": {
      "name": "python3",
      "display_name": "Python 3"
    },
    "language_info": {
      "name": "python"
    }
  },
  "cells": [
    {
      "cell_type": "markdown",
      "metadata": {
        "id": "view-in-github",
        "colab_type": "text"
      },
      "source": [
        "<a href=\"https://colab.research.google.com/github/sjunkim95/lab-python/blob/main/py01_intro.ipynb\" target=\"_parent\"><img src=\"https://colab.research.google.com/assets/colab-badge.svg\" alt=\"Open In Colab\"/></a>"
      ]
    },
    {
      "cell_type": "markdown",
      "source": [
        "# Python 버전 확인"
      ],
      "metadata": {
        "id": "lfIgHqgVaqOY"
      }
    },
    {
      "cell_type": "code",
      "execution_count": 1,
      "metadata": {
        "colab": {
          "base_uri": "https://localhost:8080/"
        },
        "id": "p0lDRqy2Z9xV",
        "outputId": "3e22db9a-d5c1-495a-9491-524a33aa8c78"
      },
      "outputs": [
        {
          "output_type": "stream",
          "name": "stdout",
          "text": [
            "Python 3.8.10\n"
          ]
        }
      ],
      "source": [
        "!python --version"
      ]
    },
    {
      "cell_type": "markdown",
      "source": [
        "코드셀에서 명령창(command prompt)에서 실행하는 문장을 작성하고 실행할 때는 !로 시작.\n",
        "\n"
      ],
      "metadata": {
        "id": "e8yyLTxyjL62"
      }
    },
    {
      "cell_type": "markdown",
      "source": [
        "#`print` 함수 "
      ],
      "metadata": {
        "id": "FW1OYqndjuQ0"
      }
    },
    {
      "cell_type": "code",
      "execution_count": 2,
      "metadata": {
        "colab": {
          "base_uri": "https://localhost:8080/"
        },
        "outputId": "91e9a2b9-ab41-49ff-a17a-7aaa5186c9bd",
        "id": "uzy2-6RSlE95"
      },
      "outputs": [
        {
          "output_type": "stream",
          "name": "stdout",
          "text": [
            "안녕, 파이썬!\n"
          ]
        }
      ],
      "source": [
        "print('안녕, 파이썬!')"
      ]
    },
    {
      "cell_type": "code",
      "source": [
        "print('hello', 'python', '안녕', '파이썬')"
      ],
      "metadata": {
        "colab": {
          "base_uri": "https://localhost:8080/"
        },
        "id": "4aB3gsAZPpBU",
        "outputId": "67d89652-f5c9-4ec3-c3ff-9d8e260eff91"
      },
      "execution_count": null,
      "outputs": [
        {
          "output_type": "stream",
          "name": "stdout",
          "text": [
            "hello python 안녕 파이썬\n"
          ]
        }
      ]
    },
    {
      "cell_type": "markdown",
      "source": [
        "`print()` 함수에 여러개의 argument를 전달하면, arugment들을 공백으로 연결해서 한 줄에 출력함."
      ],
      "metadata": {
        "id": "pVohW-nnPs6y"
      }
    },
    {
      "cell_type": "code",
      "execution_count": null,
      "metadata": {
        "colab": {
          "base_uri": "https://localhost:8080/"
        },
        "outputId": "18a210e5-4e9d-434f-86da-99845db5ab68",
        "id": "pEM2uVXHnQES"
      },
      "outputs": [
        {
          "output_type": "stream",
          "name": "stdout",
          "text": [
            "hello::python\n"
          ]
        }
      ],
      "source": [
        "print('hello', 'python', sep='::')"
      ]
    },
    {
      "cell_type": "markdown",
      "source": [
        "## `format()` 메서드를 사용한 출력"
      ],
      "metadata": {
        "id": "7lGKPmgwn7Ay"
      }
    },
    {
      "cell_type": "code",
      "execution_count": null,
      "metadata": {
        "colab": {
          "base_uri": "https://localhost:8080/"
        },
        "outputId": "50841e49-aa54-4fec-c6c1-96bb88b7ffd3",
        "id": "7myjDuINo9ZX"
      },
      "outputs": [
        {
          "output_type": "stream",
          "name": "stdout",
          "text": [
            "1 + 2 = 3\n"
          ]
        }
      ],
      "source": [
        "print('{} + {} = {}'.format(1, 2, 3))"
      ]
    },
    {
      "cell_type": "code",
      "execution_count": null,
      "metadata": {
        "colab": {
          "base_uri": "https://localhost:8080/"
        },
        "outputId": "bbb3ffcf-4a25-4e42-9aaa-29ceed77c89c",
        "id": "AnuWnjm-pGj8"
      },
      "outputs": [
        {
          "output_type": "stream",
          "name": "stdout",
          "text": [
            "1 + 2 = 3\n"
          ]
        }
      ],
      "source": [
        "print('{x} + {y} = {z}'.format(x=1, y=2, z=3))"
      ]
    },
    {
      "cell_type": "markdown",
      "source": [
        "## formatted string 사용한 출력\n",
        "\n",
        "Python 3.6이상 버전에서만 사용 가능."
      ],
      "metadata": {
        "id": "fjbAW57dpgKY"
      }
    },
    {
      "cell_type": "code",
      "source": [
        "a = 10\n",
        "b = 20"
      ],
      "metadata": {
        "id": "vvPPaFbep0iX"
      },
      "execution_count": null,
      "outputs": []
    },
    {
      "cell_type": "code",
      "source": [
        "print(f'{a} + {b} = {a + b}')"
      ],
      "metadata": {
        "colab": {
          "base_uri": "https://localhost:8080/"
        },
        "id": "PE_3h1UyqH9u",
        "outputId": "755a95cd-2f31-4769-96a2-334fd4b9aa09"
      },
      "execution_count": null,
      "outputs": [
        {
          "output_type": "stream",
          "name": "stdout",
          "text": [
            "10 + 20 = 30\n"
          ]
        }
      ]
    },
    {
      "cell_type": "markdown",
      "source": [
        "# 코드셀 실행 방법\n",
        "\n",
        "* 코드셀 왼쪽의 실행 버튼 클릭.\n",
        "* Ctrl + Enter: 현재 포커스가 있는 셀을 실행.\n",
        "* Shift + Enter: 현재 포커스가 있는 셀을 실행하고, 그 다음 셀로 이동.\n",
        "    * 현재 셀 아래에 다음 셀이 없는 경우에는 새로운 코드 셀을 생성.\n",
        "* 런타임 메뉴"
      ],
      "metadata": {
        "id": "x-l5qTyevCJ5"
      }
    }
  ]
}