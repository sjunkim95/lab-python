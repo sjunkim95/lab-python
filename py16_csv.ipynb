{
  "nbformat": 4,
  "nbformat_minor": 0,
  "metadata": {
    "colab": {
      "provenance": [],
      "mount_file_id": "1HWoYc-AqDRqrpdzmTo9AYSyz3YMC5lVt",
      "authorship_tag": "ABX9TyNzo7lENliGG/LeWKOzJ7FB",
      "include_colab_link": true
    },
    "kernelspec": {
      "name": "python3",
      "display_name": "Python 3"
    },
    "language_info": {
      "name": "python"
    }
  },
  "cells": [
    {
      "cell_type": "markdown",
      "metadata": {
        "id": "view-in-github",
        "colab_type": "text"
      },
      "source": [
        "<a href=\"https://colab.research.google.com/github/sjunkim95/lab-python/blob/main/py16_csv.ipynb\" target=\"_parent\"><img src=\"https://colab.research.google.com/assets/colab-badge.svg\" alt=\"Open In Colab\"/></a>"
      ]
    },
    {
      "cell_type": "markdown",
      "source": [
        "* Colab 연결.\n",
        "* Google Drive 마운트(연결).\n",
        "* csv_exam.csv 파일을 Google Drive의 lab_python 폴더에 업로드."
      ],
      "metadata": {
        "id": "ULvb7fEy_s7Y"
      }
    },
    {
      "cell_type": "markdown",
      "source": [
        "\n",
        "1. csv_exam.csv 파일을 읽기 모드로 오픈\n",
        "1. 파일의 첫번째 줄은 (컬럼 이름이기 때문에) 읽고 아무 동작 없이 건너뜀.\n",
        "1. 파일의 두번째 줄부터 마지막 줄까지 반복:\n",
        "    * 각 줄에서 읽은 내용을 쉼표(,)로 구분한 리스트들을 저장하는 리스트를 만듦.\n",
        "    ```\n",
        "    [['1', '1', '50', '98' , '50'], ['2', '1', '60', '97', '60'], ...]\n",
        "    ```\n",
        "1. 2차원 리스트의 모든 값들을 숫자로 변환.\n",
        "    ```\n",
        "    [[1, 1, 50, 98 , 50], [2, 1, 60, 97, 60], ...]\n",
        "    ```\n",
        "1. 2차원 리스트에서 수학 점수들로만 이루어진 1차원 리스트를 만듦.\n",
        "    ```\n",
        "    [50, 60, 45, ...]\n",
        "    ```\n",
        "1. 수학 점수의 평균, 최댓값, 최솟값을 찾음.\n",
        "1. 1반 학생들의 수학 점수의 총점, 평균, 최댓값, 최솟값 찾음.\n"
      ],
      "metadata": {
        "id": "w7bqto5d_wlA"
      }
    },
    {
      "cell_type": "code",
      "source": [
        "import os\n",
        "\n",
        "file = '/content/drive/MyDrive/Colab Notebooks/lab-python/csv_exam.csv' "
      ],
      "metadata": {
        "id": "sbUTrKZG_0Td"
      },
      "execution_count": null,
      "outputs": []
    },
    {
      "cell_type": "code",
      "source": [
        "exam = [] # CSV 파일의 데이터를 저장할 리스트"
      ],
      "metadata": {
        "id": "ZKDiEQ5kiFlZ"
      },
      "execution_count": null,
      "outputs": []
    },
    {
      "cell_type": "code",
      "source": [
        "with open(file) as f:\n",
        "    f.readline()  # 파일의 첫번째 줄은 컬럼 이름이므로 읽고 건너뜀.\n",
        "    for line in f:\n",
        "        # print(line.strip().split(sep=','))\n",
        "        exam.append(line.strip().split(sep=','))\n",
        "\n",
        "exam  # 1차원 리스트 20개를 저장하는 2차원 리스트"
      ],
      "metadata": {
        "colab": {
          "base_uri": "https://localhost:8080/"
        },
        "id": "D3lXkItEH_xL",
        "outputId": "176f500e-c552-40be-f493-557141b57533"
      },
      "execution_count": null,
      "outputs": [
        {
          "output_type": "execute_result",
          "data": {
            "text/plain": [
              "[['1', '1', '50', '98', '50'],\n",
              " ['2', '1', '60', '97', '60'],\n",
              " ['3', '1', '45', '86', '78'],\n",
              " ['4', '1', '30', '98', '58'],\n",
              " ['5', '2', '25', '80', '65'],\n",
              " ['6', '2', '50', '89', '98'],\n",
              " ['7', '2', '80', '90', '45'],\n",
              " ['8', '2', '90', '78', '25'],\n",
              " ['9', '3', '20', '98', '15'],\n",
              " ['10', '3', '50', '98', '45'],\n",
              " ['11', '3', '65', '65', '65'],\n",
              " ['12', '3', '45', '85', '32'],\n",
              " ['13', '4', '46', '98', '65'],\n",
              " ['14', '4', '48', '87', '12'],\n",
              " ['15', '4', '75', '56', '78'],\n",
              " ['16', '4', '58', '98', '65'],\n",
              " ['17', '5', '65', '68', '98'],\n",
              " ['18', '5', '80', '78', '90'],\n",
              " ['19', '5', '89', '68', '87'],\n",
              " ['20', '5', '78', '83', '58']]"
            ]
          },
          "metadata": {},
          "execution_count": 7
        }
      ]
    },
    {
      "cell_type": "code",
      "source": [
        "# List Comprehension\n",
        "with open(file) as f:\n",
        "    f.readline()  # 첫번째 줄은 읽고 건너뜀.\n",
        "    exam = [line.strip().split(sep=',') for line in f]"
      ],
      "metadata": {
        "id": "QVAMKphfFgo7"
      },
      "execution_count": null,
      "outputs": []
    },
    {
      "cell_type": "code",
      "source": [
        "exam"
      ],
      "metadata": {
        "colab": {
          "base_uri": "https://localhost:8080/"
        },
        "id": "KDxTYfsdjmh9",
        "outputId": "cee33001-1460-4ad3-a03c-e95aa3eae0b0"
      },
      "execution_count": null,
      "outputs": [
        {
          "output_type": "execute_result",
          "data": {
            "text/plain": [
              "[['1', '1', '50', '98', '50'],\n",
              " ['2', '1', '60', '97', '60'],\n",
              " ['3', '1', '45', '86', '78'],\n",
              " ['4', '1', '30', '98', '58'],\n",
              " ['5', '2', '25', '80', '65'],\n",
              " ['6', '2', '50', '89', '98'],\n",
              " ['7', '2', '80', '90', '45'],\n",
              " ['8', '2', '90', '78', '25'],\n",
              " ['9', '3', '20', '98', '15'],\n",
              " ['10', '3', '50', '98', '45'],\n",
              " ['11', '3', '65', '65', '65'],\n",
              " ['12', '3', '45', '85', '32'],\n",
              " ['13', '4', '46', '98', '65'],\n",
              " ['14', '4', '48', '87', '12'],\n",
              " ['15', '4', '75', '56', '78'],\n",
              " ['16', '4', '58', '98', '65'],\n",
              " ['17', '5', '65', '68', '98'],\n",
              " ['18', '5', '80', '78', '90'],\n",
              " ['19', '5', '89', '68', '87'],\n",
              " ['20', '5', '78', '83', '58']]"
            ]
          },
          "metadata": {},
          "execution_count": 9
        }
      ]
    },
    {
      "cell_type": "code",
      "source": [
        "exam2 = []  # exam의 문자열 데이터를 숫자로 변환한 값들을 저장할 리스트\n",
        "for row in exam:\n",
        "    row_num = []  # 숫자들을 저장할 1차원 리스트\n",
        "    for x in row:\n",
        "        row_num.append(int(x))  # 문자열을 int 타입으로 변환해서 리스트에 추가\n",
        "    exam2.append(row_num)  # 1차원 리스트를 2차원 리스트에 추가\n",
        "\n",
        "exam2"
      ],
      "metadata": {
        "colab": {
          "base_uri": "https://localhost:8080/"
        },
        "id": "xaFUXCK6kmJD",
        "outputId": "0b4d6df8-048a-406c-932c-7e76b9f1cb74"
      },
      "execution_count": null,
      "outputs": [
        {
          "output_type": "execute_result",
          "data": {
            "text/plain": [
              "[[1, 1, 50, 98, 50],\n",
              " [2, 1, 60, 97, 60],\n",
              " [3, 1, 45, 86, 78],\n",
              " [4, 1, 30, 98, 58],\n",
              " [5, 2, 25, 80, 65],\n",
              " [6, 2, 50, 89, 98],\n",
              " [7, 2, 80, 90, 45],\n",
              " [8, 2, 90, 78, 25],\n",
              " [9, 3, 20, 98, 15],\n",
              " [10, 3, 50, 98, 45],\n",
              " [11, 3, 65, 65, 65],\n",
              " [12, 3, 45, 85, 32],\n",
              " [13, 4, 46, 98, 65],\n",
              " [14, 4, 48, 87, 12],\n",
              " [15, 4, 75, 56, 78],\n",
              " [16, 4, 58, 98, 65],\n",
              " [17, 5, 65, 68, 98],\n",
              " [18, 5, 80, 78, 90],\n",
              " [19, 5, 89, 68, 87],\n",
              " [20, 5, 78, 83, 58]]"
            ]
          },
          "metadata": {},
          "execution_count": 11
        }
      ]
    },
    {
      "cell_type": "code",
      "source": [
        "exam2 = []\n",
        "for row in exam:\n",
        "    row_num = [int(x) for x in row]\n",
        "    exam2.append(row_num)\n",
        "\n",
        "exam2"
      ],
      "metadata": {
        "colab": {
          "base_uri": "https://localhost:8080/"
        },
        "id": "nJyaGPaQl_X6",
        "outputId": "c797f899-f574-43cb-b292-3c2ddf203940"
      },
      "execution_count": null,
      "outputs": [
        {
          "output_type": "execute_result",
          "data": {
            "text/plain": [
              "[[1, 1, 50, 98, 50],\n",
              " [2, 1, 60, 97, 60],\n",
              " [3, 1, 45, 86, 78],\n",
              " [4, 1, 30, 98, 58],\n",
              " [5, 2, 25, 80, 65],\n",
              " [6, 2, 50, 89, 98],\n",
              " [7, 2, 80, 90, 45],\n",
              " [8, 2, 90, 78, 25],\n",
              " [9, 3, 20, 98, 15],\n",
              " [10, 3, 50, 98, 45],\n",
              " [11, 3, 65, 65, 65],\n",
              " [12, 3, 45, 85, 32],\n",
              " [13, 4, 46, 98, 65],\n",
              " [14, 4, 48, 87, 12],\n",
              " [15, 4, 75, 56, 78],\n",
              " [16, 4, 58, 98, 65],\n",
              " [17, 5, 65, 68, 98],\n",
              " [18, 5, 80, 78, 90],\n",
              " [19, 5, 89, 68, 87],\n",
              " [20, 5, 78, 83, 58]]"
            ]
          },
          "metadata": {},
          "execution_count": 12
        }
      ]
    },
    {
      "cell_type": "code",
      "source": [
        "exam2 = [[int(x) for x in row] for row in  exam]\n",
        "exam2"
      ],
      "metadata": {
        "colab": {
          "base_uri": "https://localhost:8080/"
        },
        "id": "YrymnhvrnFDQ",
        "outputId": "8d440945-c4e0-44ab-b740-4e09290f18bf"
      },
      "execution_count": null,
      "outputs": [
        {
          "output_type": "execute_result",
          "data": {
            "text/plain": [
              "[[1, 1, 50, 98, 50],\n",
              " [2, 1, 60, 97, 60],\n",
              " [3, 1, 45, 86, 78],\n",
              " [4, 1, 30, 98, 58],\n",
              " [5, 2, 25, 80, 65],\n",
              " [6, 2, 50, 89, 98],\n",
              " [7, 2, 80, 90, 45],\n",
              " [8, 2, 90, 78, 25],\n",
              " [9, 3, 20, 98, 15],\n",
              " [10, 3, 50, 98, 45],\n",
              " [11, 3, 65, 65, 65],\n",
              " [12, 3, 45, 85, 32],\n",
              " [13, 4, 46, 98, 65],\n",
              " [14, 4, 48, 87, 12],\n",
              " [15, 4, 75, 56, 78],\n",
              " [16, 4, 58, 98, 65],\n",
              " [17, 5, 65, 68, 98],\n",
              " [18, 5, 80, 78, 90],\n",
              " [19, 5, 89, 68, 87],\n",
              " [20, 5, 78, 83, 58]]"
            ]
          },
          "metadata": {},
          "execution_count": 33
        }
      ]
    },
    {
      "cell_type": "code",
      "source": [
        "# 숫자로 바꾸는 예를 들면\n",
        "test = ['1', '2']\n",
        "for x in test:\n",
        "    x = int(x)\n",
        "test # 안 바뀐 이유, test의 원소를 바꾼게 아니고, 지역변수 x의 값을 바꾼것이다."
      ],
      "metadata": {
        "colab": {
          "base_uri": "https://localhost:8080/"
        },
        "id": "GHjBggsfnXwo",
        "outputId": "33172244-75b7-4be9-9e18-f5733abaeb68"
      },
      "execution_count": null,
      "outputs": [
        {
          "output_type": "execute_result",
          "data": {
            "text/plain": [
              "['1', '2']"
            ]
          },
          "metadata": {},
          "execution_count": 13
        }
      ]
    },
    {
      "cell_type": "code",
      "source": [
        "for i, x in enumerate(test):\n",
        "    test[i] = int(x)\n",
        "test"
      ],
      "metadata": {
        "colab": {
          "base_uri": "https://localhost:8080/"
        },
        "id": "tEao3pJtncqh",
        "outputId": "4262ff05-cba0-4576-a89a-d44ea25df581"
      },
      "execution_count": null,
      "outputs": [
        {
          "output_type": "execute_result",
          "data": {
            "text/plain": [
              "[1, 2]"
            ]
          },
          "metadata": {},
          "execution_count": 14
        }
      ]
    },
    {
      "cell_type": "code",
      "source": [
        "# math = []  # 수학 점수들만 저장할 (1차원) 리스트\n",
        "# for row in exam2:  # 2차원 리스트에서 1차원 리스트를 순서대로 반복하면서\n",
        "#     math.append(row[2])  # 수학점수(1차원 리스트의 인덱스 2번 원소)를 리스트에 추가.\n",
        "\n",
        "math = [row[2] for row in exam2]\n",
        "print(math)"
      ],
      "metadata": {
        "colab": {
          "base_uri": "https://localhost:8080/"
        },
        "id": "GY9pUYtnv1wM",
        "outputId": "fa93e1ee-a3a8-434d-86c4-042445088300"
      },
      "execution_count": null,
      "outputs": [
        {
          "output_type": "stream",
          "name": "stdout",
          "text": [
            "[50, 60, 45, 30, 25, 50, 80, 90, 20, 50, 65, 45, 46, 48, 75, 58, 65, 80, 89, 78]\n"
          ]
        }
      ]
    },
    {
      "cell_type": "code",
      "source": [
        "sum(math) / len(math)"
      ],
      "metadata": {
        "colab": {
          "base_uri": "https://localhost:8080/"
        },
        "id": "8AAbSwByv3PU",
        "outputId": "40047508-8d78-421d-bf11-54e346357803"
      },
      "execution_count": null,
      "outputs": [
        {
          "output_type": "execute_result",
          "data": {
            "text/plain": [
              "57.45"
            ]
          },
          "metadata": {},
          "execution_count": 16
        }
      ]
    },
    {
      "cell_type": "code",
      "source": [
        "max(math)"
      ],
      "metadata": {
        "colab": {
          "base_uri": "https://localhost:8080/"
        },
        "id": "tVQuvb-Av32f",
        "outputId": "e93fa4d7-6667-4524-9dea-56f4e8917297"
      },
      "execution_count": null,
      "outputs": [
        {
          "output_type": "execute_result",
          "data": {
            "text/plain": [
              "90"
            ]
          },
          "metadata": {},
          "execution_count": 17
        }
      ]
    },
    {
      "cell_type": "code",
      "source": [
        "min(math)"
      ],
      "metadata": {
        "colab": {
          "base_uri": "https://localhost:8080/"
        },
        "id": "fICNP7PBv5vl",
        "outputId": "b87b73ec-4c19-4245-96af-9eeb0dc0579c"
      },
      "execution_count": null,
      "outputs": [
        {
          "output_type": "execute_result",
          "data": {
            "text/plain": [
              "20"
            ]
          },
          "metadata": {},
          "execution_count": 18
        }
      ]
    },
    {
      "cell_type": "code",
      "source": [
        "math_class1 = math[:4]\n",
        "math_class1"
      ],
      "metadata": {
        "colab": {
          "base_uri": "https://localhost:8080/"
        },
        "id": "Xn6zxTyXv5x_",
        "outputId": "851e4f43-7598-4ccf-d621-dabf6cb0932f"
      },
      "execution_count": null,
      "outputs": [
        {
          "output_type": "execute_result",
          "data": {
            "text/plain": [
              "[50, 60, 45, 30]"
            ]
          },
          "metadata": {},
          "execution_count": 19
        }
      ]
    },
    {
      "cell_type": "code",
      "source": [
        "# math_class1 = []\n",
        "# for row in exam2:  # 2차원 리스트에서 순서대로 1차원 리스트를 반복하면서\n",
        "#     if row[1] == 1:  # class 값이 1이면\n",
        "#         math_class1.append(row[2])  # 수학 점수를 리스트에 추가\n",
        "\n",
        "math_class1 = [row[2] for row in exam2 if row[1] == 1]\n",
        "math_class1"
      ],
      "metadata": {
        "colab": {
          "base_uri": "https://localhost:8080/"
        },
        "id": "WG96Kfggv50V",
        "outputId": "bffc6bc9-ac79-42f0-dc8c-45e84a7e3418"
      },
      "execution_count": null,
      "outputs": [
        {
          "output_type": "execute_result",
          "data": {
            "text/plain": [
              "[50, 60, 45, 30]"
            ]
          },
          "metadata": {},
          "execution_count": 20
        }
      ]
    },
    {
      "cell_type": "code",
      "source": [
        "sum(math_class1) / len(math_class1)"
      ],
      "metadata": {
        "colab": {
          "base_uri": "https://localhost:8080/"
        },
        "id": "R_yxSl7pv8s7",
        "outputId": "a53c3f2e-f63f-4f24-a6c8-ec11b1945a0b"
      },
      "execution_count": null,
      "outputs": [
        {
          "output_type": "execute_result",
          "data": {
            "text/plain": [
              "46.25"
            ]
          },
          "metadata": {},
          "execution_count": 21
        }
      ]
    },
    {
      "cell_type": "code",
      "source": [
        "max(math_class1)"
      ],
      "metadata": {
        "colab": {
          "base_uri": "https://localhost:8080/"
        },
        "id": "njijsjj0v8vT",
        "outputId": "d4266991-5a7d-49a9-eb70-dd4a6b905f45"
      },
      "execution_count": null,
      "outputs": [
        {
          "output_type": "execute_result",
          "data": {
            "text/plain": [
              "60"
            ]
          },
          "metadata": {},
          "execution_count": 22
        }
      ]
    },
    {
      "cell_type": "code",
      "source": [
        "min(math_class1)"
      ],
      "metadata": {
        "id": "MHSZLvLEv-1b",
        "outputId": "80754a14-3de9-4d50-848d-c04fe21a501c",
        "colab": {
          "base_uri": "https://localhost:8080/"
        }
      },
      "execution_count": null,
      "outputs": [
        {
          "output_type": "execute_result",
          "data": {
            "text/plain": [
              "30"
            ]
          },
          "metadata": {},
          "execution_count": 23
        }
      ]
    }
  ]
}