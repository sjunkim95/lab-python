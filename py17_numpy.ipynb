{
  "nbformat": 4,
  "nbformat_minor": 0,
  "metadata": {
    "colab": {
      "provenance": [],
      "authorship_tag": "ABX9TyOWY3EzMg7RgtvReAbS700P",
      "include_colab_link": true
    },
    "kernelspec": {
      "name": "python3",
      "display_name": "Python 3"
    },
    "language_info": {
      "name": "python"
    }
  },
  "cells": [
    {
      "cell_type": "markdown",
      "metadata": {
        "id": "view-in-github",
        "colab_type": "text"
      },
      "source": [
        "<a href=\"https://colab.research.google.com/github/sjunkim95/lab-python/blob/main/py17_numpy.ipynb\" target=\"_parent\"><img src=\"https://colab.research.google.com/assets/colab-badge.svg\" alt=\"Open In Colab\"/></a>"
      ]
    },
    {
      "cell_type": "markdown",
      "source": [
        "# 데이터 분석 패키지\n",
        "\n",
        "* NumPy: 다차원 배열(n-dimensional array)을 다루는 패키지. 머신 러닝에서 중요하게 사용됨.\n",
        "* pandas: 시리즈(Series)와 데이터프레임(DataFrame)을 다루는 패키지. 데이터 분석에서 기본으로 사용하는 패키지.\n",
        "* matplotlib: 데이터 시각화(그래프).\n",
        "* seaborn: 데이터 시각화.\n",
        "\n",
        "Google Colab에는 데이터 분석과 머신 러닝에 필요한 대부분의 패키지들이 이미 설치되어 있음."
      ],
      "metadata": {
        "id": "xSb7zDuwTUWm"
      }
    },
    {
      "cell_type": "code",
      "execution_count": null,
      "metadata": {
        "id": "upgrfWRO7v2Y"
      },
      "outputs": [],
      "source": [
        "import numpy as np\n",
        "import pandas as pd\n",
        "import matplotlib\n",
        "import seaborn as sns"
      ]
    },
    {
      "cell_type": "code",
      "source": [
        "print('NumPy version:', np.__version__)\n",
        "print('pandas version:', pd.__version__)\n",
        "print('matplotlib version:', matplotlib.__version__)\n",
        "print('seaborn version:', sns.__version__)"
      ],
      "metadata": {
        "colab": {
          "base_uri": "https://localhost:8080/"
        },
        "id": "vw9UBszXTXG5",
        "outputId": "fd84e779-51d0-4429-9e06-92b98a99b817"
      },
      "execution_count": null,
      "outputs": [
        {
          "output_type": "stream",
          "name": "stdout",
          "text": [
            "NumPy version: 1.21.6\n",
            "pandas version: 1.3.5\n",
            "matplotlib version: 3.2.2\n",
            "seaborn version: 0.11.2\n"
          ]
        }
      ]
    },
    {
      "cell_type": "markdown",
      "source": [
        "# Python `list` class\n",
        "\n",
        "* 여러개의 값들을 저장할 수 있는 데이터 타입\n",
        "* 인덱스를 기반으로 값들을 저장, 참조.\n",
        "    * indexing: 인덱스로 원하는 위치의 값을 참조, 변경.\n",
        "    * slicing: `[start:end)` 인덱스 범위의 값들로 이루어진 부분집합(리스트)를 잘라냄.\n",
        "* `list + list`: extend. 2개의 리스트를 이어붙여서 하나의 리스트로 만듦.\n",
        "* `list * int, int * list`: 리스트의 원소들을 정수만큼 반복해서 복제.\n"
      ],
      "metadata": {
        "id": "YDvluw_wTZ41"
      }
    },
    {
      "cell_type": "code",
      "source": [
        "list1 = [1, 2, 3, 4, 5]\n",
        "list2 = [10, 20, 30, 40, 50]"
      ],
      "metadata": {
        "id": "xuowGxUFTcGL"
      },
      "execution_count": null,
      "outputs": []
    },
    {
      "cell_type": "code",
      "source": [
        "# indexing\n",
        "print(list1[0])\n",
        "print(list1[-1], list1[4])"
      ],
      "metadata": {
        "colab": {
          "base_uri": "https://localhost:8080/"
        },
        "id": "sg_4X1MHTcIu",
        "outputId": "f027e699-0c1b-4300-d8e7-59bb217aef2c"
      },
      "execution_count": null,
      "outputs": [
        {
          "output_type": "stream",
          "name": "stdout",
          "text": [
            "1\n",
            "5 5\n"
          ]
        }
      ]
    },
    {
      "cell_type": "code",
      "source": [
        "# slicing\n",
        "print(list1[:3])  # list1[0:3]\n",
        "print(list1[-3:], list1[2:], list1[2:5])"
      ],
      "metadata": {
        "colab": {
          "base_uri": "https://localhost:8080/"
        },
        "id": "TtfxblLvTcLK",
        "outputId": "e50094e1-e4d0-42a0-ace8-a021ddee0c46"
      },
      "execution_count": null,
      "outputs": [
        {
          "output_type": "stream",
          "name": "stdout",
          "text": [
            "[1, 2, 3]\n",
            "[3, 4, 5] [3, 4, 5] [3, 4, 5]\n"
          ]
        }
      ]
    },
    {
      "cell_type": "code",
      "source": [
        "list1 + list2"
      ],
      "metadata": {
        "colab": {
          "base_uri": "https://localhost:8080/"
        },
        "id": "iSUfNvOETcNj",
        "outputId": "546d1d68-9128-4051-eda2-9e8a2ba0fed0"
      },
      "execution_count": null,
      "outputs": [
        {
          "output_type": "execute_result",
          "data": {
            "text/plain": [
              "[1, 2, 3, 4, 5, 10, 20, 30, 40, 50]"
            ]
          },
          "metadata": {},
          "execution_count": 7
        }
      ]
    },
    {
      "cell_type": "code",
      "source": [
        "list1.extend(list2)"
      ],
      "metadata": {
        "id": "4wVxp_WhTfbo"
      },
      "execution_count": null,
      "outputs": []
    },
    {
      "cell_type": "code",
      "source": [
        "list1"
      ],
      "metadata": {
        "colab": {
          "base_uri": "https://localhost:8080/"
        },
        "id": "CRBohjkpTfeJ",
        "outputId": "a943e5da-3030-40c2-f887-8834b2851dca"
      },
      "execution_count": null,
      "outputs": [
        {
          "output_type": "execute_result",
          "data": {
            "text/plain": [
              "[1, 2, 3, 4, 5, 10, 20, 30, 40, 50]"
            ]
          },
          "metadata": {},
          "execution_count": 9
        }
      ]
    },
    {
      "cell_type": "code",
      "source": [
        "list2 * 2"
      ],
      "metadata": {
        "colab": {
          "base_uri": "https://localhost:8080/"
        },
        "id": "nKgDLnMmTfgs",
        "outputId": "e1c28204-291c-4c31-aa91-6728d999a256"
      },
      "execution_count": null,
      "outputs": [
        {
          "output_type": "execute_result",
          "data": {
            "text/plain": [
              "[10, 20, 30, 40, 50, 10, 20, 30, 40, 50]"
            ]
          },
          "metadata": {},
          "execution_count": 10
        }
      ]
    },
    {
      "cell_type": "code",
      "source": [
        "2 * list2"
      ],
      "metadata": {
        "colab": {
          "base_uri": "https://localhost:8080/"
        },
        "id": "gMMTfSl4TjXU",
        "outputId": "81b2ebf7-d27f-43ca-85c4-4332efd6246b"
      },
      "execution_count": null,
      "outputs": [
        {
          "output_type": "execute_result",
          "data": {
            "text/plain": [
              "[10, 20, 30, 40, 50, 10, 20, 30, 40, 50]"
            ]
          },
          "metadata": {},
          "execution_count": 11
        }
      ]
    },
    {
      "cell_type": "code",
      "source": [
        "list1 = [1, 2, 3]\n",
        "list2 = [4, 5, 7]\n",
        "\n",
        "# 같은 인덱스(위치)의 원소들끼리 덧셈\n",
        "[x + y for x, y in zip(list1, list2)]"
      ],
      "metadata": {
        "colab": {
          "base_uri": "https://localhost:8080/"
        },
        "id": "EcIzXQ-fTjZ0",
        "outputId": "a5f63887-6e02-43da-e4c2-06f70ca929d6"
      },
      "execution_count": null,
      "outputs": [
        {
          "output_type": "execute_result",
          "data": {
            "text/plain": [
              "[5, 7, 10]"
            ]
          },
          "metadata": {},
          "execution_count": 12
        }
      ]
    },
    {
      "cell_type": "markdown",
      "source": [
        "# NumPy\n",
        "\n",
        "* Numerical Python\n",
        "* 배열(`ndarray`)을 쉽고 빠르게 연산(`+, -, *, /, ...`)을 할 수 있는 라이브러리.\n",
        "* NumPy 패키지의 함수 또는 메서드들은 대부분 반복문의 기능을 가지고 있음.\n",
        "* `np.ndarray` 클래스: NumPy 패키지의 기본 타입 클래스. n차원 배열(n-dimensional array).\n",
        "    * `ndarray`는 같은 인덱스(위치)의 원소들끼리(element-wise) 연산을 수행.\n"
      ],
      "metadata": {
        "id": "riG1Hr1eTm3y"
      }
    },
    {
      "cell_type": "code",
      "source": [
        "array1 = np.array([1, 2, 3])"
      ],
      "metadata": {
        "id": "EauTcLijTjcW"
      },
      "execution_count": null,
      "outputs": []
    },
    {
      "cell_type": "code",
      "source": [
        "type(array1)"
      ],
      "metadata": {
        "colab": {
          "base_uri": "https://localhost:8080/"
        },
        "id": "VvNfK54FTpI0",
        "outputId": "85fd5f27-133f-4f5d-95a7-f57124e2c8f0"
      },
      "execution_count": null,
      "outputs": [
        {
          "output_type": "execute_result",
          "data": {
            "text/plain": [
              "numpy.ndarray"
            ]
          },
          "metadata": {},
          "execution_count": 14
        }
      ]
    },
    {
      "cell_type": "code",
      "source": [
        "print(array1)  # print 함수는 __str__ 메서드 이용"
      ],
      "metadata": {
        "colab": {
          "base_uri": "https://localhost:8080/"
        },
        "id": "OaJdquzpTpMW",
        "outputId": "d8bb4973-d6c4-4ab4-d0e5-1dda849366ae"
      },
      "execution_count": null,
      "outputs": [
        {
          "output_type": "stream",
          "name": "stdout",
          "text": [
            "[1 2 3]\n"
          ]
        }
      ]
    },
    {
      "cell_type": "code",
      "source": [
        "array1  # expression 출력은 __repr__ 메서드 이용"
      ],
      "metadata": {
        "colab": {
          "base_uri": "https://localhost:8080/"
        },
        "id": "nGSXzuNQTjel",
        "outputId": "25ff7986-8883-4618-b3d2-c066b26fbeda"
      },
      "execution_count": null,
      "outputs": [
        {
          "output_type": "execute_result",
          "data": {
            "text/plain": [
              "array([1, 2, 3])"
            ]
          },
          "metadata": {},
          "execution_count": 16
        }
      ]
    },
    {
      "cell_type": "code",
      "source": [
        "array2 = np.array([10, 20, 30])"
      ],
      "metadata": {
        "id": "3CJN7_QITtHe"
      },
      "execution_count": null,
      "outputs": []
    },
    {
      "cell_type": "code",
      "source": [
        "# ndarry의 사칙연산: element-wise 연산\n",
        "print(array1 + array2)\n",
        "print(array1 - array2)\n",
        "print(array1 * array2)\n",
        "print(array1 / array2)"
      ],
      "metadata": {
        "colab": {
          "base_uri": "https://localhost:8080/"
        },
        "id": "eAv8-iatTtKE",
        "outputId": "9f35a977-8181-4d95-dde6-1043f9be42a0"
      },
      "execution_count": null,
      "outputs": [
        {
          "output_type": "stream",
          "name": "stdout",
          "text": [
            "[11 22 33]\n",
            "[ -9 -18 -27]\n",
            "[10 40 90]\n",
            "[0.1 0.1 0.1]\n"
          ]
        }
      ]
    },
    {
      "cell_type": "markdown",
      "source": [
        "## `ndarray` 속성들"
      ],
      "metadata": {
        "id": "_X8Wd55tUqDO"
      }
    },
    {
      "cell_type": "code",
      "source": [
        "print(array1) #ndarray\n",
        "print('', array1.all)\n",
        "print('ndim: ', array1.ndim) # 차원(dimension) -> 1 차원 배열인것\n",
        "print('size: ', array1.size) # 크기(원소의 개수)\n",
        "print('shape: ', array1.shape) # 모양(각 차원에서의 원소 개수, 각 축을 따라서 있는 원소의 개수)) -> tupe로 리턴됨.    \n",
        "print('dtype: ', array1.dtype) # 데이터 타입 - ndarray는 한가지 타입의 값들만 저장."
      ],
      "metadata": {
        "colab": {
          "base_uri": "https://localhost:8080/"
        },
        "id": "nUUHcBfgUtgu",
        "outputId": "d62c6d26-eca3-4b21-9b39-9183411541f6"
      },
      "execution_count": null,
      "outputs": [
        {
          "output_type": "stream",
          "name": "stdout",
          "text": [
            "[1 2 3]\n",
            " <built-in method all of numpy.ndarray object at 0x7fd4ef98bc90>\n",
            "ndim:  1\n",
            "size:  3\n",
            "shape:  (3,)\n",
            "dtype:  int64\n"
          ]
        }
      ]
    },
    {
      "cell_type": "markdown",
      "source": [
        "* Python 숫자 타입: 정수(int), 실수(float)\n",
        "* np 숫자 타입:\n",
        "    * 정수(int8, int16, int32, int64, ...)\n",
        "    * 실수(float16, float32, float64, ...)"
      ],
      "metadata": {
        "id": "18K6zT3dXVg8"
      }
    },
    {
      "cell_type": "markdown",
      "source": [
        "## 2차원 `ndarray`"
      ],
      "metadata": {
        "id": "En5KjpNJYHj6"
      }
    },
    {
      "cell_type": "code",
      "source": [
        "array_2d = np.array([[1, 2, 3, 4], \n",
        "                     [5, 6, 7, 8], \n",
        "                     [9, 10, 11, 12] \n",
        "                     ])"
      ],
      "metadata": {
        "id": "HKGuPQIfYPEe"
      },
      "execution_count": null,
      "outputs": []
    },
    {
      "cell_type": "code",
      "source": [
        "print(array_2d) "
      ],
      "metadata": {
        "colab": {
          "base_uri": "https://localhost:8080/"
        },
        "id": "wvQCMRW3Yl5p",
        "outputId": "d75e64f2-60d1-4da6-a714-49ff2bb425e3"
      },
      "execution_count": null,
      "outputs": [
        {
          "output_type": "stream",
          "name": "stdout",
          "text": [
            "[[ 1  2  3  4]\n",
            " [ 5  6  7  8]\n",
            " [ 9 10 11 12]]\n"
          ]
        }
      ]
    },
    {
      "cell_type": "code",
      "source": [
        "print('', array_2d.all)\n",
        "print('ndim: ', array_2d.ndim) # 차원(dimension) -> 2 차원 배열인것\n",
        "print('size: ', array_2d.size) # 크기(원소의 개수)\n",
        "print('shape: ', array_2d.shape) # 모양(각 차원에서의 원소 개수, 각 축을 따라서 있는 원소의 개수) \n",
        "print('dtype: ', array_2d.dtype) # 데이터 타입 - ndarray는 한가지 타입의 값들만 저장."
      ],
      "metadata": {
        "colab": {
          "base_uri": "https://localhost:8080/"
        },
        "id": "FNeXBHD1ZJ1w",
        "outputId": "06386e22-abc2-4be4-f3e8-8a05cda263b1"
      },
      "execution_count": null,
      "outputs": [
        {
          "output_type": "stream",
          "name": "stdout",
          "text": [
            " <built-in method all of numpy.ndarray object at 0x7fd4dd171ed0>\n",
            "ndim:  2\n",
            "size:  12\n",
            "shape:  (3, 4)\n",
            "dtype:  int64\n"
          ]
        }
      ]
    },
    {
      "cell_type": "markdown",
      "source": [
        "## `ndarray` 객체 생성 함수"
      ],
      "metadata": {
        "id": "IIYWZ6GbbXBK"
      }
    },
    {
      "cell_type": "markdown",
      "source": [
        "`np.array(object, dtype=None, ...)`\n",
        "    * `object`: 배열과 비슷한 객체들(list, tuple, set,dict, ndarray, ...). ndarray를 생성하기 위한 데이터."
      ],
      "metadata": {
        "id": "sbU43Pqfd4Jl"
      }
    },
    {
      "cell_type": "code",
      "source": [
        "# 0 이상 10 이하(11 미만)의 짝수들로 이루어진 ndarray\n",
        "evens = np.array([2 * x for x in range(6)]) # list -> ndarray\n",
        "print(evens)"
      ],
      "metadata": {
        "colab": {
          "base_uri": "https://localhost:8080/"
        },
        "id": "AYLJip-ZeI5Q",
        "outputId": "92252f4d-3455-478b-e424-943abbec53d9"
      },
      "execution_count": null,
      "outputs": [
        {
          "output_type": "stream",
          "name": "stdout",
          "text": [
            "[ 0  2  4  6  8 10]\n"
          ]
        }
      ]
    },
    {
      "cell_type": "markdown",
      "source": [
        "`np.arrage(start, end, step)`\n",
        "\n",
        "* `range(start, end, step)` 함수 사용법과 같음.\n",
        "* 1차원 배열을 생성."
      ],
      "metadata": {
        "id": "O0aDHchgiFnO"
      }
    },
    {
      "cell_type": "code",
      "source": [
        "evens = np.arange(0, 11, 2)\n",
        "print(evens)"
      ],
      "metadata": {
        "colab": {
          "base_uri": "https://localhost:8080/"
        },
        "id": "dK-Uf3ysivmb",
        "outputId": "1c76a14e-f7ca-478f-f31d-43f9955690a4"
      },
      "execution_count": null,
      "outputs": [
        {
          "output_type": "stream",
          "name": "stdout",
          "text": [
            "[ 0  2  4  6  8 10]\n"
          ]
        }
      ]
    },
    {
      "cell_type": "markdown",
      "source": [
        "`np.reshape(array, shape)` 함수\n",
        "\n",
        "`np.ndarray.reshape(shape)` 메서드"
      ],
      "metadata": {
        "id": "CIF-dlbpi9Nf"
      }
    },
    {
      "cell_type": "code",
      "source": [
        "arr = np.arange(12) # [0, 12) 범위의 정수들로 이루어진 1차원 배열\n",
        "print(arr)"
      ],
      "metadata": {
        "colab": {
          "base_uri": "https://localhost:8080/"
        },
        "id": "F1SNO9xukF9Q",
        "outputId": "ecccf810-707e-4701-cc6d-797db7ad54fd"
      },
      "execution_count": null,
      "outputs": [
        {
          "output_type": "stream",
          "name": "stdout",
          "text": [
            "[ 0  1  2  3  4  5  6  7  8  9 10 11]\n"
          ]
        }
      ]
    },
    {
      "cell_type": "code",
      "source": [
        "arr2 = np.reshape(arr, (3,4)) # 함수 호출: (12,) -> (3, 4) 모양 변환.\n",
        "print(arr2)"
      ],
      "metadata": {
        "colab": {
          "base_uri": "https://localhost:8080/"
        },
        "id": "M6XpCI_zkTka",
        "outputId": "788100e2-4e14-45ed-a30d-90bcc4181cfe"
      },
      "execution_count": null,
      "outputs": [
        {
          "output_type": "stream",
          "name": "stdout",
          "text": [
            "[[ 0  1  2  3]\n",
            " [ 4  5  6  7]\n",
            " [ 8  9 10 11]]\n"
          ]
        }
      ]
    },
    {
      "cell_type": "code",
      "source": [
        "arr.reshape((3,4)) # 메서드 호출"
      ],
      "metadata": {
        "colab": {
          "base_uri": "https://localhost:8080/"
        },
        "id": "ofYX0u80lGpR",
        "outputId": "65b32b2c-e603-4221-abb1-7a8887373baf"
      },
      "execution_count": null,
      "outputs": [
        {
          "output_type": "execute_result",
          "data": {
            "text/plain": [
              "array([[ 0,  1,  2,  3],\n",
              "       [ 4,  5,  6,  7],\n",
              "       [ 8,  9, 10, 11]])"
            ]
          },
          "metadata": {},
          "execution_count": 45
        }
      ]
    },
    {
      "cell_type": "code",
      "source": [
        "np.arange(12).reshape((3,4)) # 메서드 호출"
      ],
      "metadata": {
        "colab": {
          "base_uri": "https://localhost:8080/"
        },
        "id": "riEPVSQAmCzO",
        "outputId": "4544e0c5-f692-43ea-da99-50a25056abac"
      },
      "execution_count": null,
      "outputs": [
        {
          "output_type": "execute_result",
          "data": {
            "text/plain": [
              "array([[ 0,  1,  2,  3],\n",
              "       [ 4,  5,  6,  7],\n",
              "       [ 8,  9, 10, 11]])"
            ]
          },
          "metadata": {},
          "execution_count": 46
        }
      ]
    },
    {
      "cell_type": "markdown",
      "source": [
        "`np.random.rand(d0, d1, d2, ...)` 함수\n",
        "\n",
        "* `[0, 1)` 범위의 균등분포를 따르는 난수들로 이루어진 ndarray를 만듦.\n",
        "* `d0, d1, d2, ...`: ndarray에서 각 차원의(각 축을 따라서 있는) 원소들의 개수."
      ],
      "metadata": {
        "id": "om3xZBbPmj_X"
      }
    },
    {
      "cell_type": "code",
      "source": [
        "np.random.rand(5)"
      ],
      "metadata": {
        "colab": {
          "base_uri": "https://localhost:8080/"
        },
        "id": "oRU1joPjm6E_",
        "outputId": "dcef70f6-b2ed-4e8d-9011-95b881ef9fc5"
      },
      "execution_count": null,
      "outputs": [
        {
          "output_type": "execute_result",
          "data": {
            "text/plain": [
              "array([0.3262875 , 0.12262849, 0.92399557, 0.08348739, 0.50127715])"
            ]
          },
          "metadata": {},
          "execution_count": 47
        }
      ]
    },
    {
      "cell_type": "code",
      "source": [
        "np.random.rand(4, 3)"
      ],
      "metadata": {
        "colab": {
          "base_uri": "https://localhost:8080/"
        },
        "id": "G67h82genSkI",
        "outputId": "4c884236-693f-4e4b-d24c-28f72498a778"
      },
      "execution_count": null,
      "outputs": [
        {
          "output_type": "execute_result",
          "data": {
            "text/plain": [
              "array([[0.24384853, 0.69754637, 0.31797966],\n",
              "       [0.72189643, 0.37748644, 0.04409445],\n",
              "       [0.99441642, 0.1733401 , 0.55459354],\n",
              "       [0.18783727, 0.11292965, 0.83854928]])"
            ]
          },
          "metadata": {},
          "execution_count": 48
        }
      ]
    },
    {
      "cell_type": "markdown",
      "source": [
        "`np.random.randn(d0, d1, d2, ...)` 함수\n",
        "\n",
        "* 평균이 0이고 표준편차가 1인 표준정규분포(standard normal distribution)를 따르는 난수들의 배열을 만듦.\n",
        "* `d0, d1, d2, ...`: ndarray의 각 축을 따라서 있는 원소들의 개수"
      ],
      "metadata": {
        "id": "W2HPGQNPntnt"
      }
    },
    {
      "cell_type": "code",
      "source": [
        "np.random.randn(5)"
      ],
      "metadata": {
        "colab": {
          "base_uri": "https://localhost:8080/"
        },
        "id": "m3HtM9MWoQ9Q",
        "outputId": "06b4a705-d09d-41f6-fbe0-b162f0f81c64"
      },
      "execution_count": null,
      "outputs": [
        {
          "output_type": "execute_result",
          "data": {
            "text/plain": [
              "array([-1.00658338, -0.2463635 , -0.50085054,  0.35011309, -0.52334294])"
            ]
          },
          "metadata": {},
          "execution_count": 49
        }
      ]
    },
    {
      "cell_type": "code",
      "source": [
        "np.random.randn(3, 4)"
      ],
      "metadata": {
        "colab": {
          "base_uri": "https://localhost:8080/"
        },
        "id": "N1yOgAGIot00",
        "outputId": "2c5eb1d2-5191-4c65-beac-3d154129ee9f"
      },
      "execution_count": null,
      "outputs": [
        {
          "output_type": "execute_result",
          "data": {
            "text/plain": [
              "array([[ 0.51815169, -1.4000472 ,  2.19361418, -2.21060258],\n",
              "       [-0.58727862,  0.61226277,  0.23510633, -0.73758113],\n",
              "       [-0.1775869 , -1.24746213, -0.8557685 ,  0.00749332]])"
            ]
          },
          "metadata": {},
          "execution_count": 50
        }
      ]
    },
    {
      "cell_type": "markdown",
      "source": [
        "`np.random.randint(low, high, size, dtype)` 함수\n",
        "\n",
        "* `[low, high)` 범위의 균등분포를 따르는 정수 난수들의 배열 만듦.\n",
        "* `size`: ndarray의 *모양(shape)*. 정수 또는 정수들의 tuple.\n",
        "* `dtype`: ndarray 원소의 데이터 타입."
      ],
      "metadata": {
        "id": "fcRjoQhSpUFn"
      }
    },
    {
      "cell_type": "code",
      "source": [
        "np.random.randint(0, 10, size=5)"
      ],
      "metadata": {
        "colab": {
          "base_uri": "https://localhost:8080/"
        },
        "id": "rkS4reuLp4vk",
        "outputId": "ec645b6c-7f7c-4347-a866-9e2e6e0cc1cd"
      },
      "execution_count": null,
      "outputs": [
        {
          "output_type": "execute_result",
          "data": {
            "text/plain": [
              "array([1, 5, 0, 4, 4])"
            ]
          },
          "metadata": {},
          "execution_count": 53
        }
      ]
    },
    {
      "cell_type": "code",
      "source": [
        "np.random.randint(0, 10, size=(4, 3))"
      ],
      "metadata": {
        "colab": {
          "base_uri": "https://localhost:8080/"
        },
        "id": "QA2gq6mOqCQd",
        "outputId": "9ac0004b-3295-449e-bf54-516b28ff8a1b"
      },
      "execution_count": null,
      "outputs": [
        {
          "output_type": "execute_result",
          "data": {
            "text/plain": [
              "array([[3, 2, 1],\n",
              "       [5, 6, 3],\n",
              "       [9, 4, 1],\n",
              "       [5, 3, 6]])"
            ]
          },
          "metadata": {},
          "execution_count": 54
        }
      ]
    },
    {
      "cell_type": "markdown",
      "source": [
        "# `ndarray`를 사용한 수학 그래프"
      ],
      "metadata": {
        "id": "knadRMPeqaYM"
      }
    },
    {
      "cell_type": "code",
      "source": [
        "x = np.arange(-2, 3)\n",
        "print(x)"
      ],
      "metadata": {
        "colab": {
          "base_uri": "https://localhost:8080/"
        },
        "id": "mwlwN5Onqcof",
        "outputId": "3ce2d606-31af-4c5c-9169-e046c34732bd"
      },
      "execution_count": null,
      "outputs": [
        {
          "output_type": "stream",
          "name": "stdout",
          "text": [
            "[-2 -1  0  1  2]\n"
          ]
        }
      ]
    },
    {
      "cell_type": "code",
      "source": [
        "y = x ** 2\n",
        "print(y)"
      ],
      "metadata": {
        "colab": {
          "base_uri": "https://localhost:8080/"
        },
        "id": "kx7p3ICkrMpR",
        "outputId": "1a9b60cc-5390-42cd-c9cb-a7e2ef1b2be8"
      },
      "execution_count": null,
      "outputs": [
        {
          "output_type": "stream",
          "name": "stdout",
          "text": [
            "[4 1 0 1 4]\n"
          ]
        }
      ]
    },
    {
      "cell_type": "code",
      "source": [
        "import matplotlib.pyplot as plt # matplotlib.pyplot 모듈을 plt 이름으로 임포트"
      ],
      "metadata": {
        "id": "rv_Lp-70robo"
      },
      "execution_count": null,
      "outputs": []
    },
    {
      "cell_type": "code",
      "source": [
        "plt.plot(x, y)\n",
        "plt.grid()\n",
        "plt.show()"
      ],
      "metadata": {
        "colab": {
          "base_uri": "https://localhost:8080/",
          "height": 265
        },
        "id": "oao5oXl7rwoe",
        "outputId": "e126b40e-692c-430b-b663-737d370b8770"
      },
      "execution_count": null,
      "outputs": [
        {
          "output_type": "display_data",
          "data": {
            "text/plain": [
              "<Figure size 432x288 with 1 Axes>"
            ],
            "image/png": "[encoded data removed]"
          },
          "metadata": {
            "needs_background": "light"
          }
        }
      ]
    },
    {
      "cell_type": "code",
      "source": [
        "x = np.arange(-2, 2, 0.0001)\n",
        "print(x)\n",
        "y = x ** 2\n",
        "print(y)"
      ],
      "metadata": {
        "colab": {
          "base_uri": "https://localhost:8080/"
        },
        "id": "v7yqNA3UshS9",
        "outputId": "9dc9f0ee-f0a2-41b1-e452-2fd9ad228ae0"
      },
      "execution_count": null,
      "outputs": [
        {
          "output_type": "stream",
          "name": "stdout",
          "text": [
            "[-2.     -1.9999 -1.9998 ...  1.9997  1.9998  1.9999]\n",
            "[4.         3.99960001 3.99920004 ... 3.99880009 3.99920004 3.99960001]\n"
          ]
        }
      ]
    },
    {
      "cell_type": "code",
      "source": [
        "plt.plot(x, y)\n",
        "plt.grid()\n",
        "plt.show()"
      ],
      "metadata": {
        "colab": {
          "base_uri": "https://localhost:8080/",
          "height": 265
        },
        "id": "NcZIIGYKsx-8",
        "outputId": "92284d57-59bf-45be-c8ca-dbd73552003c"
      },
      "execution_count": null,
      "outputs": [
        {
          "output_type": "display_data",
          "data": {
            "text/plain": [
              "<Figure size 432x288 with 1 Axes>"
            ],
            "image/png": "[encoded data removed]"
          },
          "metadata": {
            "needs_background": "light"
          }
        }
      ]
    },
    {
      "cell_type": "markdown",
      "source": [
        "# `ndarray` 인덱스"
      ],
      "metadata": {
        "id": "bMGgJiqtyEGT"
      }
    },
    {
      "cell_type": "markdown",
      "source": [
        "## indexing, slicing"
      ],
      "metadata": {
        "id": "aJUBUXM07tqO"
      }
    },
    {
      "cell_type": "code",
      "source": [
        "arr = np.arange(10)\n",
        "print(arr)"
      ],
      "metadata": {
        "colab": {
          "base_uri": "https://localhost:8080/"
        },
        "id": "anX5MzScydhO",
        "outputId": "4f98e04e-0891-4507-fee8-3dfffdda820e"
      },
      "execution_count": null,
      "outputs": [
        {
          "output_type": "stream",
          "name": "stdout",
          "text": [
            "[0 1 2 3 4 5 6 7 8 9]\n"
          ]
        }
      ]
    },
    {
      "cell_type": "code",
      "source": [
        "# indexing\n",
        "print(arr[0])  # 배열의 첫번째 원소\n",
        "print(arr[9])  # 배열의 마지막 원소\n",
        "print(arr[-1])  # ndarray도 list와 마찬가지로 음수 인덱스를 사용할 수 있음."
      ],
      "metadata": {
        "colab": {
          "base_uri": "https://localhost:8080/"
        },
        "id": "B0EGksKVygnC",
        "outputId": "3ca7c02a-4ad5-446b-aa9c-e1fa25726036"
      },
      "execution_count": null,
      "outputs": [
        {
          "output_type": "stream",
          "name": "stdout",
          "text": [
            "0\n",
            "9\n",
            "9\n"
          ]
        }
      ]
    },
    {
      "cell_type": "code",
      "source": [
        "# slicing\n",
        "print(arr[0:3])  # 배열에서 첫 3개의 원소를 잘라냄.\n",
        "print(arr[:3])  # 시작 인덱스를 생략하면 0부터 잘라냄.\n",
        "print(arr[-3:])  # 종료 인덱스를 생략하면 마지막 원소까지 잘라냄."
      ],
      "metadata": {
        "colab": {
          "base_uri": "https://localhost:8080/"
        },
        "id": "BOyyueljy6GF",
        "outputId": "d921aee7-3aa7-412f-a901-66426dbab199"
      },
      "execution_count": null,
      "outputs": [
        {
          "output_type": "stream",
          "name": "stdout",
          "text": [
            "[0 1 2]\n",
            "[0 1 2]\n",
            "[7 8 9]\n"
          ]
        }
      ]
    },
    {
      "cell_type": "code",
      "source": [
        "# ndarray를 slicing한 결과는 ndarray.\n",
        "print(arr[:1])  # slicing -> ndarray\n",
        "print(arr[0])  # indexing -> 원소 1개"
      ],
      "metadata": {
        "colab": {
          "base_uri": "https://localhost:8080/"
        },
        "id": "B9BBm25gzZAF",
        "outputId": "54721216-c3ad-425f-eabe-962f3405a3ab"
      },
      "execution_count": null,
      "outputs": [
        {
          "output_type": "stream",
          "name": "stdout",
          "text": [
            "[0]\n",
            "0\n"
          ]
        }
      ]
    },
    {
      "cell_type": "markdown",
      "source": [
        "## fancy indexing\n",
        "\n",
        "* 배열과 비슷한 객체(ndarray, list, tuple, set, ...)를 사용해서 원하는 원소들을 참조(indexing)하는 방법.\n",
        "* fancy indexing의 결과는 ndarray."
      ],
      "metadata": {
        "id": "AXA2cCouz4Mk"
      }
    },
    {
      "cell_type": "code",
      "source": [
        "np.random.seed(1) # 난수 만드는 순서를 고정.\n",
        "arr = np.random.randint(100, size=10) # 100 미만의 정수 난수 10개\n",
        "print(arr) # 값은 계속 똑같다"
      ],
      "metadata": {
        "colab": {
          "base_uri": "https://localhost:8080/"
        },
        "id": "3rQZHZqU0X3A",
        "outputId": "7c1b64b3-5b52-4d47-a89b-33e661382bba"
      },
      "execution_count": null,
      "outputs": [
        {
          "output_type": "stream",
          "name": "stdout",
          "text": [
            "[37 12 72  9 75  5 79 64 16  1]\n"
          ]
        }
      ]
    },
    {
      "cell_type": "code",
      "source": [
        "arr[[0, 2, 4, 9]]  # ndarry[인덱스들의 배열(리스트)]"
      ],
      "metadata": {
        "colab": {
          "base_uri": "https://localhost:8080/"
        },
        "id": "lfX6yYE71GCL",
        "outputId": "b44f153b-d004-427d-e4ee-4dae499fd450"
      },
      "execution_count": null,
      "outputs": [
        {
          "output_type": "execute_result",
          "data": {
            "text/plain": [
              "array([37, 72, 75,  1])"
            ]
          },
          "metadata": {},
          "execution_count": 77
        }
      ]
    },
    {
      "cell_type": "code",
      "source": [
        "arr[[0]]  # fancy indexing -> ndarray"
      ],
      "metadata": {
        "colab": {
          "base_uri": "https://localhost:8080/"
        },
        "id": "L3fKEgua77te",
        "outputId": "0b78f633-8188-44d0-8809-5d59950aa379"
      },
      "execution_count": null,
      "outputs": [
        {
          "output_type": "execute_result",
          "data": {
            "text/plain": [
              "array([37])"
            ]
          },
          "metadata": {},
          "execution_count": 78
        }
      ]
    },
    {
      "cell_type": "markdown",
      "source": [
        "## boolean indexing\n",
        "\n",
        "* 논릿값(True/False)들의 배열(리스트, 튜플, ...)를 사용한 fancy indexing\n",
        "* 배열에서 조건을 만족하는 원소들로 이루어진 부분집합(ndarray)를 만듦.\n"
      ],
      "metadata": {
        "id": "7OJXFdi17_k4"
      }
    },
    {
      "cell_type": "code",
      "source": [
        "print(arr)"
      ],
      "metadata": {
        "colab": {
          "base_uri": "https://localhost:8080/"
        },
        "id": "6ClCsWJE8BS1",
        "outputId": "6bfc9685-cca5-411c-fdf6-143038a5d7fd"
      },
      "execution_count": null,
      "outputs": [
        {
          "output_type": "stream",
          "name": "stdout",
          "text": [
            "[37 12 72  9 75  5 79 64 16  1]\n"
          ]
        }
      ]
    },
    {
      "cell_type": "code",
      "source": [
        "indices = [True, False, False, True, True, True, True, False, False, True]  # bool들의 리스트"
      ],
      "metadata": {
        "id": "zJ0su_z58BVp"
      },
      "execution_count": null,
      "outputs": []
    },
    {
      "cell_type": "code",
      "source": [
        "arr[indices]"
      ],
      "metadata": {
        "colab": {
          "base_uri": "https://localhost:8080/"
        },
        "id": "x6dGgS6S8BYr",
        "outputId": "36c2519e-8f6d-4a5a-b8c2-2bd11e6bfb5c"
      },
      "execution_count": null,
      "outputs": [
        {
          "output_type": "execute_result",
          "data": {
            "text/plain": [
              "array([37,  9, 75,  5, 79,  1])"
            ]
          },
          "metadata": {},
          "execution_count": 81
        }
      ]
    },
    {
      "cell_type": "code",
      "source": [
        "# ndarry의 element-wise\n",
        "arr % 2 == 1"
      ],
      "metadata": {
        "colab": {
          "base_uri": "https://localhost:8080/"
        },
        "id": "HwZFWsF18Ba0",
        "outputId": "6e44e89f-48d2-4d20-86b6-13e4320d6c3a"
      },
      "execution_count": null,
      "outputs": [
        {
          "output_type": "execute_result",
          "data": {
            "text/plain": [
              "array([ True, False, False,  True,  True,  True,  True, False, False,\n",
              "        True])"
            ]
          },
          "metadata": {},
          "execution_count": 82
        }
      ]
    },
    {
      "cell_type": "code",
      "source": [
        "arr[arr % 2 == 1]  # 조건을 만족하는 원소들로 이루어진 부분집합(ndarray)"
      ],
      "metadata": {
        "colab": {
          "base_uri": "https://localhost:8080/"
        },
        "id": "LcNXGU398Iem",
        "outputId": "40f04cbc-a519-4503-fa7c-7ba0f03d2e31"
      },
      "execution_count": null,
      "outputs": [
        {
          "output_type": "execute_result",
          "data": {
            "text/plain": [
              "array([37,  9, 75,  5, 79,  1])"
            ]
          },
          "metadata": {},
          "execution_count": 83
        }
      ]
    },
    {
      "cell_type": "markdown",
      "source": [
        "## 2차원 `ndarray`의 인덱스"
      ],
      "metadata": {
        "id": "MBq29xNO8Knx"
      }
    },
    {
      "cell_type": "markdown",
      "source": [
        "### 2차원 `list`의 인덱스 사용 방법 : `list[i][j]`"
      ],
      "metadata": {
        "id": "8qiUsD9R8OMD"
      }
    },
    {
      "cell_type": "code",
      "source": [
        "list_2d = [\n",
        "    [1, 2, 3, 4],\n",
        "    [5, 6, 7, 8],\n",
        "    [9, 10, 11, 12]\n",
        "]"
      ],
      "metadata": {
        "id": "phH1z2318Pqv"
      },
      "execution_count": null,
      "outputs": []
    },
    {
      "cell_type": "code",
      "source": [
        "list_2d[0]"
      ],
      "metadata": {
        "colab": {
          "base_uri": "https://localhost:8080/"
        },
        "id": "XIYG3ffL8UQz",
        "outputId": "a96196a0-ae09-49a1-b513-1afdbeee591a"
      },
      "execution_count": null,
      "outputs": [
        {
          "output_type": "execute_result",
          "data": {
            "text/plain": [
              "[1, 2, 3, 4]"
            ]
          },
          "metadata": {},
          "execution_count": 85
        }
      ]
    },
    {
      "cell_type": "code",
      "source": [
        "list_2d[0][0]"
      ],
      "metadata": {
        "colab": {
          "base_uri": "https://localhost:8080/"
        },
        "id": "LQK9QHQn8Wcp",
        "outputId": "702c9626-41fa-47d8-8a3f-e5de010e0057"
      },
      "execution_count": null,
      "outputs": [
        {
          "output_type": "execute_result",
          "data": {
            "text/plain": [
              "1"
            ]
          },
          "metadata": {},
          "execution_count": 86
        }
      ]
    },
    {
      "cell_type": "markdown",
      "source": [
        "### 2차원 `ndarray`의 인덱스 사용 방법:\n",
        "\n",
        "* `array[i][j]`\n",
        "* `array[i, j]`\n"
      ],
      "metadata": {
        "id": "0nvdoydS8Xu8"
      }
    },
    {
      "cell_type": "code",
      "source": [
        "arr = np.arange(1, 13).reshape((3, 4))\n",
        "print(arr)"
      ],
      "metadata": {
        "colab": {
          "base_uri": "https://localhost:8080/"
        },
        "id": "Pw8qqx0S8Y24",
        "outputId": "c045c227-1c39-4f61-bd68-96624a81a623"
      },
      "execution_count": null,
      "outputs": [
        {
          "output_type": "stream",
          "name": "stdout",
          "text": [
            "[[ 1  2  3  4]\n",
            " [ 5  6  7  8]\n",
            " [ 9 10 11 12]]\n"
          ]
        }
      ]
    },
    {
      "cell_type": "code",
      "source": [
        "arr[0][0]"
      ],
      "metadata": {
        "colab": {
          "base_uri": "https://localhost:8080/"
        },
        "id": "J263Wqx-8Z4Y",
        "outputId": "94a85374-cc9f-461a-8bc6-fb26612a6c98"
      },
      "execution_count": null,
      "outputs": [
        {
          "output_type": "execute_result",
          "data": {
            "text/plain": [
              "1"
            ]
          },
          "metadata": {},
          "execution_count": 88
        }
      ]
    },
    {
      "cell_type": "code",
      "source": [
        "arr[0, 0]"
      ],
      "metadata": {
        "colab": {
          "base_uri": "https://localhost:8080/"
        },
        "id": "VTFDQvSn8Z66",
        "outputId": "d315b8a2-dd50-4aaa-e787-92e324579d8f"
      },
      "execution_count": null,
      "outputs": [
        {
          "output_type": "execute_result",
          "data": {
            "text/plain": [
              "1"
            ]
          },
          "metadata": {},
          "execution_count": 89
        }
      ]
    },
    {
      "cell_type": "markdown",
      "source": [
        "# NumPy 통계 함수/메서드\n",
        "\n",
        "* `np.function(array)` 함수\n",
        "* `np.ndarray.method()` 메서드"
      ],
      "metadata": {
        "id": "0gk3cAMU-mQg"
      }
    },
    {
      "cell_type": "code",
      "source": [
        "np.random.seed(1)\n",
        "arr = np.random.randint(100, size=5)"
      ],
      "metadata": {
        "id": "pPEUFsFP_FOb"
      },
      "execution_count": null,
      "outputs": []
    },
    {
      "cell_type": "code",
      "source": [
        "print(arr)"
      ],
      "metadata": {
        "colab": {
          "base_uri": "https://localhost:8080/"
        },
        "id": "jj3WcsnV_SIg",
        "outputId": "aaff0cf8-2b70-4396-d54c-485b98e7c808"
      },
      "execution_count": null,
      "outputs": [
        {
          "output_type": "stream",
          "name": "stdout",
          "text": [
            "[37 12 72  9 75]\n"
          ]
        }
      ]
    },
    {
      "cell_type": "code",
      "source": [
        "np.sum(arr) # 함수 -> sum 함수를 이용해서 배열의 합계를 구하겠다."
      ],
      "metadata": {
        "colab": {
          "base_uri": "https://localhost:8080/"
        },
        "id": "Hdq789EV_aYf",
        "outputId": "fc096ebd-3e90-4ed6-af76-58da8fcc0763"
      },
      "execution_count": null,
      "outputs": [
        {
          "output_type": "execute_result",
          "data": {
            "text/plain": [
              "205"
            ]
          },
          "metadata": {},
          "execution_count": 96
        }
      ]
    },
    {
      "cell_type": "code",
      "source": [
        "arr.sum() # 메서드 -> 객체의 합계를 계산하겠다."
      ],
      "metadata": {
        "colab": {
          "base_uri": "https://localhost:8080/"
        },
        "id": "tMJAJezZ_pkq",
        "outputId": "e4e883b0-f209-47b0-8007-c89063f07b65"
      },
      "execution_count": null,
      "outputs": [
        {
          "output_type": "execute_result",
          "data": {
            "text/plain": [
              "205"
            ]
          },
          "metadata": {},
          "execution_count": 97
        }
      ]
    },
    {
      "cell_type": "code",
      "source": [
        "print('합계: ', np.sum(arr), arr.sum())\n",
        "print('평균: ', np.mean(arr), arr.mean())\n",
        "print('분산: ', np.var(arr), arr.var()) # variance\n",
        "print('표준표차: ', np.std(arr), arr.std()) # standard deviation\n",
        "print('최댓값: ', np.max(arr), arr.max())\n",
        "print('최솟값: ', np.min(arr), arr.min())\n",
        "print('중앙값: ', np.median(arr)) # median() 기능은 ndarray의 메서드로 제공되지 않음.\n",
        "# 중앙값: 데이터를 오름차순 정렬했을 때 가운데 있는 값."
      ],
      "metadata": {
        "colab": {
          "base_uri": "https://localhost:8080/"
        },
        "id": "p0_yxMk7Ak7I",
        "outputId": "7c43dd73-8806-4bb1-a8b5-035ffd72f5b2"
      },
      "execution_count": null,
      "outputs": [
        {
          "output_type": "stream",
          "name": "stdout",
          "text": [
            "합계:  205 205\n",
            "평균:  41.0 41.0\n",
            "분산:  799.6 799.6\n",
            "표준표차:  28.27719929554552 28.27719929554552\n",
            "최댓값:  75 75\n",
            "최솟값:  9 9\n",
            "중앙값:  37.0\n"
          ]
        }
      ]
    },
    {
      "cell_type": "code",
      "source": [
        "np.sort(arr) # 배열을 (오름차순) 정렬한 새로운 배열을 리턴. 원본 배열은 변경되지 않음."
      ],
      "metadata": {
        "colab": {
          "base_uri": "https://localhost:8080/"
        },
        "id": "jh9QYYX3Cy7j",
        "outputId": "44018ad6-f84d-419f-a6b6-581167bd13c0"
      },
      "execution_count": null,
      "outputs": [
        {
          "output_type": "execute_result",
          "data": {
            "text/plain": [
              "array([ 9, 12, 37, 72, 75])"
            ]
          },
          "metadata": {},
          "execution_count": 101
        }
      ]
    },
    {
      "cell_type": "code",
      "source": [
        "arr.sort() # 원본 배열을 정렬해서 변경!"
      ],
      "metadata": {
        "id": "5XZ-DAeXDUqa"
      },
      "execution_count": null,
      "outputs": []
    },
    {
      "cell_type": "code",
      "source": [
        "arr"
      ],
      "metadata": {
        "colab": {
          "base_uri": "https://localhost:8080/"
        },
        "id": "j5Yp2NjJDbpT",
        "outputId": "218ec154-33cf-4bd0-d5a2-c975d5c536eb"
      },
      "execution_count": null,
      "outputs": [
        {
          "output_type": "execute_result",
          "data": {
            "text/plain": [
              "array([ 9, 12, 37, 72, 75])"
            ]
          },
          "metadata": {},
          "execution_count": 103
        }
      ]
    },
    {
      "cell_type": "code",
      "source": [
        "np.random.seed(1)\n",
        "arr = np.random.randint(100, size=5)\n",
        "print(arr)"
      ],
      "metadata": {
        "colab": {
          "base_uri": "https://localhost:8080/"
        },
        "id": "6d-k7mTOEQxu",
        "outputId": "c8268a68-944a-4c57-e88b-dccd0fdd590d"
      },
      "execution_count": null,
      "outputs": [
        {
          "output_type": "stream",
          "name": "stdout",
          "text": [
            "[37 12 72  9 75]\n"
          ]
        }
      ]
    },
    {
      "cell_type": "code",
      "source": [
        "print('argmax:', np.argmax(arr), arr.argmax()) # 최댓값의 인덱스\n",
        "print('argmin:', np.argmin(arr), arr.argmin()) # 최솟값의 인덱스"
      ],
      "metadata": {
        "colab": {
          "base_uri": "https://localhost:8080/"
        },
        "id": "Ft62kOGHEhac",
        "outputId": "10481f4c-25f2-4c40-91b1-f1934f3e4a7d"
      },
      "execution_count": null,
      "outputs": [
        {
          "output_type": "stream",
          "name": "stdout",
          "text": [
            "argmax: 4 4\n",
            "argmin: 3 3\n"
          ]
        }
      ]
    },
    {
      "cell_type": "code",
      "source": [
        "np.random.seed(1)\n",
        "arr = np.random.randint(100, size=(3,4))\n",
        "print(arr)"
      ],
      "metadata": {
        "colab": {
          "base_uri": "https://localhost:8080/"
        },
        "id": "RMyHJE7WGCWe",
        "outputId": "24627aed-df4a-4a4b-8846-7fba65427f8a"
      },
      "execution_count": null,
      "outputs": [
        {
          "output_type": "stream",
          "name": "stdout",
          "text": [
            "[[37 12 72  9]\n",
            " [75  5 79 64]\n",
            " [16  1 76 71]]\n"
          ]
        }
      ]
    },
    {
      "cell_type": "code",
      "source": [
        "np.sum(arr) # axis=None : 축에 상관없이 모든 원소를 다 더함."
      ],
      "metadata": {
        "colab": {
          "base_uri": "https://localhost:8080/"
        },
        "id": "i0pIGPGGGHPC",
        "outputId": "ef7c1125-1301-4762-c364-ea16ca1dc53f"
      },
      "execution_count": null,
      "outputs": [
        {
          "output_type": "execute_result",
          "data": {
            "text/plain": [
              "517"
            ]
          },
          "metadata": {},
          "execution_count": 109
        }
      ]
    },
    {
      "cell_type": "code",
      "source": [
        "arr.sum() # axis=None"
      ],
      "metadata": {
        "colab": {
          "base_uri": "https://localhost:8080/"
        },
        "id": "cuElOsicGZiY",
        "outputId": "ffb6891d-a118-4400-8faf-481733d7dc6c"
      },
      "execution_count": null,
      "outputs": [
        {
          "output_type": "execute_result",
          "data": {
            "text/plain": [
              "517"
            ]
          },
          "metadata": {},
          "execution_count": 110
        }
      ]
    },
    {
      "cell_type": "code",
      "source": [
        "np.sum(arr, axis=0) # row index가 증가하는 방향으로 계산"
      ],
      "metadata": {
        "colab": {
          "base_uri": "https://localhost:8080/"
        },
        "id": "KmIeMIl-HUGJ",
        "outputId": "e4dfab76-4d37-46d5-9594-30d916ba2bd6"
      },
      "execution_count": null,
      "outputs": [
        {
          "output_type": "execute_result",
          "data": {
            "text/plain": [
              "array([128,  18, 227, 144])"
            ]
          },
          "metadata": {},
          "execution_count": 111
        }
      ]
    },
    {
      "cell_type": "code",
      "source": [
        "np.sum(arr, axis=0, keepdims=True) # column(0, 1, 2, 3) index가 증가하는 방향으로 계산 (가로 방향으로 index가 증가하니까)"
      ],
      "metadata": {
        "colab": {
          "base_uri": "https://localhost:8080/"
        },
        "id": "BCskof71IqrK",
        "outputId": "d7301be2-0016-400a-9605-82a830476d1b"
      },
      "execution_count": null,
      "outputs": [
        {
          "output_type": "execute_result",
          "data": {
            "text/plain": [
              "array([[128,  18, 227, 144]])"
            ]
          },
          "metadata": {},
          "execution_count": 116
        }
      ]
    },
    {
      "cell_type": "code",
      "source": [
        "np.sum(arr, axis=1) # column(0, 1, 2, 3) index가 증가하는 방향으로 계산 (가로 방향으로 index가 증가하니까)"
      ],
      "metadata": {
        "colab": {
          "base_uri": "https://localhost:8080/"
        },
        "id": "DapsFpxMHp-K",
        "outputId": "b30bcebf-7337-4481-b5af-ceefec5b4497"
      },
      "execution_count": null,
      "outputs": [
        {
          "output_type": "execute_result",
          "data": {
            "text/plain": [
              "array([130, 223, 164])"
            ]
          },
          "metadata": {},
          "execution_count": 112
        }
      ]
    },
    {
      "cell_type": "code",
      "source": [
        "np.sum(arr, axis=1, keepdims=True) # column(0, 1, 2, 3) index가 증가하는 방향으로 계산 (가로 방향으로 index가 증가하니까)"
      ],
      "metadata": {
        "colab": {
          "base_uri": "https://localhost:8080/"
        },
        "id": "hejV1vafIgVR",
        "outputId": "f3c17739-ee94-4acf-f74d-6e03378bcb8b"
      },
      "execution_count": null,
      "outputs": [
        {
          "output_type": "execute_result",
          "data": {
            "text/plain": [
              "array([[130],\n",
              "       [223],\n",
              "       [164]])"
            ]
          },
          "metadata": {},
          "execution_count": 115
        }
      ]
    }
  ]
}