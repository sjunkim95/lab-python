{
  "nbformat": 4,
  "nbformat_minor": 0,
  "metadata": {
    "colab": {
      "provenance": [],
      "authorship_tag": "ABX9TyOGq2oYjsOqxzlOgubPeLW1",
      "include_colab_link": true
    },
    "kernelspec": {
      "name": "python3",
      "display_name": "Python 3"
    },
    "language_info": {
      "name": "python"
    }
  },
  "cells": [
    {
      "cell_type": "markdown",
      "metadata": {
        "id": "view-in-github",
        "colab_type": "text"
      },
      "source": [
        "<a href=\"https://colab.research.google.com/github/sjunkim95/lab-python/blob/main/py13_string.ipynb\" target=\"_parent\"><img src=\"https://colab.research.google.com/assets/colab-badge.svg\" alt=\"Open In Colab\"/></a>"
      ]
    },
    {
      "cell_type": "markdown",
      "source": [
        "# `str` 클래스의 메서드\n",
        "* `str` 클래스의 메서드들은 원본 문자열을 변경하지 않음!\n",
        "* 원본 문자열을 변경한 새로운 문자열을 리턴함."
      ],
      "metadata": {
        "id": "yeRTa7MOKRtz"
      }
    },
    {
      "cell_type": "code",
      "source": [
        "s = 'heLLo, pyTHON! 안녕하세요. 12345'"
      ],
      "metadata": {
        "id": "UrwbiEnqKwJQ"
      },
      "execution_count": null,
      "outputs": []
    },
    {
      "cell_type": "code",
      "execution_count": null,
      "metadata": {
        "colab": {
          "base_uri": "https://localhost:8080/",
          "height": 35
        },
        "id": "UoN5Q61NJ-fN",
        "outputId": "28d03769-e1b3-4bbc-d4f7-973562bb637d"
      },
      "outputs": [
        {
          "output_type": "execute_result",
          "data": {
            "text/plain": [
              "'hello, python! 안녕하세요. 12345'"
            ],
            "application/vnd.google.colaboratory.intrinsic+json": {
              "type": "string"
            }
          },
          "metadata": {},
          "execution_count": 6
        }
      ],
      "source": [
        "s.lower() # lower 설명: Return a copy of the string converted to lowercase"
      ]
    },
    {
      "cell_type": "code",
      "source": [
        "s # 원본은 그대로 유지한채로, s.lower()가 새로 리턴되는것. (메서드들이 거의 그렇다)"
      ],
      "metadata": {
        "colab": {
          "base_uri": "https://localhost:8080/",
          "height": 35
        },
        "id": "IZNUHuzkLbXU",
        "outputId": "112caf18-5dbb-48b9-8584-8dd98a6391f4"
      },
      "execution_count": null,
      "outputs": [
        {
          "output_type": "execute_result",
          "data": {
            "text/plain": [
              "'heLLo, pyTHON! 안녕하세요. 12345'"
            ],
            "application/vnd.google.colaboratory.intrinsic+json": {
              "type": "string"
            }
          },
          "metadata": {},
          "execution_count": 7
        }
      ]
    },
    {
      "cell_type": "code",
      "source": [
        "s.capitalize() # 문자열의 첫글자만 대문자로, 나머지는 소문자로 변경."
      ],
      "metadata": {
        "colab": {
          "base_uri": "https://localhost:8080/",
          "height": 35
        },
        "id": "Efu51R-yMSMy",
        "outputId": "f85d72e5-3776-43a1-c0b8-6bb662064dd6"
      },
      "execution_count": null,
      "outputs": [
        {
          "output_type": "execute_result",
          "data": {
            "text/plain": [
              "'Hello, python! 안녕하세요. 12345'"
            ],
            "application/vnd.google.colaboratory.intrinsic+json": {
              "type": "string"
            }
          },
          "metadata": {},
          "execution_count": 10
        }
      ]
    },
    {
      "cell_type": "code",
      "source": [
        "s.count('L') # 문자열에서 substring이 등장하는 횟수를 리턴."
      ],
      "metadata": {
        "colab": {
          "base_uri": "https://localhost:8080/"
        },
        "id": "cjs0UQnBMgVd",
        "outputId": "24eed527-82d5-4a5f-bc73-299a75049c86"
      },
      "execution_count": null,
      "outputs": [
        {
          "output_type": "execute_result",
          "data": {
            "text/plain": [
              "2"
            ]
          },
          "metadata": {},
          "execution_count": 22
        }
      ]
    },
    {
      "cell_type": "code",
      "source": [
        "url = 'https://www.google.com'"
      ],
      "metadata": {
        "id": "f_X3ftgXMYIw"
      },
      "execution_count": null,
      "outputs": []
    },
    {
      "cell_type": "code",
      "source": [
        "url.startswith('http')"
      ],
      "metadata": {
        "colab": {
          "base_uri": "https://localhost:8080/"
        },
        "id": "g4QjPm69Nc_z",
        "outputId": "39602f4c-5a31-444f-e6b6-3e904085295a"
      },
      "execution_count": null,
      "outputs": [
        {
          "output_type": "execute_result",
          "data": {
            "text/plain": [
              "True"
            ]
          },
          "metadata": {},
          "execution_count": 20
        }
      ]
    },
    {
      "cell_type": "code",
      "source": [
        "url.startswith('ftp')"
      ],
      "metadata": {
        "colab": {
          "base_uri": "https://localhost:8080/"
        },
        "id": "Xzmf12SQNdB_",
        "outputId": "a3848171-cb45-497c-a4ff-92f9adc3b771"
      },
      "execution_count": null,
      "outputs": [
        {
          "output_type": "execute_result",
          "data": {
            "text/plain": [
              "False"
            ]
          },
          "metadata": {},
          "execution_count": 21
        }
      ]
    },
    {
      "cell_type": "code",
      "source": [
        "phone = '010-0000-0000'"
      ],
      "metadata": {
        "id": "CKVelMbFNo14"
      },
      "execution_count": null,
      "outputs": []
    },
    {
      "cell_type": "code",
      "source": [
        "phone.split(sep = '-')"
      ],
      "metadata": {
        "colab": {
          "base_uri": "https://localhost:8080/"
        },
        "id": "QNsOpb9zN8rs",
        "outputId": "9c517fb1-4357-4929-f012-ec1917d3a6c1"
      },
      "execution_count": null,
      "outputs": [
        {
          "output_type": "execute_result",
          "data": {
            "text/plain": [
              "['010', '0000', '0000']"
            ]
          },
          "metadata": {},
          "execution_count": 28
        }
      ]
    },
    {
      "cell_type": "code",
      "source": [
        "sentence = 'hello python \\t 안녕하세요 \\n Java'"
      ],
      "metadata": {
        "id": "IiCEh_hgOZDL"
      },
      "execution_count": null,
      "outputs": []
    },
    {
      "cell_type": "code",
      "source": [
        "print(sentence)"
      ],
      "metadata": {
        "colab": {
          "base_uri": "https://localhost:8080/"
        },
        "id": "CHO9grV6OsXC",
        "outputId": "c8827f99-51f2-4d34-b696-b9a861968c7c"
      },
      "execution_count": null,
      "outputs": [
        {
          "output_type": "stream",
          "name": "stdout",
          "text": [
            "hello python \t 안녕하세요 \n",
            " Java\n"
          ]
        }
      ]
    },
    {
      "cell_type": "code",
      "source": [
        "sentence.split() # 파라미터 sep=None인 경우, 공백(whitespace: 스페이스, 탭, 줄바꿈)을 기준으로 자름."
      ],
      "metadata": {
        "colab": {
          "base_uri": "https://localhost:8080/"
        },
        "id": "lonSajX2O6Zp",
        "outputId": "07ff8a0a-c30b-49b0-ab3a-f958fd7ab9aa"
      },
      "execution_count": null,
      "outputs": [
        {
          "output_type": "execute_result",
          "data": {
            "text/plain": [
              "['hello', 'python', '안녕하세요', 'Java']"
            ]
          },
          "metadata": {},
          "execution_count": 35
        }
      ]
    },
    {
      "cell_type": "code",
      "source": [
        "# CSV(comma-seperated values) 파일: 데ㅣ터들이 commna(,)로 구분된 형식의 파일.\n",
        "csv = '100,scott,200,scott@oracle.com,1234.56,IT,2022-12-29'\n",
        "csv.split(',')"
      ],
      "metadata": {
        "colab": {
          "base_uri": "https://localhost:8080/"
        },
        "id": "dNy3RWkTPy6o",
        "outputId": "a0cde950-c89d-44a2-e18d-c7a6eb9b6919"
      },
      "execution_count": null,
      "outputs": [
        {
          "output_type": "execute_result",
          "data": {
            "text/plain": [
              "['100', 'scott', '200', 'scott@oracle.com', '1234.56', 'IT', '2022-12-29']"
            ]
          },
          "metadata": {},
          "execution_count": 37
        }
      ]
    },
    {
      "cell_type": "code",
      "source": [
        "'/'.join(['2022', '12', '29']) # 문자열 리스트 -> 문자열"
      ],
      "metadata": {
        "colab": {
          "base_uri": "https://localhost:8080/",
          "height": 35
        },
        "id": "prBa6lkGRGnU",
        "outputId": "7387b3ed-dea4-42fb-a5e1-abed5b8558c9"
      },
      "execution_count": null,
      "outputs": [
        {
          "output_type": "execute_result",
          "data": {
            "text/plain": [
              "'2022/12/29'"
            ],
            "application/vnd.google.colaboratory.intrinsic+json": {
              "type": "string"
            }
          },
          "metadata": {},
          "execution_count": 38
        }
      ]
    },
    {
      "cell_type": "code",
      "source": [
        "s = '       Hello Python!       안녕하세요....      '\n",
        "print(s)\n",
        "print(s.lstrip())\n",
        "print(s.rstrip())\n",
        "print(s.strip()) # 문자열의 왼쪽/오른쪽 끝에 있는 공백들을 지움. -> 특히!! Crawling 할때 이 부분 쓸모없는 공백들 지울 수 있다."
      ],
      "metadata": {
        "colab": {
          "base_uri": "https://localhost:8080/"
        },
        "id": "cJJ6JP3NRm3C",
        "outputId": "92a9636c-139d-40fd-e7ea-512a6474edfa"
      },
      "execution_count": null,
      "outputs": [
        {
          "output_type": "stream",
          "name": "stdout",
          "text": [
            "       Hello Python!       안녕하세요....      \n",
            "Hello Python!       안녕하세요....      \n",
            "       Hello Python!       안녕하세요....\n",
            "Hello Python!       안녕하세요....\n"
          ]
        }
      ]
    },
    {
      "cell_type": "code",
      "source": [
        "s = '100::scott::200::scott@oracle.com::1234.56::IT::2022-12-29'\n",
        "s.replace('::', ',')"
      ],
      "metadata": {
        "colab": {
          "base_uri": "https://localhost:8080/",
          "height": 35
        },
        "id": "popVgFPBS_N-",
        "outputId": "17998a8c-d16a-4831-fd76-a020171a4e61"
      },
      "execution_count": null,
      "outputs": [
        {
          "output_type": "execute_result",
          "data": {
            "text/plain": [
              "'100,scott,200,scott@oracle.com,1234.56,IT,2022-12-29'"
            ],
            "application/vnd.google.colaboratory.intrinsic+json": {
              "type": "string"
            }
          },
          "metadata": {},
          "execution_count": 44
        }
      ]
    }
  ]
}