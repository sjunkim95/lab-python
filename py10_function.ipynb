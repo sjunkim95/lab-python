{
  "nbformat": 4,
  "nbformat_minor": 0,
  "metadata": {
    "colab": {
      "provenance": [],
      "toc_visible": true,
      "authorship_tag": "ABX9TyOp/HJAoHkPlvYd+dF+DW+9",
      "include_colab_link": true
    },
    "kernelspec": {
      "name": "python3",
      "display_name": "Python 3"
    },
    "language_info": {
      "name": "python"
    }
  },
  "cells": [
    {
      "cell_type": "markdown",
      "metadata": {
        "id": "view-in-github",
        "colab_type": "text"
      },
      "source": [
        "<a href=\"https://colab.research.google.com/github/sjunkim95/lab-python/blob/main/py10_function.ipynb\" target=\"_parent\"><img src=\"https://colab.research.google.com/assets/colab-badge.svg\" alt=\"Open In Colab\"/></a>"
      ]
    },
    {
      "cell_type": "markdown",
      "source": [
        "# 1급 객체(first-class ojbect)로서의 함수\n",
        "\n",
        "함수는 객체(object)다.\n",
        "\n",
        "* 함수는 변수에 할당할 수 있음.\n",
        "* 함수의 파라미터에 다른 함수를 전달할 수 있음.\n",
        "* 함수의 리턴 값이 함수가 될 수 있음.\n",
        "* 함수 내부에서 다른 함수를 정의할 수 있음."
      ],
      "metadata": {
        "id": "8dxf0bRcOq9Z"
      }
    },
    {
      "cell_type": "code",
      "source": [
        "def twice(x):\n",
        "    return 2 * x"
      ],
      "metadata": {
        "id": "FAHeqhOhP71D"
      },
      "execution_count": null,
      "outputs": []
    },
    {
      "cell_type": "code",
      "execution_count": null,
      "metadata": {
        "colab": {
          "base_uri": "https://localhost:8080/"
        },
        "id": "ZjUZPk6XOYqo",
        "outputId": "e910be49-4827-4831-e327-c99ab80cf5f9"
      },
      "outputs": [
        {
          "output_type": "execute_result",
          "data": {
            "text/plain": [
              "10"
            ]
          },
          "metadata": {},
          "execution_count": 3
        }
      ],
      "source": [
        "result = twice(5) # 함수 twice의 호출 결과(리턴 값)를 변수 result에 할당.\n",
        "result"
      ]
    },
    {
      "cell_type": "code",
      "source": [
        "double = twice # 함수 twice 객체를 변수 double에 할당. (즉, 함수 객체를 의미하는 것)\n",
        "double"
      ],
      "metadata": {
        "colab": {
          "base_uri": "https://localhost:8080/"
        },
        "id": "3vcZsNkhQSjb",
        "outputId": "3ded17ad-bba0-4fe2-d247-c764bac98d79"
      },
      "execution_count": null,
      "outputs": [
        {
          "output_type": "execute_result",
          "data": {
            "text/plain": [
              "<function __main__.twice(x)>"
            ]
          },
          "metadata": {},
          "execution_count": 4
        }
      ]
    },
    {
      "cell_type": "code",
      "source": [
        "double(100) # 함수 호출"
      ],
      "metadata": {
        "colab": {
          "base_uri": "https://localhost:8080/"
        },
        "id": "0dactFe1Qm5Z",
        "outputId": "0acecbe3-4991-4f37-8e6e-e94c60bbb1fe"
      },
      "execution_count": null,
      "outputs": [
        {
          "output_type": "execute_result",
          "data": {
            "text/plain": [
              "200"
            ]
          },
          "metadata": {},
          "execution_count": 5
        }
      ]
    },
    {
      "cell_type": "markdown",
      "source": [
        "## 파라미터에 함수를 전달"
      ],
      "metadata": {
        "id": "GKImpBEdQ2Kx"
      }
    },
    {
      "cell_type": "code",
      "source": [
        "def calculator(x, y, fn):\n",
        "    \"\"\"\n",
        "    x, y: 숫자 타입(int, float)\n",
        "    fn: 숫자 2개를 argument로 전달받고, 숫자를 리턴하는 함수.\n",
        "    \"\"\"\n",
        "    result = fn(x, y)\n",
        "    return result # 함수의 호출 결과를 return 해주는 함수임."
      ],
      "metadata": {
        "id": "BQ5yyy_1Q-6H"
      },
      "execution_count": null,
      "outputs": []
    },
    {
      "cell_type": "code",
      "source": [
        "def plus(x, y):\n",
        "    return x + y"
      ],
      "metadata": {
        "id": "_0-j5v4SRglK"
      },
      "execution_count": null,
      "outputs": []
    },
    {
      "cell_type": "code",
      "source": [
        "calculator(1, 2, plus)"
      ],
      "metadata": {
        "colab": {
          "base_uri": "https://localhost:8080/"
        },
        "id": "9r5AmPNPRohB",
        "outputId": "64ee8250-783b-406d-daf8-72dc54c36480"
      },
      "execution_count": null,
      "outputs": [
        {
          "output_type": "execute_result",
          "data": {
            "text/plain": [
              "3"
            ]
          },
          "metadata": {},
          "execution_count": 8
        }
      ]
    },
    {
      "cell_type": "markdown",
      "source": [
        "## 내부 함수, 함수 리턴"
      ],
      "metadata": {
        "id": "vgklclmtSUHn"
      }
    },
    {
      "cell_type": "code",
      "source": [
        "def make_increments(n):\n",
        "\n",
        "    # 내부 함수 (inner function). 지역 함수(local function)\n",
        "    def add_n(x): # 이 함수의 이름은 make_increments함수 안에 return 안에서만 기억이 되어 있음.ㄴ\n",
        "        \n",
        "        # 내부 함수는 외부 함수의 지역 변수들을 사용할 수 있음.\n",
        "        \n",
        "        return x + n\n",
        "    \n",
        "    return add_n"
      ],
      "metadata": {
        "id": "lkxvOZPRRrYH"
      },
      "execution_count": null,
      "outputs": []
    },
    {
      "cell_type": "code",
      "source": [
        "increase_by_2 = make_increments(2)"
      ],
      "metadata": {
        "id": "TUQX8cyhTwtV"
      },
      "execution_count": null,
      "outputs": []
    },
    {
      "cell_type": "code",
      "source": [
        "increase_by_2"
      ],
      "metadata": {
        "colab": {
          "base_uri": "https://localhost:8080/"
        },
        "id": "jt6F2pEDT6f7",
        "outputId": "084d3c5f-1167-4a5f-c955-c11217d573f5"
      },
      "execution_count": null,
      "outputs": [
        {
          "output_type": "execute_result",
          "data": {
            "text/plain": [
              "<function __main__.make_increments.<locals>.add_n(x)>"
            ]
          },
          "metadata": {},
          "execution_count": 12
        }
      ]
    },
    {
      "cell_type": "code",
      "source": [
        "increase_by_2(100)"
      ],
      "metadata": {
        "colab": {
          "base_uri": "https://localhost:8080/"
        },
        "id": "8Zr3NQHqUb3j",
        "outputId": "4950cee7-1583-4938-a31b-3d25eb9f0e52"
      },
      "execution_count": null,
      "outputs": [
        {
          "output_type": "execute_result",
          "data": {
            "text/plain": [
              "102"
            ]
          },
          "metadata": {},
          "execution_count": 13
        }
      ]
    },
    {
      "cell_type": "code",
      "source": [
        "increase_by_10 = make_increments(10)\n",
        "increase_by_10(100)"
      ],
      "metadata": {
        "colab": {
          "base_uri": "https://localhost:8080/"
        },
        "id": "bYDBd8dOUi5k",
        "outputId": "8807f9cb-c7e1-498c-f451-99f4295cb39f"
      },
      "execution_count": null,
      "outputs": [
        {
          "output_type": "execute_result",
          "data": {
            "text/plain": [
              "110"
            ]
          },
          "metadata": {},
          "execution_count": 15
        }
      ]
    },
    {
      "cell_type": "markdown",
      "source": [
        "# 람다 표현식(Lambda expression)\n",
        "\n",
        "* 이름이 없는 함수 표기법.\n",
        "* 함수 이름 없이 함수의 파라미터 선언과 반환 값 또는 반환 식으로만 함수를 정의하는 방법.\n",
        "* 파이썬은 2줄 이상의 문장이 포함된 람다 표현식은 제공하지 않음.\n",
        "\n",
        "```\n",
        "lambda p1, p2, ...: expression\n",
        "```\n"
      ],
      "metadata": {
        "id": "CtCjlbNjaj27"
      }
    },
    {
      "cell_type": "code",
      "source": [
        "minus = lambda x, y: x - y"
      ],
      "metadata": {
        "id": "liJAcj6lbXc1"
      },
      "execution_count": null,
      "outputs": []
    },
    {
      "cell_type": "code",
      "source": [
        "minus"
      ],
      "metadata": {
        "colab": {
          "base_uri": "https://localhost:8080/"
        },
        "id": "pRV0nZ6pbjma",
        "outputId": "0780b2e5-65b4-4dfd-8765-f20f47dff323"
      },
      "execution_count": null,
      "outputs": [
        {
          "output_type": "execute_result",
          "data": {
            "text/plain": [
              "<function __main__.<lambda>(x, y)>"
            ]
          },
          "metadata": {},
          "execution_count": 17
        }
      ]
    },
    {
      "cell_type": "code",
      "source": [
        "calculator(1, 2, lambda x, y: x / y)"
      ],
      "metadata": {
        "colab": {
          "base_uri": "https://localhost:8080/"
        },
        "id": "g37HU_Jfb4AU",
        "outputId": "8ad7daf1-cd8f-4be4-df1e-c58806dabf01"
      },
      "execution_count": null,
      "outputs": [
        {
          "output_type": "execute_result",
          "data": {
            "text/plain": [
              "0.5"
            ]
          },
          "metadata": {},
          "execution_count": 20
        }
      ]
    },
    {
      "cell_type": "markdown",
      "source": [
        "calclator 함수에 더 큰 숫자를 리턴하는 람다 표현식을 argument로 전달."
      ],
      "metadata": {
        "id": "v_Th-o1vcOnN"
      }
    },
    {
      "cell_type": "code",
      "source": [
        "calculator(1, 2, lambda x, y: x if x > y else y)"
      ],
      "metadata": {
        "colab": {
          "base_uri": "https://localhost:8080/"
        },
        "id": "Iiph2HnAcZYH",
        "outputId": "5322ffd0-e330-4ae8-c6ab-d3d04e42e235"
      },
      "execution_count": null,
      "outputs": [
        {
          "output_type": "execute_result",
          "data": {
            "text/plain": [
              "2"
            ]
          },
          "metadata": {},
          "execution_count": 21
        }
      ]
    },
    {
      "cell_type": "markdown",
      "source": [
        "calculator 함수에 첫번째 argumet가 크면 True 그렇지 않으면 False를 리턴하는 람다 표현식을 argument로 전달"
      ],
      "metadata": {
        "id": "8mfFqprbcm4Y"
      }
    },
    {
      "cell_type": "code",
      "source": [
        "calculator(1, 2, lambda x, y: x > y)"
      ],
      "metadata": {
        "colab": {
          "base_uri": "https://localhost:8080/"
        },
        "id": "qZS3DGIDcoMu",
        "outputId": "f3198723-8309-4c1c-b29f-07a09eff641e"
      },
      "execution_count": null,
      "outputs": [
        {
          "output_type": "execute_result",
          "data": {
            "text/plain": [
              "False"
            ]
          },
          "metadata": {},
          "execution_count": 22
        }
      ]
    },
    {
      "cell_type": "markdown",
      "source": [
        "## filter 함수\n",
        "\n",
        "조건에 맞은 원소들만 선택."
      ],
      "metadata": {
        "id": "GnGYbNF4eQQO"
      }
    },
    {
      "cell_type": "code",
      "source": [
        "def my_filter(iterable, fn):\n",
        "    \"\"\"\n",
        "    리스트 iterable의 원소들 중에서 fn의 결과값이 True인 원소들로만 이루어진 리스트를 리턴.\n",
        "\n",
        "    iterable: 리스트.\n",
        "    fn: argument가 1개이고, 리턴 타입은 bool인 함수.\n",
        "    \"\"\"\n",
        "    # result = []  # 필터링된 결과를 저장할 빈 리스트\n",
        "    # for x in iterable:  # 원본 리스트의 원소들을 처음부터 끝까지 반복하면서\n",
        "    #     if fn(x):  # 필터링 조건을 만족하면\n",
        "    #         result.append(x)  # 결과 리스트에 추가\n",
        "    # return result\n",
        "    return [x for x in iterable if fn(x)]"
      ],
      "metadata": {
        "id": "nZKTuT2JeS8P"
      },
      "execution_count": null,
      "outputs": []
    },
    {
      "cell_type": "code",
      "source": [
        "num_list = [1, -2, 3, -4, -5, -6, 7, 8]"
      ],
      "metadata": {
        "id": "kvxb77N0vt-B"
      },
      "execution_count": null,
      "outputs": []
    },
    {
      "cell_type": "code",
      "source": [
        "# num_list에서 홀수들만 필터링\n",
        "my_filter(num_list, lambda x: x % 2  == 1)"
      ],
      "metadata": {
        "colab": {
          "base_uri": "https://localhost:8080/"
        },
        "id": "TRUimVV8vuBB",
        "outputId": "449504db-ab30-4ef2-fc47-33720d0fde29"
      },
      "execution_count": null,
      "outputs": [
        {
          "output_type": "execute_result",
          "data": {
            "text/plain": [
              "[1, 3, -5, 7]"
            ]
          },
          "metadata": {},
          "execution_count": 25
        }
      ]
    },
    {
      "cell_type": "code",
      "source": [
        "# num_list에서 음수들만 필터링\n",
        "my_filter(num_list, lambda x: x < 0)"
      ],
      "metadata": {
        "colab": {
          "base_uri": "https://localhost:8080/"
        },
        "id": "2Bx3ZrnPvuD3",
        "outputId": "d036631a-d978-492a-d740-713d2e7138e8"
      },
      "execution_count": null,
      "outputs": [
        {
          "output_type": "execute_result",
          "data": {
            "text/plain": [
              "[-2, -4, -5, -6]"
            ]
          },
          "metadata": {},
          "execution_count": 26
        }
      ]
    },
    {
      "cell_type": "code",
      "source": [
        "languages = ['Java', 'JavaScript', 'Python']"
      ],
      "metadata": {
        "id": "Gm8aLFkLvuGe"
      },
      "execution_count": null,
      "outputs": []
    },
    {
      "cell_type": "code",
      "source": [
        "# languages에서 글자수가 5글자 이상인 문자열들만 필터링\n",
        "my_filter(languages, lambda x: len(x) >= 5)"
      ],
      "metadata": {
        "colab": {
          "base_uri": "https://localhost:8080/"
        },
        "id": "yK4bMHPLvzir",
        "outputId": "ab2ca585-8b5e-40ed-e428-001d98f2e316"
      },
      "execution_count": null,
      "outputs": [
        {
          "output_type": "execute_result",
          "data": {
            "text/plain": [
              "['JavaScript', 'Python']"
            ]
          },
          "metadata": {},
          "execution_count": 28
        }
      ]
    },
    {
      "cell_type": "markdown",
      "source": [
        "## map 함수\n",
        "\n",
        "원소들을 규칙에 따라서 다른 값으로 변환."
      ],
      "metadata": {
        "id": "WBikFuxnfULV"
      }
    },
    {
      "cell_type": "code",
      "source": [
        "def my_mapper(iterable, fn):\n",
        "    \"\"\"\n",
        "    리스트 iterable의 원소들을 함수 fn의 리턴 값으로 변환한 리스트를 리턴.\n",
        "\n",
        "    iterable: 리스트.\n",
        "    fn: argument가 1개이고 리턴 값이 있는 값.\n",
        "    \"\"\"\n",
        "    return [fn(x) for x in iterable]\n",
        "    # result = []\n",
        "    # for x in iterable:\n",
        "    #     result.append(fn(x))\n",
        "    # return result"
      ],
      "metadata": {
        "id": "el_CnVkIfa_T"
      },
      "execution_count": null,
      "outputs": []
    },
    {
      "cell_type": "code",
      "source": [
        "print(num_list)\n",
        "print(languages)"
      ],
      "metadata": {
        "colab": {
          "base_uri": "https://localhost:8080/"
        },
        "id": "kPqNXm0Nv78r",
        "outputId": "45a10452-984c-4d34-bb66-385e015cbf62"
      },
      "execution_count": null,
      "outputs": [
        {
          "output_type": "stream",
          "name": "stdout",
          "text": [
            "[1, -2, 3, -4, -5, -6, 7, 8]\n",
            "['Java', 'JavaScript', 'Python']\n"
          ]
        }
      ]
    },
    {
      "cell_type": "code",
      "source": [
        "# num_list의 원소들을 홀수는 True, 짝수는 False로 매핑\n",
        "my_mapper(num_list, lambda x: x % 2 == 1)"
      ],
      "metadata": {
        "colab": {
          "base_uri": "https://localhost:8080/"
        },
        "id": "-EIEHiF0v8MJ",
        "outputId": "db4f679a-a433-4794-e8d6-3b68e670d089"
      },
      "execution_count": null,
      "outputs": [
        {
          "output_type": "execute_result",
          "data": {
            "text/plain": [
              "[True, False, True, False, True, False, True, False]"
            ]
          },
          "metadata": {},
          "execution_count": 31
        }
      ]
    },
    {
      "cell_type": "code",
      "source": [
        "# num_list의 원소들을 0 이상인 숫자들은 True, 음수들은 False로 매핑\n",
        "my_mapper(num_list, lambda x: x >= 0)"
      ],
      "metadata": {
        "colab": {
          "base_uri": "https://localhost:8080/"
        },
        "id": "VQ1A5W7iv8Pi",
        "outputId": "108738e5-059e-4f02-c484-e01469ed9af5"
      },
      "execution_count": null,
      "outputs": [
        {
          "output_type": "execute_result",
          "data": {
            "text/plain": [
              "[True, False, True, False, False, False, True, True]"
            ]
          },
          "metadata": {},
          "execution_count": 32
        }
      ]
    },
    {
      "cell_type": "code",
      "source": [
        "# languages의 문자열들을 그 문자열의 길이로 매핑\n",
        "my_mapper(languages, lambda x: len(x))"
      ],
      "metadata": {
        "colab": {
          "base_uri": "https://localhost:8080/"
        },
        "id": "Ph5fC3rOv8Se",
        "outputId": "505a46d3-948b-45bc-f8ab-f130e3add343"
      },
      "execution_count": null,
      "outputs": [
        {
          "output_type": "execute_result",
          "data": {
            "text/plain": [
              "[4, 10, 6]"
            ]
          },
          "metadata": {},
          "execution_count": 33
        }
      ]
    },
    {
      "cell_type": "markdown",
      "source": [
        "Python에서 구현된 `filter`, `map`"
      ],
      "metadata": {
        "id": "VJKyKSTawBNB"
      }
    },
    {
      "cell_type": "code",
      "source": [
        "result = filter(lambda x: x > 0, num_list)\n",
        "result  # 필터링된 결과를 저장하고 있는 객체. 리스트 타입은 아님!"
      ],
      "metadata": {
        "colab": {
          "base_uri": "https://localhost:8080/"
        },
        "id": "skkPVYgLv_0n",
        "outputId": "e7ccec52-fdd1-41eb-8856-be54462a50a7"
      },
      "execution_count": null,
      "outputs": [
        {
          "output_type": "execute_result",
          "data": {
            "text/plain": [
              "<filter at 0x7f9942cd1c70>"
            ]
          },
          "metadata": {},
          "execution_count": 34
        }
      ]
    },
    {
      "cell_type": "code",
      "source": [
        "list(result)  # 필터링된 결과를 list 타입으로 변환"
      ],
      "metadata": {
        "colab": {
          "base_uri": "https://localhost:8080/"
        },
        "id": "yZutgmO6v_3Z",
        "outputId": "7a007e6c-69d5-4c85-b7a1-ebaf4f41e1a4"
      },
      "execution_count": null,
      "outputs": [
        {
          "output_type": "execute_result",
          "data": {
            "text/plain": [
              "[1, 3, 7, 8]"
            ]
          },
          "metadata": {},
          "execution_count": 35
        }
      ]
    },
    {
      "cell_type": "code",
      "source": [
        "result = map(lambda x: x >= 0, num_list)\n",
        "print(result)\n",
        "list(result)"
      ],
      "metadata": {
        "colab": {
          "base_uri": "https://localhost:8080/"
        },
        "id": "__hTqTWAv_6D",
        "outputId": "a4b708db-d32d-4b68-dfe8-e3bb9b72d7c3"
      },
      "execution_count": null,
      "outputs": [
        {
          "output_type": "stream",
          "name": "stdout",
          "text": [
            "<map object at 0x7f9942d61d30>\n"
          ]
        },
        {
          "output_type": "execute_result",
          "data": {
            "text/plain": [
              "[True, False, True, False, False, False, True, True]"
            ]
          },
          "metadata": {},
          "execution_count": 36
        }
      ]
    }
  ]
}