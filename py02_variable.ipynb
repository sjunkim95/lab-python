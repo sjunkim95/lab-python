{
  "nbformat": 4,
  "nbformat_minor": 0,
  "metadata": {
    "colab": {
      "provenance": [],
      "toc_visible": true,
      "authorship_tag": "ABX9TyM8elsG0t30FttY4ytR4dLg",
      "include_colab_link": true
    },
    "kernelspec": {
      "name": "python3",
      "display_name": "Python 3"
    },
    "language_info": {
      "name": "python"
    }
  },
  "cells": [
    {
      "cell_type": "markdown",
      "metadata": {
        "id": "view-in-github",
        "colab_type": "text"
      },
      "source": [
        "<a href=\"https://colab.research.google.com/github/sjunkim95/lab-python/blob/main/py02_variable.ipynb\" target=\"_parent\"><img src=\"https://colab.research.google.com/assets/colab-badge.svg\" alt=\"Open In Colab\"/></a>"
      ]
    },
    {
      "cell_type": "markdown",
      "source": [
        "# 파이썬 자료 타입\n",
        "\n",
        "* 숫자 타입\n",
        "    * `int`: 정수\n",
        "    * `float`: 실수\n",
        "\n",
        "* 문자열 타입\n",
        "    * `str`\n",
        "\n",
        "* 논리 타입\n",
        "    * `bool`: True/False\n",
        "\n",
        "* 객체 타입\n",
        "\n",
        "파이썬은 변수를 선언할 때 자료 타입을 명시하지 않음! \n",
        "\n",
        "Important!! 변수의 자료 타입은 코드가 실행될 때 결정됨."
      ],
      "metadata": {
        "id": "tKGvumXvyaDX"
      }
    },
    {
      "cell_type": "code",
      "execution_count": null,
      "metadata": {
        "id": "_ibSEOU1xe6k",
        "colab": {
          "base_uri": "https://localhost:8080/"
        },
        "outputId": "1be2bb22-2668-4b8f-a83c-7991eaa69b18"
      },
      "outputs": [
        {
          "output_type": "stream",
          "name": "stdout",
          "text": [
            "123\n",
            "<class 'int'>\n"
          ]
        }
      ],
      "source": [
        "# 주석 Inline Comment\n",
        "# 변수_이름 = 값\n",
        "n = 123\n",
        "print(n)\n",
        "print(type(n)) # type(arg): arg의 자료 타입을 리턴."
      ]
    },
    {
      "cell_type": "code",
      "source": [
        "n = 3.14\n",
        "print(type(n))"
      ],
      "metadata": {
        "colab": {
          "base_uri": "https://localhost:8080/"
        },
        "id": "Bk7t7-QJ0N78",
        "outputId": "6adfaf64-37a2-48a9-f194-87abd12d3cfe"
      },
      "execution_count": null,
      "outputs": [
        {
          "output_type": "stream",
          "name": "stdout",
          "text": [
            "<class 'float'>\n"
          ]
        }
      ]
    },
    {
      "cell_type": "markdown",
      "source": [
        "식(expression): 값, 변수, 계산식(연산), 함수 호출.\n",
        "\n",
        "문장(statement): 코드의 최소 실행 단위.\n",
        "\n",
        "ipynb(IPython notebook) 코드셀에서 가장 마지막 줄에 있는 문장이 식(expression)이면, 그 식을 평가한 결과를 콘솔 창에 출력해 줌. (print 함수를 사용하지 않아도 됨.)"
      ],
      "metadata": {
        "id": "X3NvIpym18Br"
      }
    },
    {
      "cell_type": "code",
      "source": [
        "x = 1\n",
        "y = 2\n",
        "x + y"
      ],
      "metadata": {
        "colab": {
          "base_uri": "https://localhost:8080/"
        },
        "id": "h-4TMZZi2sEU",
        "outputId": "13f52d8e-5c16-4bf3-963b-4aeaff811d9f"
      },
      "execution_count": null,
      "outputs": [
        {
          "output_type": "execute_result",
          "data": {
            "text/plain": [
              "3"
            ]
          },
          "metadata": {},
          "execution_count": 6
        }
      ]
    },
    {
      "cell_type": "markdown",
      "source": [
        "## 명시적 타입 변환\n",
        "\n",
        "* `int(값)`: 값을 정수 타입으로 변환해서 리턴.\n",
        "* `float(값)`: 값을 실수 타입으로 변환해서 리턴.\n",
        "* `str(값)`: 값을 문자열로 변환해서 리턴."
      ],
      "metadata": {
        "id": "3E6pgLKf8Myd"
      }
    },
    {
      "cell_type": "code",
      "source": [
        "# colab 노트북의 콘솔에서 입력 받는 방법:\n",
        "n = input('정수 입력>>> ')"
      ],
      "metadata": {
        "colab": {
          "base_uri": "https://localhost:8080/"
        },
        "id": "oASqVmzn8uFe",
        "outputId": "ace08060-2235-4538-d54a-e4fdbe150f16"
      },
      "execution_count": null,
      "outputs": [
        {
          "name": "stdout",
          "output_type": "stream",
          "text": [
            "정수 입력>>> 23\n"
          ]
        }
      ]
    },
    {
      "cell_type": "code",
      "source": [
        "print(type(n))"
      ],
      "metadata": {
        "colab": {
          "base_uri": "https://localhost:8080/"
        },
        "id": "BVGTIROA9QVs",
        "outputId": "bd2c7e1e-235f-4ce6-a9f9-24b26800dfd4"
      },
      "execution_count": null,
      "outputs": [
        {
          "output_type": "stream",
          "name": "stdout",
          "text": [
            "<class 'str'>\n"
          ]
        }
      ]
    },
    {
      "cell_type": "code",
      "source": [
        "n = int(n) # 변수 n의 타입을 int 타입으로 변환한 후 n에 저장.\n",
        "type(n)"
      ],
      "metadata": {
        "colab": {
          "base_uri": "https://localhost:8080/"
        },
        "id": "c8SLSpeh9uPO",
        "outputId": "f420aec3-1ee6-49b7-f7d0-e81eec140ad0"
      },
      "execution_count": null,
      "outputs": [
        {
          "output_type": "execute_result",
          "data": {
            "text/plain": [
              "int"
            ]
          },
          "metadata": {},
          "execution_count": 11
        }
      ]
    },
    {
      "cell_type": "markdown",
      "source": [
        "# 산술 연산자\n",
        "\n",
        "종류: `+, -, *, /, //, %, **`\n",
        "\n",
        "* `/`: 소수점까지 계산하는 나눗셈.\n",
        "* `//`: 몫만 계산.\n",
        "* `%`: 나머지\n",
        "* `**`: 거듭 제곱"
      ],
      "metadata": {
        "id": "BcUC8mk9-dbw"
      }
    },
    {
      "cell_type": "code",
      "source": [
        "10/3"
      ],
      "metadata": {
        "colab": {
          "base_uri": "https://localhost:8080/"
        },
        "id": "P6gNiCKL_gWI",
        "outputId": "04311752-4650-40a4-a046-467313f8f3b7"
      },
      "execution_count": null,
      "outputs": [
        {
          "output_type": "execute_result",
          "data": {
            "text/plain": [
              "1"
            ]
          },
          "metadata": {},
          "execution_count": 13
        }
      ]
    },
    {
      "cell_type": "code",
      "source": [
        "10//3"
      ],
      "metadata": {
        "colab": {
          "base_uri": "https://localhost:8080/"
        },
        "id": "UIwaP8lv_5c4",
        "outputId": "0f133457-23bb-4f64-82b7-b36e0cbc42f8"
      },
      "execution_count": null,
      "outputs": [
        {
          "output_type": "execute_result",
          "data": {
            "text/plain": [
              "3"
            ]
          },
          "metadata": {},
          "execution_count": 14
        }
      ]
    },
    {
      "cell_type": "code",
      "source": [
        "10%3"
      ],
      "metadata": {
        "colab": {
          "base_uri": "https://localhost:8080/"
        },
        "id": "stl9bu7u_5fQ",
        "outputId": "cc8bb1a2-0fdc-4bef-8752-f4b606220cd2"
      },
      "execution_count": null,
      "outputs": [
        {
          "output_type": "execute_result",
          "data": {
            "text/plain": [
              "1"
            ]
          },
          "metadata": {},
          "execution_count": 15
        }
      ]
    },
    {
      "cell_type": "code",
      "source": [
        "10**3 # 10*10*10"
      ],
      "metadata": {
        "colab": {
          "base_uri": "https://localhost:8080/"
        },
        "id": "_-e-8kxp__6n",
        "outputId": "121714da-cfa9-4e9a-a031-b2d249e25350"
      },
      "execution_count": null,
      "outputs": [
        {
          "output_type": "execute_result",
          "data": {
            "text/plain": [
              "1000"
            ]
          },
          "metadata": {},
          "execution_count": 16
        }
      ]
    },
    {
      "cell_type": "code",
      "source": [
        "10 ** -1"
      ],
      "metadata": {
        "colab": {
          "base_uri": "https://localhost:8080/"
        },
        "id": "Q89NT7MY__9g",
        "outputId": "e470c55a-eb9a-48a5-a815-2350a3efa54e"
      },
      "execution_count": null,
      "outputs": [
        {
          "output_type": "execute_result",
          "data": {
            "text/plain": [
              "0.1"
            ]
          },
          "metadata": {},
          "execution_count": 17
        }
      ]
    },
    {
      "cell_type": "markdown",
      "source": [
        "## 문자열(str) 타입에서 사용할 수 있는 산술 연산자.\n",
        "\n",
        "* `+`: concatenate. 문자열에 이어 붙이기\n",
        "* `*`: replicate. 문자열 복제"
      ],
      "metadata": {
        "id": "V_DEMBtyANny"
      }
    },
    {
      "cell_type": "code",
      "source": [
        "'Hello' + 'Python'"
      ],
      "metadata": {
        "colab": {
          "base_uri": "https://localhost:8080/",
          "height": 35
        },
        "id": "ZswwxGMRAqZ4",
        "outputId": "0d3252e9-7a10-47ae-a385-2cf1b9485656"
      },
      "execution_count": null,
      "outputs": [
        {
          "output_type": "execute_result",
          "data": {
            "text/plain": [
              "'HelloPython'"
            ],
            "application/vnd.google.colaboratory.intrinsic+json": {
              "type": "string"
            }
          },
          "metadata": {},
          "execution_count": 19
        }
      ]
    },
    {
      "cell_type": "code",
      "source": [
        "'Hello' * 5"
      ],
      "metadata": {
        "colab": {
          "base_uri": "https://localhost:8080/",
          "height": 35
        },
        "id": "otH2S8viAv1x",
        "outputId": "e5d5ac60-d125-4140-a346-4fd6ad5d1d31"
      },
      "execution_count": null,
      "outputs": [
        {
          "output_type": "execute_result",
          "data": {
            "text/plain": [
              "'HelloHelloHelloHelloHello'"
            ],
            "application/vnd.google.colaboratory.intrinsic+json": {
              "type": "string"
            }
          },
          "metadata": {},
          "execution_count": 20
        }
      ]
    },
    {
      "cell_type": "markdown",
      "source": [
        "# 비교 연산자와 논리 연산자\n",
        "\n",
        "* 비교 연산자: `==, !=, >, >=, <, <=`\n",
        "* 논리 연산자: `and, or, not`"
      ],
      "metadata": {
        "id": "vwrW0FUqBHVK"
      }
    },
    {
      "cell_type": "code",
      "source": [
        "x = 100"
      ],
      "metadata": {
        "id": "SpnTBrGlBo8p"
      },
      "execution_count": null,
      "outputs": []
    },
    {
      "cell_type": "code",
      "source": [
        "(x > 50) and (x < 150)"
      ],
      "metadata": {
        "colab": {
          "base_uri": "https://localhost:8080/"
        },
        "id": "BxruOoDnBuPF",
        "outputId": "04ff36f0-cdcf-4373-a729-0aad377f2622"
      },
      "execution_count": null,
      "outputs": [
        {
          "output_type": "execute_result",
          "data": {
            "text/plain": [
              "True"
            ]
          },
          "metadata": {},
          "execution_count": 22
        }
      ]
    },
    {
      "cell_type": "code",
      "source": [
        "50 < x < 150"
      ],
      "metadata": {
        "colab": {
          "base_uri": "https://localhost:8080/"
        },
        "id": "ZErNUC8bCU4i",
        "outputId": "1146f048-733b-436e-c25e-f3a87d649032"
      },
      "execution_count": null,
      "outputs": [
        {
          "output_type": "execute_result",
          "data": {
            "text/plain": [
              "True"
            ]
          },
          "metadata": {},
          "execution_count": 23
        }
      ]
    },
    {
      "cell_type": "markdown",
      "source": [
        "# EX 1.\n",
        "* 3개의 정수를 입력받고 각각 변수에 저장.\n",
        "* 3개의 정수의 평균을 소수점까지 계산하고 출력.\n",
        "* 평균이 90 이상이면 A, 80 이상이면 B, 70 이상이면 C, 70 미만이면 F.\n"
      ],
      "metadata": {
        "id": "tXXnmx2LCvX3"
      }
    },
    {
      "cell_type": "code",
      "source": [
        "a = int(input(\"첫번째 점수를 입력해주세요: \"))\n",
        "b = int(input(\"두번째 점수를 입력해주세요: \"))\n",
        "c = int(input(\"세번째 점수를 입력해주세요: \"))\n",
        "total = a + b + c\n",
        "avg = total / 3\n",
        "print(\"Average is\", round(avg, 2))\n",
        "if (avg >= 90):\n",
        "    print(\"A\")\n",
        "elif (avg >= 80):\n",
        "    print(\"B\")\n",
        "elif (avg >= 70):\n",
        "    print(\"C\")\n",
        "else:\n",
        "    print(\"F\")"
      ],
      "metadata": {
        "colab": {
          "base_uri": "https://localhost:8080/"
        },
        "id": "xixxAP-JDnqS",
        "outputId": "c2dbeb38-337b-41f1-f6e1-4607610b1725"
      },
      "execution_count": null,
      "outputs": [
        {
          "output_type": "stream",
          "name": "stdout",
          "text": [
            "첫번째 점수를 입력해주세요: 80\n",
            "두번째 점수를 입력해주세요: 99\n",
            "세번째 점수를 입력해주세요: 85\n",
            "Average is 88.0\n",
            "B\n"
          ]
        }
      ]
    },
    {
      "cell_type": "markdown",
      "source": [
        "EX 2.\n",
        "* 구구단 12단 (12x1, ..., 12x12)을 출력"
      ],
      "metadata": {
        "id": "rNXN5xqKFXf9"
      }
    },
    {
      "cell_type": "code",
      "source": [
        "for x in range(1, 13):\n",
        "    print(\"12 x\", (x), \"=\", (x*12)) # 이걸 앞에 f''를 붙이는것도 가능."
      ],
      "metadata": {
        "colab": {
          "base_uri": "https://localhost:8080/"
        },
        "id": "nbu54Bp1FjH8",
        "outputId": "72d59b6e-716b-47a9-d21f-78ae5a9df123"
      },
      "execution_count": null,
      "outputs": [
        {
          "output_type": "stream",
          "name": "stdout",
          "text": [
            "12 x 1 = 12\n",
            "12 x 2 = 24\n",
            "12 x 3 = 36\n",
            "12 x 4 = 48\n",
            "12 x 5 = 60\n",
            "12 x 6 = 72\n",
            "12 x 7 = 84\n",
            "12 x 8 = 96\n",
            "12 x 9 = 108\n",
            "12 x 10 = 120\n",
            "12 x 11 = 132\n",
            "12 x 12 = 144\n"
          ]
        }
      ]
    }
  ]
}