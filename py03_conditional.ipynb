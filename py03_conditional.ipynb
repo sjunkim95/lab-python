{
  "nbformat": 4,
  "nbformat_minor": 0,
  "metadata": {
    "colab": {
      "provenance": [],
      "toc_visible": true,
      "authorship_tag": "ABX9TyMJkRtQmPtIcg5F4z4q60yK",
      "include_colab_link": true
    },
    "kernelspec": {
      "name": "python3",
      "display_name": "Python 3"
    },
    "language_info": {
      "name": "python"
    }
  },
  "cells": [
    {
      "cell_type": "markdown",
      "metadata": {
        "id": "view-in-github",
        "colab_type": "text"
      },
      "source": [
        "<a href=\"https://colab.research.google.com/github/sjunkim95/lab-python/blob/main/py03_conditional.ipynb\" target=\"_parent\"><img src=\"https://colab.research.google.com/assets/colab-badge.svg\" alt=\"Open In Colab\"/></a>"
      ]
    },
    {
      "cell_type": "markdown",
      "source": [
        "# else가 없는 조건문\n",
        "\n",
        "```\n",
        "if 조건식:\n",
        "    조건식이 참일 때 실행할 코드(블록)\n",
        "```\n",
        "\n",
        "* `if 조건식` 뒤에는 반드시 콜론(:)을 사용해야 함.\n",
        "* `if` 블록(조건식이 참일 때 실행하는 문장들)은 반드시 **같은 크기로** 들여쓰기(indentation)를 해야 함.\n"
      ],
      "metadata": {
        "id": "paorAMSohUJX"
      }
    },
    {
      "cell_type": "code",
      "source": [
        "n = -100"
      ],
      "metadata": {
        "id": "IxZQWtIwhTtx"
      },
      "execution_count": null,
      "outputs": []
    },
    {
      "cell_type": "code",
      "source": [
        "if n > 0:\n",
        "    print('양수')\n",
        "    print('if 블록 끝')\n",
        "\n",
        "print('if 바깥')"
      ],
      "metadata": {
        "colab": {
          "base_uri": "https://localhost:8080/"
        },
        "id": "si1pCyUahgXr",
        "outputId": "fc2a2a5c-6eeb-416f-fe0f-8f2952cb5304"
      },
      "execution_count": null,
      "outputs": [
        {
          "output_type": "stream",
          "name": "stdout",
          "text": [
            "if 바깥\n"
          ]
        }
      ]
    },
    {
      "cell_type": "markdown",
      "source": [
        "# else가 있는 조건문\n",
        "\n",
        "```\n",
        "if 조건식:\n",
        "    조건식이 참일 때 실행할 코드 블록\n",
        "else:\n",
        "    조건식이 거짓을 때 실행할 코드 블록\n",
        "```\n"
      ],
      "metadata": {
        "id": "y9ETzeeYhriN"
      }
    },
    {
      "cell_type": "code",
      "source": [
        "n = int(input('정수 입력>>> '))\n",
        "if n % 2:  # 정수 n을 2로 나눈 나머지가 있으면(나머지가 0이 아니면)\n",
        "    print('홀수')\n",
        "else:\n",
        "    print('짝수')"
      ],
      "metadata": {
        "colab": {
          "base_uri": "https://localhost:8080/"
        },
        "id": "0jd7Z9dvhwfY",
        "outputId": "62f02fc0-50e7-4ac8-a2cf-d9a5d55cb3ef"
      },
      "execution_count": null,
      "outputs": [
        {
          "output_type": "stream",
          "name": "stdout",
          "text": [
            "정수 입력>>> 23\n",
            "홀수\n"
          ]
        }
      ]
    },
    {
      "cell_type": "markdown",
      "source": [
        "Python에서 참(True)으로 취급하는 것들:\n",
        "\n",
        "* 0이 아닌 숫자들\n",
        "* 1개 이상의 글자를 가지고 있는 문자열\n",
        "* 1개 이상의 원소를 가지고 있는 리스트, ...\n"
      ],
      "metadata": {
        "id": "8ocGdX7yh3wC"
      }
    },
    {
      "cell_type": "markdown",
      "source": [
        "# chained conditional\n",
        "\n",
        "```\n",
        "if 조건식1:\n",
        "    조건식1이 참일 때 실행할 코드 블록\n",
        "elif 조건식2:\n",
        "    조건식2가 참일 때 실행할 코드 블록\n",
        "...\n",
        "else:\n",
        "    위의 모든 조건식들을 만족하지 못할 때 실행할 코드 블록\n",
        "```\n"
      ],
      "metadata": {
        "id": "eKaTEo_eh5-n"
      }
    },
    {
      "cell_type": "code",
      "source": [
        "x = int(input('정수 입력>>> '))\n",
        "y = int(input('정수 입력>>> '))\n",
        "z = int(input('정수 입력>>> '))\n",
        "\n",
        "avg = (x + y + z) / 3;\n",
        "print(f'평균 = {avg}')\n",
        "\n",
        "if avg >= 90:\n",
        "    print('A')\n",
        "elif avg >= 80:\n",
        "    print('B')\n",
        "elif avg >= 70:\n",
        "    print('C')\n",
        "else:\n",
        "    print('F')"
      ],
      "metadata": {
        "colab": {
          "base_uri": "https://localhost:8080/"
        },
        "id": "aBuTSBF0h-ar",
        "outputId": "ba32ed19-416a-4e5d-d6c9-74615d14498d"
      },
      "execution_count": null,
      "outputs": [
        {
          "output_type": "stream",
          "name": "stdout",
          "text": [
            "정수 입력>>> 23\n",
            "정수 입력>>> 0\n",
            "정수 입력>>> 100\n",
            "평균 = 41.0\n",
            "F\n"
          ]
        }
      ]
    }
  ]
}