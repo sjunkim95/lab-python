{
  "nbformat": 4,
  "nbformat_minor": 0,
  "metadata": {
    "colab": {
      "provenance": [],
      "authorship_tag": "ABX9TyNTu2iGBoyClPV/jl0Y5E3J",
      "include_colab_link": true
    },
    "kernelspec": {
      "name": "python3",
      "display_name": "Python 3"
    },
    "language_info": {
      "name": "python"
    }
  },
  "cells": [
    {
      "cell_type": "markdown",
      "metadata": {
        "id": "view-in-github",
        "colab_type": "text"
      },
      "source": [
        "<a href=\"https://colab.research.google.com/github/sjunkim95/lab-python/blob/main/py08_dict.ipynb\" target=\"_parent\"><img src=\"https://colab.research.google.com/assets/colab-badge.svg\" alt=\"Open In Colab\"/></a>"
      ]
    },
    {
      "cell_type": "markdown",
      "source": [
        "# dict\n",
        "\n",
        "* dictionary(사전) 형식의 데이터 타입.\n",
        "* 키(key)를 기반으로 값(value)를 저장하는 데이터 타입.\n",
        "    * list, tupe: 인덱스(index)를 기반으로 값을 저장하는 데이터 타입.\n",
        "    * dict에서 키(key)의 역할은 리스트나 튜플에서 인덱스와 비슷한 역할: dict의 원소 1개를 참조하기 위한 용도."
      ],
      "metadata": {
        "id": "7OQwIxDnjGja"
      }
    },
    {
      "cell_type": "code",
      "execution_count": null,
      "metadata": {
        "colab": {
          "base_uri": "https://localhost:8080/"
        },
        "id": "kTOCvQ6jixAt",
        "outputId": "d27bd42e-e713-44e8-c5f9-6ec4273ddc37"
      },
      "outputs": [
        {
          "output_type": "execute_result",
          "data": {
            "text/plain": [
              "{1: '홍길동', 2: '김길동', 3: '오쌤'}"
            ]
          },
          "metadata": {},
          "execution_count": 2
        }
      ],
      "source": [
        "students = {1: '홍길동', 2: '김길동', 3: '오쌤'}\n",
        "students"
      ]
    },
    {
      "cell_type": "code",
      "source": [
        "type(students)"
      ],
      "metadata": {
        "colab": {
          "base_uri": "https://localhost:8080/"
        },
        "id": "jQEqhQczkZi-",
        "outputId": "c70e6ce9-d091-43be-8e14-d38fd3fa5fc7"
      },
      "execution_count": null,
      "outputs": [
        {
          "output_type": "execute_result",
          "data": {
            "text/plain": [
              "dict"
            ]
          },
          "metadata": {},
          "execution_count": 3
        }
      ]
    },
    {
      "cell_type": "markdown",
      "source": [
        "dict에서 키를 사용하는 방법은 리스트나 튜플과 마찬가지로 인덱스 연산자(`[]`)를 사용."
      ],
      "metadata": {
        "id": "tA7vmkx-kiOS"
      }
    },
    {
      "cell_type": "code",
      "source": [
        "students[1]"
      ],
      "metadata": {
        "colab": {
          "base_uri": "https://localhost:8080/",
          "height": 35
        },
        "id": "hXcUUSskkcIn",
        "outputId": "820bb3d6-aac5-43f2-b1e6-72b84f0c54d5"
      },
      "execution_count": null,
      "outputs": [
        {
          "output_type": "execute_result",
          "data": {
            "text/plain": [
              "'홍길동'"
            ],
            "application/vnd.google.colaboratory.intrinsic+json": {
              "type": "string"
            }
          },
          "metadata": {},
          "execution_count": 4
        }
      ]
    },
    {
      "cell_type": "code",
      "source": [
        "students[10] = 'Scott' # 원소 추가: dict[new_key] = new_value\n",
        "students"
      ],
      "metadata": {
        "colab": {
          "base_uri": "https://localhost:8080/"
        },
        "id": "4TUdbr86k9t9",
        "outputId": "434b6c02-4d3e-42b7-edec-f81e22275710"
      },
      "execution_count": null,
      "outputs": [
        {
          "output_type": "execute_result",
          "data": {
            "text/plain": [
              "{1: '홍길동', 2: '김길동', 3: '오쌤', 10: 'Scott'}"
            ]
          },
          "metadata": {},
          "execution_count": 5
        }
      ]
    },
    {
      "cell_type": "code",
      "source": [
        "students[2] = '허균' # 원소 변경: dict[old_key] = new_value\n",
        "students \n"
      ],
      "metadata": {
        "colab": {
          "base_uri": "https://localhost:8080/"
        },
        "id": "9bJvK0dGlQxG",
        "outputId": "181e1f9e-b552-42ae-9a5b-148cc51ec1b3"
      },
      "execution_count": null,
      "outputs": [
        {
          "output_type": "execute_result",
          "data": {
            "text/plain": [
              "{1: '홍길동', 2: '허균', 10: 'Scott', 3: '오쌤'}"
            ]
          },
          "metadata": {},
          "execution_count": 10
        }
      ]
    },
    {
      "cell_type": "code",
      "source": [
        "students.pop(3) # 원소 삭제: dict.pop(key)\n",
        "students"
      ],
      "metadata": {
        "colab": {
          "base_uri": "https://localhost:8080/"
        },
        "id": "qKLsY2aDl2UQ",
        "outputId": "e02e488c-1f90-4fd4-834c-a8b57ad9e581"
      },
      "execution_count": null,
      "outputs": [
        {
          "output_type": "execute_result",
          "data": {
            "text/plain": [
              "{1: '홍길동', 2: '허균', 10: 'Scott'}"
            ]
          },
          "metadata": {},
          "execution_count": 11
        }
      ]
    },
    {
      "cell_type": "markdown",
      "source": [
        "dict에서 key와 value는 다양한 타입의 자료들을 사용할 수 있음."
      ],
      "metadata": {
        "id": "_tQZDxKQ2tEH"
      }
    },
    {
      "cell_type": "code",
      "source": [
        "contact = {\n",
        "    'no' : 1,\n",
        "    'name' : '오쌤',\n",
        "    'phone' : ['010-0000-0000', '02-0000-0000'],\n",
        "    'email' : {'company' : 'jake@itwill.co.kr', 'personal' : 'jake@gmail.com'}\n",
        "\n",
        "}\n",
        "\n",
        "contact"
      ],
      "metadata": {
        "colab": {
          "base_uri": "https://localhost:8080/"
        },
        "id": "NpH5AVvB2yNl",
        "outputId": "4da94c27-bcb7-43b1-f094-8feeeaf0eca0"
      },
      "execution_count": null,
      "outputs": [
        {
          "output_type": "execute_result",
          "data": {
            "text/plain": [
              "{'no': 1,\n",
              " 'name': '오쌤',\n",
              " 'phone': ['010-0000-0000', '02-0000-0000'],\n",
              " 'email': {'company': 'jake@itwill.co.kr', 'personal': 'jake@gmail.com'}}"
            ]
          },
          "metadata": {},
          "execution_count": 1
        }
      ]
    },
    {
      "cell_type": "code",
      "source": [
        "contact['no']"
      ],
      "metadata": {
        "colab": {
          "base_uri": "https://localhost:8080/"
        },
        "id": "9KgyAKGy3pM1",
        "outputId": "5be35e8c-d752-4994-80c6-4551149a02cb"
      },
      "execution_count": null,
      "outputs": [
        {
          "output_type": "execute_result",
          "data": {
            "text/plain": [
              "1"
            ]
          },
          "metadata": {},
          "execution_count": 3
        }
      ]
    },
    {
      "cell_type": "code",
      "source": [
        "contact['phone'][0]"
      ],
      "metadata": {
        "colab": {
          "base_uri": "https://localhost:8080/",
          "height": 35
        },
        "id": "my1cHYgO4A6X",
        "outputId": "8e4b79cc-208a-4e05-ea47-382e2f88d350"
      },
      "execution_count": null,
      "outputs": [
        {
          "output_type": "execute_result",
          "data": {
            "text/plain": [
              "'010-0000-0000'"
            ],
            "application/vnd.google.colaboratory.intrinsic+json": {
              "type": "string"
            }
          },
          "metadata": {},
          "execution_count": 4
        }
      ]
    },
    {
      "cell_type": "code",
      "source": [
        "contact['email']"
      ],
      "metadata": {
        "colab": {
          "base_uri": "https://localhost:8080/"
        },
        "id": "eRrtjfpc4FHJ",
        "outputId": "527e405e-b054-4002-e070-2571dd46a764"
      },
      "execution_count": null,
      "outputs": [
        {
          "output_type": "execute_result",
          "data": {
            "text/plain": [
              "{'company': 'jake@itwill.co.kr', 'personal': 'jake@gmail.com'}"
            ]
          },
          "metadata": {},
          "execution_count": 6
        }
      ]
    },
    {
      "cell_type": "code",
      "source": [
        "contact['email']['company']"
      ],
      "metadata": {
        "colab": {
          "base_uri": "https://localhost:8080/",
          "height": 35
        },
        "id": "c1WiQ5Gl4OSs",
        "outputId": "6b56290a-50ab-4ab8-dbd0-6710e17b1abf"
      },
      "execution_count": null,
      "outputs": [
        {
          "output_type": "execute_result",
          "data": {
            "text/plain": [
              "'jake@itwill.co.kr'"
            ],
            "application/vnd.google.colaboratory.intrinsic+json": {
              "type": "string"
            }
          },
          "metadata": {},
          "execution_count": 7
        }
      ]
    },
    {
      "cell_type": "markdown",
      "source": [
        "# dict와 for 반복문\n",
        "\n",
        "for-in 구문에서 dict 타입 객체를 사용하면 key에 대해서 반복(iterate)함."
      ],
      "metadata": {
        "id": "hJDMGCbG4j6F"
      }
    },
    {
      "cell_type": "code",
      "source": [
        "for k in contact:\n",
        "    print(k)"
      ],
      "metadata": {
        "colab": {
          "base_uri": "https://localhost:8080/"
        },
        "id": "a-AaQnM64xt1",
        "outputId": "fae98844-bdce-4284-b738-158a34169978"
      },
      "execution_count": null,
      "outputs": [
        {
          "output_type": "stream",
          "name": "stdout",
          "text": [
            "no\n",
            "name\n",
            "phone\n",
            "email\n"
          ]
        }
      ]
    },
    {
      "cell_type": "code",
      "source": [
        "for k in contact:\n",
        "    print(k, ':', contact[k])"
      ],
      "metadata": {
        "colab": {
          "base_uri": "https://localhost:8080/"
        },
        "id": "uU0yVumC40Z8",
        "outputId": "b3f89bbb-f015-49c8-9f83-e0279cefe2e8"
      },
      "execution_count": null,
      "outputs": [
        {
          "output_type": "stream",
          "name": "stdout",
          "text": [
            "no : 1\n",
            "name : 오쌤\n",
            "phone : ['010-0000-0000', '02-0000-0000']\n",
            "email : {'company': 'jake@itwill.co.kr', 'personal': 'jake@gmail.com'}\n"
          ]
        }
      ]
    },
    {
      "cell_type": "code",
      "source": [
        "contact.items() # (key, value) 튜플들의 리스트"
      ],
      "metadata": {
        "colab": {
          "base_uri": "https://localhost:8080/"
        },
        "id": "QPTbaSHT5DMx",
        "outputId": "59b1c50f-095f-4b10-81f7-606ad84ae7fa"
      },
      "execution_count": null,
      "outputs": [
        {
          "output_type": "execute_result",
          "data": {
            "text/plain": [
              "dict_items([('no', 1), ('name', '오쌤'), ('phone', ['010-0000-0000', '02-0000-0000']), ('email', {'company': 'jake@itwill.co.kr', 'personal': 'jake@gmail.com'})])"
            ]
          },
          "metadata": {},
          "execution_count": 10
        }
      ]
    },
    {
      "cell_type": "code",
      "source": [
        "for k, v in contact.items():\n",
        "    print(k, \":\", v)"
      ],
      "metadata": {
        "colab": {
          "base_uri": "https://localhost:8080/"
        },
        "id": "qMvXJ_zn5eMQ",
        "outputId": "ba07e284-c653-48c2-fc22-f9cc49a6b8c4"
      },
      "execution_count": null,
      "outputs": [
        {
          "output_type": "stream",
          "name": "stdout",
          "text": [
            "no : 1\n",
            "name : 오쌤\n",
            "phone : ['010-0000-0000', '02-0000-0000']\n",
            "email : {'company': 'jake@itwill.co.kr', 'personal': 'jake@gmail.com'}\n"
          ]
        }
      ]
    },
    {
      "cell_type": "markdown",
      "source": [
        "# Dictionary Comprehension"
      ],
      "metadata": {
        "id": "v4v0kAGt5_Jk"
      }
    },
    {
      "cell_type": "code",
      "source": [
        "emp_no = [1000, 1001, 2000, 2001]\n",
        "emp_name = ['King', 'Scott', 'Allen', 'Tiger']"
      ],
      "metadata": {
        "id": "aWj8dyRM6BvL"
      },
      "execution_count": null,
      "outputs": []
    },
    {
      "cell_type": "code",
      "source": [
        "emp = {} # emp_no를 키로 하고 emp_name을 값으로 하는 dict"
      ],
      "metadata": {
        "id": "Q5Ijrj3t6Rzi"
      },
      "execution_count": null,
      "outputs": []
    },
    {
      "cell_type": "code",
      "source": [
        "for no, name in zip(emp_no, emp_name):\n",
        "    emp[no] = name\n",
        "\n",
        "emp"
      ],
      "metadata": {
        "colab": {
          "base_uri": "https://localhost:8080/"
        },
        "id": "mVxdIJXT6ce5",
        "outputId": "dc3f88b5-bcd1-4c76-fec9-774b9e14d74f"
      },
      "execution_count": null,
      "outputs": [
        {
          "output_type": "execute_result",
          "data": {
            "text/plain": [
              "{1000: 'King', 1001: 'Scott', 2000: 'Allen', 2001: 'Tiger'}"
            ]
          },
          "metadata": {},
          "execution_count": 17
        }
      ]
    },
    {
      "cell_type": "code",
      "source": [
        "# dictionary comprehension\n",
        "emp2 = {k:v for k, v in zip(emp_no, emp_name)}\n",
        "emp2"
      ],
      "metadata": {
        "colab": {
          "base_uri": "https://localhost:8080/"
        },
        "id": "iuFEKI-l8KI5",
        "outputId": "f80cef82-1558-4f5a-c22c-97286dc053a2"
      },
      "execution_count": null,
      "outputs": [
        {
          "output_type": "execute_result",
          "data": {
            "text/plain": [
              "{1000: 'King', 1001: 'Scott', 2000: 'Allen', 2001: 'Tiger'}"
            ]
          },
          "metadata": {},
          "execution_count": 18
        }
      ]
    },
    {
      "cell_type": "code",
      "source": [
        "messages = ['Merry, Christmas!', 'Happy New Year!', '새해 복 많이 받으세요.']\n",
        "\n",
        "# message의 문자열을 키로 하고, 그 문자열의 길이를 값으로 하는 dict\n",
        "message_lengths = {}\n",
        "\n",
        "for m in messages:\n",
        "    message_lengths[m] = len(m)\n",
        "\n",
        "message_lengths"
      ],
      "metadata": {
        "colab": {
          "base_uri": "https://localhost:8080/"
        },
        "id": "F8rTcsJN8V5Y",
        "outputId": "02a9912d-e9a5-40f1-a017-20569af54179"
      },
      "execution_count": null,
      "outputs": [
        {
          "output_type": "execute_result",
          "data": {
            "text/plain": [
              "{'Merry, Christmas!': 17, 'Happy New Year!': 15, '새해 복 많이 받으세요.': 13}"
            ]
          },
          "metadata": {},
          "execution_count": 25
        }
      ]
    },
    {
      "cell_type": "code",
      "source": [
        "{m:len(m) for m in messages}"
      ],
      "metadata": {
        "colab": {
          "base_uri": "https://localhost:8080/"
        },
        "id": "7B9MZ3io-Q28",
        "outputId": "8aa5f781-1d6c-4d27-c7c8-ade47c2cda90"
      },
      "execution_count": null,
      "outputs": [
        {
          "output_type": "execute_result",
          "data": {
            "text/plain": [
              "{'Merry, Christmas!': 17, 'Happy New Year!': 15, '새해 복 많이 받으세요.': 13}"
            ]
          },
          "metadata": {},
          "execution_count": 26
        }
      ]
    }
  ]
}