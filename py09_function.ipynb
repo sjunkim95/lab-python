{
  "nbformat": 4,
  "nbformat_minor": 0,
  "metadata": {
    "colab": {
      "provenance": [],
      "toc_visible": true,
      "authorship_tag": "ABX9TyO7DfNroGQZIDItDj4S4hPm",
      "include_colab_link": true
    },
    "kernelspec": {
      "name": "python3",
      "display_name": "Python 3"
    },
    "language_info": {
      "name": "python"
    }
  },
  "cells": [
    {
      "cell_type": "markdown",
      "metadata": {
        "id": "view-in-github",
        "colab_type": "text"
      },
      "source": [
        "<a href=\"https://colab.research.google.com/github/sjunkim95/lab-python/blob/main/py09_function.ipynb\" target=\"_parent\"><img src=\"https://colab.research.google.com/assets/colab-badge.svg\" alt=\"Open In Colab\"/></a>"
      ]
    },
    {
      "cell_type": "markdown",
      "source": [
        "# 함수(function)\n",
        "\n",
        "* 함수(function): 기능을 수행하는 코드 블록.\n",
        "* 인수(argument): 함수를 호출할 때 함수에게 전달하는 값(들).\n",
        "* 매개변수(parameter): argument를 저장하기 위해서 함수를 정의할 때 선언하는 (지역) 변수.\n",
        "* 반환 값(return value): 함수가 기능의 수행 결과로 반환하는 값.\n",
        "    * 반환 값이 있는 함수\n",
        "    * 반환 값이 없는 함수"
      ],
      "metadata": {
        "id": "gtqv74iI_DOw"
      }
    },
    {
      "cell_type": "markdown",
      "source": [
        "파이썬에서 함수를 정의하는 방법:\n",
        "```\n",
        "def function_name([param, ...]):\n",
        "    [\"\"\"문서화 주석: 함수 설명, 파라미터 설명, 리턴 값 설명\"\"\"]\n",
        "    함수 기능 코드 블록\n",
        "    [return 값]\n",
        "```"
      ],
      "metadata": {
        "id": "ak3PWB2TAKRq"
      }
    },
    {
      "cell_type": "code",
      "execution_count": null,
      "metadata": {
        "id": "j-SB7foC-1Zq"
      },
      "outputs": [],
      "source": [
        "def subtract(x, y):\n",
        "    \"\"\" 숫자 x, y를 전달받아서, x-y를 리턴하는 함수.\n",
        "    \"\"\"\n",
        "    return x - y"
      ]
    },
    {
      "cell_type": "code",
      "source": [
        "result = subtract(10, 5)\n",
        "result"
      ],
      "metadata": {
        "colab": {
          "base_uri": "https://localhost:8080/"
        },
        "id": "bqbpeleEB5DE",
        "outputId": "7a844790-d29b-462e-875c-3e1fbf0123cc"
      },
      "execution_count": null,
      "outputs": [
        {
          "output_type": "execute_result",
          "data": {
            "text/plain": [
              "5"
            ]
          },
          "metadata": {},
          "execution_count": 12
        }
      ]
    },
    {
      "cell_type": "markdown",
      "source": [
        "파이썬의 함수는 2개 이상의 값을 반환할 수 있음. 튜플을 리턴하는 것."
      ],
      "metadata": {
        "id": "7A0ifNalGeKj"
      }
    },
    {
      "cell_type": "code",
      "source": [
        "def plus_and_minus(x, y):\n",
        "    \"\"\"2개의 숫자 x, y를 전달받아서, x + y와 x - y를 리턴하는 함수\n",
        "    \"\"\"\n",
        "\n",
        "    return x + y, x - y"
      ],
      "metadata": {
        "id": "M9GL440qGoYV"
      },
      "execution_count": null,
      "outputs": []
    },
    {
      "cell_type": "code",
      "source": [
        "result = plus_and_minus(2, 3)\n",
        "result"
      ],
      "metadata": {
        "colab": {
          "base_uri": "https://localhost:8080/"
        },
        "id": "FF241Pc8G3KG",
        "outputId": "45c8bf82-eb47-4031-fad6-4e917aad2d19"
      },
      "execution_count": null,
      "outputs": [
        {
          "output_type": "execute_result",
          "data": {
            "text/plain": [
              "(5, -1)"
            ]
          },
          "metadata": {},
          "execution_count": 14
        }
      ]
    },
    {
      "cell_type": "code",
      "source": [
        "plus, minus = plus_and_minus(1, 2)\n",
        "print(plus)\n",
        "print(minus)"
      ],
      "metadata": {
        "colab": {
          "base_uri": "https://localhost:8080/"
        },
        "id": "6W2G07ycHO2a",
        "outputId": "aa443105-3cf5-4e0e-f8b9-6a5add802ffa"
      },
      "execution_count": null,
      "outputs": [
        {
          "output_type": "stream",
          "name": "stdout",
          "text": [
            "3\n",
            "-1\n"
          ]
        }
      ]
    },
    {
      "cell_type": "markdown",
      "source": [
        "값을 반환하지 않는 함수."
      ],
      "metadata": {
        "id": "hHB8WK7ZHweo"
      }
    },
    {
      "cell_type": "code",
      "source": [
        "def repeat_message(message, n):\n",
        "    \"\"\"문자열 message와 반복 횟수 n을 전달받아서, 문자열을 n번 출력하는 함수\"\"\"\n",
        "    for _ in range(n):\n",
        "        print(message)\n",
        "\n",
        "    return None # 반환 값이 없음을 명시적으로 작성.\n",
        "    # 반환 값이 없는 경우에 return None 문장은 보통 생략함."
      ],
      "metadata": {
        "id": "XbyzzkB3Hz8-"
      },
      "execution_count": null,
      "outputs": []
    },
    {
      "cell_type": "code",
      "source": [
        "result = repeat_message('안녕하세요', 3)\n",
        "print(f'result = {result}') # 위에 함수에서 return None이란 문장이 없어도 return값이 없음으로, None을 반환."
      ],
      "metadata": {
        "colab": {
          "base_uri": "https://localhost:8080/"
        },
        "id": "Ub_GSj7PIQ2n",
        "outputId": "d8848469-f92a-4922-9b42-0875cb578ac8"
      },
      "execution_count": null,
      "outputs": [
        {
          "output_type": "stream",
          "name": "stdout",
          "text": [
            "안녕하세요\n",
            "안녕하세요\n",
            "안녕하세요\n",
            "result = None\n"
          ]
        }
      ]
    },
    {
      "cell_type": "markdown",
      "source": [
        "# 함수 작성 연습"
      ],
      "metadata": {
        "id": "ZP5HzrbqJcc4"
      }
    },
    {
      "cell_type": "code",
      "source": [
        "import random # 난수 생성\n",
        "import math # sqrt() 함수"
      ],
      "metadata": {
        "id": "DrUK8B3DMTB5"
      },
      "execution_count": null,
      "outputs": []
    },
    {
      "cell_type": "markdown",
      "source": [
        "## Ex 1.\n",
        "\n",
        "* 함수 이름: make_list\n",
        "* 기능: start 이상 end 미만의 정수 난수 n개를 갖는 리스트를 반환하는 함수."
      ],
      "metadata": {
        "id": "xO7twt_gJgOD"
      }
    },
    {
      "cell_type": "code",
      "source": [
        "def make_list(start, end, n):\n",
        "    \n",
        "    return [random.randrange(start, end) for _ in range(n)]\n"
      ],
      "metadata": {
        "id": "gk0Vk9PLNn_t"
      },
      "execution_count": null,
      "outputs": []
    },
    {
      "cell_type": "code",
      "source": [
        "numbers = make_list(0, 10, 5)\n",
        "print(numbers)"
      ],
      "metadata": {
        "colab": {
          "base_uri": "https://localhost:8080/"
        },
        "id": "XQ-t3tDWPDcR",
        "outputId": "a307ea82-6cfc-4e4d-db21-a2af25a6250f"
      },
      "execution_count": null,
      "outputs": [
        {
          "output_type": "stream",
          "name": "stdout",
          "text": [
            "[1, 5, 7, 2, 5]\n"
          ]
        }
      ]
    },
    {
      "cell_type": "markdown",
      "source": [
        "## Ex 2.\n",
        "\n",
        "* 함수 이름: calc_sum\n",
        "* 기능: 숫자들의 리스트를 전달받아서, 리스트의 모든 원소들의 합을 리턴하는 함수."
      ],
      "metadata": {
        "id": "dzkUQbcLKRsy"
      }
    },
    {
      "cell_type": "code",
      "source": [
        "def calc_sum(num_list):\n",
        "\n",
        "    # return sum(num_list) -> 이렇게 간단하지만 좀 길게 풀면\n",
        "    total = 0\n",
        "    for x in num_list:\n",
        "        total += x\n",
        "    \n",
        "    return total\n",
        "     "
      ],
      "metadata": {
        "id": "cJqE4Z1FSY-d"
      },
      "execution_count": null,
      "outputs": []
    },
    {
      "cell_type": "code",
      "source": [
        "calc_sum(numbers)"
      ],
      "metadata": {
        "colab": {
          "base_uri": "https://localhost:8080/"
        },
        "id": "XriOly5WTryp",
        "outputId": "95d090f4-d422-440e-ab71-e86ca16d6803"
      },
      "execution_count": null,
      "outputs": [
        {
          "output_type": "execute_result",
          "data": {
            "text/plain": [
              "20"
            ]
          },
          "metadata": {},
          "execution_count": 56
        }
      ]
    },
    {
      "cell_type": "markdown",
      "source": [
        "## Ex 3.\n",
        "\n",
        "* 함수 이름: calc_mean\n",
        "* 기능: 숫자들의 리스트를 전달받아서, 리스트의 원소들의 평균을 리턴하는 함수."
      ],
      "metadata": {
        "id": "oAppcTehKYpA"
      }
    },
    {
      "cell_type": "code",
      "source": [
        "def calc_mean(num_list):\n",
        "    return calc_sum(num_list) / len(num_list)"
      ],
      "metadata": {
        "id": "diOVocn9W2Dk"
      },
      "execution_count": null,
      "outputs": []
    },
    {
      "cell_type": "code",
      "source": [
        "calc_mean(numbers)"
      ],
      "metadata": {
        "colab": {
          "base_uri": "https://localhost:8080/"
        },
        "id": "EcUOHfdcW4JQ",
        "outputId": "4f7bdd87-0994-430a-b638-514f08b564be"
      },
      "execution_count": null,
      "outputs": [
        {
          "output_type": "execute_result",
          "data": {
            "text/plain": [
              "4.0"
            ]
          },
          "metadata": {},
          "execution_count": 58
        }
      ]
    },
    {
      "cell_type": "markdown",
      "source": [
        "## Ex 4.\n",
        "\n",
        "* 함수 이름: calc_var\n",
        "* 기능: 숫자들의 리스트를 전달받아서, 리스트의 원소들의 분산(variance)을 리턴하는 함수.\n",
        "    * 분산 = (값 - 평균)**2 들의 평균."
      ],
      "metadata": {
        "id": "YtfmuPk8Kf6L"
      }
    },
    {
      "cell_type": "code",
      "source": [
        "def calc_var(num_list):\n",
        "    mean = calc_mean(num_list) # 리스트 원소들의 평균\n",
        "    squares = [(x - mean) ** 2 for x in num_list]\n",
        "    return calc_mean(squares) "
      ],
      "metadata": {
        "id": "SG8-zzBAW2bR"
      },
      "execution_count": null,
      "outputs": []
    },
    {
      "cell_type": "code",
      "source": [
        "calc_var(numbers)"
      ],
      "metadata": {
        "colab": {
          "base_uri": "https://localhost:8080/"
        },
        "id": "H-_u1-YEW2fq",
        "outputId": "420527b3-53b8-4a12-941a-dbe5f6b0985f"
      },
      "execution_count": null,
      "outputs": [
        {
          "output_type": "execute_result",
          "data": {
            "text/plain": [
              "4.8"
            ]
          },
          "metadata": {},
          "execution_count": 63
        }
      ]
    },
    {
      "cell_type": "markdown",
      "source": [
        "## Ex 5.\n",
        "\n",
        "* 함수 이름: calc_stddev, 표준편차\n",
        "* 기능: 숫자들의 리스트를 전달받아서, 리스트의 원소들의 표준편차(standard deviation)를 리턴하는 함수.\n",
        "    * 표준편차 = root(분산)"
      ],
      "metadata": {
        "id": "6TUVHDp-LugG"
      }
    },
    {
      "cell_type": "code",
      "source": [
        "def calc_stddev(num_list):\n",
        "    return math.sqrt(calc_var(num_list)) # 애초에 제곱을 했으니까. 즉, 표쥰편차는 또 분산에다가 루트를 씌워도 된다."
      ],
      "metadata": {
        "id": "Msi4SPmrW4ot"
      },
      "execution_count": null,
      "outputs": []
    },
    {
      "cell_type": "code",
      "source": [
        "calc_stddev(numbers) # 각각의 데이터들이 실제 평균에서 얼마나 떨어졌느냐"
      ],
      "metadata": {
        "colab": {
          "base_uri": "https://localhost:8080/"
        },
        "id": "VDNNZo4pW4rO",
        "outputId": "572370bb-0e06-4b15-8d9e-bf020546a9e3"
      },
      "execution_count": null,
      "outputs": [
        {
          "output_type": "execute_result",
          "data": {
            "text/plain": [
              "2.1908902300206643"
            ]
          },
          "metadata": {},
          "execution_count": 69
        }
      ]
    },
    {
      "cell_type": "markdown",
      "source": [
        "## Ex 6.\n",
        "\n",
        "* 함수 이름: find_max_and_min\n",
        "* 기능: 숫자들의 리스트에서 최댓값과 최솟값을 리턴하는 함수."
      ],
      "metadata": {
        "id": "8QXt64hbM0LG"
      }
    },
    {
      "cell_type": "code",
      "source": [
        "def find_max_and_min(num_list):\n",
        "    \n",
        "    max = num_list[0] # 리스트에서 첫번째 원소를 최댓값이라고 가정.\n",
        "    min = num_list[0] # 리스트에서 첫번째 원소를 최솟값이라고 가정.\n",
        "\n",
        "    for x in num_list: # 리스트의 원소들을 처음부터 끝까지 반복하면서\n",
        "        if x > max: # 리스트에 있는 값이 max보다 크다면\n",
        "            max = x # 최댓값을 변경\n",
        "        if x < min: # 리스트에 있는 값이 min보다 적다면\n",
        "            min = x # 최솟값을 변경\n",
        "\n",
        "    return max, min"
      ],
      "metadata": {
        "id": "jKiQQPtQW5Ch"
      },
      "execution_count": null,
      "outputs": []
    },
    {
      "cell_type": "code",
      "source": [
        "find_max_and_min(numbers)"
      ],
      "metadata": {
        "colab": {
          "base_uri": "https://localhost:8080/"
        },
        "id": "LjF71N-hW5Em",
        "outputId": "4f228d32-0400-4f4a-e91d-3be5d6e41ff7"
      },
      "execution_count": null,
      "outputs": [
        {
          "output_type": "execute_result",
          "data": {
            "text/plain": [
              "(7, 1)"
            ]
          },
          "metadata": {},
          "execution_count": 72
        }
      ]
    },
    {
      "cell_type": "markdown",
      "source": [
        "# Default argument(기본 인수)\n",
        "\n",
        "* 함수를 정의할 때 파라미터에 설정한 기본값.\n",
        "* 함수를 호출할 때 default argument가 있는 파라미터에 값을 전달하지 않으면, 기본값이 사용됨.\n",
        "* 함수를 호출할 때 default argument가 있는 파라미터에 값을 전달하면, 기본값은 무시되고 잔달한 값을 사용함.\n",
        "* **(주의)** 함수를 정의할 때, default argument가 있는 파라미터들은 default argument가 없는 파라미터들 뒤에 선언해야 함!"
      ],
      "metadata": {
        "id": "ws-wGazFbCEm"
      }
    },
    {
      "cell_type": "code",
      "source": [
        "def repeat_message2(msg, n=1): # python은 java처럼 method overloading이 필요없다.\n",
        "    for _ in range(n):\n",
        "        print(msg)"
      ],
      "metadata": {
        "id": "ykQtuI2TbuLH"
      },
      "execution_count": null,
      "outputs": []
    },
    {
      "cell_type": "code",
      "source": [
        "repeat_message2('Hello')"
      ],
      "metadata": {
        "colab": {
          "base_uri": "https://localhost:8080/"
        },
        "id": "o3kWfH0jcFxx",
        "outputId": "a10363de-1dd8-44bc-c8a9-c3be27d985c3"
      },
      "execution_count": null,
      "outputs": [
        {
          "output_type": "stream",
          "name": "stdout",
          "text": [
            "Hello\n"
          ]
        }
      ]
    },
    {
      "cell_type": "code",
      "source": [
        "repeat_message2('Hello', 3)"
      ],
      "metadata": {
        "colab": {
          "base_uri": "https://localhost:8080/"
        },
        "id": "zKMpnVgtcVwv",
        "outputId": "b387d26e-af14-43e4-9ce4-7453f87e480e"
      },
      "execution_count": null,
      "outputs": [
        {
          "output_type": "stream",
          "name": "stdout",
          "text": [
            "Hello\n",
            "Hello\n",
            "Hello\n"
          ]
        }
      ]
    },
    {
      "cell_type": "markdown",
      "source": [
        "# argument 전달 방법:\n",
        "\n",
        "* **positional argument**: 함수 정의에선 선언된 파라미터 순서대로 argument 들을 전달하는 방법.\n",
        "* **keyword argument**: `param=value` 형식으로 argument들을 전달하는 방법.\n",
        "    * keyword argument 방식으로 argument들을 전달할 때는 파라미터 순서를 지키지 않아도 됨.\n",
        "* **(주의)**: 함수를 호출할 때 positional 방법과 keyword 방법을 함께 사용하는 경우에는 반드시 positional"
      ],
      "metadata": {
        "id": "fXkv1k3lhwOE"
      }
    },
    {
      "cell_type": "code",
      "source": [
        "def minus (x, y):\n",
        "    return x - y;"
      ],
      "metadata": {
        "id": "QTVFz9EThyRq"
      },
      "execution_count": null,
      "outputs": []
    },
    {
      "cell_type": "code",
      "source": [
        "minus(1, 2)  # positional argument"
      ],
      "metadata": {
        "colab": {
          "base_uri": "https://localhost:8080/"
        },
        "id": "t-m7yQFzlFTy",
        "outputId": "a7e276e2-117d-47d0-bdcd-8d8116636b85"
      },
      "execution_count": null,
      "outputs": [
        {
          "output_type": "execute_result",
          "data": {
            "text/plain": [
              "-1"
            ]
          },
          "metadata": {},
          "execution_count": 79
        }
      ]
    },
    {
      "cell_type": "code",
      "source": [
        "minus(x=1, y=2) # keyword argument"
      ],
      "metadata": {
        "colab": {
          "base_uri": "https://localhost:8080/"
        },
        "id": "tRzf55o4lFZN",
        "outputId": "01f49d05-d782-44b7-8101-22577c222b8f"
      },
      "execution_count": null,
      "outputs": [
        {
          "output_type": "execute_result",
          "data": {
            "text/plain": [
              "-1"
            ]
          },
          "metadata": {},
          "execution_count": 80
        }
      ]
    },
    {
      "cell_type": "code",
      "source": [
        "minus(y=2, x=1) # keyword 방식에서는 파라미터 순서를 지키지 않아도 됨. 변수명이 a, b로 바뀌면 안됨."
      ],
      "metadata": {
        "colab": {
          "base_uri": "https://localhost:8080/"
        },
        "id": "xzq73dxylFbj",
        "outputId": "07f7473c-723b-4fe6-9dee-a564a6706b69"
      },
      "execution_count": null,
      "outputs": [
        {
          "output_type": "execute_result",
          "data": {
            "text/plain": [
              "-1"
            ]
          },
          "metadata": {},
          "execution_count": 83
        }
      ]
    },
    {
      "cell_type": "code",
      "source": [
        "minus(1, y=2) # positional 방식과 keyword 방식을 함께 사용해도 됨."
      ],
      "metadata": {
        "colab": {
          "base_uri": "https://localhost:8080/"
        },
        "id": "qI48DGjKlFdm",
        "outputId": "7053f514-b08e-4f65-c62f-ed605b15780e"
      },
      "execution_count": null,
      "outputs": [
        {
          "output_type": "execute_result",
          "data": {
            "text/plain": [
              "-1"
            ]
          },
          "metadata": {},
          "execution_count": 85
        }
      ]
    },
    {
      "cell_type": "code",
      "source": [
        "# minus(y=2, 1)  -> 에러가 나온다, 포지션이 키워드 다음에 나오면 안된다."
      ],
      "metadata": {
        "colab": {
          "base_uri": "https://localhost:8080/",
          "height": 137
        },
        "id": "A-fAL1j5mBbi",
        "outputId": "29e70446-45d7-4bb8-d046-90e5d8011a1c"
      },
      "execution_count": null,
      "outputs": [
        {
          "output_type": "error",
          "ename": "SyntaxError",
          "evalue": "ignored",
          "traceback": [
            "\u001b[0;36m  File \u001b[0;32m\"<ipython-input-86-84500f34140b>\"\u001b[0;36m, line \u001b[0;32m1\u001b[0m\n\u001b[0;31m    minus(y=2, 1)\u001b[0m\n\u001b[0m               ^\u001b[0m\n\u001b[0;31mSyntaxError\u001b[0m\u001b[0;31m:\u001b[0m positional argument follows keyword argument\n"
          ]
        }
      ]
    },
    {
      "cell_type": "code",
      "source": [
        "# minus(x=2, 1) # keyword 방식이 positional 방식보다 먼저 나오면 문법 오류"
      ],
      "metadata": {
        "id": "plobYn9AmUXz"
      },
      "execution_count": null,
      "outputs": []
    },
    {
      "cell_type": "markdown",
      "source": [
        "# 가변길이 인수(variable-length argument)\n",
        "\n",
        "* 함수를 호출할 때 전달하는 값(argument)의 개수가 임의로 변할 수 있는 것\n",
        "    * argument를 전달하지 않아도 됨.\n",
        "* 함수를 정의할 때 파라미터 이름 앞에 `*`를 사용하면 가변길이 인수를 전달받을 수 있음.\n",
        "* 함수 내부에서 가변길이 인수는 tuple로 취급해서 코드를 작성.\n",
        "    * 인덱스 사용 가능.\n",
        "    * for-in 구문 사용 가능.\n",
        "* **(주의)** \n",
        "    * 가변길이 인수는 keyword 방식으로는 전달할 수 없음.\n",
        "    * 함수에서 가변길이 인수를 갖는 파라미터는 오직 1개만 선언 가능!"
      ],
      "metadata": {
        "id": "bMVdclIsmijb"
      }
    },
    {
      "cell_type": "code",
      "source": [
        "print('abc')\n",
        "print()\n",
        "print('abc', 'def')"
      ],
      "metadata": {
        "colab": {
          "base_uri": "https://localhost:8080/"
        },
        "id": "ojjNa_FqmpvY",
        "outputId": "6d2cef12-3c15-423f-aa19-306ff946d3ea"
      },
      "execution_count": null,
      "outputs": [
        {
          "output_type": "stream",
          "name": "stdout",
          "text": [
            "abc\n",
            "\n",
            "abc def\n"
          ]
        }
      ]
    },
    {
      "cell_type": "code",
      "source": [
        "def add_all(*values):\n",
        "    total = 0\n",
        "    for x in values:\n",
        "        total += x\n",
        "    return total"
      ],
      "metadata": {
        "id": "Y0GrPy8NpOAo"
      },
      "execution_count": null,
      "outputs": []
    },
    {
      "cell_type": "code",
      "source": [
        "add_all()"
      ],
      "metadata": {
        "colab": {
          "base_uri": "https://localhost:8080/"
        },
        "id": "OMRdxj-WpZbv",
        "outputId": "42f792c2-bee6-4790-edeb-e26e62a74c3f"
      },
      "execution_count": null,
      "outputs": [
        {
          "output_type": "execute_result",
          "data": {
            "text/plain": [
              "0"
            ]
          },
          "metadata": {},
          "execution_count": 95
        }
      ]
    },
    {
      "cell_type": "code",
      "source": [
        "add_all(2, 3, 5)"
      ],
      "metadata": {
        "colab": {
          "base_uri": "https://localhost:8080/"
        },
        "id": "Z6prqzmcpkJS",
        "outputId": "bbee0e01-98b3-442f-8467-8c9cf4fb2caa"
      },
      "execution_count": null,
      "outputs": [
        {
          "output_type": "execute_result",
          "data": {
            "text/plain": [
              "10"
            ]
          },
          "metadata": {},
          "execution_count": 96
        }
      ]
    },
    {
      "cell_type": "code",
      "source": [
        "def test(*x, y):\n",
        "    print(x)\n",
        "    print(y)"
      ],
      "metadata": {
        "id": "OKorZf11qDM4"
      },
      "execution_count": null,
      "outputs": []
    },
    {
      "cell_type": "code",
      "source": [
        "test(1, 2, y = 3) # test(1, 2, 3)은 error -> b/c y값이 전달이 안되었기 때문."
      ],
      "metadata": {
        "colab": {
          "base_uri": "https://localhost:8080/"
        },
        "id": "u4iy-uDzqOpC",
        "outputId": "fea0d014-6247-47b6-af6a-97656a62eda7"
      },
      "execution_count": null,
      "outputs": [
        {
          "output_type": "stream",
          "name": "stdout",
          "text": [
            "(1, 2)\n",
            "3\n"
          ]
        }
      ]
    },
    {
      "cell_type": "code",
      "source": [
        "print(1, 2, 3, sep = ', ') # 어떤 argument들은 position이 아닌 keyword로만 전달할 수 있는 argument가 있다. variable length 뒤에 오는거에 대해서"
      ],
      "metadata": {
        "colab": {
          "base_uri": "https://localhost:8080/"
        },
        "id": "lsj0BWkCq_h8",
        "outputId": "03bbd906-09c3-45c0-a643-2096a8da2967"
      },
      "execution_count": null,
      "outputs": [
        {
          "output_type": "stream",
          "name": "stdout",
          "text": [
            "1, 2, 3\n"
          ]
        }
      ]
    },
    {
      "cell_type": "markdown",
      "source": [
        "# 가변길이 키워드 인수(variable-length keyword argument)\n",
        "\n",
        "* variable-length arg - 함수를 호출할 때 전달하는 argument 개수 제한이 없음.\n",
        "* keyword arg - 함수를 호출할 때 argument 반드시 `param=value` 형식으로 전달.\n",
        "* 함수를 정의할 파라미터 이름 앞에 `**`를 붙임.\n",
        "* 함수 내부에서는 dict로 취급해서 코드 작성.\n",
        "* 함수에서 가변길이 키워드 인수는 오직 1개만 선언 가능."
      ],
      "metadata": {
        "id": "FpV5OoWkuqvB"
      }
    },
    {
      "cell_type": "code",
      "source": [
        "def test2(**kwargs):\n",
        "    print(kwargs)"
      ],
      "metadata": {
        "id": "Q1LHgnEFvXlW"
      },
      "execution_count": null,
      "outputs": []
    },
    {
      "cell_type": "code",
      "source": [
        "test2(x=1, msg='hello', y=123)"
      ],
      "metadata": {
        "colab": {
          "base_uri": "https://localhost:8080/"
        },
        "id": "RGItZd9jvp5h",
        "outputId": "64a3f086-ef22-44d6-9bf1-8d93dbba53f7"
      },
      "execution_count": null,
      "outputs": [
        {
          "output_type": "stream",
          "name": "stdout",
          "text": [
            "{'x': 1, 'msg': 'hello', 'y': 123}\n"
          ]
        }
      ]
    },
    {
      "cell_type": "code",
      "source": [
        "test2()"
      ],
      "metadata": {
        "colab": {
          "base_uri": "https://localhost:8080/"
        },
        "id": "ynmJKt_TwE0Z",
        "outputId": "c370f220-cab0-4efb-b504-2939b0e73317"
      },
      "execution_count": null,
      "outputs": [
        {
          "output_type": "stream",
          "name": "stdout",
          "text": [
            "{}\n"
          ]
        }
      ]
    },
    {
      "cell_type": "code",
      "source": [
        "def make_emp(emp_no, emp_name, **kwargs): # 함수 뜻: 사원 번호, 이름은 무조건적으로 필요하지만, 그 외의 정보들은 임의로\n",
        "    emp = {'emp_no': emp_no, 'emp_name': emp_name}\n",
        "    for k, v in kwargs.items(): # 기존에 만들어진 값에 추가하는 것 이므로, 딕셔너리로 추가할 수 밖에 없다. \n",
        "        emp[k] = v              # items 추가 한 이유, 딕셔너리에서 for 문 사용하면 key 값 만 반복함으로.\n",
        "    return emp"
      ],
      "metadata": {
        "id": "SHK6A8NLwORU"
      },
      "execution_count": null,
      "outputs": []
    },
    {
      "cell_type": "code",
      "source": [
        "make_emp(1, '홍길동')"
      ],
      "metadata": {
        "colab": {
          "base_uri": "https://localhost:8080/"
        },
        "id": "z5LEUOxUwsbF",
        "outputId": "b7e85f7a-e201-46c5-dc8e-f5f9617c4949"
      },
      "execution_count": null,
      "outputs": [
        {
          "output_type": "execute_result",
          "data": {
            "text/plain": [
              "{'emp_no': 1, 'emp_name': '홍길동'}"
            ]
          },
          "metadata": {},
          "execution_count": 111
        }
      ]
    },
    {
      "cell_type": "code",
      "source": [
        "make_emp(2, 'Scott', phone='010-0000,0000', enail='scott@oracle.com')"
      ],
      "metadata": {
        "colab": {
          "base_uri": "https://localhost:8080/"
        },
        "id": "QnmIhNQewz9p",
        "outputId": "08ac4edb-8d4d-4006-d48f-c9d8b743a05a"
      },
      "execution_count": null,
      "outputs": [
        {
          "output_type": "execute_result",
          "data": {
            "text/plain": [
              "{'emp_no': 2,\n",
              " 'emp_name': 'Scott',\n",
              " 'phone': '010-0000,0000',\n",
              " 'enail': 'scott@oracle.com'}"
            ]
          },
          "metadata": {},
          "execution_count": 113
        }
      ]
    },
    {
      "cell_type": "code",
      "source": [
        "def make_emp2(emp_no, emp_name, **kwargs):\n",
        "    emp={'emp_no':emp_no, 'emp_name':emp_name, 'email':None, 'phone':None}\n",
        "    for k, v in kwargs.items():\n",
        "        if k == 'email' or k == 'phone':\n",
        "            emp[k] = v\n",
        "    \n",
        "    return emp"
      ],
      "metadata": {
        "id": "dr48pI1Ex3ww"
      },
      "execution_count": null,
      "outputs": []
    },
    {
      "cell_type": "code",
      "source": [
        "make_emp2(3, 'tiger', email='tiger@test.com', tel='010-0000-0000')"
      ],
      "metadata": {
        "colab": {
          "base_uri": "https://localhost:8080/"
        },
        "id": "1F_aBdG_zFRV",
        "outputId": "47a778f8-4991-4afe-a825-a17c0365b75e"
      },
      "execution_count": null,
      "outputs": [
        {
          "output_type": "execute_result",
          "data": {
            "text/plain": [
              "{'emp_no': 3, 'emp_name': 'tiger', 'email': 'tiger@test.com', 'phone': None}"
            ]
          },
          "metadata": {},
          "execution_count": 115
        }
      ]
    }
  ]
}