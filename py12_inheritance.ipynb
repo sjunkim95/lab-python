{
  "nbformat": 4,
  "nbformat_minor": 0,
  "metadata": {
    "colab": {
      "provenance": [],
      "authorship_tag": "ABX9TyOnfgNG26UElXLpnyVgmHkx",
      "include_colab_link": true
    },
    "kernelspec": {
      "name": "python3",
      "display_name": "Python 3"
    },
    "language_info": {
      "name": "python"
    }
  },
  "cells": [
    {
      "cell_type": "markdown",
      "metadata": {
        "id": "view-in-github",
        "colab_type": "text"
      },
      "source": [
        "<a href=\"https://colab.research.google.com/github/sjunkim95/lab-python/blob/main/py12_inheritance.ipynb\" target=\"_parent\"><img src=\"https://colab.research.google.com/assets/colab-badge.svg\" alt=\"Open In Colab\"/></a>"
      ]
    },
    {
      "cell_type": "markdown",
      "source": [
        "# 상속(Inheritance)\n",
        "\n",
        "* super class(상위 클래스), parent class(부모 클래스), base class(기본 클래스)\n",
        "* sub class(하위 클래스), child class(자식 클래스), derived class(유도 클래스)\n",
        "* 상속: 상위 클래스의 속성(데이터)들과 기능(메서드)들을 하위 클래스에서 재사용하는 것.\n",
        "* 일반적으로 **IS-A** 관계가 성립하는 객체들을 상속을 사용해서 구현함.\n",
        "    * 학생은 사람이다. Student IS A person.\n",
        "        * Person - super class\n",
        "        * Student - sub class\n",
        "* **HAS-A** 관계가 성립하는 객체들은 일반적으로 상속이 아니라 클래스의 속성(멤버 변수)로 구현함.\n",
        "    * 학생은 성적을 가지고 있다. Student HAS A score.\n"
      ],
      "metadata": {
        "id": "lZF7Z6WU8b7E"
      }
    },
    {
      "cell_type": "markdown",
      "source": [
        "파이썬에서 상속을 구현:\n",
        "\n",
        "```\n",
        "class SubClass(SuperClass):\n",
        "    구현 코드\n",
        "```\n"
      ],
      "metadata": {
        "id": "eUAQ3J9C8fBH"
      }
    },
    {
      "cell_type": "code",
      "execution_count": null,
      "metadata": {
        "id": "h0KetkWW8Jyr"
      },
      "outputs": [],
      "source": [
        "class Person:\n",
        "    def __init__(self, name, age):\n",
        "        self.name = name\n",
        "        self.__age = age  # Python에서 private 인스턴스 변수 선언\n",
        "\n",
        "    def hello(self):\n",
        "        print(f'안녕하세요, 저는 {self.name}입니다.')\n",
        "\n",
        "    def get_age(self):\n",
        "        return self.__age  # private 변수는 class 내부에서만 접근 가능."
      ]
    },
    {
      "cell_type": "code",
      "source": [
        "oh_ssam = Person('오쌤', 16)\n",
        "oh_ssam.hello()"
      ],
      "metadata": {
        "colab": {
          "base_uri": "https://localhost:8080/"
        },
        "id": "KlGC6GPb8jDY",
        "outputId": "cabfedda-fe14-438f-aa4c-86ab96af7efb"
      },
      "execution_count": null,
      "outputs": [
        {
          "output_type": "stream",
          "name": "stdout",
          "text": [
            "안녕하세요, 저는 오쌤입니다.\n"
          ]
        }
      ]
    },
    {
      "cell_type": "code",
      "source": [
        "# print(oh_ssam.__age)  #-> 에러 발생: private 변수는 직접 접근이 안됨.\n",
        "oh_ssam.get_age()"
      ],
      "metadata": {
        "colab": {
          "base_uri": "https://localhost:8080/"
        },
        "id": "pjpD4bsn8mTn",
        "outputId": "df1f3f71-fb0e-44c8-acd1-49e742a9704e"
      },
      "execution_count": null,
      "outputs": [
        {
          "output_type": "execute_result",
          "data": {
            "text/plain": [
              "16"
            ]
          },
          "metadata": {},
          "execution_count": 3
        }
      ]
    },
    {
      "cell_type": "code",
      "source": [
        "class Student(Person):\n",
        "    pass"
      ],
      "metadata": {
        "id": "sLSB9IGv8mYH"
      },
      "execution_count": null,
      "outputs": []
    },
    {
      "cell_type": "code",
      "source": [
        "student1 = Student('홍길동', 16)"
      ],
      "metadata": {
        "id": "YBmBtZsS8mdZ"
      },
      "execution_count": null,
      "outputs": []
    },
    {
      "cell_type": "code",
      "source": [
        "student1.hello()"
      ],
      "metadata": {
        "colab": {
          "base_uri": "https://localhost:8080/"
        },
        "id": "_ww6teYA8mio",
        "outputId": "41410a59-0ded-413a-94ac-24ed0dec45b0"
      },
      "execution_count": null,
      "outputs": [
        {
          "output_type": "stream",
          "name": "stdout",
          "text": [
            "안녕하세요, 저는 홍길동입니다.\n"
          ]
        }
      ]
    },
    {
      "cell_type": "markdown",
      "source": [
        "# Method Override\n",
        "\n",
        "* 상위 클래스의 메서드를 하위 클래스에서 재정의하는 것.\n",
        "    * 파이썬에서는 메서드의 이름만 같으면 (파라미터 타입/개수와 상관 없이) 메서드가 재정의됨.\n",
        "        * 파이썬은 같은 이름으로 2개 이상의 메서드(함수)를 가질 수 없음 - overloading은 제공하지 않음.\n",
        "    * 자바에서는 메서드 이름, 파라미터 타입/개수/순서가 모두 동일한 경우에 메서드가 재정의됨.\n",
        "        * 파라미터가 다르면 같은 이름의 메서드가 2개 이상 있을 수 있음 - overloading\n",
        "* 하위 클래스에서 재정의(overrid)된 상위 클래스의 메서드를 명시적으로 호출하기 위해서는 `super().method_name(...)`의 형식으로 호출함.\n"
      ],
      "metadata": {
        "id": "dnMtsrjE8tb3"
      }
    },
    {
      "cell_type": "code",
      "source": [
        "class BusinessPerson(Person):\n",
        "    def __init__(self, name, age, company):\n",
        "        # 상위 클래스의 __init__ 메서드를 호출\n",
        "        super().__init__(name, age)\n",
        "        self.company = company  # 하위 클래스에서 상위 클래스를 확장한 속성.\n",
        "\n",
        "    # 상위 클래스의 hello() 메서드 override\n",
        "    def hello(self):\n",
        "        # 상위 클래스에서 정의된 메서드를 명시적으로 호출\n",
        "        super().hello()\n",
        "        print(f'저는 {self.company} 사원입니다.')"
      ],
      "metadata": {
        "id": "07j3x3iU8vMp"
      },
      "execution_count": null,
      "outputs": []
    },
    {
      "cell_type": "code",
      "source": [
        "person1 = BusinessPerson('홍길동', 16, '아이티윌')"
      ],
      "metadata": {
        "id": "bA3zwWh38wlN"
      },
      "execution_count": null,
      "outputs": []
    },
    {
      "cell_type": "code",
      "source": [
        "person1.hello()"
      ],
      "metadata": {
        "colab": {
          "base_uri": "https://localhost:8080/"
        },
        "id": "W0d2s9Ic8wnP",
        "outputId": "e3e0733b-bd98-410f-d157-0b98f7490937"
      },
      "execution_count": null,
      "outputs": [
        {
          "output_type": "stream",
          "name": "stdout",
          "text": [
            "안녕하세요, 저는 홍길동입니다.\n",
            "저는 아이티윌 사원입니다.\n"
          ]
        }
      ]
    },
    {
      "cell_type": "code",
      "source": [
        "person1.get_age()"
      ],
      "metadata": {
        "colab": {
          "base_uri": "https://localhost:8080/"
        },
        "id": "ZjeBh17r8zln",
        "outputId": "8fcb566d-9ccd-49df-a5b3-58d7640573ab"
      },
      "execution_count": null,
      "outputs": [
        {
          "output_type": "execute_result",
          "data": {
            "text/plain": [
              "16"
            ]
          },
          "metadata": {},
          "execution_count": 11
        }
      ]
    },
    {
      "cell_type": "markdown",
      "source": [
        "# `isinstance` 메서드"
      ],
      "metadata": {
        "id": "Y2awZSqr80-C"
      }
    },
    {
      "cell_type": "code",
      "source": [
        "isinstance(person1, Person)"
      ],
      "metadata": {
        "colab": {
          "base_uri": "https://localhost:8080/"
        },
        "id": "mGEd2aI582ak",
        "outputId": "3ee9cdd1-d06a-47ee-a182-9b19d530c24f"
      },
      "execution_count": null,
      "outputs": [
        {
          "output_type": "execute_result",
          "data": {
            "text/plain": [
              "True"
            ]
          },
          "metadata": {},
          "execution_count": 12
        }
      ]
    },
    {
      "cell_type": "code",
      "source": [
        "isinstance(person1, BusinessPerson)"
      ],
      "metadata": {
        "colab": {
          "base_uri": "https://localhost:8080/"
        },
        "id": "yACFf5fc83eB",
        "outputId": "828af0f4-8d27-4cd4-b8b3-59ee19f759b7"
      },
      "execution_count": null,
      "outputs": [
        {
          "output_type": "execute_result",
          "data": {
            "text/plain": [
              "True"
            ]
          },
          "metadata": {},
          "execution_count": 13
        }
      ]
    },
    {
      "cell_type": "code",
      "source": [
        "person2 = Person('무명씨', 20)"
      ],
      "metadata": {
        "id": "J6BNsmBm83go"
      },
      "execution_count": null,
      "outputs": []
    },
    {
      "cell_type": "code",
      "source": [
        "isinstance(person2, Person)"
      ],
      "metadata": {
        "colab": {
          "base_uri": "https://localhost:8080/"
        },
        "id": "AFc_EbKp83iZ",
        "outputId": "22a69bd3-d766-4b4c-d467-cb154acb4c2e"
      },
      "execution_count": null,
      "outputs": [
        {
          "output_type": "execute_result",
          "data": {
            "text/plain": [
              "True"
            ]
          },
          "metadata": {},
          "execution_count": 15
        }
      ]
    },
    {
      "cell_type": "code",
      "source": [
        "isinstance(person2, BusinessPerson)"
      ],
      "metadata": {
        "colab": {
          "base_uri": "https://localhost:8080/"
        },
        "id": "rTwuiW7e87RT",
        "outputId": "63365de5-c1bb-4ec5-9c0c-e969f01ab770"
      },
      "execution_count": null,
      "outputs": [
        {
          "output_type": "execute_result",
          "data": {
            "text/plain": [
              "False"
            ]
          },
          "metadata": {},
          "execution_count": 16
        }
      ]
    },
    {
      "cell_type": "code",
      "source": [
        "class Animal:\n",
        "    def move(self):\n",
        "        pass\n",
        "\n",
        "class Dog(Animal):\n",
        "    def move(self):\n",
        "        print('댕댕이는 총총총...')\n",
        "\n",
        "class Bird(Animal):\n",
        "    def move(self):\n",
        "        print('새는 펄럭펄럭...')\n",
        "\n",
        "class Tree:\n",
        "    pass"
      ],
      "metadata": {
        "id": "_jqZV6oR89lR"
      },
      "execution_count": null,
      "outputs": []
    },
    {
      "cell_type": "code",
      "source": [
        "array = [Dog(), Bird(), Tree()]\n",
        "for x in array:\n",
        "    if isinstance(x, Animal):\n",
        "        x.move()"
      ],
      "metadata": {
        "colab": {
          "base_uri": "https://localhost:8080/"
        },
        "id": "DYjDRKoE8-jv",
        "outputId": "a3ebda4c-83f0-47b0-e601-eea4cbc2b602"
      },
      "execution_count": null,
      "outputs": [
        {
          "output_type": "stream",
          "name": "stdout",
          "text": [
            "댕댕이는 총총총...\n",
            "새는 펄럭펄럭...\n"
          ]
        }
      ]
    }
  ]
}